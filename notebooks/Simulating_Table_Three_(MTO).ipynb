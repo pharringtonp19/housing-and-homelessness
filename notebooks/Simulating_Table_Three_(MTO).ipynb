{
  "nbformat": 4,
  "nbformat_minor": 0,
  "metadata": {
    "colab": {
      "provenance": [],
      "authorship_tag": "ABX9TyMIHFjOAPE7yL0CtUF6YHJo",
      "include_colab_link": true
    },
    "kernelspec": {
      "name": "python3",
      "display_name": "Python 3"
    },
    "language_info": {
      "name": "python"
    }
  },
  "cells": [
    {
      "cell_type": "markdown",
      "metadata": {
        "id": "view-in-github",
        "colab_type": "text"
      },
      "source": [
        "<a href=\"https://colab.research.google.com/github/pharringtonp19/housing-and-homelessness/blob/main/notebooks/Simulating_Table_Three_(MTO).ipynb\" target=\"_parent\"><img src=\"https://colab.research.google.com/assets/colab-badge.svg\" alt=\"Open In Colab\"/></a>"
      ]
    },
    {
      "cell_type": "code",
      "source": [
        "import jax\n",
        "import jax.numpy as jnp\n",
        "import matplotlib.pyplot as plt"
      ],
      "metadata": {
        "id": "pi-dCm0-XAjL"
      },
      "execution_count": 4,
      "outputs": []
    },
    {
      "cell_type": "code",
      "execution_count": 5,
      "metadata": {
        "id": "_Q024saNWTTf"
      },
      "outputs": [],
      "source": [
        "def simulate(key):\n",
        "  k1, k2 = jax.random.split(key)\n",
        "  fstage = (jax.random.normal(k1) * 1.653 + 47.66)/100.0\n",
        "  itt = jax.random.normal(k2) * 662.4 + 1624.0\n",
        "  return itt/fstage"
      ]
    },
    {
      "cell_type": "code",
      "source": [
        "keys = jax.random.split(jax.random.PRNGKey(0), 5000)\n",
        "results = jax.vmap(simulate)(keys)"
      ],
      "metadata": {
        "id": "01gPUTlvWeCO"
      },
      "execution_count": 6,
      "outputs": []
    },
    {
      "cell_type": "code",
      "source": [
        "plt.hist(results, bins=50)\n",
        "plt.axvline(jnp.quantile(results, 0.05), color='red')\n",
        "plt.axvline(jnp.quantile(results, 0.95), color='red')\n",
        "plt.axvline(jnp.quantile(results, 0.5), color='black')\n",
        "plt.show()"
      ],
      "metadata": {
        "colab": {
          "base_uri": "https://localhost:8080/",
          "height": 430
        },
        "id": "vt3FmNArWp9k",
        "outputId": "09408da6-15c3-4eae-bf89-fcbdab9112b9"
      },
      "execution_count": 15,
      "outputs": [
        {
          "output_type": "display_data",
          "data": {
            "text/plain": [
              "<Figure size 640x480 with 1 Axes>"
            ],
            "image/png": "[encoded data removed]"
          },
          "metadata": {}
        }
      ]
    },
    {
      "cell_type": "code",
      "source": [
        "print(jnp.std(results))"
      ],
      "metadata": {
        "colab": {
          "base_uri": "https://localhost:8080/"
        },
        "id": "tRZSudfiYC08",
        "outputId": "c38ca39c-bf17-4340-9c33-b63a7820b1e9"
      },
      "execution_count": 16,
      "outputs": [
        {
          "output_type": "stream",
          "name": "stdout",
          "text": [
            "1396.5521\n"
          ]
        }
      ]
    },
    {
      "cell_type": "code",
      "source": [],
      "metadata": {
        "id": "LmBfbuVTYrWA"
      },
      "execution_count": null,
      "outputs": []
    }
  ]
}