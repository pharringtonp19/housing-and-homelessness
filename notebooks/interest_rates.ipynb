{
  "nbformat": 4,
  "nbformat_minor": 0,
  "metadata": {
    "colab": {
      "provenance": [],
      "authorship_tag": "ABX9TyMuPmErxfb2pJjTO7lFnIYY",
      "include_colab_link": true
    },
    "kernelspec": {
      "name": "python3",
      "display_name": "Python 3"
    },
    "language_info": {
      "name": "python"
    }
  },
  "cells": [
    {
      "cell_type": "markdown",
      "metadata": {
        "id": "view-in-github",
        "colab_type": "text"
      },
      "source": [
        "<a href=\"https://colab.research.google.com/github/pharringtonp19/housing-and-homelessness/blob/main/notebooks/interest_rates.ipynb\" target=\"_parent\"><img src=\"https://colab.research.google.com/assets/colab-badge.svg\" alt=\"Open In Colab\"/></a>"
      ]
    },
    {
      "cell_type": "markdown",
      "source": [
        "### **Install Libraries**"
      ],
      "metadata": {
        "id": "mu8Hoa1M0cju"
      }
    },
    {
      "cell_type": "code",
      "source": [
        "!pip install fredapi"
      ],
      "metadata": {
        "colab": {
          "base_uri": "https://localhost:8080/"
        },
        "id": "g88-Icyw0aP_",
        "outputId": "a50f9a62-660a-4b70-af95-df1763a01903"
      },
      "execution_count": 1,
      "outputs": [
        {
          "output_type": "stream",
          "name": "stdout",
          "text": [
            "Collecting fredapi\n",
            "  Downloading fredapi-0.5.2-py3-none-any.whl.metadata (5.0 kB)\n",
            "Requirement already satisfied: pandas in /usr/local/lib/python3.11/dist-packages (from fredapi) (2.2.2)\n",
            "Requirement already satisfied: numpy>=1.23.2 in /usr/local/lib/python3.11/dist-packages (from pandas->fredapi) (2.0.2)\n",
            "Requirement already satisfied: python-dateutil>=2.8.2 in /usr/local/lib/python3.11/dist-packages (from pandas->fredapi) (2.9.0.post0)\n",
            "Requirement already satisfied: pytz>=2020.1 in /usr/local/lib/python3.11/dist-packages (from pandas->fredapi) (2025.2)\n",
            "Requirement already satisfied: tzdata>=2022.7 in /usr/local/lib/python3.11/dist-packages (from pandas->fredapi) (2025.2)\n",
            "Requirement already satisfied: six>=1.5 in /usr/local/lib/python3.11/dist-packages (from python-dateutil>=2.8.2->pandas->fredapi) (1.17.0)\n",
            "Downloading fredapi-0.5.2-py3-none-any.whl (11 kB)\n",
            "Installing collected packages: fredapi\n",
            "Successfully installed fredapi-0.5.2\n"
          ]
        }
      ]
    },
    {
      "cell_type": "markdown",
      "source": [
        "### **Import Libraries**"
      ],
      "metadata": {
        "id": "gi9Nmto60Zmc"
      }
    },
    {
      "cell_type": "code",
      "source": [
        "import os\n",
        "from fredapi import Fred\n",
        "import pandas as pd\n",
        "import matplotlib.pyplot as plt\n",
        "from google.colab import userdata\n",
        "from matplotlib import font_manager\n",
        "import matplotlib.dates as mdates\n",
        "import matplotlib as mpl\n",
        "from matplotlib import pyplot as plt\n",
        "from matplotlib import rcParams\n",
        "rcParams['image.interpolation'] = 'nearest'\n",
        "rcParams['image.cmap'] = 'viridis'\n",
        "rcParams['axes.grid'] = False\n",
        "%matplotlib inline\n",
        "%config InlineBackend.figure_format = 'svg'"
      ],
      "metadata": {
        "id": "WsPzYEzZ0UqV"
      },
      "execution_count": 2,
      "outputs": []
    },
    {
      "cell_type": "markdown",
      "source": [
        "### **FRED API**"
      ],
      "metadata": {
        "id": "oQwq3jlS7oO6"
      }
    },
    {
      "cell_type": "code",
      "source": [
        "fred = Fred(api_key=userdata.get('FRED'))"
      ],
      "metadata": {
        "id": "gyR40epY0sRs"
      },
      "execution_count": 8,
      "outputs": []
    },
    {
      "cell_type": "markdown",
      "source": [
        "### **Get Data**"
      ],
      "metadata": {
        "id": "2R2wfnPq7qoa"
      }
    },
    {
      "cell_type": "code",
      "source": [
        "data_series = fred.get_series('MORTGAGE30US')\n",
        "df = data_series.to_frame(name='Rate')\n",
        "df.index.name = 'Date'\n",
        "df = df.loc['2018-01-01':'2025-12-31']\n",
        "df.head()"
      ],
      "metadata": {
        "id": "o_Bw3s0x0vTB",
        "colab": {
          "base_uri": "https://localhost:8080/",
          "height": 238
        },
        "outputId": "feffacfb-7cf0-4832-f7a4-22cd5368a747"
      },
      "execution_count": 9,
      "outputs": [
        {
          "output_type": "execute_result",
          "data": {
            "text/plain": [
              "            Rate\n",
              "Date            \n",
              "2018-01-04  3.95\n",
              "2018-01-11  3.99\n",
              "2018-01-18  4.04\n",
              "2018-01-25  4.15\n",
              "2018-02-01  4.22"
            ],
            "text/html": [
              "\n",
              "  <div id=\"df-09cfef9b-1829-41ea-9aed-389fa2afd41e\" class=\"colab-df-container\">\n",
              "    <div>\n",
              "<style scoped>\n",
              "    .dataframe tbody tr th:only-of-type {\n",
              "        vertical-align: middle;\n",
              "    }\n",
              "\n",
              "    .dataframe tbody tr th {\n",
              "        vertical-align: top;\n",
              "    }\n",
              "\n",
              "    .dataframe thead th {\n",
              "        text-align: right;\n",
              "    }\n",
              "</style>\n",
              "<table border=\"1\" class=\"dataframe\">\n",
              "  <thead>\n",
              "    <tr style=\"text-align: right;\">\n",
              "      <th></th>\n",
              "      <th>Rate</th>\n",
              "    </tr>\n",
              "    <tr>\n",
              "      <th>Date</th>\n",
              "      <th></th>\n",
              "    </tr>\n",
              "  </thead>\n",
              "  <tbody>\n",
              "    <tr>\n",
              "      <th>2018-01-04</th>\n",
              "      <td>3.95</td>\n",
              "    </tr>\n",
              "    <tr>\n",
              "      <th>2018-01-11</th>\n",
              "      <td>3.99</td>\n",
              "    </tr>\n",
              "    <tr>\n",
              "      <th>2018-01-18</th>\n",
              "      <td>4.04</td>\n",
              "    </tr>\n",
              "    <tr>\n",
              "      <th>2018-01-25</th>\n",
              "      <td>4.15</td>\n",
              "    </tr>\n",
              "    <tr>\n",
              "      <th>2018-02-01</th>\n",
              "      <td>4.22</td>\n",
              "    </tr>\n",
              "  </tbody>\n",
              "</table>\n",
              "</div>\n",
              "    <div class=\"colab-df-buttons\">\n",
              "\n",
              "  <div class=\"colab-df-container\">\n",
              "    <button class=\"colab-df-convert\" onclick=\"convertToInteractive('df-09cfef9b-1829-41ea-9aed-389fa2afd41e')\"\n",
              "            title=\"Convert this dataframe to an interactive table.\"\n",
              "            style=\"display:none;\">\n",
              "\n",
              "  <svg xmlns=\"http://www.w3.org/2000/svg\" height=\"24px\" viewBox=\"0 -960 960 960\">\n",
              "    <path d=\"M120-120v-720h720v720H120Zm60-500h600v-160H180v160Zm220 220h160v-160H400v160Zm0 220h160v-160H400v160ZM180-400h160v-160H180v160Zm440 0h160v-160H620v160ZM180-180h160v-160H180v160Zm440 0h160v-160H620v160Z\"/>\n",
              "  </svg>\n",
              "    </button>\n",
              "\n",
              "  <style>\n",
              "    .colab-df-container {\n",
              "      display:flex;\n",
              "      gap: 12px;\n",
              "    }\n",
              "\n",
              "    .colab-df-convert {\n",
              "      background-color: #E8F0FE;\n",
              "      border: none;\n",
              "      border-radius: 50%;\n",
              "      cursor: pointer;\n",
              "      display: none;\n",
              "      fill: #1967D2;\n",
              "      height: 32px;\n",
              "      padding: 0 0 0 0;\n",
              "      width: 32px;\n",
              "    }\n",
              "\n",
              "    .colab-df-convert:hover {\n",
              "      background-color: #E2EBFA;\n",
              "      box-shadow: 0px 1px 2px rgba(60, 64, 67, 0.3), 0px 1px 3px 1px rgba(60, 64, 67, 0.15);\n",
              "      fill: #174EA6;\n",
              "    }\n",
              "\n",
              "    .colab-df-buttons div {\n",
              "      margin-bottom: 4px;\n",
              "    }\n",
              "\n",
              "    [theme=dark] .colab-df-convert {\n",
              "      background-color: #3B4455;\n",
              "      fill: #D2E3FC;\n",
              "    }\n",
              "\n",
              "    [theme=dark] .colab-df-convert:hover {\n",
              "      background-color: #434B5C;\n",
              "      box-shadow: 0px 1px 3px 1px rgba(0, 0, 0, 0.15);\n",
              "      filter: drop-shadow(0px 1px 2px rgba(0, 0, 0, 0.3));\n",
              "      fill: #FFFFFF;\n",
              "    }\n",
              "  </style>\n",
              "\n",
              "    <script>\n",
              "      const buttonEl =\n",
              "        document.querySelector('#df-09cfef9b-1829-41ea-9aed-389fa2afd41e button.colab-df-convert');\n",
              "      buttonEl.style.display =\n",
              "        google.colab.kernel.accessAllowed ? 'block' : 'none';\n",
              "\n",
              "      async function convertToInteractive(key) {\n",
              "        const element = document.querySelector('#df-09cfef9b-1829-41ea-9aed-389fa2afd41e');\n",
              "        const dataTable =\n",
              "          await google.colab.kernel.invokeFunction('convertToInteractive',\n",
              "                                                    [key], {});\n",
              "        if (!dataTable) return;\n",
              "\n",
              "        const docLinkHtml = 'Like what you see? Visit the ' +\n",
              "          '<a target=\"_blank\" href=https://colab.research.google.com/notebooks/data_table.ipynb>data table notebook</a>'\n",
              "          + ' to learn more about interactive tables.';\n",
              "        element.innerHTML = '';\n",
              "        dataTable['output_type'] = 'display_data';\n",
              "        await google.colab.output.renderOutput(dataTable, element);\n",
              "        const docLink = document.createElement('div');\n",
              "        docLink.innerHTML = docLinkHtml;\n",
              "        element.appendChild(docLink);\n",
              "      }\n",
              "    </script>\n",
              "  </div>\n",
              "\n",
              "\n",
              "    <div id=\"df-ae3a73b4-28b6-41f1-900f-b58c8f591128\">\n",
              "      <button class=\"colab-df-quickchart\" onclick=\"quickchart('df-ae3a73b4-28b6-41f1-900f-b58c8f591128')\"\n",
              "                title=\"Suggest charts\"\n",
              "                style=\"display:none;\">\n",
              "\n",
              "<svg xmlns=\"http://www.w3.org/2000/svg\" height=\"24px\"viewBox=\"0 0 24 24\"\n",
              "     width=\"24px\">\n",
              "    <g>\n",
              "        <path d=\"M19 3H5c-1.1 0-2 .9-2 2v14c0 1.1.9 2 2 2h14c1.1 0 2-.9 2-2V5c0-1.1-.9-2-2-2zM9 17H7v-7h2v7zm4 0h-2V7h2v10zm4 0h-2v-4h2v4z\"/>\n",
              "    </g>\n",
              "</svg>\n",
              "      </button>\n",
              "\n",
              "<style>\n",
              "  .colab-df-quickchart {\n",
              "      --bg-color: #E8F0FE;\n",
              "      --fill-color: #1967D2;\n",
              "      --hover-bg-color: #E2EBFA;\n",
              "      --hover-fill-color: #174EA6;\n",
              "      --disabled-fill-color: #AAA;\n",
              "      --disabled-bg-color: #DDD;\n",
              "  }\n",
              "\n",
              "  [theme=dark] .colab-df-quickchart {\n",
              "      --bg-color: #3B4455;\n",
              "      --fill-color: #D2E3FC;\n",
              "      --hover-bg-color: #434B5C;\n",
              "      --hover-fill-color: #FFFFFF;\n",
              "      --disabled-bg-color: #3B4455;\n",
              "      --disabled-fill-color: #666;\n",
              "  }\n",
              "\n",
              "  .colab-df-quickchart {\n",
              "    background-color: var(--bg-color);\n",
              "    border: none;\n",
              "    border-radius: 50%;\n",
              "    cursor: pointer;\n",
              "    display: none;\n",
              "    fill: var(--fill-color);\n",
              "    height: 32px;\n",
              "    padding: 0;\n",
              "    width: 32px;\n",
              "  }\n",
              "\n",
              "  .colab-df-quickchart:hover {\n",
              "    background-color: var(--hover-bg-color);\n",
              "    box-shadow: 0 1px 2px rgba(60, 64, 67, 0.3), 0 1px 3px 1px rgba(60, 64, 67, 0.15);\n",
              "    fill: var(--button-hover-fill-color);\n",
              "  }\n",
              "\n",
              "  .colab-df-quickchart-complete:disabled,\n",
              "  .colab-df-quickchart-complete:disabled:hover {\n",
              "    background-color: var(--disabled-bg-color);\n",
              "    fill: var(--disabled-fill-color);\n",
              "    box-shadow: none;\n",
              "  }\n",
              "\n",
              "  .colab-df-spinner {\n",
              "    border: 2px solid var(--fill-color);\n",
              "    border-color: transparent;\n",
              "    border-bottom-color: var(--fill-color);\n",
              "    animation:\n",
              "      spin 1s steps(1) infinite;\n",
              "  }\n",
              "\n",
              "  @keyframes spin {\n",
              "    0% {\n",
              "      border-color: transparent;\n",
              "      border-bottom-color: var(--fill-color);\n",
              "      border-left-color: var(--fill-color);\n",
              "    }\n",
              "    20% {\n",
              "      border-color: transparent;\n",
              "      border-left-color: var(--fill-color);\n",
              "      border-top-color: var(--fill-color);\n",
              "    }\n",
              "    30% {\n",
              "      border-color: transparent;\n",
              "      border-left-color: var(--fill-color);\n",
              "      border-top-color: var(--fill-color);\n",
              "      border-right-color: var(--fill-color);\n",
              "    }\n",
              "    40% {\n",
              "      border-color: transparent;\n",
              "      border-right-color: var(--fill-color);\n",
              "      border-top-color: var(--fill-color);\n",
              "    }\n",
              "    60% {\n",
              "      border-color: transparent;\n",
              "      border-right-color: var(--fill-color);\n",
              "    }\n",
              "    80% {\n",
              "      border-color: transparent;\n",
              "      border-right-color: var(--fill-color);\n",
              "      border-bottom-color: var(--fill-color);\n",
              "    }\n",
              "    90% {\n",
              "      border-color: transparent;\n",
              "      border-bottom-color: var(--fill-color);\n",
              "    }\n",
              "  }\n",
              "</style>\n",
              "\n",
              "      <script>\n",
              "        async function quickchart(key) {\n",
              "          const quickchartButtonEl =\n",
              "            document.querySelector('#' + key + ' button');\n",
              "          quickchartButtonEl.disabled = true;  // To prevent multiple clicks.\n",
              "          quickchartButtonEl.classList.add('colab-df-spinner');\n",
              "          try {\n",
              "            const charts = await google.colab.kernel.invokeFunction(\n",
              "                'suggestCharts', [key], {});\n",
              "          } catch (error) {\n",
              "            console.error('Error during call to suggestCharts:', error);\n",
              "          }\n",
              "          quickchartButtonEl.classList.remove('colab-df-spinner');\n",
              "          quickchartButtonEl.classList.add('colab-df-quickchart-complete');\n",
              "        }\n",
              "        (() => {\n",
              "          let quickchartButtonEl =\n",
              "            document.querySelector('#df-ae3a73b4-28b6-41f1-900f-b58c8f591128 button');\n",
              "          quickchartButtonEl.style.display =\n",
              "            google.colab.kernel.accessAllowed ? 'block' : 'none';\n",
              "        })();\n",
              "      </script>\n",
              "    </div>\n",
              "\n",
              "    </div>\n",
              "  </div>\n"
            ],
            "application/vnd.google.colaboratory.intrinsic+json": {
              "type": "dataframe",
              "variable_name": "df",
              "summary": "{\n  \"name\": \"df\",\n  \"rows\": 398,\n  \"fields\": [\n    {\n      \"column\": \"Date\",\n      \"properties\": {\n        \"dtype\": \"date\",\n        \"min\": \"2018-01-04 00:00:00\",\n        \"max\": \"2025-08-14 00:00:00\",\n        \"num_unique_values\": 398,\n        \"samples\": [\n          \"2021-10-21 00:00:00\",\n          \"2025-08-07 00:00:00\",\n          \"2018-08-23 00:00:00\"\n        ],\n        \"semantic_type\": \"\",\n        \"description\": \"\"\n      }\n    },\n    {\n      \"column\": \"Rate\",\n      \"properties\": {\n        \"dtype\": \"number\",\n        \"std\": 1.5850917629161643,\n        \"min\": 2.65,\n        \"max\": 7.79,\n        \"num_unique_values\": 232,\n        \"samples\": [\n          6.2,\n          3.66,\n          4.46\n        ],\n        \"semantic_type\": \"\",\n        \"description\": \"\"\n      }\n    }\n  ]\n}"
            }
          },
          "metadata": {},
          "execution_count": 9
        }
      ]
    },
    {
      "cell_type": "code",
      "source": [
        "fig = plt.figure(dpi=300, tight_layout=True, figsize=(7, 4.5))\n",
        "ax = plt.axes(facecolor=(.95, .96, .97))\n",
        "ax.xaxis.set_tick_params(length=0, labeltop=False, labelbottom=True)\n",
        "\n",
        "for key in 'left', 'right', 'top':\n",
        "    ax.spines[key].set_visible(False)\n",
        "ax.text(0., 1.02, s='Thirty Year Mortgage Rate', transform=ax.transAxes, size=14)\n",
        "plt.plot(df.index, df.Rate, color='#36454F')\n",
        "ax.yaxis.set_tick_params(length=0)\n",
        "ax.yaxis.grid(True, color='white', linewidth=2)\n",
        "ax.set_axisbelow(True)\n",
        "ax.annotate(\"Source: FRED\",\n",
        "        xy = (0., -0.1),\n",
        "        xycoords='axes fraction',\n",
        "        ha='left',\n",
        "        va=\"center\",\n",
        "        fontsize=8)\n",
        "fig.savefig('./thirty_year_mortgage_rate.png')\n",
        "plt.show()"
      ],
      "metadata": {
        "colab": {
          "base_uri": "https://localhost:8080/",
          "height": 444
        },
        "id": "Jmm9WH62044V",
        "outputId": "538aeebf-b3f8-42ce-c864-54c542645edc"
      },
      "execution_count": 13,
      "outputs": [
        {
          "output_type": "display_data",
          "data": {
            "text/plain": [
              "<Figure size 2100x1350 with 1 Axes>"
            ],
            "image/svg+xml": "<?xml version=\"1.0\" encoding=\"utf-8\" standalone=\"no\"?>\n<!DOCTYPE svg PUBLIC \"-//W3C//DTD SVG 1.1//EN\"\n  \"http://www.w3.org/Graphics/SVG/1.1/DTD/svg11.dtd\">\n<svg xmlns:xlink=\"http://www.w3.org/1999/xlink\" width=\"496.8pt\" height=\"316.71171pt\" viewBox=\"0 0 496.8 316.71171\" xmlns=\"http://www.w3.org/2000/svg\" version=\"1.1\">\n <metadata>\n  <rdf:RDF xmlns:dc=\"http://purl.org/dc/elements/1.1/\" xmlns:cc=\"http://creativecommons.org/ns#\" xmlns:rdf=\"http://www.w3.org/1999/02/22-rdf-syntax-ns#\">\n   <cc:Work>\n    <dc:type rdf:resource=\"http://purl.org/dc/dcmitype/StillImage\"/>\n    <dc:date>2025-08-16T17:31:42.469366</dc:date>\n    <dc:format>image/svg+xml</dc:format>\n    <dc:creator>\n     <cc:Agent>\n      <dc:title>Matplotlib v3.10.0, https://matplotlib.org/</dc:title>\n     </cc:Agent>\n    </dc:creator>\n   </cc:Work>\n  </rdf:RDF>\n </metadata>\n <defs>\n  <style type=\"text/css\">*{stroke-linejoin: round; stroke-linecap: butt}</style>\n </defs>\n <g id=\"figure_1\">\n  <g id=\"patch_1\">\n   <path d=\"M 0 316.71171 \nL 496.8 316.71171 \nL 496.8 0 \nL 0 0 \nz\n\" style=\"fill: #ffffff\"/>\n  </g>\n  <g id=\"axes_1\">\n   <g id=\"patch_2\">\n    <path d=\"M 17.0625 279.943795 \nL 489.6 279.943795 \nL 489.6 22.977145 \nL 17.0625 22.977145 \nz\n\" style=\"fill: #f2f5f7\"/>\n   </g>\n   <g id=\"matplotlib.axis_1\">\n    <g id=\"xtick_1\">\n     <g id=\"line2d_1\"/>\n     <g id=\"text_1\">\n      <!-- 2018 -->\n      <g transform=\"translate(25.352735 291.042232) scale(0.1 -0.1)\">\n       <defs>\n        <path id=\"DejaVuSans-32\" d=\"M 1228 531 \nL 3431 531 \nL 3431 0 \nL 469 0 \nL 469 531 \nQ 828 903 1448 1529 \nQ 2069 2156 2228 2338 \nQ 2531 2678 2651 2914 \nQ 2772 3150 2772 3378 \nQ 2772 3750 2511 3984 \nQ 2250 4219 1831 4219 \nQ 1534 4219 1204 4116 \nQ 875 4013 500 3803 \nL 500 4441 \nQ 881 4594 1212 4672 \nQ 1544 4750 1819 4750 \nQ 2544 4750 2975 4387 \nQ 3406 4025 3406 3419 \nQ 3406 3131 3298 2873 \nQ 3191 2616 2906 2266 \nQ 2828 2175 2409 1742 \nQ 1991 1309 1228 531 \nz\n\" transform=\"scale(0.015625)\"/>\n        <path id=\"DejaVuSans-30\" d=\"M 2034 4250 \nQ 1547 4250 1301 3770 \nQ 1056 3291 1056 2328 \nQ 1056 1369 1301 889 \nQ 1547 409 2034 409 \nQ 2525 409 2770 889 \nQ 3016 1369 3016 2328 \nQ 3016 3291 2770 3770 \nQ 2525 4250 2034 4250 \nz\nM 2034 4750 \nQ 2819 4750 3233 4129 \nQ 3647 3509 3647 2328 \nQ 3647 1150 3233 529 \nQ 2819 -91 2034 -91 \nQ 1250 -91 836 529 \nQ 422 1150 422 2328 \nQ 422 3509 836 4129 \nQ 1250 4750 2034 4750 \nz\n\" transform=\"scale(0.015625)\"/>\n        <path id=\"DejaVuSans-31\" d=\"M 794 531 \nL 1825 531 \nL 1825 4091 \nL 703 3866 \nL 703 4441 \nL 1819 4666 \nL 2450 4666 \nL 2450 531 \nL 3481 531 \nL 3481 0 \nL 794 0 \nL 794 531 \nz\n\" transform=\"scale(0.015625)\"/>\n        <path id=\"DejaVuSans-38\" d=\"M 2034 2216 \nQ 1584 2216 1326 1975 \nQ 1069 1734 1069 1313 \nQ 1069 891 1326 650 \nQ 1584 409 2034 409 \nQ 2484 409 2743 651 \nQ 3003 894 3003 1313 \nQ 3003 1734 2745 1975 \nQ 2488 2216 2034 2216 \nz\nM 1403 2484 \nQ 997 2584 770 2862 \nQ 544 3141 544 3541 \nQ 544 4100 942 4425 \nQ 1341 4750 2034 4750 \nQ 2731 4750 3128 4425 \nQ 3525 4100 3525 3541 \nQ 3525 3141 3298 2862 \nQ 3072 2584 2669 2484 \nQ 3125 2378 3379 2068 \nQ 3634 1759 3634 1313 \nQ 3634 634 3220 271 \nQ 2806 -91 2034 -91 \nQ 1263 -91 848 271 \nQ 434 634 434 1313 \nQ 434 1759 690 2068 \nQ 947 2378 1403 2484 \nz\nM 1172 3481 \nQ 1172 3119 1398 2916 \nQ 1625 2713 2034 2713 \nQ 2441 2713 2670 2916 \nQ 2900 3119 2900 3481 \nQ 2900 3844 2670 4047 \nQ 2441 4250 2034 4250 \nQ 1625 4250 1398 4047 \nQ 1172 3844 1172 3481 \nz\n\" transform=\"scale(0.015625)\"/>\n       </defs>\n       <use xlink:href=\"#DejaVuSans-32\"/>\n       <use xlink:href=\"#DejaVuSans-30\" transform=\"translate(63.623047 0)\"/>\n       <use xlink:href=\"#DejaVuSans-31\" transform=\"translate(127.246094 0)\"/>\n       <use xlink:href=\"#DejaVuSans-38\" transform=\"translate(190.869141 0)\"/>\n      </g>\n     </g>\n    </g>\n    <g id=\"xtick_2\">\n     <g id=\"line2d_2\"/>\n     <g id=\"text_2\">\n      <!-- 2019 -->\n      <g transform=\"translate(81.774662 291.042232) scale(0.1 -0.1)\">\n       <defs>\n        <path id=\"DejaVuSans-39\" d=\"M 703 97 \nL 703 672 \nQ 941 559 1184 500 \nQ 1428 441 1663 441 \nQ 2288 441 2617 861 \nQ 2947 1281 2994 2138 \nQ 2813 1869 2534 1725 \nQ 2256 1581 1919 1581 \nQ 1219 1581 811 2004 \nQ 403 2428 403 3163 \nQ 403 3881 828 4315 \nQ 1253 4750 1959 4750 \nQ 2769 4750 3195 4129 \nQ 3622 3509 3622 2328 \nQ 3622 1225 3098 567 \nQ 2575 -91 1691 -91 \nQ 1453 -91 1209 -44 \nQ 966 3 703 97 \nz\nM 1959 2075 \nQ 2384 2075 2632 2365 \nQ 2881 2656 2881 3163 \nQ 2881 3666 2632 3958 \nQ 2384 4250 1959 4250 \nQ 1534 4250 1286 3958 \nQ 1038 3666 1038 3163 \nQ 1038 2656 1286 2365 \nQ 1534 2075 1959 2075 \nz\n\" transform=\"scale(0.015625)\"/>\n       </defs>\n       <use xlink:href=\"#DejaVuSans-32\"/>\n       <use xlink:href=\"#DejaVuSans-30\" transform=\"translate(63.623047 0)\"/>\n       <use xlink:href=\"#DejaVuSans-31\" transform=\"translate(127.246094 0)\"/>\n       <use xlink:href=\"#DejaVuSans-39\" transform=\"translate(190.869141 0)\"/>\n      </g>\n     </g>\n    </g>\n    <g id=\"xtick_3\">\n     <g id=\"line2d_3\"/>\n     <g id=\"text_3\">\n      <!-- 2020 -->\n      <g transform=\"translate(138.196589 291.042232) scale(0.1 -0.1)\">\n       <use xlink:href=\"#DejaVuSans-32\"/>\n       <use xlink:href=\"#DejaVuSans-30\" transform=\"translate(63.623047 0)\"/>\n       <use xlink:href=\"#DejaVuSans-32\" transform=\"translate(127.246094 0)\"/>\n       <use xlink:href=\"#DejaVuSans-30\" transform=\"translate(190.869141 0)\"/>\n      </g>\n     </g>\n    </g>\n    <g id=\"xtick_4\">\n     <g id=\"line2d_4\"/>\n     <g id=\"text_4\">\n      <!-- 2021 -->\n      <g transform=\"translate(194.773096 291.042232) scale(0.1 -0.1)\">\n       <use xlink:href=\"#DejaVuSans-32\"/>\n       <use xlink:href=\"#DejaVuSans-30\" transform=\"translate(63.623047 0)\"/>\n       <use xlink:href=\"#DejaVuSans-32\" transform=\"translate(127.246094 0)\"/>\n       <use xlink:href=\"#DejaVuSans-31\" transform=\"translate(190.869141 0)\"/>\n      </g>\n     </g>\n    </g>\n    <g id=\"xtick_5\">\n     <g id=\"line2d_5\"/>\n     <g id=\"text_5\">\n      <!-- 2022 -->\n      <g transform=\"translate(251.195023 291.042232) scale(0.1 -0.1)\">\n       <use xlink:href=\"#DejaVuSans-32\"/>\n       <use xlink:href=\"#DejaVuSans-30\" transform=\"translate(63.623047 0)\"/>\n       <use xlink:href=\"#DejaVuSans-32\" transform=\"translate(127.246094 0)\"/>\n       <use xlink:href=\"#DejaVuSans-32\" transform=\"translate(190.869141 0)\"/>\n      </g>\n     </g>\n    </g>\n    <g id=\"xtick_6\">\n     <g id=\"line2d_6\"/>\n     <g id=\"text_6\">\n      <!-- 2023 -->\n      <g transform=\"translate(307.616949 291.042232) scale(0.1 -0.1)\">\n       <defs>\n        <path id=\"DejaVuSans-33\" d=\"M 2597 2516 \nQ 3050 2419 3304 2112 \nQ 3559 1806 3559 1356 \nQ 3559 666 3084 287 \nQ 2609 -91 1734 -91 \nQ 1441 -91 1130 -33 \nQ 819 25 488 141 \nL 488 750 \nQ 750 597 1062 519 \nQ 1375 441 1716 441 \nQ 2309 441 2620 675 \nQ 2931 909 2931 1356 \nQ 2931 1769 2642 2001 \nQ 2353 2234 1838 2234 \nL 1294 2234 \nL 1294 2753 \nL 1863 2753 \nQ 2328 2753 2575 2939 \nQ 2822 3125 2822 3475 \nQ 2822 3834 2567 4026 \nQ 2313 4219 1838 4219 \nQ 1578 4219 1281 4162 \nQ 984 4106 628 3988 \nL 628 4550 \nQ 988 4650 1302 4700 \nQ 1616 4750 1894 4750 \nQ 2613 4750 3031 4423 \nQ 3450 4097 3450 3541 \nQ 3450 3153 3228 2886 \nQ 3006 2619 2597 2516 \nz\n\" transform=\"scale(0.015625)\"/>\n       </defs>\n       <use xlink:href=\"#DejaVuSans-32\"/>\n       <use xlink:href=\"#DejaVuSans-30\" transform=\"translate(63.623047 0)\"/>\n       <use xlink:href=\"#DejaVuSans-32\" transform=\"translate(127.246094 0)\"/>\n       <use xlink:href=\"#DejaVuSans-33\" transform=\"translate(190.869141 0)\"/>\n      </g>\n     </g>\n    </g>\n    <g id=\"xtick_7\">\n     <g id=\"line2d_7\"/>\n     <g id=\"text_7\">\n      <!-- 2024 -->\n      <g transform=\"translate(364.038876 291.042232) scale(0.1 -0.1)\">\n       <defs>\n        <path id=\"DejaVuSans-34\" d=\"M 2419 4116 \nL 825 1625 \nL 2419 1625 \nL 2419 4116 \nz\nM 2253 4666 \nL 3047 4666 \nL 3047 1625 \nL 3713 1625 \nL 3713 1100 \nL 3047 1100 \nL 3047 0 \nL 2419 0 \nL 2419 1100 \nL 313 1100 \nL 313 1709 \nL 2253 4666 \nz\n\" transform=\"scale(0.015625)\"/>\n       </defs>\n       <use xlink:href=\"#DejaVuSans-32\"/>\n       <use xlink:href=\"#DejaVuSans-30\" transform=\"translate(63.623047 0)\"/>\n       <use xlink:href=\"#DejaVuSans-32\" transform=\"translate(127.246094 0)\"/>\n       <use xlink:href=\"#DejaVuSans-34\" transform=\"translate(190.869141 0)\"/>\n      </g>\n     </g>\n    </g>\n    <g id=\"xtick_8\">\n     <g id=\"line2d_8\"/>\n     <g id=\"text_8\">\n      <!-- 2025 -->\n      <g transform=\"translate(420.615383 291.042232) scale(0.1 -0.1)\">\n       <defs>\n        <path id=\"DejaVuSans-35\" d=\"M 691 4666 \nL 3169 4666 \nL 3169 4134 \nL 1269 4134 \nL 1269 2991 \nQ 1406 3038 1543 3061 \nQ 1681 3084 1819 3084 \nQ 2600 3084 3056 2656 \nQ 3513 2228 3513 1497 \nQ 3513 744 3044 326 \nQ 2575 -91 1722 -91 \nQ 1428 -91 1123 -41 \nQ 819 9 494 109 \nL 494 744 \nQ 775 591 1075 516 \nQ 1375 441 1709 441 \nQ 2250 441 2565 725 \nQ 2881 1009 2881 1497 \nQ 2881 1984 2565 2268 \nQ 2250 2553 1709 2553 \nQ 1456 2553 1204 2497 \nQ 953 2441 691 2322 \nL 691 4666 \nz\n\" transform=\"scale(0.015625)\"/>\n       </defs>\n       <use xlink:href=\"#DejaVuSans-32\"/>\n       <use xlink:href=\"#DejaVuSans-30\" transform=\"translate(63.623047 0)\"/>\n       <use xlink:href=\"#DejaVuSans-32\" transform=\"translate(127.246094 0)\"/>\n       <use xlink:href=\"#DejaVuSans-35\" transform=\"translate(190.869141 0)\"/>\n      </g>\n     </g>\n    </g>\n   </g>\n   <g id=\"matplotlib.axis_2\">\n    <g id=\"ytick_1\">\n     <g id=\"line2d_9\">\n      <path d=\"M 17.0625 252.356466 \nL 489.6 252.356466 \n\" clip-path=\"url(#pf21b502964)\" style=\"fill: none; stroke: #ffffff; stroke-width: 2; stroke-linecap: square\"/>\n     </g>\n     <g id=\"line2d_10\"/>\n     <g id=\"text_9\">\n      <!-- 3 -->\n      <g transform=\"translate(7.2 256.155685) scale(0.1 -0.1)\">\n       <use xlink:href=\"#DejaVuSans-33\"/>\n      </g>\n     </g>\n    </g>\n    <g id=\"ytick_2\">\n     <g id=\"line2d_11\">\n      <path d=\"M 17.0625 206.907819 \nL 489.6 206.907819 \n\" clip-path=\"url(#pf21b502964)\" style=\"fill: none; stroke: #ffffff; stroke-width: 2; stroke-linecap: square\"/>\n     </g>\n     <g id=\"line2d_12\"/>\n     <g id=\"text_10\">\n      <!-- 4 -->\n      <g transform=\"translate(7.2 210.707038) scale(0.1 -0.1)\">\n       <use xlink:href=\"#DejaVuSans-34\"/>\n      </g>\n     </g>\n    </g>\n    <g id=\"ytick_3\">\n     <g id=\"line2d_13\">\n      <path d=\"M 17.0625 161.459173 \nL 489.6 161.459173 \n\" clip-path=\"url(#pf21b502964)\" style=\"fill: none; stroke: #ffffff; stroke-width: 2; stroke-linecap: square\"/>\n     </g>\n     <g id=\"line2d_14\"/>\n     <g id=\"text_11\">\n      <!-- 5 -->\n      <g transform=\"translate(7.2 165.258391) scale(0.1 -0.1)\">\n       <use xlink:href=\"#DejaVuSans-35\"/>\n      </g>\n     </g>\n    </g>\n    <g id=\"ytick_4\">\n     <g id=\"line2d_15\">\n      <path d=\"M 17.0625 116.010526 \nL 489.6 116.010526 \n\" clip-path=\"url(#pf21b502964)\" style=\"fill: none; stroke: #ffffff; stroke-width: 2; stroke-linecap: square\"/>\n     </g>\n     <g id=\"line2d_16\"/>\n     <g id=\"text_12\">\n      <!-- 6 -->\n      <g transform=\"translate(7.2 119.809744) scale(0.1 -0.1)\">\n       <defs>\n        <path id=\"DejaVuSans-36\" d=\"M 2113 2584 \nQ 1688 2584 1439 2293 \nQ 1191 2003 1191 1497 \nQ 1191 994 1439 701 \nQ 1688 409 2113 409 \nQ 2538 409 2786 701 \nQ 3034 994 3034 1497 \nQ 3034 2003 2786 2293 \nQ 2538 2584 2113 2584 \nz\nM 3366 4563 \nL 3366 3988 \nQ 3128 4100 2886 4159 \nQ 2644 4219 2406 4219 \nQ 1781 4219 1451 3797 \nQ 1122 3375 1075 2522 \nQ 1259 2794 1537 2939 \nQ 1816 3084 2150 3084 \nQ 2853 3084 3261 2657 \nQ 3669 2231 3669 1497 \nQ 3669 778 3244 343 \nQ 2819 -91 2113 -91 \nQ 1303 -91 875 529 \nQ 447 1150 447 2328 \nQ 447 3434 972 4092 \nQ 1497 4750 2381 4750 \nQ 2619 4750 2861 4703 \nQ 3103 4656 3366 4563 \nz\n\" transform=\"scale(0.015625)\"/>\n       </defs>\n       <use xlink:href=\"#DejaVuSans-36\"/>\n      </g>\n     </g>\n    </g>\n    <g id=\"ytick_5\">\n     <g id=\"line2d_17\">\n      <path d=\"M 17.0625 70.561879 \nL 489.6 70.561879 \n\" clip-path=\"url(#pf21b502964)\" style=\"fill: none; stroke: #ffffff; stroke-width: 2; stroke-linecap: square\"/>\n     </g>\n     <g id=\"line2d_18\"/>\n     <g id=\"text_13\">\n      <!-- 7 -->\n      <g transform=\"translate(7.2 74.361098) scale(0.1 -0.1)\">\n       <defs>\n        <path id=\"DejaVuSans-37\" d=\"M 525 4666 \nL 3525 4666 \nL 3525 4397 \nL 1831 0 \nL 1172 0 \nL 2766 4134 \nL 525 4134 \nL 525 4666 \nz\n\" transform=\"scale(0.015625)\"/>\n       </defs>\n       <use xlink:href=\"#DejaVuSans-37\"/>\n      </g>\n     </g>\n    </g>\n    <g id=\"ytick_6\">\n     <g id=\"line2d_19\">\n      <path d=\"M 17.0625 25.113232 \nL 489.6 25.113232 \n\" clip-path=\"url(#pf21b502964)\" style=\"fill: none; stroke: #ffffff; stroke-width: 2; stroke-linecap: square\"/>\n     </g>\n     <g id=\"line2d_20\"/>\n     <g id=\"text_14\">\n      <!-- 8 -->\n      <g transform=\"translate(7.2 28.912451) scale(0.1 -0.1)\">\n       <use xlink:href=\"#DejaVuSans-38\"/>\n      </g>\n     </g>\n    </g>\n   </g>\n   <g id=\"line2d_21\">\n    <path d=\"M 38.541477 209.180252 \nL 39.623542 207.362306 \nL 40.705606 205.089874 \nL 41.78767 200.090522 \nL 42.869735 196.909117 \nL 43.951799 192.364252 \nL 45.033863 189.637334 \nL 46.115928 188.728361 \nL 48.280056 186.001442 \nL 49.362121 186.910415 \nL 50.444185 186.455928 \nL 51.526249 186.910415 \nL 52.608314 188.728361 \nL 53.690378 187.819388 \nL 54.772442 185.546955 \nL 55.854507 180.547604 \nL 56.936571 181.911064 \nL 58.018636 181.911064 \nL 59.1007 179.184145 \nL 60.182764 176.911712 \nL 61.264829 181.456577 \nL 62.346893 182.36555 \nL 63.428957 178.729658 \nL 64.511022 181.002091 \nL 65.593086 181.911064 \nL 66.67515 183.274523 \nL 67.757215 182.820037 \nL 68.839279 183.274523 \nL 69.921343 182.36555 \nL 71.003408 179.638631 \nL 72.085472 180.093118 \nL 73.167536 182.820037 \nL 74.249601 183.72901 \nL 75.331665 183.274523 \nL 76.413729 182.36555 \nL 77.495794 179.638631 \nL 78.577858 177.366199 \nL 79.659922 174.184794 \nL 80.741987 174.63928 \nL 81.824051 166.004037 \nL 82.906115 168.27647 \nL 83.98818 167.821983 \nL 85.070244 169.185443 \nL 86.152309 164.186091 \nL 87.234373 164.186091 \nL 88.161857 170.094415 \nL 89.398502 170.094415 \nL 90.480566 172.821334 \nL 91.56263 178.275172 \nL 92.644695 178.729658 \nL 93.726759 181.911064 \nL 94.808823 183.72901 \nL 95.890888 186.455928 \nL 98.055016 186.455928 \nL 99.137081 186.001442 \nL 100.219145 188.273874 \nL 101.301209 190.09182 \nL 102.383274 191.000793 \nL 103.465338 191.000793 \nL 104.547402 188.273874 \nL 105.629467 192.818739 \nL 106.711531 194.182198 \nL 107.793595 204.180901 \nL 108.87566 203.271928 \nL 109.957724 201.453982 \nL 111.039788 199.181549 \nL 112.121853 197.81809 \nL 113.203917 200.545009 \nL 114.285982 202.362955 \nL 115.368046 203.726414 \nL 116.45011 204.180901 \nL 117.532175 207.362306 \nL 118.614239 215.088576 \nL 119.696303 215.088576 \nL 120.778368 214.179603 \nL 121.860432 219.178954 \nL 122.787916 218.269981 \nL 124.024561 218.269981 \nL 125.106625 215.543062 \nL 126.188689 218.269981 \nL 127.270754 218.269981 \nL 128.352818 225.087278 \nL 129.434882 225.087278 \nL 130.516947 227.359711 \nL 131.599011 225.996251 \nL 132.681075 230.086629 \nL 133.76314 226.905224 \nL 134.845204 219.178954 \nL 135.927268 223.269332 \nL 137.009333 222.814846 \nL 138.091397 226.450738 \nL 139.173461 220.9969 \nL 140.255526 218.269981 \nL 141.33759 216.906522 \nL 142.419655 220.9969 \nL 143.501719 218.269981 \nL 144.583783 222.360359 \nL 145.511267 221.451386 \nL 146.747912 221.451386 \nL 147.829976 219.178954 \nL 148.912041 219.178954 \nL 149.994105 218.724468 \nL 151.076169 219.633441 \nL 152.158234 223.269332 \nL 153.240298 222.814846 \nL 154.322362 225.087278 \nL 155.404427 229.177656 \nL 156.486491 231.904575 \nL 158.65062 230.086629 \nL 159.732684 231.904575 \nL 160.814748 239.176359 \nL 161.896813 235.994953 \nL 162.978877 222.814846 \nL 164.060941 229.632143 \nL 165.143006 237.358413 \nL 166.22507 237.358413 \nL 167.307134 238.267386 \nL 168.389199 237.358413 \nL 169.471263 241.903278 \nL 170.553328 240.539818 \nL 171.635392 239.630845 \nL 172.717456 241.448791 \nL 173.799521 245.539169 \nL 175.963649 242.81225 \nL 177.045714 246.448142 \nL 178.127778 246.448142 \nL 179.209842 249.175061 \nL 180.291907 250.993007 \nL 181.373971 253.265439 \nL 182.456035 251.90198 \nL 183.5381 252.810953 \nL 184.620164 257.810304 \nL 185.702228 254.174412 \nL 186.784293 252.810953 \nL 187.866357 256.446845 \nL 188.948421 255.537872 \nL 190.030486 258.719277 \nL 191.11255 258.26479 \nL 192.194614 256.901331 \nL 193.276679 257.810304 \nL 194.358743 258.26479 \nL 195.440807 260.991709 \nL 196.522872 261.446196 \nL 197.604936 260.991709 \nL 198.687001 262.355169 \nL 199.769065 259.62825 \nL 200.851129 265.082087 \nL 201.778613 265.082087 \nL 203.015258 265.536574 \nL 204.097322 265.536574 \nL 205.179387 267.35452 \nL 206.261451 267.809006 \nL 207.343515 267.35452 \nL 208.42558 268.263493 \nL 209.507644 261.900682 \nL 210.589708 262.809655 \nL 211.671773 264.627601 \nL 213.835901 264.627601 \nL 214.917966 260.991709 \nL 216.00003 253.719926 \nL 217.082094 251.447493 \nL 218.164159 250.084034 \nL 219.246223 248.266088 \nL 220.328287 244.630196 \nL 221.410352 244.17571 \nL 222.492416 246.448142 \nL 223.57448 250.53852 \nL 224.656545 253.719926 \nL 225.738609 253.265439 \nL 227.902738 255.083385 \nL 228.984802 252.356466 \nL 230.066867 254.628899 \nL 231.148931 252.810953 \nL 233.31306 255.537872 \nL 234.395124 251.447493 \nL 235.477188 253.265439 \nL 236.559253 256.901331 \nL 237.641317 257.810304 \nL 238.723381 262.355169 \nL 239.805446 261.446196 \nL 240.88751 262.809655 \nL 241.969574 258.26479 \nL 243.051639 258.719277 \nL 244.133703 258.26479 \nL 245.215767 258.26479 \nL 246.297832 257.810304 \nL 247.379896 258.719277 \nL 248.46196 257.810304 \nL 249.544025 251.90198 \nL 250.626089 252.810953 \nL 251.708153 250.084034 \nL 252.790218 248.266088 \nL 253.872282 245.993656 \nL 254.954347 248.266088 \nL 255.88183 253.265439 \nL 257.118475 247.811602 \nL 258.045959 247.811602 \nL 259.282604 247.357115 \nL 260.364668 247.811602 \nL 261.446733 246.902629 \nL 262.528797 250.084034 \nL 263.610861 247.357115 \nL 264.692926 242.357764 \nL 265.77499 231.904575 \nL 266.857054 226.905224 \nL 267.939119 227.359711 \nL 269.021183 227.359711 \nL 270.103247 220.9969 \nL 271.185312 210.543711 \nL 272.267376 211.907171 \nL 273.34944 217.815495 \nL 274.431505 213.725116 \nL 275.513569 199.636036 \nL 277.677698 176.457226 \nL 278.759762 174.184794 \nL 279.841826 161.459173 \nL 280.923891 156.459821 \nL 282.005955 156.914308 \nL 283.08802 149.188038 \nL 284.170084 147.824578 \nL 285.252148 150.097011 \nL 286.334213 156.914308 \nL 287.416277 157.368794 \nL 288.498341 151.005984 \nL 289.580406 126.009228 \nL 290.66247 124.645769 \nL 291.744534 129.64512 \nL 292.826599 147.824578 \nL 293.908663 138.280363 \nL 294.990727 136.916903 \nL 296.072792 147.824578 \nL 297.154856 161.913659 \nL 298.23692 151.46047 \nL 299.318985 155.550848 \nL 300.401049 136.462417 \nL 301.483113 131.463066 \nL 302.565178 121.009877 \nL 303.647242 115.101553 \nL 304.729306 102.830418 \nL 305.811371 84.196473 \nL 306.893435 86.014419 \nL 307.975499 74.197771 \nL 309.057564 73.288798 \nL 310.139628 66.925987 \nL 311.221693 72.834311 \nL 312.303757 66.925987 \nL 313.385821 88.286851 \nL 314.313305 89.65031 \nL 315.54995 93.740689 \nL 316.632014 101.012472 \nL 317.714079 101.921445 \nL 318.796143 103.739391 \nL 319.878207 96.922094 \nL 320.960272 94.195175 \nL 322.042336 101.012472 \nL 323.1244 109.193229 \nL 324.206465 110.102202 \nL 325.288529 111.920147 \nL 326.370593 110.556688 \nL 328.534722 93.286202 \nL 329.616786 86.468905 \nL 330.698851 82.833013 \nL 331.780915 88.741338 \nL 332.862979 96.922094 \nL 333.945044 101.466959 \nL 335.027108 103.284905 \nL 336.109172 103.739391 \nL 337.191237 98.285553 \nL 338.273301 96.467608 \nL 340.43743 100.103499 \nL 341.519494 98.285553 \nL 342.601559 90.104797 \nL 343.683623 80.106095 \nL 344.765687 83.741986 \nL 346.929816 85.559932 \nL 348.01188 83.741986 \nL 349.093945 79.197122 \nL 350.176009 72.379825 \nL 351.258073 80.560581 \nL 352.340138 79.197122 \nL 353.422202 75.106743 \nL 354.504266 72.379825 \nL 356.668395 60.10869 \nL 357.750459 62.381122 \nL 358.832524 65.108041 \nL 359.914588 62.381122 \nL 360.996652 61.926636 \nL 362.078717 56.472798 \nL 363.160781 48.292042 \nL 364.242845 44.65615 \nL 365.32491 41.929231 \nL 366.406974 34.657448 \nL 367.489039 36.020907 \nL 368.571103 47.837555 \nL 369.653167 50.564474 \nL 370.580651 57.381771 \nL 371.817296 60.563176 \nL 372.89936 69.198419 \nL 373.981425 72.834311 \nL 375.063489 85.559932 \nL 376.145553 88.286851 \nL 377.227618 87.832365 \nL 378.309682 86.014419 \nL 379.391746 88.741338 \nL 380.473811 84.650959 \nL 381.555875 87.377878 \nL 382.637939 86.923392 \nL 384.802068 75.106743 \nL 385.884132 73.288798 \nL 386.966197 76.015716 \nL 388.048261 82.378527 \nL 389.130325 76.470203 \nL 390.21239 80.106095 \nL 391.294454 78.742635 \nL 392.376518 76.015716 \nL 393.458583 66.017014 \nL 394.540647 62.835609 \nL 395.622712 60.563176 \nL 396.704776 66.471501 \nL 397.78684 69.652906 \nL 398.868905 73.288798 \nL 399.950969 69.198419 \nL 402.115098 72.834311 \nL 403.197162 76.470203 \nL 404.279226 76.924689 \nL 405.20671 72.834311 \nL 406.443355 75.56123 \nL 407.525419 81.015068 \nL 408.607484 80.560581 \nL 409.689548 82.833013 \nL 410.771612 94.649662 \nL 411.853677 93.740689 \nL 412.935741 95.104148 \nL 414.017805 100.103499 \nL 415.09987 100.103499 \nL 416.181934 106.920796 \nL 417.263998 111.920147 \nL 418.346063 112.374634 \nL 419.428127 110.556688 \nL 420.510191 101.466959 \nL 421.592256 96.013121 \nL 422.67432 91.468256 \nL 423.756385 83.2875 \nL 424.838449 80.106095 \nL 425.920513 80.560581 \nL 427.002578 77.833662 \nL 427.930061 79.197122 \nL 429.166706 84.650959 \nL 430.248771 88.741338 \nL 432.412899 77.379176 \nL 433.494964 74.652257 \nL 434.577028 73.743284 \nL 435.659092 68.743933 \nL 436.741157 72.379825 \nL 437.823221 72.834311 \nL 438.905285 75.56123 \nL 441.069414 77.379176 \nL 442.151478 81.469554 \nL 443.233543 87.377878 \nL 445.397671 85.559932 \nL 446.479736 86.468905 \nL 447.5618 86.923392 \nL 448.643864 87.832365 \nL 449.725929 78.288149 \nL 450.807993 79.197122 \nL 451.890058 81.469554 \nL 452.972122 81.469554 \nL 455.136251 76.924689 \nL 456.218315 75.56123 \nL 457.300379 77.379176 \nL 458.382444 77.833662 \nL 460.546572 81.015068 \nL 461.628637 85.559932 \nL 462.710701 83.2875 \nL 463.792765 81.924041 \nL 464.87483 82.378527 \nL 465.956894 83.2875 \nL 467.038958 87.377878 \nL 468.121023 89.65031 \nL 468.121023 89.65031 \n\" clip-path=\"url(#pf21b502964)\" style=\"fill: none; stroke: #36454f; stroke-width: 1.5; stroke-linecap: square\"/>\n   </g>\n   <g id=\"patch_3\">\n    <path d=\"M 17.0625 279.943795 \nL 489.6 279.943795 \n\" style=\"fill: none; stroke: #000000; stroke-width: 0.8; stroke-linejoin: miter; stroke-linecap: square\"/>\n   </g>\n   <g id=\"text_15\">\n    <!-- Thirty Year Mortgage Rate -->\n    <g transform=\"translate(17.0625 17.837812) scale(0.14 -0.14)\">\n     <defs>\n      <path id=\"DejaVuSans-54\" d=\"M -19 4666 \nL 3928 4666 \nL 3928 4134 \nL 2272 4134 \nL 2272 0 \nL 1638 0 \nL 1638 4134 \nL -19 4134 \nL -19 4666 \nz\n\" transform=\"scale(0.015625)\"/>\n      <path id=\"DejaVuSans-68\" d=\"M 3513 2113 \nL 3513 0 \nL 2938 0 \nL 2938 2094 \nQ 2938 2591 2744 2837 \nQ 2550 3084 2163 3084 \nQ 1697 3084 1428 2787 \nQ 1159 2491 1159 1978 \nL 1159 0 \nL 581 0 \nL 581 4863 \nL 1159 4863 \nL 1159 2956 \nQ 1366 3272 1645 3428 \nQ 1925 3584 2291 3584 \nQ 2894 3584 3203 3211 \nQ 3513 2838 3513 2113 \nz\n\" transform=\"scale(0.015625)\"/>\n      <path id=\"DejaVuSans-69\" d=\"M 603 3500 \nL 1178 3500 \nL 1178 0 \nL 603 0 \nL 603 3500 \nz\nM 603 4863 \nL 1178 4863 \nL 1178 4134 \nL 603 4134 \nL 603 4863 \nz\n\" transform=\"scale(0.015625)\"/>\n      <path id=\"DejaVuSans-72\" d=\"M 2631 2963 \nQ 2534 3019 2420 3045 \nQ 2306 3072 2169 3072 \nQ 1681 3072 1420 2755 \nQ 1159 2438 1159 1844 \nL 1159 0 \nL 581 0 \nL 581 3500 \nL 1159 3500 \nL 1159 2956 \nQ 1341 3275 1631 3429 \nQ 1922 3584 2338 3584 \nQ 2397 3584 2469 3576 \nQ 2541 3569 2628 3553 \nL 2631 2963 \nz\n\" transform=\"scale(0.015625)\"/>\n      <path id=\"DejaVuSans-74\" d=\"M 1172 4494 \nL 1172 3500 \nL 2356 3500 \nL 2356 3053 \nL 1172 3053 \nL 1172 1153 \nQ 1172 725 1289 603 \nQ 1406 481 1766 481 \nL 2356 481 \nL 2356 0 \nL 1766 0 \nQ 1100 0 847 248 \nQ 594 497 594 1153 \nL 594 3053 \nL 172 3053 \nL 172 3500 \nL 594 3500 \nL 594 4494 \nL 1172 4494 \nz\n\" transform=\"scale(0.015625)\"/>\n      <path id=\"DejaVuSans-79\" d=\"M 2059 -325 \nQ 1816 -950 1584 -1140 \nQ 1353 -1331 966 -1331 \nL 506 -1331 \nL 506 -850 \nL 844 -850 \nQ 1081 -850 1212 -737 \nQ 1344 -625 1503 -206 \nL 1606 56 \nL 191 3500 \nL 800 3500 \nL 1894 763 \nL 2988 3500 \nL 3597 3500 \nL 2059 -325 \nz\n\" transform=\"scale(0.015625)\"/>\n      <path id=\"DejaVuSans-20\" transform=\"scale(0.015625)\"/>\n      <path id=\"DejaVuSans-59\" d=\"M -13 4666 \nL 666 4666 \nL 1959 2747 \nL 3244 4666 \nL 3922 4666 \nL 2272 2222 \nL 2272 0 \nL 1638 0 \nL 1638 2222 \nL -13 4666 \nz\n\" transform=\"scale(0.015625)\"/>\n      <path id=\"DejaVuSans-65\" d=\"M 3597 1894 \nL 3597 1613 \nL 953 1613 \nQ 991 1019 1311 708 \nQ 1631 397 2203 397 \nQ 2534 397 2845 478 \nQ 3156 559 3463 722 \nL 3463 178 \nQ 3153 47 2828 -22 \nQ 2503 -91 2169 -91 \nQ 1331 -91 842 396 \nQ 353 884 353 1716 \nQ 353 2575 817 3079 \nQ 1281 3584 2069 3584 \nQ 2775 3584 3186 3129 \nQ 3597 2675 3597 1894 \nz\nM 3022 2063 \nQ 3016 2534 2758 2815 \nQ 2500 3097 2075 3097 \nQ 1594 3097 1305 2825 \nQ 1016 2553 972 2059 \nL 3022 2063 \nz\n\" transform=\"scale(0.015625)\"/>\n      <path id=\"DejaVuSans-61\" d=\"M 2194 1759 \nQ 1497 1759 1228 1600 \nQ 959 1441 959 1056 \nQ 959 750 1161 570 \nQ 1363 391 1709 391 \nQ 2188 391 2477 730 \nQ 2766 1069 2766 1631 \nL 2766 1759 \nL 2194 1759 \nz\nM 3341 1997 \nL 3341 0 \nL 2766 0 \nL 2766 531 \nQ 2569 213 2275 61 \nQ 1981 -91 1556 -91 \nQ 1019 -91 701 211 \nQ 384 513 384 1019 \nQ 384 1609 779 1909 \nQ 1175 2209 1959 2209 \nL 2766 2209 \nL 2766 2266 \nQ 2766 2663 2505 2880 \nQ 2244 3097 1772 3097 \nQ 1472 3097 1187 3025 \nQ 903 2953 641 2809 \nL 641 3341 \nQ 956 3463 1253 3523 \nQ 1550 3584 1831 3584 \nQ 2591 3584 2966 3190 \nQ 3341 2797 3341 1997 \nz\n\" transform=\"scale(0.015625)\"/>\n      <path id=\"DejaVuSans-4d\" d=\"M 628 4666 \nL 1569 4666 \nL 2759 1491 \nL 3956 4666 \nL 4897 4666 \nL 4897 0 \nL 4281 0 \nL 4281 4097 \nL 3078 897 \nL 2444 897 \nL 1241 4097 \nL 1241 0 \nL 628 0 \nL 628 4666 \nz\n\" transform=\"scale(0.015625)\"/>\n      <path id=\"DejaVuSans-6f\" d=\"M 1959 3097 \nQ 1497 3097 1228 2736 \nQ 959 2375 959 1747 \nQ 959 1119 1226 758 \nQ 1494 397 1959 397 \nQ 2419 397 2687 759 \nQ 2956 1122 2956 1747 \nQ 2956 2369 2687 2733 \nQ 2419 3097 1959 3097 \nz\nM 1959 3584 \nQ 2709 3584 3137 3096 \nQ 3566 2609 3566 1747 \nQ 3566 888 3137 398 \nQ 2709 -91 1959 -91 \nQ 1206 -91 779 398 \nQ 353 888 353 1747 \nQ 353 2609 779 3096 \nQ 1206 3584 1959 3584 \nz\n\" transform=\"scale(0.015625)\"/>\n      <path id=\"DejaVuSans-67\" d=\"M 2906 1791 \nQ 2906 2416 2648 2759 \nQ 2391 3103 1925 3103 \nQ 1463 3103 1205 2759 \nQ 947 2416 947 1791 \nQ 947 1169 1205 825 \nQ 1463 481 1925 481 \nQ 2391 481 2648 825 \nQ 2906 1169 2906 1791 \nz\nM 3481 434 \nQ 3481 -459 3084 -895 \nQ 2688 -1331 1869 -1331 \nQ 1566 -1331 1297 -1286 \nQ 1028 -1241 775 -1147 \nL 775 -588 \nQ 1028 -725 1275 -790 \nQ 1522 -856 1778 -856 \nQ 2344 -856 2625 -561 \nQ 2906 -266 2906 331 \nL 2906 616 \nQ 2728 306 2450 153 \nQ 2172 0 1784 0 \nQ 1141 0 747 490 \nQ 353 981 353 1791 \nQ 353 2603 747 3093 \nQ 1141 3584 1784 3584 \nQ 2172 3584 2450 3431 \nQ 2728 3278 2906 2969 \nL 2906 3500 \nL 3481 3500 \nL 3481 434 \nz\n\" transform=\"scale(0.015625)\"/>\n      <path id=\"DejaVuSans-52\" d=\"M 2841 2188 \nQ 3044 2119 3236 1894 \nQ 3428 1669 3622 1275 \nL 4263 0 \nL 3584 0 \nL 2988 1197 \nQ 2756 1666 2539 1819 \nQ 2322 1972 1947 1972 \nL 1259 1972 \nL 1259 0 \nL 628 0 \nL 628 4666 \nL 2053 4666 \nQ 2853 4666 3247 4331 \nQ 3641 3997 3641 3322 \nQ 3641 2881 3436 2590 \nQ 3231 2300 2841 2188 \nz\nM 1259 4147 \nL 1259 2491 \nL 2053 2491 \nQ 2509 2491 2742 2702 \nQ 2975 2913 2975 3322 \nQ 2975 3731 2742 3939 \nQ 2509 4147 2053 4147 \nL 1259 4147 \nz\n\" transform=\"scale(0.015625)\"/>\n     </defs>\n     <use xlink:href=\"#DejaVuSans-54\"/>\n     <use xlink:href=\"#DejaVuSans-68\" transform=\"translate(61.083984 0)\"/>\n     <use xlink:href=\"#DejaVuSans-69\" transform=\"translate(124.462891 0)\"/>\n     <use xlink:href=\"#DejaVuSans-72\" transform=\"translate(152.246094 0)\"/>\n     <use xlink:href=\"#DejaVuSans-74\" transform=\"translate(193.359375 0)\"/>\n     <use xlink:href=\"#DejaVuSans-79\" transform=\"translate(232.568359 0)\"/>\n     <use xlink:href=\"#DejaVuSans-20\" transform=\"translate(291.748047 0)\"/>\n     <use xlink:href=\"#DejaVuSans-59\" transform=\"translate(323.535156 0)\"/>\n     <use xlink:href=\"#DejaVuSans-65\" transform=\"translate(371.369141 0)\"/>\n     <use xlink:href=\"#DejaVuSans-61\" transform=\"translate(432.892578 0)\"/>\n     <use xlink:href=\"#DejaVuSans-72\" transform=\"translate(494.171875 0)\"/>\n     <use xlink:href=\"#DejaVuSans-20\" transform=\"translate(535.285156 0)\"/>\n     <use xlink:href=\"#DejaVuSans-4d\" transform=\"translate(567.072266 0)\"/>\n     <use xlink:href=\"#DejaVuSans-6f\" transform=\"translate(653.351562 0)\"/>\n     <use xlink:href=\"#DejaVuSans-72\" transform=\"translate(714.533203 0)\"/>\n     <use xlink:href=\"#DejaVuSans-74\" transform=\"translate(755.646484 0)\"/>\n     <use xlink:href=\"#DejaVuSans-67\" transform=\"translate(794.855469 0)\"/>\n     <use xlink:href=\"#DejaVuSans-61\" transform=\"translate(858.332031 0)\"/>\n     <use xlink:href=\"#DejaVuSans-67\" transform=\"translate(919.611328 0)\"/>\n     <use xlink:href=\"#DejaVuSans-65\" transform=\"translate(983.087891 0)\"/>\n     <use xlink:href=\"#DejaVuSans-20\" transform=\"translate(1044.611328 0)\"/>\n     <use xlink:href=\"#DejaVuSans-52\" transform=\"translate(1076.398438 0)\"/>\n     <use xlink:href=\"#DejaVuSans-61\" transform=\"translate(1143.630859 0)\"/>\n     <use xlink:href=\"#DejaVuSans-74\" transform=\"translate(1204.910156 0)\"/>\n     <use xlink:href=\"#DejaVuSans-65\" transform=\"translate(1244.119141 0)\"/>\n    </g>\n   </g>\n   <g id=\"text_16\">\n    <!-- Source: FRED -->\n    <g transform=\"translate(17.0625 307.84796) scale(0.08 -0.08)\">\n     <defs>\n      <path id=\"DejaVuSans-53\" d=\"M 3425 4513 \nL 3425 3897 \nQ 3066 4069 2747 4153 \nQ 2428 4238 2131 4238 \nQ 1616 4238 1336 4038 \nQ 1056 3838 1056 3469 \nQ 1056 3159 1242 3001 \nQ 1428 2844 1947 2747 \nL 2328 2669 \nQ 3034 2534 3370 2195 \nQ 3706 1856 3706 1288 \nQ 3706 609 3251 259 \nQ 2797 -91 1919 -91 \nQ 1588 -91 1214 -16 \nQ 841 59 441 206 \nL 441 856 \nQ 825 641 1194 531 \nQ 1563 422 1919 422 \nQ 2459 422 2753 634 \nQ 3047 847 3047 1241 \nQ 3047 1584 2836 1778 \nQ 2625 1972 2144 2069 \nL 1759 2144 \nQ 1053 2284 737 2584 \nQ 422 2884 422 3419 \nQ 422 4038 858 4394 \nQ 1294 4750 2059 4750 \nQ 2388 4750 2728 4690 \nQ 3069 4631 3425 4513 \nz\n\" transform=\"scale(0.015625)\"/>\n      <path id=\"DejaVuSans-75\" d=\"M 544 1381 \nL 544 3500 \nL 1119 3500 \nL 1119 1403 \nQ 1119 906 1312 657 \nQ 1506 409 1894 409 \nQ 2359 409 2629 706 \nQ 2900 1003 2900 1516 \nL 2900 3500 \nL 3475 3500 \nL 3475 0 \nL 2900 0 \nL 2900 538 \nQ 2691 219 2414 64 \nQ 2138 -91 1772 -91 \nQ 1169 -91 856 284 \nQ 544 659 544 1381 \nz\nM 1991 3584 \nL 1991 3584 \nz\n\" transform=\"scale(0.015625)\"/>\n      <path id=\"DejaVuSans-63\" d=\"M 3122 3366 \nL 3122 2828 \nQ 2878 2963 2633 3030 \nQ 2388 3097 2138 3097 \nQ 1578 3097 1268 2742 \nQ 959 2388 959 1747 \nQ 959 1106 1268 751 \nQ 1578 397 2138 397 \nQ 2388 397 2633 464 \nQ 2878 531 3122 666 \nL 3122 134 \nQ 2881 22 2623 -34 \nQ 2366 -91 2075 -91 \nQ 1284 -91 818 406 \nQ 353 903 353 1747 \nQ 353 2603 823 3093 \nQ 1294 3584 2113 3584 \nQ 2378 3584 2631 3529 \nQ 2884 3475 3122 3366 \nz\n\" transform=\"scale(0.015625)\"/>\n      <path id=\"DejaVuSans-3a\" d=\"M 750 794 \nL 1409 794 \nL 1409 0 \nL 750 0 \nL 750 794 \nz\nM 750 3309 \nL 1409 3309 \nL 1409 2516 \nL 750 2516 \nL 750 3309 \nz\n\" transform=\"scale(0.015625)\"/>\n      <path id=\"DejaVuSans-46\" d=\"M 628 4666 \nL 3309 4666 \nL 3309 4134 \nL 1259 4134 \nL 1259 2759 \nL 3109 2759 \nL 3109 2228 \nL 1259 2228 \nL 1259 0 \nL 628 0 \nL 628 4666 \nz\n\" transform=\"scale(0.015625)\"/>\n      <path id=\"DejaVuSans-45\" d=\"M 628 4666 \nL 3578 4666 \nL 3578 4134 \nL 1259 4134 \nL 1259 2753 \nL 3481 2753 \nL 3481 2222 \nL 1259 2222 \nL 1259 531 \nL 3634 531 \nL 3634 0 \nL 628 0 \nL 628 4666 \nz\n\" transform=\"scale(0.015625)\"/>\n      <path id=\"DejaVuSans-44\" d=\"M 1259 4147 \nL 1259 519 \nL 2022 519 \nQ 2988 519 3436 956 \nQ 3884 1394 3884 2338 \nQ 3884 3275 3436 3711 \nQ 2988 4147 2022 4147 \nL 1259 4147 \nz\nM 628 4666 \nL 1925 4666 \nQ 3281 4666 3915 4102 \nQ 4550 3538 4550 2338 \nQ 4550 1131 3912 565 \nQ 3275 0 1925 0 \nL 628 0 \nL 628 4666 \nz\n\" transform=\"scale(0.015625)\"/>\n     </defs>\n     <use xlink:href=\"#DejaVuSans-53\"/>\n     <use xlink:href=\"#DejaVuSans-6f\" transform=\"translate(63.476562 0)\"/>\n     <use xlink:href=\"#DejaVuSans-75\" transform=\"translate(124.658203 0)\"/>\n     <use xlink:href=\"#DejaVuSans-72\" transform=\"translate(188.037109 0)\"/>\n     <use xlink:href=\"#DejaVuSans-63\" transform=\"translate(226.900391 0)\"/>\n     <use xlink:href=\"#DejaVuSans-65\" transform=\"translate(281.880859 0)\"/>\n     <use xlink:href=\"#DejaVuSans-3a\" transform=\"translate(343.404297 0)\"/>\n     <use xlink:href=\"#DejaVuSans-20\" transform=\"translate(377.095703 0)\"/>\n     <use xlink:href=\"#DejaVuSans-46\" transform=\"translate(408.882812 0)\"/>\n     <use xlink:href=\"#DejaVuSans-52\" transform=\"translate(466.402344 0)\"/>\n     <use xlink:href=\"#DejaVuSans-45\" transform=\"translate(535.884766 0)\"/>\n     <use xlink:href=\"#DejaVuSans-44\" transform=\"translate(599.068359 0)\"/>\n    </g>\n   </g>\n  </g>\n </g>\n <defs>\n  <clipPath id=\"pf21b502964\">\n   <rect x=\"17.0625\" y=\"22.977145\" width=\"472.5375\" height=\"256.96665\"/>\n  </clipPath>\n </defs>\n</svg>\n"
          },
          "metadata": {}
        }
      ]
    }
  ]
}