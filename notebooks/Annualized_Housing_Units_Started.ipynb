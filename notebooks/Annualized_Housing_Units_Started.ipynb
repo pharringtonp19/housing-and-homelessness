{
  "nbformat": 4,
  "nbformat_minor": 0,
  "metadata": {
    "colab": {
      "provenance": [],
      "authorship_tag": "ABX9TyOLyMQlyksnd+pgPzr1jIGR",
      "include_colab_link": true
    },
    "kernelspec": {
      "name": "python3",
      "display_name": "Python 3"
    },
    "language_info": {
      "name": "python"
    }
  },
  "cells": [
    {
      "cell_type": "markdown",
      "metadata": {
        "id": "view-in-github",
        "colab_type": "text"
      },
      "source": [
        "<a href=\"https://colab.research.google.com/github/pharringtonp19/housing-and-homelessness/blob/main/notebooks/Annualized_Housing_Units_Started.ipynb\" target=\"_parent\"><img src=\"https://colab.research.google.com/assets/colab-badge.svg\" alt=\"Open In Colab\"/></a>"
      ]
    },
    {
      "cell_type": "markdown",
      "source": [
        "### **Install Libraries**"
      ],
      "metadata": {
        "id": "mu8Hoa1M0cju"
      }
    },
    {
      "cell_type": "code",
      "source": [
        "!pip install fredapi"
      ],
      "metadata": {
        "colab": {
          "base_uri": "https://localhost:8080/"
        },
        "id": "g88-Icyw0aP_",
        "outputId": "6dea29d9-9ffa-42ee-fdd7-efeaa70d5e0c"
      },
      "execution_count": null,
      "outputs": [
        {
          "output_type": "stream",
          "name": "stdout",
          "text": [
            "Collecting fredapi\n",
            "  Downloading fredapi-0.5.2-py3-none-any.whl.metadata (5.0 kB)\n",
            "Requirement already satisfied: pandas in /usr/local/lib/python3.11/dist-packages (from fredapi) (2.2.2)\n",
            "Requirement already satisfied: numpy>=1.23.2 in /usr/local/lib/python3.11/dist-packages (from pandas->fredapi) (2.0.2)\n",
            "Requirement already satisfied: python-dateutil>=2.8.2 in /usr/local/lib/python3.11/dist-packages (from pandas->fredapi) (2.9.0.post0)\n",
            "Requirement already satisfied: pytz>=2020.1 in /usr/local/lib/python3.11/dist-packages (from pandas->fredapi) (2025.2)\n",
            "Requirement already satisfied: tzdata>=2022.7 in /usr/local/lib/python3.11/dist-packages (from pandas->fredapi) (2025.2)\n",
            "Requirement already satisfied: six>=1.5 in /usr/local/lib/python3.11/dist-packages (from python-dateutil>=2.8.2->pandas->fredapi) (1.17.0)\n",
            "Downloading fredapi-0.5.2-py3-none-any.whl (11 kB)\n",
            "Installing collected packages: fredapi\n",
            "Successfully installed fredapi-0.5.2\n"
          ]
        }
      ]
    },
    {
      "cell_type": "markdown",
      "source": [
        "### **Import Libraries**"
      ],
      "metadata": {
        "id": "gi9Nmto60Zmc"
      }
    },
    {
      "cell_type": "code",
      "source": [
        "import os\n",
        "from fredapi import Fred\n",
        "import pandas as pd\n",
        "import matplotlib.pyplot as plt\n",
        "from google.colab import userdata\n",
        "from matplotlib import font_manager\n",
        "import matplotlib.dates as mdates\n",
        "import matplotlib as mpl\n",
        "from matplotlib import pyplot as plt\n",
        "from matplotlib import rcParams\n",
        "rcParams['image.interpolation'] = 'nearest'\n",
        "rcParams['image.cmap'] = 'viridis'\n",
        "rcParams['axes.grid'] = False\n",
        "%matplotlib inline\n",
        "%config InlineBackend.figure_format = 'svg'"
      ],
      "metadata": {
        "id": "WsPzYEzZ0UqV"
      },
      "execution_count": null,
      "outputs": []
    },
    {
      "cell_type": "markdown",
      "source": [
        "### **FRED API**"
      ],
      "metadata": {
        "id": "oQwq3jlS7oO6"
      }
    },
    {
      "cell_type": "code",
      "source": [
        "fred = Fred(api_key=userdata.get('FRED'))"
      ],
      "metadata": {
        "id": "gyR40epY0sRs"
      },
      "execution_count": null,
      "outputs": []
    },
    {
      "cell_type": "markdown",
      "source": [
        "### **Get Data**"
      ],
      "metadata": {
        "id": "2R2wfnPq7qoa"
      }
    },
    {
      "cell_type": "code",
      "source": [
        "data_series = fred.get_series('HOUST')\n",
        "df = data_series.to_frame(name='Starts')\n",
        "df.index.name = 'Date'\n",
        "df.index = pd.to_datetime(df.index)  # Fixed: pd.to_datetime instead of pd.DateTime\n",
        "df.head()"
      ],
      "metadata": {
        "id": "o_Bw3s0x0vTB",
        "colab": {
          "base_uri": "https://localhost:8080/",
          "height": 238
        },
        "outputId": "22bcda98-2ed8-4f83-afbb-a6a49ae9202e"
      },
      "execution_count": null,
      "outputs": [
        {
          "output_type": "execute_result",
          "data": {
            "text/plain": [
              "            Starts\n",
              "Date              \n",
              "1959-01-01  1657.0\n",
              "1959-02-01  1667.0\n",
              "1959-03-01  1620.0\n",
              "1959-04-01  1590.0\n",
              "1959-05-01  1498.0"
            ],
            "text/html": [
              "\n",
              "  <div id=\"df-a8324049-134d-4c7c-aa76-2263828d7343\" class=\"colab-df-container\">\n",
              "    <div>\n",
              "<style scoped>\n",
              "    .dataframe tbody tr th:only-of-type {\n",
              "        vertical-align: middle;\n",
              "    }\n",
              "\n",
              "    .dataframe tbody tr th {\n",
              "        vertical-align: top;\n",
              "    }\n",
              "\n",
              "    .dataframe thead th {\n",
              "        text-align: right;\n",
              "    }\n",
              "</style>\n",
              "<table border=\"1\" class=\"dataframe\">\n",
              "  <thead>\n",
              "    <tr style=\"text-align: right;\">\n",
              "      <th></th>\n",
              "      <th>Starts</th>\n",
              "    </tr>\n",
              "    <tr>\n",
              "      <th>Date</th>\n",
              "      <th></th>\n",
              "    </tr>\n",
              "  </thead>\n",
              "  <tbody>\n",
              "    <tr>\n",
              "      <th>1959-01-01</th>\n",
              "      <td>1657.0</td>\n",
              "    </tr>\n",
              "    <tr>\n",
              "      <th>1959-02-01</th>\n",
              "      <td>1667.0</td>\n",
              "    </tr>\n",
              "    <tr>\n",
              "      <th>1959-03-01</th>\n",
              "      <td>1620.0</td>\n",
              "    </tr>\n",
              "    <tr>\n",
              "      <th>1959-04-01</th>\n",
              "      <td>1590.0</td>\n",
              "    </tr>\n",
              "    <tr>\n",
              "      <th>1959-05-01</th>\n",
              "      <td>1498.0</td>\n",
              "    </tr>\n",
              "  </tbody>\n",
              "</table>\n",
              "</div>\n",
              "    <div class=\"colab-df-buttons\">\n",
              "\n",
              "  <div class=\"colab-df-container\">\n",
              "    <button class=\"colab-df-convert\" onclick=\"convertToInteractive('df-a8324049-134d-4c7c-aa76-2263828d7343')\"\n",
              "            title=\"Convert this dataframe to an interactive table.\"\n",
              "            style=\"display:none;\">\n",
              "\n",
              "  <svg xmlns=\"http://www.w3.org/2000/svg\" height=\"24px\" viewBox=\"0 -960 960 960\">\n",
              "    <path d=\"M120-120v-720h720v720H120Zm60-500h600v-160H180v160Zm220 220h160v-160H400v160Zm0 220h160v-160H400v160ZM180-400h160v-160H180v160Zm440 0h160v-160H620v160ZM180-180h160v-160H180v160Zm440 0h160v-160H620v160Z\"/>\n",
              "  </svg>\n",
              "    </button>\n",
              "\n",
              "  <style>\n",
              "    .colab-df-container {\n",
              "      display:flex;\n",
              "      gap: 12px;\n",
              "    }\n",
              "\n",
              "    .colab-df-convert {\n",
              "      background-color: #E8F0FE;\n",
              "      border: none;\n",
              "      border-radius: 50%;\n",
              "      cursor: pointer;\n",
              "      display: none;\n",
              "      fill: #1967D2;\n",
              "      height: 32px;\n",
              "      padding: 0 0 0 0;\n",
              "      width: 32px;\n",
              "    }\n",
              "\n",
              "    .colab-df-convert:hover {\n",
              "      background-color: #E2EBFA;\n",
              "      box-shadow: 0px 1px 2px rgba(60, 64, 67, 0.3), 0px 1px 3px 1px rgba(60, 64, 67, 0.15);\n",
              "      fill: #174EA6;\n",
              "    }\n",
              "\n",
              "    .colab-df-buttons div {\n",
              "      margin-bottom: 4px;\n",
              "    }\n",
              "\n",
              "    [theme=dark] .colab-df-convert {\n",
              "      background-color: #3B4455;\n",
              "      fill: #D2E3FC;\n",
              "    }\n",
              "\n",
              "    [theme=dark] .colab-df-convert:hover {\n",
              "      background-color: #434B5C;\n",
              "      box-shadow: 0px 1px 3px 1px rgba(0, 0, 0, 0.15);\n",
              "      filter: drop-shadow(0px 1px 2px rgba(0, 0, 0, 0.3));\n",
              "      fill: #FFFFFF;\n",
              "    }\n",
              "  </style>\n",
              "\n",
              "    <script>\n",
              "      const buttonEl =\n",
              "        document.querySelector('#df-a8324049-134d-4c7c-aa76-2263828d7343 button.colab-df-convert');\n",
              "      buttonEl.style.display =\n",
              "        google.colab.kernel.accessAllowed ? 'block' : 'none';\n",
              "\n",
              "      async function convertToInteractive(key) {\n",
              "        const element = document.querySelector('#df-a8324049-134d-4c7c-aa76-2263828d7343');\n",
              "        const dataTable =\n",
              "          await google.colab.kernel.invokeFunction('convertToInteractive',\n",
              "                                                    [key], {});\n",
              "        if (!dataTable) return;\n",
              "\n",
              "        const docLinkHtml = 'Like what you see? Visit the ' +\n",
              "          '<a target=\"_blank\" href=https://colab.research.google.com/notebooks/data_table.ipynb>data table notebook</a>'\n",
              "          + ' to learn more about interactive tables.';\n",
              "        element.innerHTML = '';\n",
              "        dataTable['output_type'] = 'display_data';\n",
              "        await google.colab.output.renderOutput(dataTable, element);\n",
              "        const docLink = document.createElement('div');\n",
              "        docLink.innerHTML = docLinkHtml;\n",
              "        element.appendChild(docLink);\n",
              "      }\n",
              "    </script>\n",
              "  </div>\n",
              "\n",
              "\n",
              "    <div id=\"df-611aa273-224d-44d1-af07-984ab99fd2dd\">\n",
              "      <button class=\"colab-df-quickchart\" onclick=\"quickchart('df-611aa273-224d-44d1-af07-984ab99fd2dd')\"\n",
              "                title=\"Suggest charts\"\n",
              "                style=\"display:none;\">\n",
              "\n",
              "<svg xmlns=\"http://www.w3.org/2000/svg\" height=\"24px\"viewBox=\"0 0 24 24\"\n",
              "     width=\"24px\">\n",
              "    <g>\n",
              "        <path d=\"M19 3H5c-1.1 0-2 .9-2 2v14c0 1.1.9 2 2 2h14c1.1 0 2-.9 2-2V5c0-1.1-.9-2-2-2zM9 17H7v-7h2v7zm4 0h-2V7h2v10zm4 0h-2v-4h2v4z\"/>\n",
              "    </g>\n",
              "</svg>\n",
              "      </button>\n",
              "\n",
              "<style>\n",
              "  .colab-df-quickchart {\n",
              "      --bg-color: #E8F0FE;\n",
              "      --fill-color: #1967D2;\n",
              "      --hover-bg-color: #E2EBFA;\n",
              "      --hover-fill-color: #174EA6;\n",
              "      --disabled-fill-color: #AAA;\n",
              "      --disabled-bg-color: #DDD;\n",
              "  }\n",
              "\n",
              "  [theme=dark] .colab-df-quickchart {\n",
              "      --bg-color: #3B4455;\n",
              "      --fill-color: #D2E3FC;\n",
              "      --hover-bg-color: #434B5C;\n",
              "      --hover-fill-color: #FFFFFF;\n",
              "      --disabled-bg-color: #3B4455;\n",
              "      --disabled-fill-color: #666;\n",
              "  }\n",
              "\n",
              "  .colab-df-quickchart {\n",
              "    background-color: var(--bg-color);\n",
              "    border: none;\n",
              "    border-radius: 50%;\n",
              "    cursor: pointer;\n",
              "    display: none;\n",
              "    fill: var(--fill-color);\n",
              "    height: 32px;\n",
              "    padding: 0;\n",
              "    width: 32px;\n",
              "  }\n",
              "\n",
              "  .colab-df-quickchart:hover {\n",
              "    background-color: var(--hover-bg-color);\n",
              "    box-shadow: 0 1px 2px rgba(60, 64, 67, 0.3), 0 1px 3px 1px rgba(60, 64, 67, 0.15);\n",
              "    fill: var(--button-hover-fill-color);\n",
              "  }\n",
              "\n",
              "  .colab-df-quickchart-complete:disabled,\n",
              "  .colab-df-quickchart-complete:disabled:hover {\n",
              "    background-color: var(--disabled-bg-color);\n",
              "    fill: var(--disabled-fill-color);\n",
              "    box-shadow: none;\n",
              "  }\n",
              "\n",
              "  .colab-df-spinner {\n",
              "    border: 2px solid var(--fill-color);\n",
              "    border-color: transparent;\n",
              "    border-bottom-color: var(--fill-color);\n",
              "    animation:\n",
              "      spin 1s steps(1) infinite;\n",
              "  }\n",
              "\n",
              "  @keyframes spin {\n",
              "    0% {\n",
              "      border-color: transparent;\n",
              "      border-bottom-color: var(--fill-color);\n",
              "      border-left-color: var(--fill-color);\n",
              "    }\n",
              "    20% {\n",
              "      border-color: transparent;\n",
              "      border-left-color: var(--fill-color);\n",
              "      border-top-color: var(--fill-color);\n",
              "    }\n",
              "    30% {\n",
              "      border-color: transparent;\n",
              "      border-left-color: var(--fill-color);\n",
              "      border-top-color: var(--fill-color);\n",
              "      border-right-color: var(--fill-color);\n",
              "    }\n",
              "    40% {\n",
              "      border-color: transparent;\n",
              "      border-right-color: var(--fill-color);\n",
              "      border-top-color: var(--fill-color);\n",
              "    }\n",
              "    60% {\n",
              "      border-color: transparent;\n",
              "      border-right-color: var(--fill-color);\n",
              "    }\n",
              "    80% {\n",
              "      border-color: transparent;\n",
              "      border-right-color: var(--fill-color);\n",
              "      border-bottom-color: var(--fill-color);\n",
              "    }\n",
              "    90% {\n",
              "      border-color: transparent;\n",
              "      border-bottom-color: var(--fill-color);\n",
              "    }\n",
              "  }\n",
              "</style>\n",
              "\n",
              "      <script>\n",
              "        async function quickchart(key) {\n",
              "          const quickchartButtonEl =\n",
              "            document.querySelector('#' + key + ' button');\n",
              "          quickchartButtonEl.disabled = true;  // To prevent multiple clicks.\n",
              "          quickchartButtonEl.classList.add('colab-df-spinner');\n",
              "          try {\n",
              "            const charts = await google.colab.kernel.invokeFunction(\n",
              "                'suggestCharts', [key], {});\n",
              "          } catch (error) {\n",
              "            console.error('Error during call to suggestCharts:', error);\n",
              "          }\n",
              "          quickchartButtonEl.classList.remove('colab-df-spinner');\n",
              "          quickchartButtonEl.classList.add('colab-df-quickchart-complete');\n",
              "        }\n",
              "        (() => {\n",
              "          let quickchartButtonEl =\n",
              "            document.querySelector('#df-611aa273-224d-44d1-af07-984ab99fd2dd button');\n",
              "          quickchartButtonEl.style.display =\n",
              "            google.colab.kernel.accessAllowed ? 'block' : 'none';\n",
              "        })();\n",
              "      </script>\n",
              "    </div>\n",
              "\n",
              "    </div>\n",
              "  </div>\n"
            ],
            "application/vnd.google.colaboratory.intrinsic+json": {
              "type": "dataframe",
              "variable_name": "df",
              "summary": "{\n  \"name\": \"df\",\n  \"rows\": 799,\n  \"fields\": [\n    {\n      \"column\": \"Date\",\n      \"properties\": {\n        \"dtype\": \"date\",\n        \"min\": \"1959-01-01 00:00:00\",\n        \"max\": \"2025-07-01 00:00:00\",\n        \"num_unique_values\": 799,\n        \"samples\": [\n          \"2016-12-01 00:00:00\",\n          \"2014-07-01 00:00:00\",\n          \"1964-04-01 00:00:00\"\n        ],\n        \"semantic_type\": \"\",\n        \"description\": \"\"\n      }\n    },\n    {\n      \"column\": \"Starts\",\n      \"properties\": {\n        \"dtype\": \"number\",\n        \"std\": 378.1482906568463,\n        \"min\": 478.0,\n        \"max\": 2494.0,\n        \"num_unique_values\": 600,\n        \"samples\": [\n          1769.0,\n          1643.0,\n          1293.0\n        ],\n        \"semantic_type\": \"\",\n        \"description\": \"\"\n      }\n    }\n  ]\n}"
            }
          },
          "metadata": {},
          "execution_count": 8
        }
      ]
    },
    {
      "cell_type": "code",
      "source": [
        "fig = plt.figure(dpi=300, tight_layout=True, figsize=(7, 4.5))\n",
        "ax = plt.axes(facecolor=(.95, .96, .97))\n",
        "ax.xaxis.set_tick_params(length=0, labeltop=False, labelbottom=True)\n",
        "\n",
        "for key in 'left', 'right', 'top':\n",
        "    ax.spines[key].set_visible(False)\n",
        "ax.text(0., 1.06, s='Annualized Housing Units Started (Private)', transform=ax.transAxes, size=14)\n",
        "ax.text(0., 1.01, s='Thousands', transform=ax.transAxes, size=8)\n",
        "ax.yaxis.set_tick_params(length=0)\n",
        "ax.yaxis.grid(True, color='white', linewidth=2)\n",
        "ax.set_axisbelow(True)\n",
        "\n",
        "\n",
        "plt.plot(df.index, df['Starts'], color='#36454F')\n",
        "\n",
        "ax.annotate(\"Sources: U.S. Census Bureau; U.S. Department of Housing and Urban Development via FRED\",\n",
        "        xy = (0., -0.1),\n",
        "        xycoords='axes fraction',\n",
        "        ha='left',\n",
        "        va=\"center\",\n",
        "        fontsize=8)\n",
        "fig.savefig('./annualized_prive_housing_units.png')\n",
        "plt.show()"
      ],
      "metadata": {
        "colab": {
          "base_uri": "https://localhost:8080/",
          "height": 444
        },
        "id": "Jmm9WH62044V",
        "outputId": "aef2bc5e-521a-4a74-adaf-c58629790dbe"
      },
      "execution_count": null,
      "outputs": [
        {
          "output_type": "display_data",
          "data": {
            "text/plain": [
              "<Figure size 2100x1350 with 1 Axes>"
            ],
            "image/svg+xml": "<?xml version=\"1.0\" encoding=\"utf-8\" standalone=\"no\"?>\n<!DOCTYPE svg PUBLIC \"-//W3C//DTD SVG 1.1//EN\"\n  \"http://www.w3.org/Graphics/SVG/1.1/DTD/svg11.dtd\">\n<svg xmlns:xlink=\"http://www.w3.org/1999/xlink\" width=\"496.8pt\" height=\"316.885124pt\" viewBox=\"0 0 496.8 316.885124\" xmlns=\"http://www.w3.org/2000/svg\" version=\"1.1\">\n <metadata>\n  <rdf:RDF xmlns:dc=\"http://purl.org/dc/elements/1.1/\" xmlns:cc=\"http://creativecommons.org/ns#\" xmlns:rdf=\"http://www.w3.org/1999/02/22-rdf-syntax-ns#\">\n   <cc:Work>\n    <dc:type rdf:resource=\"http://purl.org/dc/dcmitype/StillImage\"/>\n    <dc:date>2025-08-19T14:40:05.744692</dc:date>\n    <dc:format>image/svg+xml</dc:format>\n    <dc:creator>\n     <cc:Agent>\n      <dc:title>Matplotlib v3.10.0, https://matplotlib.org/</dc:title>\n     </cc:Agent>\n    </dc:creator>\n   </cc:Work>\n  </rdf:RDF>\n </metadata>\n <defs>\n  <style type=\"text/css\">*{stroke-linejoin: round; stroke-linecap: butt}</style>\n </defs>\n <g id=\"figure_1\">\n  <g id=\"patch_1\">\n   <path d=\"M 0 316.885124 \nL 496.8 316.885124 \nL 496.8 0 \nL 0 0 \nz\n\" style=\"fill: #ffffff\"/>\n  </g>\n  <g id=\"axes_1\">\n   <g id=\"patch_2\">\n    <path d=\"M 36.15 280.988352 \nL 489.6 280.988352 \nL 489.6 32.733126 \nL 36.15 32.733126 \nz\n\" style=\"fill: #f2f5f7\"/>\n   </g>\n   <g id=\"matplotlib.axis_1\">\n    <g id=\"xtick_1\">\n     <g id=\"line2d_1\"/>\n     <g id=\"text_1\">\n      <!-- 1960 -->\n      <g transform=\"translate(50.231314 292.086789) scale(0.1 -0.1)\">\n       <defs>\n        <path id=\"DejaVuSans-31\" d=\"M 794 531 \nL 1825 531 \nL 1825 4091 \nL 703 3866 \nL 703 4441 \nL 1819 4666 \nL 2450 4666 \nL 2450 531 \nL 3481 531 \nL 3481 0 \nL 794 0 \nL 794 531 \nz\n\" transform=\"scale(0.015625)\"/>\n        <path id=\"DejaVuSans-39\" d=\"M 703 97 \nL 703 672 \nQ 941 559 1184 500 \nQ 1428 441 1663 441 \nQ 2288 441 2617 861 \nQ 2947 1281 2994 2138 \nQ 2813 1869 2534 1725 \nQ 2256 1581 1919 1581 \nQ 1219 1581 811 2004 \nQ 403 2428 403 3163 \nQ 403 3881 828 4315 \nQ 1253 4750 1959 4750 \nQ 2769 4750 3195 4129 \nQ 3622 3509 3622 2328 \nQ 3622 1225 3098 567 \nQ 2575 -91 1691 -91 \nQ 1453 -91 1209 -44 \nQ 966 3 703 97 \nz\nM 1959 2075 \nQ 2384 2075 2632 2365 \nQ 2881 2656 2881 3163 \nQ 2881 3666 2632 3958 \nQ 2384 4250 1959 4250 \nQ 1534 4250 1286 3958 \nQ 1038 3666 1038 3163 \nQ 1038 2656 1286 2365 \nQ 1534 2075 1959 2075 \nz\n\" transform=\"scale(0.015625)\"/>\n        <path id=\"DejaVuSans-36\" d=\"M 2113 2584 \nQ 1688 2584 1439 2293 \nQ 1191 2003 1191 1497 \nQ 1191 994 1439 701 \nQ 1688 409 2113 409 \nQ 2538 409 2786 701 \nQ 3034 994 3034 1497 \nQ 3034 2003 2786 2293 \nQ 2538 2584 2113 2584 \nz\nM 3366 4563 \nL 3366 3988 \nQ 3128 4100 2886 4159 \nQ 2644 4219 2406 4219 \nQ 1781 4219 1451 3797 \nQ 1122 3375 1075 2522 \nQ 1259 2794 1537 2939 \nQ 1816 3084 2150 3084 \nQ 2853 3084 3261 2657 \nQ 3669 2231 3669 1497 \nQ 3669 778 3244 343 \nQ 2819 -91 2113 -91 \nQ 1303 -91 875 529 \nQ 447 1150 447 2328 \nQ 447 3434 972 4092 \nQ 1497 4750 2381 4750 \nQ 2619 4750 2861 4703 \nQ 3103 4656 3366 4563 \nz\n\" transform=\"scale(0.015625)\"/>\n        <path id=\"DejaVuSans-30\" d=\"M 2034 4250 \nQ 1547 4250 1301 3770 \nQ 1056 3291 1056 2328 \nQ 1056 1369 1301 889 \nQ 1547 409 2034 409 \nQ 2525 409 2770 889 \nQ 3016 1369 3016 2328 \nQ 3016 3291 2770 3770 \nQ 2525 4250 2034 4250 \nz\nM 2034 4750 \nQ 2819 4750 3233 4129 \nQ 3647 3509 3647 2328 \nQ 3647 1150 3233 529 \nQ 2819 -91 2034 -91 \nQ 1250 -91 836 529 \nQ 422 1150 422 2328 \nQ 422 3509 836 4129 \nQ 1250 4750 2034 4750 \nz\n\" transform=\"scale(0.015625)\"/>\n       </defs>\n       <use xlink:href=\"#DejaVuSans-31\"/>\n       <use xlink:href=\"#DejaVuSans-39\" transform=\"translate(63.623047 0)\"/>\n       <use xlink:href=\"#DejaVuSans-36\" transform=\"translate(127.246094 0)\"/>\n       <use xlink:href=\"#DejaVuSans-30\" transform=\"translate(190.869141 0)\"/>\n      </g>\n     </g>\n    </g>\n    <g id=\"xtick_2\">\n     <g id=\"line2d_2\"/>\n     <g id=\"text_2\">\n      <!-- 1970 -->\n      <g transform=\"translate(112.231735 292.086789) scale(0.1 -0.1)\">\n       <defs>\n        <path id=\"DejaVuSans-37\" d=\"M 525 4666 \nL 3525 4666 \nL 3525 4397 \nL 1831 0 \nL 1172 0 \nL 2766 4134 \nL 525 4134 \nL 525 4666 \nz\n\" transform=\"scale(0.015625)\"/>\n       </defs>\n       <use xlink:href=\"#DejaVuSans-31\"/>\n       <use xlink:href=\"#DejaVuSans-39\" transform=\"translate(63.623047 0)\"/>\n       <use xlink:href=\"#DejaVuSans-37\" transform=\"translate(127.246094 0)\"/>\n       <use xlink:href=\"#DejaVuSans-30\" transform=\"translate(190.869141 0)\"/>\n      </g>\n     </g>\n    </g>\n    <g id=\"xtick_3\">\n     <g id=\"line2d_3\"/>\n     <g id=\"text_3\">\n      <!-- 1980 -->\n      <g transform=\"translate(174.215184 292.086789) scale(0.1 -0.1)\">\n       <defs>\n        <path id=\"DejaVuSans-38\" d=\"M 2034 2216 \nQ 1584 2216 1326 1975 \nQ 1069 1734 1069 1313 \nQ 1069 891 1326 650 \nQ 1584 409 2034 409 \nQ 2484 409 2743 651 \nQ 3003 894 3003 1313 \nQ 3003 1734 2745 1975 \nQ 2488 2216 2034 2216 \nz\nM 1403 2484 \nQ 997 2584 770 2862 \nQ 544 3141 544 3541 \nQ 544 4100 942 4425 \nQ 1341 4750 2034 4750 \nQ 2731 4750 3128 4425 \nQ 3525 4100 3525 3541 \nQ 3525 3141 3298 2862 \nQ 3072 2584 2669 2484 \nQ 3125 2378 3379 2068 \nQ 3634 1759 3634 1313 \nQ 3634 634 3220 271 \nQ 2806 -91 2034 -91 \nQ 1263 -91 848 271 \nQ 434 634 434 1313 \nQ 434 1759 690 2068 \nQ 947 2378 1403 2484 \nz\nM 1172 3481 \nQ 1172 3119 1398 2916 \nQ 1625 2713 2034 2713 \nQ 2441 2713 2670 2916 \nQ 2900 3119 2900 3481 \nQ 2900 3844 2670 4047 \nQ 2441 4250 2034 4250 \nQ 1625 4250 1398 4047 \nQ 1172 3844 1172 3481 \nz\n\" transform=\"scale(0.015625)\"/>\n       </defs>\n       <use xlink:href=\"#DejaVuSans-31\"/>\n       <use xlink:href=\"#DejaVuSans-39\" transform=\"translate(63.623047 0)\"/>\n       <use xlink:href=\"#DejaVuSans-38\" transform=\"translate(127.246094 0)\"/>\n       <use xlink:href=\"#DejaVuSans-30\" transform=\"translate(190.869141 0)\"/>\n      </g>\n     </g>\n    </g>\n    <g id=\"xtick_4\">\n     <g id=\"line2d_4\"/>\n     <g id=\"text_4\">\n      <!-- 1990 -->\n      <g transform=\"translate(236.215605 292.086789) scale(0.1 -0.1)\">\n       <use xlink:href=\"#DejaVuSans-31\"/>\n       <use xlink:href=\"#DejaVuSans-39\" transform=\"translate(63.623047 0)\"/>\n       <use xlink:href=\"#DejaVuSans-39\" transform=\"translate(127.246094 0)\"/>\n       <use xlink:href=\"#DejaVuSans-30\" transform=\"translate(190.869141 0)\"/>\n      </g>\n     </g>\n    </g>\n    <g id=\"xtick_5\">\n     <g id=\"line2d_5\"/>\n     <g id=\"text_5\">\n      <!-- 2000 -->\n      <g transform=\"translate(298.199053 292.086789) scale(0.1 -0.1)\">\n       <defs>\n        <path id=\"DejaVuSans-32\" d=\"M 1228 531 \nL 3431 531 \nL 3431 0 \nL 469 0 \nL 469 531 \nQ 828 903 1448 1529 \nQ 2069 2156 2228 2338 \nQ 2531 2678 2651 2914 \nQ 2772 3150 2772 3378 \nQ 2772 3750 2511 3984 \nQ 2250 4219 1831 4219 \nQ 1534 4219 1204 4116 \nQ 875 4013 500 3803 \nL 500 4441 \nQ 881 4594 1212 4672 \nQ 1544 4750 1819 4750 \nQ 2544 4750 2975 4387 \nQ 3406 4025 3406 3419 \nQ 3406 3131 3298 2873 \nQ 3191 2616 2906 2266 \nQ 2828 2175 2409 1742 \nQ 1991 1309 1228 531 \nz\n\" transform=\"scale(0.015625)\"/>\n       </defs>\n       <use xlink:href=\"#DejaVuSans-32\"/>\n       <use xlink:href=\"#DejaVuSans-30\" transform=\"translate(63.623047 0)\"/>\n       <use xlink:href=\"#DejaVuSans-30\" transform=\"translate(127.246094 0)\"/>\n       <use xlink:href=\"#DejaVuSans-30\" transform=\"translate(190.869141 0)\"/>\n      </g>\n     </g>\n    </g>\n    <g id=\"xtick_6\">\n     <g id=\"line2d_6\"/>\n     <g id=\"text_6\">\n      <!-- 2010 -->\n      <g transform=\"translate(360.199474 292.086789) scale(0.1 -0.1)\">\n       <use xlink:href=\"#DejaVuSans-32\"/>\n       <use xlink:href=\"#DejaVuSans-30\" transform=\"translate(63.623047 0)\"/>\n       <use xlink:href=\"#DejaVuSans-31\" transform=\"translate(127.246094 0)\"/>\n       <use xlink:href=\"#DejaVuSans-30\" transform=\"translate(190.869141 0)\"/>\n      </g>\n     </g>\n    </g>\n    <g id=\"xtick_7\">\n     <g id=\"line2d_7\"/>\n     <g id=\"text_7\">\n      <!-- 2020 -->\n      <g transform=\"translate(422.182923 292.086789) scale(0.1 -0.1)\">\n       <use xlink:href=\"#DejaVuSans-32\"/>\n       <use xlink:href=\"#DejaVuSans-30\" transform=\"translate(63.623047 0)\"/>\n       <use xlink:href=\"#DejaVuSans-32\" transform=\"translate(127.246094 0)\"/>\n       <use xlink:href=\"#DejaVuSans-30\" transform=\"translate(190.869141 0)\"/>\n      </g>\n     </g>\n    </g>\n   </g>\n   <g id=\"matplotlib.axis_2\">\n    <g id=\"ytick_1\">\n     <g id=\"line2d_8\">\n      <path d=\"M 36.15 267.241174 \nL 489.6 267.241174 \n\" clip-path=\"url(#p131e1c9c08)\" style=\"fill: none; stroke: #ffffff; stroke-width: 2; stroke-linecap: square\"/>\n     </g>\n     <g id=\"line2d_9\"/>\n     <g id=\"text_8\">\n      <!-- 500 -->\n      <g transform=\"translate(13.5625 271.040392) scale(0.1 -0.1)\">\n       <defs>\n        <path id=\"DejaVuSans-35\" d=\"M 691 4666 \nL 3169 4666 \nL 3169 4134 \nL 1269 4134 \nL 1269 2991 \nQ 1406 3038 1543 3061 \nQ 1681 3084 1819 3084 \nQ 2600 3084 3056 2656 \nQ 3513 2228 3513 1497 \nQ 3513 744 3044 326 \nQ 2575 -91 1722 -91 \nQ 1428 -91 1123 -41 \nQ 819 9 494 109 \nL 494 744 \nQ 775 591 1075 516 \nQ 1375 441 1709 441 \nQ 2250 441 2565 725 \nQ 2881 1009 2881 1497 \nQ 2881 1984 2565 2268 \nQ 2250 2553 1709 2553 \nQ 1456 2553 1204 2497 \nQ 953 2441 691 2322 \nL 691 4666 \nz\n\" transform=\"scale(0.015625)\"/>\n       </defs>\n       <use xlink:href=\"#DejaVuSans-35\"/>\n       <use xlink:href=\"#DejaVuSans-30\" transform=\"translate(63.623047 0)\"/>\n       <use xlink:href=\"#DejaVuSans-30\" transform=\"translate(127.246094 0)\"/>\n      </g>\n     </g>\n    </g>\n    <g id=\"ytick_2\">\n     <g id=\"line2d_10\">\n      <path d=\"M 36.15 239.254248 \nL 489.6 239.254248 \n\" clip-path=\"url(#p131e1c9c08)\" style=\"fill: none; stroke: #ffffff; stroke-width: 2; stroke-linecap: square\"/>\n     </g>\n     <g id=\"line2d_11\"/>\n     <g id=\"text_9\">\n      <!-- 750 -->\n      <g transform=\"translate(13.5625 243.053467) scale(0.1 -0.1)\">\n       <use xlink:href=\"#DejaVuSans-37\"/>\n       <use xlink:href=\"#DejaVuSans-35\" transform=\"translate(63.623047 0)\"/>\n       <use xlink:href=\"#DejaVuSans-30\" transform=\"translate(127.246094 0)\"/>\n      </g>\n     </g>\n    </g>\n    <g id=\"ytick_3\">\n     <g id=\"line2d_12\">\n      <path d=\"M 36.15 211.267322 \nL 489.6 211.267322 \n\" clip-path=\"url(#p131e1c9c08)\" style=\"fill: none; stroke: #ffffff; stroke-width: 2; stroke-linecap: square\"/>\n     </g>\n     <g id=\"line2d_13\"/>\n     <g id=\"text_10\">\n      <!-- 1000 -->\n      <g transform=\"translate(7.2 215.066541) scale(0.1 -0.1)\">\n       <use xlink:href=\"#DejaVuSans-31\"/>\n       <use xlink:href=\"#DejaVuSans-30\" transform=\"translate(63.623047 0)\"/>\n       <use xlink:href=\"#DejaVuSans-30\" transform=\"translate(127.246094 0)\"/>\n       <use xlink:href=\"#DejaVuSans-30\" transform=\"translate(190.869141 0)\"/>\n      </g>\n     </g>\n    </g>\n    <g id=\"ytick_4\">\n     <g id=\"line2d_14\">\n      <path d=\"M 36.15 183.280397 \nL 489.6 183.280397 \n\" clip-path=\"url(#p131e1c9c08)\" style=\"fill: none; stroke: #ffffff; stroke-width: 2; stroke-linecap: square\"/>\n     </g>\n     <g id=\"line2d_15\"/>\n     <g id=\"text_11\">\n      <!-- 1250 -->\n      <g transform=\"translate(7.2 187.079615) scale(0.1 -0.1)\">\n       <use xlink:href=\"#DejaVuSans-31\"/>\n       <use xlink:href=\"#DejaVuSans-32\" transform=\"translate(63.623047 0)\"/>\n       <use xlink:href=\"#DejaVuSans-35\" transform=\"translate(127.246094 0)\"/>\n       <use xlink:href=\"#DejaVuSans-30\" transform=\"translate(190.869141 0)\"/>\n      </g>\n     </g>\n    </g>\n    <g id=\"ytick_5\">\n     <g id=\"line2d_16\">\n      <path d=\"M 36.15 155.293471 \nL 489.6 155.293471 \n\" clip-path=\"url(#p131e1c9c08)\" style=\"fill: none; stroke: #ffffff; stroke-width: 2; stroke-linecap: square\"/>\n     </g>\n     <g id=\"line2d_17\"/>\n     <g id=\"text_12\">\n      <!-- 1500 -->\n      <g transform=\"translate(7.2 159.09269) scale(0.1 -0.1)\">\n       <use xlink:href=\"#DejaVuSans-31\"/>\n       <use xlink:href=\"#DejaVuSans-35\" transform=\"translate(63.623047 0)\"/>\n       <use xlink:href=\"#DejaVuSans-30\" transform=\"translate(127.246094 0)\"/>\n       <use xlink:href=\"#DejaVuSans-30\" transform=\"translate(190.869141 0)\"/>\n      </g>\n     </g>\n    </g>\n    <g id=\"ytick_6\">\n     <g id=\"line2d_18\">\n      <path d=\"M 36.15 127.306545 \nL 489.6 127.306545 \n\" clip-path=\"url(#p131e1c9c08)\" style=\"fill: none; stroke: #ffffff; stroke-width: 2; stroke-linecap: square\"/>\n     </g>\n     <g id=\"line2d_19\"/>\n     <g id=\"text_13\">\n      <!-- 1750 -->\n      <g transform=\"translate(7.2 131.105764) scale(0.1 -0.1)\">\n       <use xlink:href=\"#DejaVuSans-31\"/>\n       <use xlink:href=\"#DejaVuSans-37\" transform=\"translate(63.623047 0)\"/>\n       <use xlink:href=\"#DejaVuSans-35\" transform=\"translate(127.246094 0)\"/>\n       <use xlink:href=\"#DejaVuSans-30\" transform=\"translate(190.869141 0)\"/>\n      </g>\n     </g>\n    </g>\n    <g id=\"ytick_7\">\n     <g id=\"line2d_20\">\n      <path d=\"M 36.15 99.31962 \nL 489.6 99.31962 \n\" clip-path=\"url(#p131e1c9c08)\" style=\"fill: none; stroke: #ffffff; stroke-width: 2; stroke-linecap: square\"/>\n     </g>\n     <g id=\"line2d_21\"/>\n     <g id=\"text_14\">\n      <!-- 2000 -->\n      <g transform=\"translate(7.2 103.118838) scale(0.1 -0.1)\">\n       <use xlink:href=\"#DejaVuSans-32\"/>\n       <use xlink:href=\"#DejaVuSans-30\" transform=\"translate(63.623047 0)\"/>\n       <use xlink:href=\"#DejaVuSans-30\" transform=\"translate(127.246094 0)\"/>\n       <use xlink:href=\"#DejaVuSans-30\" transform=\"translate(190.869141 0)\"/>\n      </g>\n     </g>\n    </g>\n    <g id=\"ytick_8\">\n     <g id=\"line2d_22\">\n      <path d=\"M 36.15 71.332694 \nL 489.6 71.332694 \n\" clip-path=\"url(#p131e1c9c08)\" style=\"fill: none; stroke: #ffffff; stroke-width: 2; stroke-linecap: square\"/>\n     </g>\n     <g id=\"line2d_23\"/>\n     <g id=\"text_15\">\n      <!-- 2250 -->\n      <g transform=\"translate(7.2 75.131913) scale(0.1 -0.1)\">\n       <use xlink:href=\"#DejaVuSans-32\"/>\n       <use xlink:href=\"#DejaVuSans-32\" transform=\"translate(63.623047 0)\"/>\n       <use xlink:href=\"#DejaVuSans-35\" transform=\"translate(127.246094 0)\"/>\n       <use xlink:href=\"#DejaVuSans-30\" transform=\"translate(190.869141 0)\"/>\n      </g>\n     </g>\n    </g>\n    <g id=\"ytick_9\">\n     <g id=\"line2d_24\">\n      <path d=\"M 36.15 43.345768 \nL 489.6 43.345768 \n\" clip-path=\"url(#p131e1c9c08)\" style=\"fill: none; stroke: #ffffff; stroke-width: 2; stroke-linecap: square\"/>\n     </g>\n     <g id=\"line2d_25\"/>\n     <g id=\"text_16\">\n      <!-- 2500 -->\n      <g transform=\"translate(7.2 47.144987) scale(0.1 -0.1)\">\n       <use xlink:href=\"#DejaVuSans-32\"/>\n       <use xlink:href=\"#DejaVuSans-35\" transform=\"translate(63.623047 0)\"/>\n       <use xlink:href=\"#DejaVuSans-30\" transform=\"translate(127.246094 0)\"/>\n       <use xlink:href=\"#DejaVuSans-30\" transform=\"translate(190.869141 0)\"/>\n      </g>\n     </g>\n    </g>\n   </g>\n   <g id=\"line2d_26\">\n    <path d=\"M 56.761364 137.717682 \nL 57.28751 136.598205 \nL 57.762739 141.859747 \nL 58.288886 145.218178 \nL 58.79806 155.517366 \nL 59.324206 154.957628 \nL 59.83338 150.031929 \nL 60.359527 163.12981 \nL 60.885673 150.815563 \nL 61.394847 171.525888 \nL 61.920994 164.697078 \nL 62.430168 143.986753 \nL 62.956314 159.771379 \nL 63.48246 154.957628 \nL 63.974662 199.065023 \nL 64.500808 178.914436 \nL 65.009982 180.929495 \nL 65.536129 183.61624 \nL 66.045303 189.213625 \nL 66.571449 172.757313 \nL 67.097596 200.408395 \nL 67.60677 183.728187 \nL 68.132916 183.728187 \nL 68.64209 204.214617 \nL 69.168237 190.780893 \nL 69.694383 185.967141 \nL 70.169612 176.339639 \nL 70.695759 192.684004 \nL 71.204933 185.743246 \nL 71.731079 168.5033 \nL 72.240253 173.764842 \nL 72.7664 176.339639 \nL 73.292546 163.241758 \nL 73.80172 164.809026 \nL 74.327867 168.167457 \nL 74.837041 170.406411 \nL 75.363187 170.854202 \nL 75.889334 180.145861 \nL 76.364563 161.67449 \nL 76.890709 152.606726 \nL 77.399883 157.196582 \nL 77.92603 166.04045 \nL 78.435204 160.890856 \nL 78.96135 153.39036 \nL 79.487497 174.996267 \nL 79.996671 151.599197 \nL 80.522817 141.635851 \nL 81.031991 148.128818 \nL 81.558138 183.952083 \nL 82.084284 160.21917 \nL 82.559513 151.487249 \nL 83.08566 134.135355 \nL 84.12098 145.442073 \nL 85.156301 139.73274 \nL 85.682447 125.851225 \nL 86.191621 124.060062 \nL 87.226941 156.301 \nL 87.753088 143.762858 \nL 88.279234 119.470206 \nL 88.771436 153.39036 \nL 89.297582 161.114751 \nL 89.806756 158.987745 \nL 90.332903 149.696086 \nL 90.842077 148.352713 \nL 91.368223 147.569079 \nL 91.89437 160.331118 \nL 92.403544 152.606726 \nL 92.92969 156.860739 \nL 93.438864 157.084634 \nL 93.965011 170.854202 \nL 94.491157 162.793967 \nL 94.966386 163.913444 \nL 95.492533 162.234229 \nL 96.001707 157.75632 \nL 96.527853 156.636843 \nL 97.037027 152.046988 \nL 97.563174 162.905915 \nL 98.08932 157.30853 \nL 98.598494 160.666961 \nL 99.124641 159.771379 \nL 99.633815 137.829629 \nL 100.159961 169.846672 \nL 100.686108 168.951091 \nL 101.161337 167.159927 \nL 101.687483 171.861731 \nL 103.231978 201.63982 \nL 103.758124 197.945546 \nL 104.284271 206.117728 \nL 104.793445 228.843112 \nL 105.319591 215.633283 \nL 105.828765 212.386799 \nL 106.354912 203.766826 \nL 106.881058 197.497755 \nL 107.356287 204.998251 \nL 107.882434 201.080081 \nL 108.391608 177.235221 \nL 108.917754 183.504292 \nL 109.426928 170.518359 \nL 109.953074 165.704607 \nL 110.479221 164.137339 \nL 110.988395 156.301 \nL 111.514541 151.039458 \nL 112.023715 176.78743 \nL 112.549862 168.727195 \nL 113.076008 153.054517 \nL 113.56821 159.099693 \nL 114.094356 149.248295 \nL 114.60353 165.59266 \nL 115.129677 165.928503 \nL 115.638851 153.950099 \nL 116.164997 155.853209 \nL 116.691144 149.0244 \nL 117.200318 147.569079 \nL 117.726464 140.74027 \nL 118.235638 149.919981 \nL 118.761785 125.179539 \nL 119.287931 132.344192 \nL 119.76316 148.464661 \nL 120.289307 152.606726 \nL 120.798481 146.001812 \nL 121.324627 152.158935 \nL 121.833801 170.070568 \nL 122.359948 171.190045 \nL 122.886094 154.509837 \nL 123.921415 185.631298 \nL 124.430589 174.660424 \nL 124.956735 201.751768 \nL 125.482882 177.123273 \nL 125.958111 175.556005 \nL 126.484257 181.713129 \nL 126.993431 178.802489 \nL 127.519578 168.167457 \nL 128.028752 153.39036 \nL 128.554898 166.600189 \nL 129.081045 151.487249 \nL 129.590219 146.337655 \nL 130.116365 138.837159 \nL 130.625539 111.298024 \nL 131.151685 118.574624 \nL 131.677832 128.314075 \nL 132.153061 109.394913 \nL 133.188381 93.834182 \nL 133.714528 96.408979 \nL 134.223702 90.02796 \nL 134.749848 81.631883 \nL 135.275995 94.729764 \nL 135.785169 84.990314 \nL 136.311315 78.945138 \nL 136.820489 66.295047 \nL 137.346636 44.017454 \nL 137.872782 55.660016 \nL 138.364984 61.929087 \nL 138.89113 71.444642 \nL 139.400304 74.579177 \nL 139.926451 70.884903 \nL 140.435625 71.108799 \nL 140.961771 56.555597 \nL 141.487918 45.472775 \nL 141.997092 45.024984 \nL 143.032412 58.34676 \nL 143.558559 45.472775 \nL 144.084705 66.966734 \nL 144.559934 58.458708 \nL 145.086081 89.916013 \nL 145.595255 69.541531 \nL 146.121401 91.819124 \nL 146.630575 85.550052 \nL 147.156722 93.610287 \nL 148.192042 135.478728 \nL 148.718189 130.217186 \nL 149.227363 152.382831 \nL 149.753509 160.778908 \nL 150.279655 127.08265 \nL 150.754885 149.136347 \nL 151.281031 143.315067 \nL 151.790205 163.577601 \nL 152.316352 153.838151 \nL 153.351672 195.370749 \nL 153.877818 194.475167 \nL 154.386992 203.430983 \nL 155.422313 214.066015 \nL 155.948459 207.684996 \nL 156.474606 222.014302 \nL 156.949835 212.050956 \nL 157.475981 210.707584 \nL 157.985155 197.72165 \nL 158.511302 201.527872 \nL 159.020476 185.967141 \nL 159.546622 182.16092 \nL 160.072769 181.713129 \nL 160.581943 172.757313 \nL 161.108089 170.966149 \nL 161.617263 175.33211 \nL 162.14341 170.182515 \nL 162.669556 151.039458 \nL 163.161758 164.137339 \nL 163.687904 167.04798 \nL 164.197078 159.883327 \nL 164.723225 155.853209 \nL 165.232399 166.376294 \nL 166.284692 130.664976 \nL 166.793866 140.852217 \nL 167.320012 139.508845 \nL 167.829186 121.261369 \nL 168.355333 152.270883 \nL 168.881479 105.700639 \nL 169.356708 92.266914 \nL 169.882855 111.409971 \nL 170.392029 102.566103 \nL 170.918175 111.298024 \nL 171.427349 92.826653 \nL 171.953496 97.080666 \nL 172.479642 105.028952 \nL 172.988816 94.617816 \nL 173.514962 94.617816 \nL 174.024136 83.423046 \nL 174.550283 130.888872 \nL 175.076429 128.649918 \nL 175.551659 95.737293 \nL 176.077805 77.265922 \nL 176.586979 90.923542 \nL 177.113125 91.48328 \nL 177.622299 89.020431 \nL 178.148446 99.76741 \nL 178.674592 102.678051 \nL 179.183766 101.446626 \nL 179.709913 88.796536 \nL 180.219087 94.393921 \nL 180.745233 140.74027 \nL 181.27138 153.054517 \nL 181.746609 116.447618 \nL 182.272755 127.530441 \nL 182.781929 113.201135 \nL 183.308076 109.05907 \nL 183.81725 126.187068 \nL 184.343396 124.17201 \nL 184.869543 118.126834 \nL 185.904863 152.606726 \nL 186.414037 155.517366 \nL 186.940184 173.093156 \nL 187.46633 172.085626 \nL 187.958532 206.00578 \nL 188.484678 205.557989 \nL 188.993852 219.439505 \nL 189.519999 189.325573 \nL 190.029173 181.15339 \nL 190.555319 162.458124 \nL 191.081466 158.539954 \nL 191.59064 152.718674 \nL 192.116786 154.173994 \nL 192.62596 157.30853 \nL 193.152107 150.031929 \nL 193.678253 183.728187 \nL 194.679629 170.966149 \nL 195.188803 195.594644 \nL 195.714949 206.229676 \nL 196.224123 206.677466 \nL 196.750269 217.984184 \nL 197.276416 221.230668 \nL 198.311736 229.514798 \nL 198.82091 221.342616 \nL 199.347057 228.843112 \nL 199.873203 226.268314 \nL 200.348432 218.991714 \nL 200.874579 220.558982 \nL 201.383753 208.46863 \nL 201.909899 222.238197 \nL 202.419073 192.684004 \nL 202.94522 206.117728 \nL 203.471366 195.146853 \nL 203.98054 191.90037 \nL 204.506687 169.622777 \nL 205.015861 177.347168 \nL 205.542007 145.665969 \nL 206.068154 133.015878 \nL 206.543383 143.427014 \nL 207.069529 158.428007 \nL 207.578703 124.395905 \nL 208.10485 129.209656 \nL 208.614024 123.388376 \nL 209.14017 109.394913 \nL 209.666317 131.784453 \nL 210.175491 131.224715 \nL 210.701637 123.388376 \nL 211.210811 134.247303 \nL 211.736958 110.850233 \nL 212.263104 70.213217 \nL 212.755306 137.045995 \nL 213.281452 115.999827 \nL 213.790626 124.6198 \nL 214.316773 116.895409 \nL 214.825947 129.321604 \nL 215.352093 145.665969 \nL 215.87824 133.127826 \nL 216.387414 145.218178 \nL 216.91356 134.135355 \nL 217.422734 142.755328 \nL 217.94888 131.672506 \nL 218.475027 140.516374 \nL 218.950256 121.70916 \nL 219.476402 119.358258 \nL 219.985576 135.142884 \nL 220.511723 135.590675 \nL 221.020897 134.695094 \nL 221.547043 128.090179 \nL 222.07319 135.590675 \nL 222.582364 117.902938 \nL 223.10851 133.127826 \nL 223.617684 105.812586 \nL 224.143831 102.454155 \nL 224.669977 116.33567 \nL 225.145206 113.201135 \nL 225.671353 106.820116 \nL 226.180527 115.663984 \nL 226.706673 116.447618 \nL 227.215847 123.724219 \nL 227.741994 120.925526 \nL 228.26814 134.359251 \nL 228.777314 135.030937 \nL 229.303461 141.523904 \nL 229.812635 118.014886 \nL 230.338781 124.6198 \nL 230.864928 123.500323 \nL 231.340157 129.99329 \nL 231.866303 142.531433 \nL 232.375477 140.964165 \nL 232.901624 144.770387 \nL 233.410798 146.897393 \nL 233.936944 143.538962 \nL 234.463091 133.463669 \nL 234.972265 153.614255 \nL 235.498411 137.829629 \nL 236.007585 166.488241 \nL 236.533732 180.929495 \nL 237.059878 158.316059 \nL 237.55208 151.711144 \nL 238.078226 147.121289 \nL 238.5874 164.137339 \nL 239.113547 157.75632 \nL 239.622721 158.987745 \nL 240.148867 156.077105 \nL 240.675013 156.189053 \nL 241.184187 152.830621 \nL 241.710334 147.569079 \nL 242.219508 148.240766 \nL 242.745654 141.747799 \nL 243.271801 163.689549 \nL 243.74703 164.025392 \nL 244.273176 173.317051 \nL 244.78235 174.212633 \nL 245.308497 166.824084 \nL 245.817671 163.465653 \nL 246.343817 174.100685 \nL 246.869964 180.033913 \nL 247.379138 165.368764 \nL 247.905284 171.973679 \nL 248.414458 183.168449 \nL 248.940605 149.584138 \nL 249.466751 162.346176 \nL 249.94198 178.914436 \nL 250.977301 187.534409 \nL 251.503447 191.452579 \nL 252.012621 192.124265 \nL 252.538768 198.393336 \nL 253.064914 198.953075 \nL 253.574088 209.700054 \nL 254.100235 195.034905 \nL 255.135555 233.880758 \nL 255.661702 215.185492 \nL 256.136931 220.111191 \nL 256.663077 211.155375 \nL 257.172251 211.715113 \nL 257.698398 207.237205 \nL 258.207572 204.214617 \nL 258.733718 205.781885 \nL 259.259865 209.588107 \nL 259.769039 202.423454 \nL 260.295185 199.736709 \nL 260.804359 202.423454 \nL 261.330506 191.564527 \nL 261.856652 183.280397 \nL 262.348854 178.018855 \nL 262.875 200.1845 \nL 263.384174 187.310514 \nL 263.91032 195.034905 \nL 264.419494 195.706592 \nL 264.945641 185.967141 \nL 265.471787 190.44505 \nL 265.980961 183.952083 \nL 266.507108 187.310514 \nL 267.016282 185.855194 \nL 267.542428 187.758305 \nL 268.068575 187.758305 \nL 268.543804 201.975663 \nL 269.06995 182.384815 \nL 269.579124 182.16092 \nL 270.105271 179.921966 \nL 270.614445 182.832606 \nL 272.175912 167.383823 \nL 272.702058 169.174986 \nL 273.211232 151.599197 \nL 273.737379 180.817547 \nL 274.263525 173.540946 \nL 274.738754 148.128818 \nL 275.264901 159.211641 \nL 275.774075 152.382831 \nL 276.300221 165.480712 \nL 276.809395 162.122281 \nL 277.335542 160.890856 \nL 277.861688 158.204111 \nL 278.370862 160.890856 \nL 278.897009 154.062046 \nL 279.932329 165.704607 \nL 280.933705 183.392344 \nL 281.459851 181.377286 \nL 281.969025 176.115744 \nL 282.495172 179.810018 \nL 283.004346 159.659431 \nL 284.056639 169.95862 \nL 284.565813 169.95862 \nL 285.091959 160.666961 \nL 285.601133 163.017862 \nL 286.127279 158.987745 \nL 286.653426 156.301 \nL 287.145627 163.801496 \nL 287.671774 153.502308 \nL 288.180948 154.84568 \nL 288.707094 158.987745 \nL 289.216268 158.428007 \nL 289.742415 148.912452 \nL 290.777735 167.383823 \nL 291.303882 156.524896 \nL 291.813056 169.846672 \nL 292.339202 171.525888 \nL 292.865349 156.860739 \nL 293.340578 160.107222 \nL 293.866724 156.189053 \nL 294.375898 161.786438 \nL 294.902045 155.965157 \nL 295.937365 167.607718 \nL 296.463512 150.143877 \nL 296.972686 153.054517 \nL 297.498832 154.173994 \nL 298.008006 147.904923 \nL 298.534153 152.494778 \nL 299.060299 145.889864 \nL 299.535528 147.792975 \nL 300.061675 150.815563 \nL 300.570849 151.263354 \nL 301.096995 139.508845 \nL 301.606169 133.127826 \nL 302.132316 142.531433 \nL 302.658462 146.113759 \nL 303.167636 131.224715 \nL 303.693783 137.381839 \nL 304.202957 122.604742 \nL 304.729103 127.530441 \nL 305.25525 136.262361 \nL 305.730479 131.784453 \nL 306.256625 149.360243 \nL 306.765799 142.867276 \nL 307.291946 148.688556 \nL 307.80112 136.374309 \nL 308.327266 138.725211 \nL 308.853412 140.180531 \nL 309.362586 143.203119 \nL 309.888733 138.725211 \nL 310.397907 132.008349 \nL 310.924053 140.068583 \nL 311.4502 128.761865 \nL 311.942401 143.65091 \nL 312.468548 141.18806 \nL 312.977722 146.897393 \nL 313.503868 148.688556 \nL 314.013042 159.435536 \nL 314.539189 150.703615 \nL 315.065335 154.509837 \nL 315.574509 149.808034 \nL 316.100656 149.584138 \nL 316.60983 151.711144 \nL 317.135976 144.098701 \nL 317.662123 141.300008 \nL 318.137352 145.218178 \nL 318.663498 138.613263 \nL 319.172672 143.538962 \nL 320.207993 136.262361 \nL 320.734139 147.792975 \nL 321.260286 148.352713 \nL 321.76946 150.815563 \nL 322.295606 143.874805 \nL 322.80478 147.681027 \nL 323.857073 118.462677 \nL 324.332302 139.396897 \nL 324.858449 144.994282 \nL 325.367623 125.739277 \nL 325.893769 131.000819 \nL 326.402943 137.941577 \nL 326.92909 140.404426 \nL 327.455236 121.261369 \nL 327.96441 138.725211 \nL 328.490557 126.970702 \nL 328.999731 123.052533 \nL 329.525877 115.775932 \nL 330.052023 140.852217 \nL 330.527253 129.99329 \nL 331.053399 139.284949 \nL 332.088719 114.208664 \nL 332.597893 110.850233 \nL 333.12404 118.014886 \nL 333.650186 106.148429 \nL 334.15936 103.013894 \nL 334.685507 90.02796 \nL 335.194681 92.938601 \nL 335.720827 109.282965 \nL 336.246974 116.559566 \nL 336.739175 99.543515 \nL 337.265322 98.983776 \nL 337.774496 101.446626 \nL 338.300642 118.574624 \nL 338.809816 99.095724 \nL 339.335963 96.632875 \nL 339.862109 109.954651 \nL 340.371283 91.259385 \nL 340.89743 123.724219 \nL 341.406604 94.617816 \nL 341.93275 83.19915 \nL 342.458897 76.146445 \nL 342.934126 114.544507 \nL 343.460272 92.49081 \nL 343.969446 96.520927 \nL 344.495593 91.707176 \nL 345.004767 93.274444 \nL 345.530913 88.684588 \nL 346.05706 82.415516 \nL 346.566234 92.043019 \nL 347.09238 82.863307 \nL 347.601554 99.991306 \nL 348.127701 68.757897 \nL 349.655223 119.358258 \nL 350.164397 105.812586 \nL 350.690543 121.485265 \nL 351.199717 128.761865 \nL 351.725864 138.501316 \nL 352.25201 130.664976 \nL 352.761184 156.301 \nL 353.796504 138.613263 \nL 354.322651 165.480712 \nL 354.848797 157.532425 \nL 355.324026 155.853209 \nL 355.850173 156.412948 \nL 356.359347 164.809026 \nL 356.885493 161.114751 \nL 357.394667 171.637836 \nL 357.920814 174.32458 \nL 358.44696 190.780893 \nL 358.956134 181.713129 \nL 359.482281 189.213625 \nL 359.991455 207.125257 \nL 360.517601 201.863715 \nL 361.043748 199.736709 \nL 361.535949 210.707584 \nL 362.062096 209.812002 \nL 362.57127 214.28991 \nL 363.097416 206.117728 \nL 363.60659 219.887295 \nL 364.132737 228.731164 \nL 364.658883 231.417909 \nL 365.168057 236.23166 \nL 365.694204 250.225123 \nL 366.203378 260.524311 \nL 366.729524 268.360651 \nL 367.255671 258.061462 \nL 367.7309 266.681435 \nL 368.257046 269.704023 \nL 368.76622 262.763266 \nL 369.292367 257.725619 \nL 369.801541 256.71809 \nL 370.327687 257.613671 \nL 370.853834 257.725619 \nL 371.363008 263.434952 \nL 371.889154 257.389776 \nL 372.398328 258.17341 \nL 372.924474 254.479136 \nL 373.450621 255.598613 \nL 373.92585 252.016286 \nL 374.451996 246.306953 \nL 374.96117 257.949514 \nL 375.487317 263.211056 \nL 375.996491 262.091579 \nL 376.522637 256.158351 \nL 377.048784 256.71809 \nL 377.557958 262.427422 \nL 378.084104 262.203527 \nL 378.593278 262.875213 \nL 379.119425 252.687972 \nL 379.645571 265.338063 \nL 380.1208 256.046403 \nL 380.646947 261.195998 \nL 381.156121 260.412364 \nL 381.682267 255.150822 \nL 382.191441 253.471606 \nL 382.717588 257.725619 \nL 383.243734 250.449018 \nL 383.752908 254.926926 \nL 384.279055 243.620208 \nL 384.788229 245.523319 \nL 385.314375 242.276836 \nL 385.840522 244.403842 \nL 386.332723 245.411372 \nL 386.85887 238.918405 \nL 387.368044 243.956051 \nL 387.89419 238.470614 \nL 388.403364 240.373725 \nL 388.929511 238.806457 \nL 389.455657 228.395321 \nL 389.964831 220.782877 \nL 390.490978 229.962589 \nL 391.000152 213.954067 \nL 391.526298 223.805465 \nL 392.052445 215.521335 \nL 392.527674 210.147845 \nL 393.05382 229.738693 \nL 393.562994 219.103661 \nL 394.089141 229.290902 \nL 395.124461 220.558982 \nL 395.650607 228.059478 \nL 396.159781 219.6634 \nL 396.685928 200.072552 \nL 397.721248 223.805465 \nL 398.247395 217.536394 \nL 398.722624 214.625753 \nL 399.24877 206.453571 \nL 399.757944 210.483688 \nL 400.284091 221.230668 \nL 400.793265 201.751768 \nL 401.319411 213.058486 \nL 401.845558 208.692525 \nL 402.354732 202.983192 \nL 402.880878 211.155375 \nL 403.390052 203.09514 \nL 403.916199 201.751768 \nL 404.442345 224.02936 \nL 404.917574 215.74523 \nL 405.443721 189.997259 \nL 405.952895 202.423454 \nL 406.479041 188.318043 \nL 406.988215 194.922958 \nL 407.514362 196.714121 \nL 408.040508 186.191037 \nL 408.549682 204.774356 \nL 409.075829 192.012317 \nL 409.585003 194.922958 \nL 410.111149 200.968134 \nL 410.637296 186.079089 \nL 411.129497 198.841127 \nL 411.655644 193.019847 \nL 412.164818 194.699062 \nL 412.690964 188.541939 \nL 413.200138 184.511821 \nL 413.726285 192.124265 \nL 414.252431 203.654879 \nL 414.761605 176.227691 \nL 415.287752 195.594644 \nL 415.796926 183.056501 \nL 416.323072 189.997259 \nL 416.849218 180.929495 \nL 417.324448 189.997259 \nL 417.850594 194.922958 \nL 418.359768 193.691533 \nL 418.885914 183.392344 \nL 419.921235 193.467638 \nL 420.447381 191.004788 \nL 420.956555 182.496763 \nL 421.482702 180.705599 \nL 421.991876 191.452579 \nL 422.518022 177.794959 \nL 423.044169 180.257809 \nL 423.519398 175.667953 \nL 424.045544 180.369756 \nL 424.554718 171.301992 \nL 425.080865 189.773363 \nL 425.590039 187.9822 \nL 426.116185 179.026384 \nL 427.677652 191.004788 \nL 428.186826 200.632291 \nL 428.712973 185.967141 \nL 429.239119 197.72165 \nL 430.240495 180.817547 \nL 430.749669 178.466645 \nL 431.275815 184.064031 \nL 431.784989 184.399874 \nL 432.311136 169.286934 \nL 432.837282 176.451587 \nL 433.346456 174.884319 \nL 433.872603 171.749783 \nL 434.381777 149.919981 \nL 434.907923 146.225707 \nL 435.43407 149.808034 \nL 436.452418 218.431975 \nL 436.961592 206.901362 \nL 437.996912 152.382831 \nL 438.523059 166.936032 \nL 439.558379 150.47972 \nL 440.084525 150.47972 \nL 440.593699 142.531433 \nL 441.119846 140.74027 \nL 441.645992 166.04045 \nL 442.121221 133.351721 \nL 442.647368 155.853209 \nL 443.156542 145.330125 \nL 443.682688 138.501316 \nL 444.191862 144.434544 \nL 444.718009 144.770387 \nL 445.244155 146.673498 \nL 445.753329 146.449602 \nL 446.279476 132.344192 \nL 446.78865 130.441081 \nL 447.314796 132.680035 \nL 447.840943 128.985761 \nL 448.316172 131.560558 \nL 448.842318 119.470206 \nL 449.351492 151.823092 \nL 449.877639 149.584138 \nL 450.386813 168.615248 \nL 450.912959 151.823092 \nL 451.439106 156.636843 \nL 451.94828 162.570072 \nL 452.474426 163.801496 \nL 452.9836 176.78743 \nL 453.509747 170.854202 \nL 454.035893 166.600189 \nL 455.037269 171.637836 \nL 455.546443 145.889864 \nL 456.072589 164.137339 \nL 456.581763 159.771379 \nL 457.10791 175.779901 \nL 457.634056 169.734725 \nL 458.14323 170.070568 \nL 458.669377 153.726203 \nL 459.178551 152.942569 \nL 459.704697 168.615248 \nL 460.230844 149.47219 \nL 460.723045 176.339639 \nL 461.249192 168.167457 \nL 461.758366 175.891848 \nL 462.284512 174.660424 \nL 462.793686 181.601181 \nL 463.319832 167.495771 \nL 463.845979 171.301992 \nL 464.355153 171.861731 \nL 464.881299 178.24275 \nL 465.390473 153.726203 \nL 465.91662 171.190045 \nL 466.442766 156.412948 \nL 466.917995 171.525888 \nL 467.444142 166.712137 \nL 467.953316 179.69807 \nL 468.988636 163.353706 \nL 468.988636 163.353706 \n\" clip-path=\"url(#p131e1c9c08)\" style=\"fill: none; stroke: #36454f; stroke-width: 1.5; stroke-linecap: square\"/>\n   </g>\n   <g id=\"patch_3\">\n    <path d=\"M 36.15 280.988352 \nL 489.6 280.988352 \n\" style=\"fill: none; stroke: #000000; stroke-width: 0.8; stroke-linejoin: miter; stroke-linecap: square\"/>\n   </g>\n   <g id=\"text_17\">\n    <!-- Annualized Housing Units Started (Private) -->\n    <g transform=\"translate(36.15 17.837812) scale(0.14 -0.14)\">\n     <defs>\n      <path id=\"DejaVuSans-41\" d=\"M 2188 4044 \nL 1331 1722 \nL 3047 1722 \nL 2188 4044 \nz\nM 1831 4666 \nL 2547 4666 \nL 4325 0 \nL 3669 0 \nL 3244 1197 \nL 1141 1197 \nL 716 0 \nL 50 0 \nL 1831 4666 \nz\n\" transform=\"scale(0.015625)\"/>\n      <path id=\"DejaVuSans-6e\" d=\"M 3513 2113 \nL 3513 0 \nL 2938 0 \nL 2938 2094 \nQ 2938 2591 2744 2837 \nQ 2550 3084 2163 3084 \nQ 1697 3084 1428 2787 \nQ 1159 2491 1159 1978 \nL 1159 0 \nL 581 0 \nL 581 3500 \nL 1159 3500 \nL 1159 2956 \nQ 1366 3272 1645 3428 \nQ 1925 3584 2291 3584 \nQ 2894 3584 3203 3211 \nQ 3513 2838 3513 2113 \nz\n\" transform=\"scale(0.015625)\"/>\n      <path id=\"DejaVuSans-75\" d=\"M 544 1381 \nL 544 3500 \nL 1119 3500 \nL 1119 1403 \nQ 1119 906 1312 657 \nQ 1506 409 1894 409 \nQ 2359 409 2629 706 \nQ 2900 1003 2900 1516 \nL 2900 3500 \nL 3475 3500 \nL 3475 0 \nL 2900 0 \nL 2900 538 \nQ 2691 219 2414 64 \nQ 2138 -91 1772 -91 \nQ 1169 -91 856 284 \nQ 544 659 544 1381 \nz\nM 1991 3584 \nL 1991 3584 \nz\n\" transform=\"scale(0.015625)\"/>\n      <path id=\"DejaVuSans-61\" d=\"M 2194 1759 \nQ 1497 1759 1228 1600 \nQ 959 1441 959 1056 \nQ 959 750 1161 570 \nQ 1363 391 1709 391 \nQ 2188 391 2477 730 \nQ 2766 1069 2766 1631 \nL 2766 1759 \nL 2194 1759 \nz\nM 3341 1997 \nL 3341 0 \nL 2766 0 \nL 2766 531 \nQ 2569 213 2275 61 \nQ 1981 -91 1556 -91 \nQ 1019 -91 701 211 \nQ 384 513 384 1019 \nQ 384 1609 779 1909 \nQ 1175 2209 1959 2209 \nL 2766 2209 \nL 2766 2266 \nQ 2766 2663 2505 2880 \nQ 2244 3097 1772 3097 \nQ 1472 3097 1187 3025 \nQ 903 2953 641 2809 \nL 641 3341 \nQ 956 3463 1253 3523 \nQ 1550 3584 1831 3584 \nQ 2591 3584 2966 3190 \nQ 3341 2797 3341 1997 \nz\n\" transform=\"scale(0.015625)\"/>\n      <path id=\"DejaVuSans-6c\" d=\"M 603 4863 \nL 1178 4863 \nL 1178 0 \nL 603 0 \nL 603 4863 \nz\n\" transform=\"scale(0.015625)\"/>\n      <path id=\"DejaVuSans-69\" d=\"M 603 3500 \nL 1178 3500 \nL 1178 0 \nL 603 0 \nL 603 3500 \nz\nM 603 4863 \nL 1178 4863 \nL 1178 4134 \nL 603 4134 \nL 603 4863 \nz\n\" transform=\"scale(0.015625)\"/>\n      <path id=\"DejaVuSans-7a\" d=\"M 353 3500 \nL 3084 3500 \nL 3084 2975 \nL 922 459 \nL 3084 459 \nL 3084 0 \nL 275 0 \nL 275 525 \nL 2438 3041 \nL 353 3041 \nL 353 3500 \nz\n\" transform=\"scale(0.015625)\"/>\n      <path id=\"DejaVuSans-65\" d=\"M 3597 1894 \nL 3597 1613 \nL 953 1613 \nQ 991 1019 1311 708 \nQ 1631 397 2203 397 \nQ 2534 397 2845 478 \nQ 3156 559 3463 722 \nL 3463 178 \nQ 3153 47 2828 -22 \nQ 2503 -91 2169 -91 \nQ 1331 -91 842 396 \nQ 353 884 353 1716 \nQ 353 2575 817 3079 \nQ 1281 3584 2069 3584 \nQ 2775 3584 3186 3129 \nQ 3597 2675 3597 1894 \nz\nM 3022 2063 \nQ 3016 2534 2758 2815 \nQ 2500 3097 2075 3097 \nQ 1594 3097 1305 2825 \nQ 1016 2553 972 2059 \nL 3022 2063 \nz\n\" transform=\"scale(0.015625)\"/>\n      <path id=\"DejaVuSans-64\" d=\"M 2906 2969 \nL 2906 4863 \nL 3481 4863 \nL 3481 0 \nL 2906 0 \nL 2906 525 \nQ 2725 213 2448 61 \nQ 2172 -91 1784 -91 \nQ 1150 -91 751 415 \nQ 353 922 353 1747 \nQ 353 2572 751 3078 \nQ 1150 3584 1784 3584 \nQ 2172 3584 2448 3432 \nQ 2725 3281 2906 2969 \nz\nM 947 1747 \nQ 947 1113 1208 752 \nQ 1469 391 1925 391 \nQ 2381 391 2643 752 \nQ 2906 1113 2906 1747 \nQ 2906 2381 2643 2742 \nQ 2381 3103 1925 3103 \nQ 1469 3103 1208 2742 \nQ 947 2381 947 1747 \nz\n\" transform=\"scale(0.015625)\"/>\n      <path id=\"DejaVuSans-20\" transform=\"scale(0.015625)\"/>\n      <path id=\"DejaVuSans-48\" d=\"M 628 4666 \nL 1259 4666 \nL 1259 2753 \nL 3553 2753 \nL 3553 4666 \nL 4184 4666 \nL 4184 0 \nL 3553 0 \nL 3553 2222 \nL 1259 2222 \nL 1259 0 \nL 628 0 \nL 628 4666 \nz\n\" transform=\"scale(0.015625)\"/>\n      <path id=\"DejaVuSans-6f\" d=\"M 1959 3097 \nQ 1497 3097 1228 2736 \nQ 959 2375 959 1747 \nQ 959 1119 1226 758 \nQ 1494 397 1959 397 \nQ 2419 397 2687 759 \nQ 2956 1122 2956 1747 \nQ 2956 2369 2687 2733 \nQ 2419 3097 1959 3097 \nz\nM 1959 3584 \nQ 2709 3584 3137 3096 \nQ 3566 2609 3566 1747 \nQ 3566 888 3137 398 \nQ 2709 -91 1959 -91 \nQ 1206 -91 779 398 \nQ 353 888 353 1747 \nQ 353 2609 779 3096 \nQ 1206 3584 1959 3584 \nz\n\" transform=\"scale(0.015625)\"/>\n      <path id=\"DejaVuSans-73\" d=\"M 2834 3397 \nL 2834 2853 \nQ 2591 2978 2328 3040 \nQ 2066 3103 1784 3103 \nQ 1356 3103 1142 2972 \nQ 928 2841 928 2578 \nQ 928 2378 1081 2264 \nQ 1234 2150 1697 2047 \nL 1894 2003 \nQ 2506 1872 2764 1633 \nQ 3022 1394 3022 966 \nQ 3022 478 2636 193 \nQ 2250 -91 1575 -91 \nQ 1294 -91 989 -36 \nQ 684 19 347 128 \nL 347 722 \nQ 666 556 975 473 \nQ 1284 391 1588 391 \nQ 1994 391 2212 530 \nQ 2431 669 2431 922 \nQ 2431 1156 2273 1281 \nQ 2116 1406 1581 1522 \nL 1381 1569 \nQ 847 1681 609 1914 \nQ 372 2147 372 2553 \nQ 372 3047 722 3315 \nQ 1072 3584 1716 3584 \nQ 2034 3584 2315 3537 \nQ 2597 3491 2834 3397 \nz\n\" transform=\"scale(0.015625)\"/>\n      <path id=\"DejaVuSans-67\" d=\"M 2906 1791 \nQ 2906 2416 2648 2759 \nQ 2391 3103 1925 3103 \nQ 1463 3103 1205 2759 \nQ 947 2416 947 1791 \nQ 947 1169 1205 825 \nQ 1463 481 1925 481 \nQ 2391 481 2648 825 \nQ 2906 1169 2906 1791 \nz\nM 3481 434 \nQ 3481 -459 3084 -895 \nQ 2688 -1331 1869 -1331 \nQ 1566 -1331 1297 -1286 \nQ 1028 -1241 775 -1147 \nL 775 -588 \nQ 1028 -725 1275 -790 \nQ 1522 -856 1778 -856 \nQ 2344 -856 2625 -561 \nQ 2906 -266 2906 331 \nL 2906 616 \nQ 2728 306 2450 153 \nQ 2172 0 1784 0 \nQ 1141 0 747 490 \nQ 353 981 353 1791 \nQ 353 2603 747 3093 \nQ 1141 3584 1784 3584 \nQ 2172 3584 2450 3431 \nQ 2728 3278 2906 2969 \nL 2906 3500 \nL 3481 3500 \nL 3481 434 \nz\n\" transform=\"scale(0.015625)\"/>\n      <path id=\"DejaVuSans-55\" d=\"M 556 4666 \nL 1191 4666 \nL 1191 1831 \nQ 1191 1081 1462 751 \nQ 1734 422 2344 422 \nQ 2950 422 3222 751 \nQ 3494 1081 3494 1831 \nL 3494 4666 \nL 4128 4666 \nL 4128 1753 \nQ 4128 841 3676 375 \nQ 3225 -91 2344 -91 \nQ 1459 -91 1007 375 \nQ 556 841 556 1753 \nL 556 4666 \nz\n\" transform=\"scale(0.015625)\"/>\n      <path id=\"DejaVuSans-74\" d=\"M 1172 4494 \nL 1172 3500 \nL 2356 3500 \nL 2356 3053 \nL 1172 3053 \nL 1172 1153 \nQ 1172 725 1289 603 \nQ 1406 481 1766 481 \nL 2356 481 \nL 2356 0 \nL 1766 0 \nQ 1100 0 847 248 \nQ 594 497 594 1153 \nL 594 3053 \nL 172 3053 \nL 172 3500 \nL 594 3500 \nL 594 4494 \nL 1172 4494 \nz\n\" transform=\"scale(0.015625)\"/>\n      <path id=\"DejaVuSans-53\" d=\"M 3425 4513 \nL 3425 3897 \nQ 3066 4069 2747 4153 \nQ 2428 4238 2131 4238 \nQ 1616 4238 1336 4038 \nQ 1056 3838 1056 3469 \nQ 1056 3159 1242 3001 \nQ 1428 2844 1947 2747 \nL 2328 2669 \nQ 3034 2534 3370 2195 \nQ 3706 1856 3706 1288 \nQ 3706 609 3251 259 \nQ 2797 -91 1919 -91 \nQ 1588 -91 1214 -16 \nQ 841 59 441 206 \nL 441 856 \nQ 825 641 1194 531 \nQ 1563 422 1919 422 \nQ 2459 422 2753 634 \nQ 3047 847 3047 1241 \nQ 3047 1584 2836 1778 \nQ 2625 1972 2144 2069 \nL 1759 2144 \nQ 1053 2284 737 2584 \nQ 422 2884 422 3419 \nQ 422 4038 858 4394 \nQ 1294 4750 2059 4750 \nQ 2388 4750 2728 4690 \nQ 3069 4631 3425 4513 \nz\n\" transform=\"scale(0.015625)\"/>\n      <path id=\"DejaVuSans-72\" d=\"M 2631 2963 \nQ 2534 3019 2420 3045 \nQ 2306 3072 2169 3072 \nQ 1681 3072 1420 2755 \nQ 1159 2438 1159 1844 \nL 1159 0 \nL 581 0 \nL 581 3500 \nL 1159 3500 \nL 1159 2956 \nQ 1341 3275 1631 3429 \nQ 1922 3584 2338 3584 \nQ 2397 3584 2469 3576 \nQ 2541 3569 2628 3553 \nL 2631 2963 \nz\n\" transform=\"scale(0.015625)\"/>\n      <path id=\"DejaVuSans-28\" d=\"M 1984 4856 \nQ 1566 4138 1362 3434 \nQ 1159 2731 1159 2009 \nQ 1159 1288 1364 580 \nQ 1569 -128 1984 -844 \nL 1484 -844 \nQ 1016 -109 783 600 \nQ 550 1309 550 2009 \nQ 550 2706 781 3412 \nQ 1013 4119 1484 4856 \nL 1984 4856 \nz\n\" transform=\"scale(0.015625)\"/>\n      <path id=\"DejaVuSans-50\" d=\"M 1259 4147 \nL 1259 2394 \nL 2053 2394 \nQ 2494 2394 2734 2622 \nQ 2975 2850 2975 3272 \nQ 2975 3691 2734 3919 \nQ 2494 4147 2053 4147 \nL 1259 4147 \nz\nM 628 4666 \nL 2053 4666 \nQ 2838 4666 3239 4311 \nQ 3641 3956 3641 3272 \nQ 3641 2581 3239 2228 \nQ 2838 1875 2053 1875 \nL 1259 1875 \nL 1259 0 \nL 628 0 \nL 628 4666 \nz\n\" transform=\"scale(0.015625)\"/>\n      <path id=\"DejaVuSans-76\" d=\"M 191 3500 \nL 800 3500 \nL 1894 563 \nL 2988 3500 \nL 3597 3500 \nL 2284 0 \nL 1503 0 \nL 191 3500 \nz\n\" transform=\"scale(0.015625)\"/>\n      <path id=\"DejaVuSans-29\" d=\"M 513 4856 \nL 1013 4856 \nQ 1481 4119 1714 3412 \nQ 1947 2706 1947 2009 \nQ 1947 1309 1714 600 \nQ 1481 -109 1013 -844 \nL 513 -844 \nQ 928 -128 1133 580 \nQ 1338 1288 1338 2009 \nQ 1338 2731 1133 3434 \nQ 928 4138 513 4856 \nz\n\" transform=\"scale(0.015625)\"/>\n     </defs>\n     <use xlink:href=\"#DejaVuSans-41\"/>\n     <use xlink:href=\"#DejaVuSans-6e\" transform=\"translate(68.408203 0)\"/>\n     <use xlink:href=\"#DejaVuSans-6e\" transform=\"translate(131.787109 0)\"/>\n     <use xlink:href=\"#DejaVuSans-75\" transform=\"translate(195.166016 0)\"/>\n     <use xlink:href=\"#DejaVuSans-61\" transform=\"translate(258.544922 0)\"/>\n     <use xlink:href=\"#DejaVuSans-6c\" transform=\"translate(319.824219 0)\"/>\n     <use xlink:href=\"#DejaVuSans-69\" transform=\"translate(347.607422 0)\"/>\n     <use xlink:href=\"#DejaVuSans-7a\" transform=\"translate(375.390625 0)\"/>\n     <use xlink:href=\"#DejaVuSans-65\" transform=\"translate(427.880859 0)\"/>\n     <use xlink:href=\"#DejaVuSans-64\" transform=\"translate(489.404297 0)\"/>\n     <use xlink:href=\"#DejaVuSans-20\" transform=\"translate(552.880859 0)\"/>\n     <use xlink:href=\"#DejaVuSans-48\" transform=\"translate(584.667969 0)\"/>\n     <use xlink:href=\"#DejaVuSans-6f\" transform=\"translate(659.863281 0)\"/>\n     <use xlink:href=\"#DejaVuSans-75\" transform=\"translate(721.044922 0)\"/>\n     <use xlink:href=\"#DejaVuSans-73\" transform=\"translate(784.423828 0)\"/>\n     <use xlink:href=\"#DejaVuSans-69\" transform=\"translate(836.523438 0)\"/>\n     <use xlink:href=\"#DejaVuSans-6e\" transform=\"translate(864.306641 0)\"/>\n     <use xlink:href=\"#DejaVuSans-67\" transform=\"translate(927.685547 0)\"/>\n     <use xlink:href=\"#DejaVuSans-20\" transform=\"translate(991.162109 0)\"/>\n     <use xlink:href=\"#DejaVuSans-55\" transform=\"translate(1022.949219 0)\"/>\n     <use xlink:href=\"#DejaVuSans-6e\" transform=\"translate(1096.142578 0)\"/>\n     <use xlink:href=\"#DejaVuSans-69\" transform=\"translate(1159.521484 0)\"/>\n     <use xlink:href=\"#DejaVuSans-74\" transform=\"translate(1187.304688 0)\"/>\n     <use xlink:href=\"#DejaVuSans-73\" transform=\"translate(1226.513672 0)\"/>\n     <use xlink:href=\"#DejaVuSans-20\" transform=\"translate(1278.613281 0)\"/>\n     <use xlink:href=\"#DejaVuSans-53\" transform=\"translate(1310.400391 0)\"/>\n     <use xlink:href=\"#DejaVuSans-74\" transform=\"translate(1373.876953 0)\"/>\n     <use xlink:href=\"#DejaVuSans-61\" transform=\"translate(1413.085938 0)\"/>\n     <use xlink:href=\"#DejaVuSans-72\" transform=\"translate(1474.365234 0)\"/>\n     <use xlink:href=\"#DejaVuSans-74\" transform=\"translate(1515.478516 0)\"/>\n     <use xlink:href=\"#DejaVuSans-65\" transform=\"translate(1554.6875 0)\"/>\n     <use xlink:href=\"#DejaVuSans-64\" transform=\"translate(1616.210938 0)\"/>\n     <use xlink:href=\"#DejaVuSans-20\" transform=\"translate(1679.6875 0)\"/>\n     <use xlink:href=\"#DejaVuSans-28\" transform=\"translate(1711.474609 0)\"/>\n     <use xlink:href=\"#DejaVuSans-50\" transform=\"translate(1750.488281 0)\"/>\n     <use xlink:href=\"#DejaVuSans-72\" transform=\"translate(1809.041016 0)\"/>\n     <use xlink:href=\"#DejaVuSans-69\" transform=\"translate(1850.154297 0)\"/>\n     <use xlink:href=\"#DejaVuSans-76\" transform=\"translate(1877.9375 0)\"/>\n     <use xlink:href=\"#DejaVuSans-61\" transform=\"translate(1937.117188 0)\"/>\n     <use xlink:href=\"#DejaVuSans-74\" transform=\"translate(1998.396484 0)\"/>\n     <use xlink:href=\"#DejaVuSans-65\" transform=\"translate(2037.605469 0)\"/>\n     <use xlink:href=\"#DejaVuSans-29\" transform=\"translate(2099.128906 0)\"/>\n    </g>\n   </g>\n   <g id=\"text_18\">\n    <!-- Thousands -->\n    <g transform=\"translate(36.15 30.250574) scale(0.08 -0.08)\">\n     <defs>\n      <path id=\"DejaVuSans-54\" d=\"M -19 4666 \nL 3928 4666 \nL 3928 4134 \nL 2272 4134 \nL 2272 0 \nL 1638 0 \nL 1638 4134 \nL -19 4134 \nL -19 4666 \nz\n\" transform=\"scale(0.015625)\"/>\n      <path id=\"DejaVuSans-68\" d=\"M 3513 2113 \nL 3513 0 \nL 2938 0 \nL 2938 2094 \nQ 2938 2591 2744 2837 \nQ 2550 3084 2163 3084 \nQ 1697 3084 1428 2787 \nQ 1159 2491 1159 1978 \nL 1159 0 \nL 581 0 \nL 581 4863 \nL 1159 4863 \nL 1159 2956 \nQ 1366 3272 1645 3428 \nQ 1925 3584 2291 3584 \nQ 2894 3584 3203 3211 \nQ 3513 2838 3513 2113 \nz\n\" transform=\"scale(0.015625)\"/>\n     </defs>\n     <use xlink:href=\"#DejaVuSans-54\"/>\n     <use xlink:href=\"#DejaVuSans-68\" transform=\"translate(61.083984 0)\"/>\n     <use xlink:href=\"#DejaVuSans-6f\" transform=\"translate(124.462891 0)\"/>\n     <use xlink:href=\"#DejaVuSans-75\" transform=\"translate(185.644531 0)\"/>\n     <use xlink:href=\"#DejaVuSans-73\" transform=\"translate(249.023438 0)\"/>\n     <use xlink:href=\"#DejaVuSans-61\" transform=\"translate(301.123047 0)\"/>\n     <use xlink:href=\"#DejaVuSans-6e\" transform=\"translate(362.402344 0)\"/>\n     <use xlink:href=\"#DejaVuSans-64\" transform=\"translate(425.78125 0)\"/>\n     <use xlink:href=\"#DejaVuSans-73\" transform=\"translate(489.257812 0)\"/>\n    </g>\n   </g>\n   <g id=\"text_19\">\n    <!-- Sources: U.S. Census Bureau; U.S. Department of Housing and Urban Development via FRED -->\n    <g transform=\"translate(36.15 308.021374) scale(0.08 -0.08)\">\n     <defs>\n      <path id=\"DejaVuSans-63\" d=\"M 3122 3366 \nL 3122 2828 \nQ 2878 2963 2633 3030 \nQ 2388 3097 2138 3097 \nQ 1578 3097 1268 2742 \nQ 959 2388 959 1747 \nQ 959 1106 1268 751 \nQ 1578 397 2138 397 \nQ 2388 397 2633 464 \nQ 2878 531 3122 666 \nL 3122 134 \nQ 2881 22 2623 -34 \nQ 2366 -91 2075 -91 \nQ 1284 -91 818 406 \nQ 353 903 353 1747 \nQ 353 2603 823 3093 \nQ 1294 3584 2113 3584 \nQ 2378 3584 2631 3529 \nQ 2884 3475 3122 3366 \nz\n\" transform=\"scale(0.015625)\"/>\n      <path id=\"DejaVuSans-3a\" d=\"M 750 794 \nL 1409 794 \nL 1409 0 \nL 750 0 \nL 750 794 \nz\nM 750 3309 \nL 1409 3309 \nL 1409 2516 \nL 750 2516 \nL 750 3309 \nz\n\" transform=\"scale(0.015625)\"/>\n      <path id=\"DejaVuSans-2e\" d=\"M 684 794 \nL 1344 794 \nL 1344 0 \nL 684 0 \nL 684 794 \nz\n\" transform=\"scale(0.015625)\"/>\n      <path id=\"DejaVuSans-43\" d=\"M 4122 4306 \nL 4122 3641 \nQ 3803 3938 3442 4084 \nQ 3081 4231 2675 4231 \nQ 1875 4231 1450 3742 \nQ 1025 3253 1025 2328 \nQ 1025 1406 1450 917 \nQ 1875 428 2675 428 \nQ 3081 428 3442 575 \nQ 3803 722 4122 1019 \nL 4122 359 \nQ 3791 134 3420 21 \nQ 3050 -91 2638 -91 \nQ 1578 -91 968 557 \nQ 359 1206 359 2328 \nQ 359 3453 968 4101 \nQ 1578 4750 2638 4750 \nQ 3056 4750 3426 4639 \nQ 3797 4528 4122 4306 \nz\n\" transform=\"scale(0.015625)\"/>\n      <path id=\"DejaVuSans-42\" d=\"M 1259 2228 \nL 1259 519 \nL 2272 519 \nQ 2781 519 3026 730 \nQ 3272 941 3272 1375 \nQ 3272 1813 3026 2020 \nQ 2781 2228 2272 2228 \nL 1259 2228 \nz\nM 1259 4147 \nL 1259 2741 \nL 2194 2741 \nQ 2656 2741 2882 2914 \nQ 3109 3088 3109 3444 \nQ 3109 3797 2882 3972 \nQ 2656 4147 2194 4147 \nL 1259 4147 \nz\nM 628 4666 \nL 2241 4666 \nQ 2963 4666 3353 4366 \nQ 3744 4066 3744 3513 \nQ 3744 3084 3544 2831 \nQ 3344 2578 2956 2516 \nQ 3422 2416 3680 2098 \nQ 3938 1781 3938 1306 \nQ 3938 681 3513 340 \nQ 3088 0 2303 0 \nL 628 0 \nL 628 4666 \nz\n\" transform=\"scale(0.015625)\"/>\n      <path id=\"DejaVuSans-3b\" d=\"M 750 3309 \nL 1409 3309 \nL 1409 2516 \nL 750 2516 \nL 750 3309 \nz\nM 750 794 \nL 1409 794 \nL 1409 256 \nL 897 -744 \nL 494 -744 \nL 750 256 \nL 750 794 \nz\n\" transform=\"scale(0.015625)\"/>\n      <path id=\"DejaVuSans-44\" d=\"M 1259 4147 \nL 1259 519 \nL 2022 519 \nQ 2988 519 3436 956 \nQ 3884 1394 3884 2338 \nQ 3884 3275 3436 3711 \nQ 2988 4147 2022 4147 \nL 1259 4147 \nz\nM 628 4666 \nL 1925 4666 \nQ 3281 4666 3915 4102 \nQ 4550 3538 4550 2338 \nQ 4550 1131 3912 565 \nQ 3275 0 1925 0 \nL 628 0 \nL 628 4666 \nz\n\" transform=\"scale(0.015625)\"/>\n      <path id=\"DejaVuSans-70\" d=\"M 1159 525 \nL 1159 -1331 \nL 581 -1331 \nL 581 3500 \nL 1159 3500 \nL 1159 2969 \nQ 1341 3281 1617 3432 \nQ 1894 3584 2278 3584 \nQ 2916 3584 3314 3078 \nQ 3713 2572 3713 1747 \nQ 3713 922 3314 415 \nQ 2916 -91 2278 -91 \nQ 1894 -91 1617 61 \nQ 1341 213 1159 525 \nz\nM 3116 1747 \nQ 3116 2381 2855 2742 \nQ 2594 3103 2138 3103 \nQ 1681 3103 1420 2742 \nQ 1159 2381 1159 1747 \nQ 1159 1113 1420 752 \nQ 1681 391 2138 391 \nQ 2594 391 2855 752 \nQ 3116 1113 3116 1747 \nz\n\" transform=\"scale(0.015625)\"/>\n      <path id=\"DejaVuSans-6d\" d=\"M 3328 2828 \nQ 3544 3216 3844 3400 \nQ 4144 3584 4550 3584 \nQ 5097 3584 5394 3201 \nQ 5691 2819 5691 2113 \nL 5691 0 \nL 5113 0 \nL 5113 2094 \nQ 5113 2597 4934 2840 \nQ 4756 3084 4391 3084 \nQ 3944 3084 3684 2787 \nQ 3425 2491 3425 1978 \nL 3425 0 \nL 2847 0 \nL 2847 2094 \nQ 2847 2600 2669 2842 \nQ 2491 3084 2119 3084 \nQ 1678 3084 1418 2786 \nQ 1159 2488 1159 1978 \nL 1159 0 \nL 581 0 \nL 581 3500 \nL 1159 3500 \nL 1159 2956 \nQ 1356 3278 1631 3431 \nQ 1906 3584 2284 3584 \nQ 2666 3584 2933 3390 \nQ 3200 3197 3328 2828 \nz\n\" transform=\"scale(0.015625)\"/>\n      <path id=\"DejaVuSans-66\" d=\"M 2375 4863 \nL 2375 4384 \nL 1825 4384 \nQ 1516 4384 1395 4259 \nQ 1275 4134 1275 3809 \nL 1275 3500 \nL 2222 3500 \nL 2222 3053 \nL 1275 3053 \nL 1275 0 \nL 697 0 \nL 697 3053 \nL 147 3053 \nL 147 3500 \nL 697 3500 \nL 697 3744 \nQ 697 4328 969 4595 \nQ 1241 4863 1831 4863 \nL 2375 4863 \nz\n\" transform=\"scale(0.015625)\"/>\n      <path id=\"DejaVuSans-62\" d=\"M 3116 1747 \nQ 3116 2381 2855 2742 \nQ 2594 3103 2138 3103 \nQ 1681 3103 1420 2742 \nQ 1159 2381 1159 1747 \nQ 1159 1113 1420 752 \nQ 1681 391 2138 391 \nQ 2594 391 2855 752 \nQ 3116 1113 3116 1747 \nz\nM 1159 2969 \nQ 1341 3281 1617 3432 \nQ 1894 3584 2278 3584 \nQ 2916 3584 3314 3078 \nQ 3713 2572 3713 1747 \nQ 3713 922 3314 415 \nQ 2916 -91 2278 -91 \nQ 1894 -91 1617 61 \nQ 1341 213 1159 525 \nL 1159 0 \nL 581 0 \nL 581 4863 \nL 1159 4863 \nL 1159 2969 \nz\n\" transform=\"scale(0.015625)\"/>\n      <path id=\"DejaVuSans-46\" d=\"M 628 4666 \nL 3309 4666 \nL 3309 4134 \nL 1259 4134 \nL 1259 2759 \nL 3109 2759 \nL 3109 2228 \nL 1259 2228 \nL 1259 0 \nL 628 0 \nL 628 4666 \nz\n\" transform=\"scale(0.015625)\"/>\n      <path id=\"DejaVuSans-52\" d=\"M 2841 2188 \nQ 3044 2119 3236 1894 \nQ 3428 1669 3622 1275 \nL 4263 0 \nL 3584 0 \nL 2988 1197 \nQ 2756 1666 2539 1819 \nQ 2322 1972 1947 1972 \nL 1259 1972 \nL 1259 0 \nL 628 0 \nL 628 4666 \nL 2053 4666 \nQ 2853 4666 3247 4331 \nQ 3641 3997 3641 3322 \nQ 3641 2881 3436 2590 \nQ 3231 2300 2841 2188 \nz\nM 1259 4147 \nL 1259 2491 \nL 2053 2491 \nQ 2509 2491 2742 2702 \nQ 2975 2913 2975 3322 \nQ 2975 3731 2742 3939 \nQ 2509 4147 2053 4147 \nL 1259 4147 \nz\n\" transform=\"scale(0.015625)\"/>\n      <path id=\"DejaVuSans-45\" d=\"M 628 4666 \nL 3578 4666 \nL 3578 4134 \nL 1259 4134 \nL 1259 2753 \nL 3481 2753 \nL 3481 2222 \nL 1259 2222 \nL 1259 531 \nL 3634 531 \nL 3634 0 \nL 628 0 \nL 628 4666 \nz\n\" transform=\"scale(0.015625)\"/>\n     </defs>\n     <use xlink:href=\"#DejaVuSans-53\"/>\n     <use xlink:href=\"#DejaVuSans-6f\" transform=\"translate(63.476562 0)\"/>\n     <use xlink:href=\"#DejaVuSans-75\" transform=\"translate(124.658203 0)\"/>\n     <use xlink:href=\"#DejaVuSans-72\" transform=\"translate(188.037109 0)\"/>\n     <use xlink:href=\"#DejaVuSans-63\" transform=\"translate(226.900391 0)\"/>\n     <use xlink:href=\"#DejaVuSans-65\" transform=\"translate(281.880859 0)\"/>\n     <use xlink:href=\"#DejaVuSans-73\" transform=\"translate(343.404297 0)\"/>\n     <use xlink:href=\"#DejaVuSans-3a\" transform=\"translate(395.503906 0)\"/>\n     <use xlink:href=\"#DejaVuSans-20\" transform=\"translate(429.195312 0)\"/>\n     <use xlink:href=\"#DejaVuSans-55\" transform=\"translate(460.982422 0)\"/>\n     <use xlink:href=\"#DejaVuSans-2e\" transform=\"translate(534.175781 0)\"/>\n     <use xlink:href=\"#DejaVuSans-53\" transform=\"translate(565.962891 0)\"/>\n     <use xlink:href=\"#DejaVuSans-2e\" transform=\"translate(629.439453 0)\"/>\n     <use xlink:href=\"#DejaVuSans-20\" transform=\"translate(661.226562 0)\"/>\n     <use xlink:href=\"#DejaVuSans-43\" transform=\"translate(693.013672 0)\"/>\n     <use xlink:href=\"#DejaVuSans-65\" transform=\"translate(762.837891 0)\"/>\n     <use xlink:href=\"#DejaVuSans-6e\" transform=\"translate(824.361328 0)\"/>\n     <use xlink:href=\"#DejaVuSans-73\" transform=\"translate(887.740234 0)\"/>\n     <use xlink:href=\"#DejaVuSans-75\" transform=\"translate(939.839844 0)\"/>\n     <use xlink:href=\"#DejaVuSans-73\" transform=\"translate(1003.21875 0)\"/>\n     <use xlink:href=\"#DejaVuSans-20\" transform=\"translate(1055.318359 0)\"/>\n     <use xlink:href=\"#DejaVuSans-42\" transform=\"translate(1087.105469 0)\"/>\n     <use xlink:href=\"#DejaVuSans-75\" transform=\"translate(1155.708984 0)\"/>\n     <use xlink:href=\"#DejaVuSans-72\" transform=\"translate(1219.087891 0)\"/>\n     <use xlink:href=\"#DejaVuSans-65\" transform=\"translate(1257.951172 0)\"/>\n     <use xlink:href=\"#DejaVuSans-61\" transform=\"translate(1319.474609 0)\"/>\n     <use xlink:href=\"#DejaVuSans-75\" transform=\"translate(1380.753906 0)\"/>\n     <use xlink:href=\"#DejaVuSans-3b\" transform=\"translate(1444.132812 0)\"/>\n     <use xlink:href=\"#DejaVuSans-20\" transform=\"translate(1477.824219 0)\"/>\n     <use xlink:href=\"#DejaVuSans-55\" transform=\"translate(1509.611328 0)\"/>\n     <use xlink:href=\"#DejaVuSans-2e\" transform=\"translate(1582.804688 0)\"/>\n     <use xlink:href=\"#DejaVuSans-53\" transform=\"translate(1614.591797 0)\"/>\n     <use xlink:href=\"#DejaVuSans-2e\" transform=\"translate(1678.068359 0)\"/>\n     <use xlink:href=\"#DejaVuSans-20\" transform=\"translate(1709.855469 0)\"/>\n     <use xlink:href=\"#DejaVuSans-44\" transform=\"translate(1741.642578 0)\"/>\n     <use xlink:href=\"#DejaVuSans-65\" transform=\"translate(1818.644531 0)\"/>\n     <use xlink:href=\"#DejaVuSans-70\" transform=\"translate(1880.167969 0)\"/>\n     <use xlink:href=\"#DejaVuSans-61\" transform=\"translate(1943.644531 0)\"/>\n     <use xlink:href=\"#DejaVuSans-72\" transform=\"translate(2004.923828 0)\"/>\n     <use xlink:href=\"#DejaVuSans-74\" transform=\"translate(2046.037109 0)\"/>\n     <use xlink:href=\"#DejaVuSans-6d\" transform=\"translate(2085.246094 0)\"/>\n     <use xlink:href=\"#DejaVuSans-65\" transform=\"translate(2182.658203 0)\"/>\n     <use xlink:href=\"#DejaVuSans-6e\" transform=\"translate(2244.181641 0)\"/>\n     <use xlink:href=\"#DejaVuSans-74\" transform=\"translate(2307.560547 0)\"/>\n     <use xlink:href=\"#DejaVuSans-20\" transform=\"translate(2346.769531 0)\"/>\n     <use xlink:href=\"#DejaVuSans-6f\" transform=\"translate(2378.556641 0)\"/>\n     <use xlink:href=\"#DejaVuSans-66\" transform=\"translate(2439.738281 0)\"/>\n     <use xlink:href=\"#DejaVuSans-20\" transform=\"translate(2474.943359 0)\"/>\n     <use xlink:href=\"#DejaVuSans-48\" transform=\"translate(2506.730469 0)\"/>\n     <use xlink:href=\"#DejaVuSans-6f\" transform=\"translate(2581.925781 0)\"/>\n     <use xlink:href=\"#DejaVuSans-75\" transform=\"translate(2643.107422 0)\"/>\n     <use xlink:href=\"#DejaVuSans-73\" transform=\"translate(2706.486328 0)\"/>\n     <use xlink:href=\"#DejaVuSans-69\" transform=\"translate(2758.585938 0)\"/>\n     <use xlink:href=\"#DejaVuSans-6e\" transform=\"translate(2786.369141 0)\"/>\n     <use xlink:href=\"#DejaVuSans-67\" transform=\"translate(2849.748047 0)\"/>\n     <use xlink:href=\"#DejaVuSans-20\" transform=\"translate(2913.224609 0)\"/>\n     <use xlink:href=\"#DejaVuSans-61\" transform=\"translate(2945.011719 0)\"/>\n     <use xlink:href=\"#DejaVuSans-6e\" transform=\"translate(3006.291016 0)\"/>\n     <use xlink:href=\"#DejaVuSans-64\" transform=\"translate(3069.669922 0)\"/>\n     <use xlink:href=\"#DejaVuSans-20\" transform=\"translate(3133.146484 0)\"/>\n     <use xlink:href=\"#DejaVuSans-55\" transform=\"translate(3164.933594 0)\"/>\n     <use xlink:href=\"#DejaVuSans-72\" transform=\"translate(3238.126953 0)\"/>\n     <use xlink:href=\"#DejaVuSans-62\" transform=\"translate(3279.240234 0)\"/>\n     <use xlink:href=\"#DejaVuSans-61\" transform=\"translate(3342.716797 0)\"/>\n     <use xlink:href=\"#DejaVuSans-6e\" transform=\"translate(3403.996094 0)\"/>\n     <use xlink:href=\"#DejaVuSans-20\" transform=\"translate(3467.375 0)\"/>\n     <use xlink:href=\"#DejaVuSans-44\" transform=\"translate(3499.162109 0)\"/>\n     <use xlink:href=\"#DejaVuSans-65\" transform=\"translate(3576.164062 0)\"/>\n     <use xlink:href=\"#DejaVuSans-76\" transform=\"translate(3637.6875 0)\"/>\n     <use xlink:href=\"#DejaVuSans-65\" transform=\"translate(3696.867188 0)\"/>\n     <use xlink:href=\"#DejaVuSans-6c\" transform=\"translate(3758.390625 0)\"/>\n     <use xlink:href=\"#DejaVuSans-6f\" transform=\"translate(3786.173828 0)\"/>\n     <use xlink:href=\"#DejaVuSans-70\" transform=\"translate(3847.355469 0)\"/>\n     <use xlink:href=\"#DejaVuSans-6d\" transform=\"translate(3910.832031 0)\"/>\n     <use xlink:href=\"#DejaVuSans-65\" transform=\"translate(4008.244141 0)\"/>\n     <use xlink:href=\"#DejaVuSans-6e\" transform=\"translate(4069.767578 0)\"/>\n     <use xlink:href=\"#DejaVuSans-74\" transform=\"translate(4133.146484 0)\"/>\n     <use xlink:href=\"#DejaVuSans-20\" transform=\"translate(4172.355469 0)\"/>\n     <use xlink:href=\"#DejaVuSans-76\" transform=\"translate(4204.142578 0)\"/>\n     <use xlink:href=\"#DejaVuSans-69\" transform=\"translate(4263.322266 0)\"/>\n     <use xlink:href=\"#DejaVuSans-61\" transform=\"translate(4291.105469 0)\"/>\n     <use xlink:href=\"#DejaVuSans-20\" transform=\"translate(4352.384766 0)\"/>\n     <use xlink:href=\"#DejaVuSans-46\" transform=\"translate(4384.171875 0)\"/>\n     <use xlink:href=\"#DejaVuSans-52\" transform=\"translate(4441.691406 0)\"/>\n     <use xlink:href=\"#DejaVuSans-45\" transform=\"translate(4511.173828 0)\"/>\n     <use xlink:href=\"#DejaVuSans-44\" transform=\"translate(4574.357422 0)\"/>\n    </g>\n   </g>\n  </g>\n </g>\n <defs>\n  <clipPath id=\"p131e1c9c08\">\n   <rect x=\"36.15\" y=\"32.733126\" width=\"453.45\" height=\"248.255226\"/>\n  </clipPath>\n </defs>\n</svg>\n"
          },
          "metadata": {}
        }
      ]
    },
    {
      "cell_type": "code",
      "source": [],
      "metadata": {
        "id": "JTEqk-foHhj1"
      },
      "execution_count": null,
      "outputs": []
    }
  ]
}