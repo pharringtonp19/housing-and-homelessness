{
  "nbformat": 4,
  "nbformat_minor": 0,
  "metadata": {
    "colab": {
      "provenance": [],
      "authorship_tag": "ABX9TyMbTqXACEbRkOreQBaS95wW",
      "include_colab_link": true
    },
    "kernelspec": {
      "name": "python3",
      "display_name": "Python 3"
    },
    "language_info": {
      "name": "python"
    }
  },
  "cells": [
    {
      "cell_type": "markdown",
      "metadata": {
        "id": "view-in-github",
        "colab_type": "text"
      },
      "source": [
        "<a href=\"https://colab.research.google.com/github/pharringtonp19/housing-and-homelessness/blob/main/notebooks/Annualized_Housing_Units_Started.ipynb\" target=\"_parent\"><img src=\"https://colab.research.google.com/assets/colab-badge.svg\" alt=\"Open In Colab\"/></a>"
      ]
    },
    {
      "cell_type": "markdown",
      "source": [
        "### **Install Libraries**"
      ],
      "metadata": {
        "id": "mu8Hoa1M0cju"
      }
    },
    {
      "cell_type": "code",
      "source": [
        "!pip install fredapi"
      ],
      "metadata": {
        "colab": {
          "base_uri": "https://localhost:8080/"
        },
        "id": "g88-Icyw0aP_",
        "outputId": "447d1d1f-bd84-47a8-a364-df68b3caa802"
      },
      "execution_count": 2,
      "outputs": [
        {
          "output_type": "stream",
          "name": "stdout",
          "text": [
            "Collecting fredapi\n",
            "  Downloading fredapi-0.5.2-py3-none-any.whl.metadata (5.0 kB)\n",
            "Requirement already satisfied: pandas in /usr/local/lib/python3.11/dist-packages (from fredapi) (2.2.2)\n",
            "Requirement already satisfied: numpy>=1.23.2 in /usr/local/lib/python3.11/dist-packages (from pandas->fredapi) (2.0.2)\n",
            "Requirement already satisfied: python-dateutil>=2.8.2 in /usr/local/lib/python3.11/dist-packages (from pandas->fredapi) (2.9.0.post0)\n",
            "Requirement already satisfied: pytz>=2020.1 in /usr/local/lib/python3.11/dist-packages (from pandas->fredapi) (2025.2)\n",
            "Requirement already satisfied: tzdata>=2022.7 in /usr/local/lib/python3.11/dist-packages (from pandas->fredapi) (2025.2)\n",
            "Requirement already satisfied: six>=1.5 in /usr/local/lib/python3.11/dist-packages (from python-dateutil>=2.8.2->pandas->fredapi) (1.17.0)\n",
            "Downloading fredapi-0.5.2-py3-none-any.whl (11 kB)\n",
            "Installing collected packages: fredapi\n",
            "Successfully installed fredapi-0.5.2\n"
          ]
        }
      ]
    },
    {
      "cell_type": "markdown",
      "source": [
        "### **Import Libraries**"
      ],
      "metadata": {
        "id": "gi9Nmto60Zmc"
      }
    },
    {
      "cell_type": "code",
      "source": [
        "import os\n",
        "from fredapi import Fred\n",
        "import pandas as pd\n",
        "import matplotlib.pyplot as plt\n",
        "from google.colab import userdata\n",
        "from matplotlib import font_manager\n",
        "import matplotlib.dates as mdates\n",
        "import matplotlib as mpl\n",
        "from matplotlib import pyplot as plt\n",
        "from matplotlib import rcParams\n",
        "rcParams['image.interpolation'] = 'nearest'\n",
        "rcParams['image.cmap'] = 'viridis'\n",
        "rcParams['axes.grid'] = False\n",
        "%matplotlib inline\n",
        "%config InlineBackend.figure_format = 'svg'"
      ],
      "metadata": {
        "id": "WsPzYEzZ0UqV"
      },
      "execution_count": 3,
      "outputs": []
    },
    {
      "cell_type": "markdown",
      "source": [
        "### **FRED API**"
      ],
      "metadata": {
        "id": "oQwq3jlS7oO6"
      }
    },
    {
      "cell_type": "code",
      "source": [
        "fred = Fred(api_key=userdata.get('FRED'))"
      ],
      "metadata": {
        "id": "gyR40epY0sRs"
      },
      "execution_count": 4,
      "outputs": []
    },
    {
      "cell_type": "markdown",
      "source": [
        "### **Get Data**"
      ],
      "metadata": {
        "id": "2R2wfnPq7qoa"
      }
    },
    {
      "cell_type": "code",
      "source": [
        "data_series = fred.get_series('HOUST')\n",
        "df = data_series.to_frame(name='Starts')\n",
        "df.index.name = 'Date'\n",
        "df.index = pd.to_datetime(df.index)  # Fixed: pd.to_datetime instead of pd.DateTime\n",
        "df.head()"
      ],
      "metadata": {
        "id": "o_Bw3s0x0vTB",
        "colab": {
          "base_uri": "https://localhost:8080/",
          "height": 238
        },
        "outputId": "231bc2c2-ca52-4787-8463-32a427b89fc1"
      },
      "execution_count": 5,
      "outputs": [
        {
          "output_type": "execute_result",
          "data": {
            "text/plain": [
              "            Starts\n",
              "Date              \n",
              "1959-01-01  1657.0\n",
              "1959-02-01  1667.0\n",
              "1959-03-01  1620.0\n",
              "1959-04-01  1590.0\n",
              "1959-05-01  1498.0"
            ],
            "text/html": [
              "\n",
              "  <div id=\"df-56837b9d-312a-40e7-8990-c589ee9f3ffa\" class=\"colab-df-container\">\n",
              "    <div>\n",
              "<style scoped>\n",
              "    .dataframe tbody tr th:only-of-type {\n",
              "        vertical-align: middle;\n",
              "    }\n",
              "\n",
              "    .dataframe tbody tr th {\n",
              "        vertical-align: top;\n",
              "    }\n",
              "\n",
              "    .dataframe thead th {\n",
              "        text-align: right;\n",
              "    }\n",
              "</style>\n",
              "<table border=\"1\" class=\"dataframe\">\n",
              "  <thead>\n",
              "    <tr style=\"text-align: right;\">\n",
              "      <th></th>\n",
              "      <th>Starts</th>\n",
              "    </tr>\n",
              "    <tr>\n",
              "      <th>Date</th>\n",
              "      <th></th>\n",
              "    </tr>\n",
              "  </thead>\n",
              "  <tbody>\n",
              "    <tr>\n",
              "      <th>1959-01-01</th>\n",
              "      <td>1657.0</td>\n",
              "    </tr>\n",
              "    <tr>\n",
              "      <th>1959-02-01</th>\n",
              "      <td>1667.0</td>\n",
              "    </tr>\n",
              "    <tr>\n",
              "      <th>1959-03-01</th>\n",
              "      <td>1620.0</td>\n",
              "    </tr>\n",
              "    <tr>\n",
              "      <th>1959-04-01</th>\n",
              "      <td>1590.0</td>\n",
              "    </tr>\n",
              "    <tr>\n",
              "      <th>1959-05-01</th>\n",
              "      <td>1498.0</td>\n",
              "    </tr>\n",
              "  </tbody>\n",
              "</table>\n",
              "</div>\n",
              "    <div class=\"colab-df-buttons\">\n",
              "\n",
              "  <div class=\"colab-df-container\">\n",
              "    <button class=\"colab-df-convert\" onclick=\"convertToInteractive('df-56837b9d-312a-40e7-8990-c589ee9f3ffa')\"\n",
              "            title=\"Convert this dataframe to an interactive table.\"\n",
              "            style=\"display:none;\">\n",
              "\n",
              "  <svg xmlns=\"http://www.w3.org/2000/svg\" height=\"24px\" viewBox=\"0 -960 960 960\">\n",
              "    <path d=\"M120-120v-720h720v720H120Zm60-500h600v-160H180v160Zm220 220h160v-160H400v160Zm0 220h160v-160H400v160ZM180-400h160v-160H180v160Zm440 0h160v-160H620v160ZM180-180h160v-160H180v160Zm440 0h160v-160H620v160Z\"/>\n",
              "  </svg>\n",
              "    </button>\n",
              "\n",
              "  <style>\n",
              "    .colab-df-container {\n",
              "      display:flex;\n",
              "      gap: 12px;\n",
              "    }\n",
              "\n",
              "    .colab-df-convert {\n",
              "      background-color: #E8F0FE;\n",
              "      border: none;\n",
              "      border-radius: 50%;\n",
              "      cursor: pointer;\n",
              "      display: none;\n",
              "      fill: #1967D2;\n",
              "      height: 32px;\n",
              "      padding: 0 0 0 0;\n",
              "      width: 32px;\n",
              "    }\n",
              "\n",
              "    .colab-df-convert:hover {\n",
              "      background-color: #E2EBFA;\n",
              "      box-shadow: 0px 1px 2px rgba(60, 64, 67, 0.3), 0px 1px 3px 1px rgba(60, 64, 67, 0.15);\n",
              "      fill: #174EA6;\n",
              "    }\n",
              "\n",
              "    .colab-df-buttons div {\n",
              "      margin-bottom: 4px;\n",
              "    }\n",
              "\n",
              "    [theme=dark] .colab-df-convert {\n",
              "      background-color: #3B4455;\n",
              "      fill: #D2E3FC;\n",
              "    }\n",
              "\n",
              "    [theme=dark] .colab-df-convert:hover {\n",
              "      background-color: #434B5C;\n",
              "      box-shadow: 0px 1px 3px 1px rgba(0, 0, 0, 0.15);\n",
              "      filter: drop-shadow(0px 1px 2px rgba(0, 0, 0, 0.3));\n",
              "      fill: #FFFFFF;\n",
              "    }\n",
              "  </style>\n",
              "\n",
              "    <script>\n",
              "      const buttonEl =\n",
              "        document.querySelector('#df-56837b9d-312a-40e7-8990-c589ee9f3ffa button.colab-df-convert');\n",
              "      buttonEl.style.display =\n",
              "        google.colab.kernel.accessAllowed ? 'block' : 'none';\n",
              "\n",
              "      async function convertToInteractive(key) {\n",
              "        const element = document.querySelector('#df-56837b9d-312a-40e7-8990-c589ee9f3ffa');\n",
              "        const dataTable =\n",
              "          await google.colab.kernel.invokeFunction('convertToInteractive',\n",
              "                                                    [key], {});\n",
              "        if (!dataTable) return;\n",
              "\n",
              "        const docLinkHtml = 'Like what you see? Visit the ' +\n",
              "          '<a target=\"_blank\" href=https://colab.research.google.com/notebooks/data_table.ipynb>data table notebook</a>'\n",
              "          + ' to learn more about interactive tables.';\n",
              "        element.innerHTML = '';\n",
              "        dataTable['output_type'] = 'display_data';\n",
              "        await google.colab.output.renderOutput(dataTable, element);\n",
              "        const docLink = document.createElement('div');\n",
              "        docLink.innerHTML = docLinkHtml;\n",
              "        element.appendChild(docLink);\n",
              "      }\n",
              "    </script>\n",
              "  </div>\n",
              "\n",
              "\n",
              "    <div id=\"df-56cf8a67-3c9a-4e03-ba62-c4e542c2f0ef\">\n",
              "      <button class=\"colab-df-quickchart\" onclick=\"quickchart('df-56cf8a67-3c9a-4e03-ba62-c4e542c2f0ef')\"\n",
              "                title=\"Suggest charts\"\n",
              "                style=\"display:none;\">\n",
              "\n",
              "<svg xmlns=\"http://www.w3.org/2000/svg\" height=\"24px\"viewBox=\"0 0 24 24\"\n",
              "     width=\"24px\">\n",
              "    <g>\n",
              "        <path d=\"M19 3H5c-1.1 0-2 .9-2 2v14c0 1.1.9 2 2 2h14c1.1 0 2-.9 2-2V5c0-1.1-.9-2-2-2zM9 17H7v-7h2v7zm4 0h-2V7h2v10zm4 0h-2v-4h2v4z\"/>\n",
              "    </g>\n",
              "</svg>\n",
              "      </button>\n",
              "\n",
              "<style>\n",
              "  .colab-df-quickchart {\n",
              "      --bg-color: #E8F0FE;\n",
              "      --fill-color: #1967D2;\n",
              "      --hover-bg-color: #E2EBFA;\n",
              "      --hover-fill-color: #174EA6;\n",
              "      --disabled-fill-color: #AAA;\n",
              "      --disabled-bg-color: #DDD;\n",
              "  }\n",
              "\n",
              "  [theme=dark] .colab-df-quickchart {\n",
              "      --bg-color: #3B4455;\n",
              "      --fill-color: #D2E3FC;\n",
              "      --hover-bg-color: #434B5C;\n",
              "      --hover-fill-color: #FFFFFF;\n",
              "      --disabled-bg-color: #3B4455;\n",
              "      --disabled-fill-color: #666;\n",
              "  }\n",
              "\n",
              "  .colab-df-quickchart {\n",
              "    background-color: var(--bg-color);\n",
              "    border: none;\n",
              "    border-radius: 50%;\n",
              "    cursor: pointer;\n",
              "    display: none;\n",
              "    fill: var(--fill-color);\n",
              "    height: 32px;\n",
              "    padding: 0;\n",
              "    width: 32px;\n",
              "  }\n",
              "\n",
              "  .colab-df-quickchart:hover {\n",
              "    background-color: var(--hover-bg-color);\n",
              "    box-shadow: 0 1px 2px rgba(60, 64, 67, 0.3), 0 1px 3px 1px rgba(60, 64, 67, 0.15);\n",
              "    fill: var(--button-hover-fill-color);\n",
              "  }\n",
              "\n",
              "  .colab-df-quickchart-complete:disabled,\n",
              "  .colab-df-quickchart-complete:disabled:hover {\n",
              "    background-color: var(--disabled-bg-color);\n",
              "    fill: var(--disabled-fill-color);\n",
              "    box-shadow: none;\n",
              "  }\n",
              "\n",
              "  .colab-df-spinner {\n",
              "    border: 2px solid var(--fill-color);\n",
              "    border-color: transparent;\n",
              "    border-bottom-color: var(--fill-color);\n",
              "    animation:\n",
              "      spin 1s steps(1) infinite;\n",
              "  }\n",
              "\n",
              "  @keyframes spin {\n",
              "    0% {\n",
              "      border-color: transparent;\n",
              "      border-bottom-color: var(--fill-color);\n",
              "      border-left-color: var(--fill-color);\n",
              "    }\n",
              "    20% {\n",
              "      border-color: transparent;\n",
              "      border-left-color: var(--fill-color);\n",
              "      border-top-color: var(--fill-color);\n",
              "    }\n",
              "    30% {\n",
              "      border-color: transparent;\n",
              "      border-left-color: var(--fill-color);\n",
              "      border-top-color: var(--fill-color);\n",
              "      border-right-color: var(--fill-color);\n",
              "    }\n",
              "    40% {\n",
              "      border-color: transparent;\n",
              "      border-right-color: var(--fill-color);\n",
              "      border-top-color: var(--fill-color);\n",
              "    }\n",
              "    60% {\n",
              "      border-color: transparent;\n",
              "      border-right-color: var(--fill-color);\n",
              "    }\n",
              "    80% {\n",
              "      border-color: transparent;\n",
              "      border-right-color: var(--fill-color);\n",
              "      border-bottom-color: var(--fill-color);\n",
              "    }\n",
              "    90% {\n",
              "      border-color: transparent;\n",
              "      border-bottom-color: var(--fill-color);\n",
              "    }\n",
              "  }\n",
              "</style>\n",
              "\n",
              "      <script>\n",
              "        async function quickchart(key) {\n",
              "          const quickchartButtonEl =\n",
              "            document.querySelector('#' + key + ' button');\n",
              "          quickchartButtonEl.disabled = true;  // To prevent multiple clicks.\n",
              "          quickchartButtonEl.classList.add('colab-df-spinner');\n",
              "          try {\n",
              "            const charts = await google.colab.kernel.invokeFunction(\n",
              "                'suggestCharts', [key], {});\n",
              "          } catch (error) {\n",
              "            console.error('Error during call to suggestCharts:', error);\n",
              "          }\n",
              "          quickchartButtonEl.classList.remove('colab-df-spinner');\n",
              "          quickchartButtonEl.classList.add('colab-df-quickchart-complete');\n",
              "        }\n",
              "        (() => {\n",
              "          let quickchartButtonEl =\n",
              "            document.querySelector('#df-56cf8a67-3c9a-4e03-ba62-c4e542c2f0ef button');\n",
              "          quickchartButtonEl.style.display =\n",
              "            google.colab.kernel.accessAllowed ? 'block' : 'none';\n",
              "        })();\n",
              "      </script>\n",
              "    </div>\n",
              "\n",
              "    </div>\n",
              "  </div>\n"
            ],
            "application/vnd.google.colaboratory.intrinsic+json": {
              "type": "dataframe",
              "variable_name": "df",
              "summary": "{\n  \"name\": \"df\",\n  \"rows\": 799,\n  \"fields\": [\n    {\n      \"column\": \"Date\",\n      \"properties\": {\n        \"dtype\": \"date\",\n        \"min\": \"1959-01-01 00:00:00\",\n        \"max\": \"2025-07-01 00:00:00\",\n        \"num_unique_values\": 799,\n        \"samples\": [\n          \"2016-12-01 00:00:00\",\n          \"2014-07-01 00:00:00\",\n          \"1964-04-01 00:00:00\"\n        ],\n        \"semantic_type\": \"\",\n        \"description\": \"\"\n      }\n    },\n    {\n      \"column\": \"Starts\",\n      \"properties\": {\n        \"dtype\": \"number\",\n        \"std\": 378.1482906568463,\n        \"min\": 478.0,\n        \"max\": 2494.0,\n        \"num_unique_values\": 600,\n        \"samples\": [\n          1769.0,\n          1643.0,\n          1293.0\n        ],\n        \"semantic_type\": \"\",\n        \"description\": \"\"\n      }\n    }\n  ]\n}"
            }
          },
          "metadata": {},
          "execution_count": 5
        }
      ]
    },
    {
      "cell_type": "code",
      "source": [
        "fig = plt.figure(dpi=300, tight_layout=True, figsize=(7, 4.5))\n",
        "ax = plt.axes(facecolor=(.95, .96, .97))\n",
        "ax.xaxis.set_tick_params(length=0, labeltop=False, labelbottom=True)\n",
        "\n",
        "for key in 'left', 'right', 'top':\n",
        "    ax.spines[key].set_visible(False)\n",
        "ax.text(0., 1.06, s='Annualized Housing Units Started (Private)', transform=ax.transAxes, size=14)\n",
        "ax.text(0., 1.01, s='Thousands', transform=ax.transAxes, size=8)\n",
        "ax.yaxis.set_tick_params(length=0)\n",
        "ax.yaxis.grid(True, color='white', linewidth=2)\n",
        "ax.set_axisbelow(True)\n",
        "\n",
        "\n",
        "plt.plot(df.index, df['Starts'], color='#36454F')\n",
        "\n",
        "# --- highlight latest value ---\n",
        "x_last = df.index[-1]\n",
        "y_last = df['Starts'].iloc[-1]\n",
        "\n",
        "# dot on the last point\n",
        "ax.scatter([x_last], [y_last], s=36, color='#36454F', zorder=5)\n",
        "\n",
        "# leader line + value label above it\n",
        "ax.annotate(f\"{y_last:,.0f}\",\n",
        "            xy=(x_last, y_last),            # point to label\n",
        "            xytext=(8, 8),                 # (x, y) offset in points\n",
        "            textcoords='offset points',\n",
        "            ha='left', va='bottom',\n",
        "            fontsize=10, fontweight='bold',\n",
        "            arrowprops=dict(arrowstyle='-', lw=1, color='#36454F'))\n",
        "\n",
        "ax.set_xlim(df.index.min(), x_last + pd.DateOffset(months=2))\n",
        "\n",
        "ax.annotate(\"Sources: U.S. Census Bureau; U.S. Department of Housing and Urban Development via FRED\",\n",
        "        xy = (0., -0.1),\n",
        "        xycoords='axes fraction',\n",
        "        ha='left',\n",
        "        va=\"center\",\n",
        "        fontsize=8)\n",
        "fig.savefig('./annualized_prive_housing_units.png')\n",
        "plt.show()"
      ],
      "metadata": {
        "colab": {
          "base_uri": "https://localhost:8080/",
          "height": 444
        },
        "id": "Jmm9WH62044V",
        "outputId": "86c0f0fb-63af-404f-d3be-945e9ad92746"
      },
      "execution_count": 7,
      "outputs": [
        {
          "output_type": "display_data",
          "data": {
            "text/plain": [
              "<Figure size 2100x1350 with 1 Axes>"
            ],
            "image/svg+xml": "<?xml version=\"1.0\" encoding=\"utf-8\" standalone=\"no\"?>\n<!DOCTYPE svg PUBLIC \"-//W3C//DTD SVG 1.1//EN\"\n  \"http://www.w3.org/Graphics/SVG/1.1/DTD/svg11.dtd\">\n<svg xmlns:xlink=\"http://www.w3.org/1999/xlink\" width=\"496.799969pt\" height=\"316.885124pt\" viewBox=\"0 0 496.799969 316.885124\" xmlns=\"http://www.w3.org/2000/svg\" version=\"1.1\">\n <metadata>\n  <rdf:RDF xmlns:dc=\"http://purl.org/dc/elements/1.1/\" xmlns:cc=\"http://creativecommons.org/ns#\" xmlns:rdf=\"http://www.w3.org/1999/02/22-rdf-syntax-ns#\">\n   <cc:Work>\n    <dc:type rdf:resource=\"http://purl.org/dc/dcmitype/StillImage\"/>\n    <dc:date>2025-08-19T14:50:39.349279</dc:date>\n    <dc:format>image/svg+xml</dc:format>\n    <dc:creator>\n     <cc:Agent>\n      <dc:title>Matplotlib v3.10.0, https://matplotlib.org/</dc:title>\n     </cc:Agent>\n    </dc:creator>\n   </cc:Work>\n  </rdf:RDF>\n </metadata>\n <defs>\n  <style type=\"text/css\">*{stroke-linejoin: round; stroke-linecap: butt}</style>\n </defs>\n <g id=\"figure_1\">\n  <g id=\"patch_1\">\n   <path d=\"M 0 316.885124 \nL 496.799969 316.885124 \nL 496.799969 0 \nL 0 0 \nz\n\" style=\"fill: #ffffff\"/>\n  </g>\n  <g id=\"axes_1\">\n   <g id=\"patch_2\">\n    <path d=\"M 36.15 280.988352 \nL 451.026641 280.988352 \nL 451.026641 32.733126 \nL 36.15 32.733126 \nz\n\" style=\"fill: #f2f5f7\"/>\n   </g>\n   <g id=\"matplotlib.axis_1\">\n    <g id=\"xtick_1\">\n     <g id=\"line2d_1\"/>\n     <g id=\"text_1\">\n      <!-- 1960 -->\n      <g transform=\"translate(29.64389 292.086789) scale(0.1 -0.1)\">\n       <defs>\n        <path id=\"DejaVuSans-31\" d=\"M 794 531 \nL 1825 531 \nL 1825 4091 \nL 703 3866 \nL 703 4441 \nL 1819 4666 \nL 2450 4666 \nL 2450 531 \nL 3481 531 \nL 3481 0 \nL 794 0 \nL 794 531 \nz\n\" transform=\"scale(0.015625)\"/>\n        <path id=\"DejaVuSans-39\" d=\"M 703 97 \nL 703 672 \nQ 941 559 1184 500 \nQ 1428 441 1663 441 \nQ 2288 441 2617 861 \nQ 2947 1281 2994 2138 \nQ 2813 1869 2534 1725 \nQ 2256 1581 1919 1581 \nQ 1219 1581 811 2004 \nQ 403 2428 403 3163 \nQ 403 3881 828 4315 \nQ 1253 4750 1959 4750 \nQ 2769 4750 3195 4129 \nQ 3622 3509 3622 2328 \nQ 3622 1225 3098 567 \nQ 2575 -91 1691 -91 \nQ 1453 -91 1209 -44 \nQ 966 3 703 97 \nz\nM 1959 2075 \nQ 2384 2075 2632 2365 \nQ 2881 2656 2881 3163 \nQ 2881 3666 2632 3958 \nQ 2384 4250 1959 4250 \nQ 1534 4250 1286 3958 \nQ 1038 3666 1038 3163 \nQ 1038 2656 1286 2365 \nQ 1534 2075 1959 2075 \nz\n\" transform=\"scale(0.015625)\"/>\n        <path id=\"DejaVuSans-36\" d=\"M 2113 2584 \nQ 1688 2584 1439 2293 \nQ 1191 2003 1191 1497 \nQ 1191 994 1439 701 \nQ 1688 409 2113 409 \nQ 2538 409 2786 701 \nQ 3034 994 3034 1497 \nQ 3034 2003 2786 2293 \nQ 2538 2584 2113 2584 \nz\nM 3366 4563 \nL 3366 3988 \nQ 3128 4100 2886 4159 \nQ 2644 4219 2406 4219 \nQ 1781 4219 1451 3797 \nQ 1122 3375 1075 2522 \nQ 1259 2794 1537 2939 \nQ 1816 3084 2150 3084 \nQ 2853 3084 3261 2657 \nQ 3669 2231 3669 1497 \nQ 3669 778 3244 343 \nQ 2819 -91 2113 -91 \nQ 1303 -91 875 529 \nQ 447 1150 447 2328 \nQ 447 3434 972 4092 \nQ 1497 4750 2381 4750 \nQ 2619 4750 2861 4703 \nQ 3103 4656 3366 4563 \nz\n\" transform=\"scale(0.015625)\"/>\n        <path id=\"DejaVuSans-30\" d=\"M 2034 4250 \nQ 1547 4250 1301 3770 \nQ 1056 3291 1056 2328 \nQ 1056 1369 1301 889 \nQ 1547 409 2034 409 \nQ 2525 409 2770 889 \nQ 3016 1369 3016 2328 \nQ 3016 3291 2770 3770 \nQ 2525 4250 2034 4250 \nz\nM 2034 4750 \nQ 2819 4750 3233 4129 \nQ 3647 3509 3647 2328 \nQ 3647 1150 3233 529 \nQ 2819 -91 2034 -91 \nQ 1250 -91 836 529 \nQ 422 1150 422 2328 \nQ 422 3509 836 4129 \nQ 1250 4750 2034 4750 \nz\n\" transform=\"scale(0.015625)\"/>\n       </defs>\n       <use xlink:href=\"#DejaVuSans-31\"/>\n       <use xlink:href=\"#DejaVuSans-39\" transform=\"translate(63.623047 0)\"/>\n       <use xlink:href=\"#DejaVuSans-36\" transform=\"translate(127.246094 0)\"/>\n       <use xlink:href=\"#DejaVuSans-30\" transform=\"translate(190.869141 0)\"/>\n      </g>\n     </g>\n    </g>\n    <g id=\"xtick_2\">\n     <g id=\"line2d_2\"/>\n     <g id=\"text_2\">\n      <!-- 1970 -->\n      <g transform=\"translate(91.883905 292.086789) scale(0.1 -0.1)\">\n       <defs>\n        <path id=\"DejaVuSans-37\" d=\"M 525 4666 \nL 3525 4666 \nL 3525 4397 \nL 1831 0 \nL 1172 0 \nL 2766 4134 \nL 525 4134 \nL 525 4666 \nz\n\" transform=\"scale(0.015625)\"/>\n       </defs>\n       <use xlink:href=\"#DejaVuSans-31\"/>\n       <use xlink:href=\"#DejaVuSans-39\" transform=\"translate(63.623047 0)\"/>\n       <use xlink:href=\"#DejaVuSans-37\" transform=\"translate(127.246094 0)\"/>\n       <use xlink:href=\"#DejaVuSans-30\" transform=\"translate(190.869141 0)\"/>\n      </g>\n     </g>\n    </g>\n    <g id=\"xtick_3\">\n     <g id=\"line2d_3\"/>\n     <g id=\"text_3\">\n      <!-- 1980 -->\n      <g transform=\"translate(154.106882 292.086789) scale(0.1 -0.1)\">\n       <defs>\n        <path id=\"DejaVuSans-38\" d=\"M 2034 2216 \nQ 1584 2216 1326 1975 \nQ 1069 1734 1069 1313 \nQ 1069 891 1326 650 \nQ 1584 409 2034 409 \nQ 2484 409 2743 651 \nQ 3003 894 3003 1313 \nQ 3003 1734 2745 1975 \nQ 2488 2216 2034 2216 \nz\nM 1403 2484 \nQ 997 2584 770 2862 \nQ 544 3141 544 3541 \nQ 544 4100 942 4425 \nQ 1341 4750 2034 4750 \nQ 2731 4750 3128 4425 \nQ 3525 4100 3525 3541 \nQ 3525 3141 3298 2862 \nQ 3072 2584 2669 2484 \nQ 3125 2378 3379 2068 \nQ 3634 1759 3634 1313 \nQ 3634 634 3220 271 \nQ 2806 -91 2034 -91 \nQ 1263 -91 848 271 \nQ 434 634 434 1313 \nQ 434 1759 690 2068 \nQ 947 2378 1403 2484 \nz\nM 1172 3481 \nQ 1172 3119 1398 2916 \nQ 1625 2713 2034 2713 \nQ 2441 2713 2670 2916 \nQ 2900 3119 2900 3481 \nQ 2900 3844 2670 4047 \nQ 2441 4250 2034 4250 \nQ 1625 4250 1398 4047 \nQ 1172 3844 1172 3481 \nz\n\" transform=\"scale(0.015625)\"/>\n       </defs>\n       <use xlink:href=\"#DejaVuSans-31\"/>\n       <use xlink:href=\"#DejaVuSans-39\" transform=\"translate(63.623047 0)\"/>\n       <use xlink:href=\"#DejaVuSans-38\" transform=\"translate(127.246094 0)\"/>\n       <use xlink:href=\"#DejaVuSans-30\" transform=\"translate(190.869141 0)\"/>\n      </g>\n     </g>\n    </g>\n    <g id=\"xtick_4\">\n     <g id=\"line2d_4\"/>\n     <g id=\"text_4\">\n      <!-- 1990 -->\n      <g transform=\"translate(216.346898 292.086789) scale(0.1 -0.1)\">\n       <use xlink:href=\"#DejaVuSans-31\"/>\n       <use xlink:href=\"#DejaVuSans-39\" transform=\"translate(63.623047 0)\"/>\n       <use xlink:href=\"#DejaVuSans-39\" transform=\"translate(127.246094 0)\"/>\n       <use xlink:href=\"#DejaVuSans-30\" transform=\"translate(190.869141 0)\"/>\n      </g>\n     </g>\n    </g>\n    <g id=\"xtick_5\">\n     <g id=\"line2d_5\"/>\n     <g id=\"text_5\">\n      <!-- 2000 -->\n      <g transform=\"translate(278.569875 292.086789) scale(0.1 -0.1)\">\n       <defs>\n        <path id=\"DejaVuSans-32\" d=\"M 1228 531 \nL 3431 531 \nL 3431 0 \nL 469 0 \nL 469 531 \nQ 828 903 1448 1529 \nQ 2069 2156 2228 2338 \nQ 2531 2678 2651 2914 \nQ 2772 3150 2772 3378 \nQ 2772 3750 2511 3984 \nQ 2250 4219 1831 4219 \nQ 1534 4219 1204 4116 \nQ 875 4013 500 3803 \nL 500 4441 \nQ 881 4594 1212 4672 \nQ 1544 4750 1819 4750 \nQ 2544 4750 2975 4387 \nQ 3406 4025 3406 3419 \nQ 3406 3131 3298 2873 \nQ 3191 2616 2906 2266 \nQ 2828 2175 2409 1742 \nQ 1991 1309 1228 531 \nz\n\" transform=\"scale(0.015625)\"/>\n       </defs>\n       <use xlink:href=\"#DejaVuSans-32\"/>\n       <use xlink:href=\"#DejaVuSans-30\" transform=\"translate(63.623047 0)\"/>\n       <use xlink:href=\"#DejaVuSans-30\" transform=\"translate(127.246094 0)\"/>\n       <use xlink:href=\"#DejaVuSans-30\" transform=\"translate(190.869141 0)\"/>\n      </g>\n     </g>\n    </g>\n    <g id=\"xtick_6\">\n     <g id=\"line2d_6\"/>\n     <g id=\"text_6\">\n      <!-- 2010 -->\n      <g transform=\"translate(340.80989 292.086789) scale(0.1 -0.1)\">\n       <use xlink:href=\"#DejaVuSans-32\"/>\n       <use xlink:href=\"#DejaVuSans-30\" transform=\"translate(63.623047 0)\"/>\n       <use xlink:href=\"#DejaVuSans-31\" transform=\"translate(127.246094 0)\"/>\n       <use xlink:href=\"#DejaVuSans-30\" transform=\"translate(190.869141 0)\"/>\n      </g>\n     </g>\n    </g>\n    <g id=\"xtick_7\">\n     <g id=\"line2d_7\"/>\n     <g id=\"text_7\">\n      <!-- 2020 -->\n      <g transform=\"translate(403.032867 292.086789) scale(0.1 -0.1)\">\n       <use xlink:href=\"#DejaVuSans-32\"/>\n       <use xlink:href=\"#DejaVuSans-30\" transform=\"translate(63.623047 0)\"/>\n       <use xlink:href=\"#DejaVuSans-32\" transform=\"translate(127.246094 0)\"/>\n       <use xlink:href=\"#DejaVuSans-30\" transform=\"translate(190.869141 0)\"/>\n      </g>\n     </g>\n    </g>\n   </g>\n   <g id=\"matplotlib.axis_2\">\n    <g id=\"ytick_1\">\n     <g id=\"line2d_8\">\n      <path d=\"M 36.15 267.241174 \nL 451.026641 267.241174 \n\" clip-path=\"url(#p22f3afd4ec)\" style=\"fill: none; stroke: #ffffff; stroke-width: 2; stroke-linecap: square\"/>\n     </g>\n     <g id=\"line2d_9\"/>\n     <g id=\"text_8\">\n      <!-- 500 -->\n      <g transform=\"translate(13.5625 271.040392) scale(0.1 -0.1)\">\n       <defs>\n        <path id=\"DejaVuSans-35\" d=\"M 691 4666 \nL 3169 4666 \nL 3169 4134 \nL 1269 4134 \nL 1269 2991 \nQ 1406 3038 1543 3061 \nQ 1681 3084 1819 3084 \nQ 2600 3084 3056 2656 \nQ 3513 2228 3513 1497 \nQ 3513 744 3044 326 \nQ 2575 -91 1722 -91 \nQ 1428 -91 1123 -41 \nQ 819 9 494 109 \nL 494 744 \nQ 775 591 1075 516 \nQ 1375 441 1709 441 \nQ 2250 441 2565 725 \nQ 2881 1009 2881 1497 \nQ 2881 1984 2565 2268 \nQ 2250 2553 1709 2553 \nQ 1456 2553 1204 2497 \nQ 953 2441 691 2322 \nL 691 4666 \nz\n\" transform=\"scale(0.015625)\"/>\n       </defs>\n       <use xlink:href=\"#DejaVuSans-35\"/>\n       <use xlink:href=\"#DejaVuSans-30\" transform=\"translate(63.623047 0)\"/>\n       <use xlink:href=\"#DejaVuSans-30\" transform=\"translate(127.246094 0)\"/>\n      </g>\n     </g>\n    </g>\n    <g id=\"ytick_2\">\n     <g id=\"line2d_10\">\n      <path d=\"M 36.15 239.254248 \nL 451.026641 239.254248 \n\" clip-path=\"url(#p22f3afd4ec)\" style=\"fill: none; stroke: #ffffff; stroke-width: 2; stroke-linecap: square\"/>\n     </g>\n     <g id=\"line2d_11\"/>\n     <g id=\"text_9\">\n      <!-- 750 -->\n      <g transform=\"translate(13.5625 243.053467) scale(0.1 -0.1)\">\n       <use xlink:href=\"#DejaVuSans-37\"/>\n       <use xlink:href=\"#DejaVuSans-35\" transform=\"translate(63.623047 0)\"/>\n       <use xlink:href=\"#DejaVuSans-30\" transform=\"translate(127.246094 0)\"/>\n      </g>\n     </g>\n    </g>\n    <g id=\"ytick_3\">\n     <g id=\"line2d_12\">\n      <path d=\"M 36.15 211.267322 \nL 451.026641 211.267322 \n\" clip-path=\"url(#p22f3afd4ec)\" style=\"fill: none; stroke: #ffffff; stroke-width: 2; stroke-linecap: square\"/>\n     </g>\n     <g id=\"line2d_13\"/>\n     <g id=\"text_10\">\n      <!-- 1000 -->\n      <g transform=\"translate(7.2 215.066541) scale(0.1 -0.1)\">\n       <use xlink:href=\"#DejaVuSans-31\"/>\n       <use xlink:href=\"#DejaVuSans-30\" transform=\"translate(63.623047 0)\"/>\n       <use xlink:href=\"#DejaVuSans-30\" transform=\"translate(127.246094 0)\"/>\n       <use xlink:href=\"#DejaVuSans-30\" transform=\"translate(190.869141 0)\"/>\n      </g>\n     </g>\n    </g>\n    <g id=\"ytick_4\">\n     <g id=\"line2d_14\">\n      <path d=\"M 36.15 183.280397 \nL 451.026641 183.280397 \n\" clip-path=\"url(#p22f3afd4ec)\" style=\"fill: none; stroke: #ffffff; stroke-width: 2; stroke-linecap: square\"/>\n     </g>\n     <g id=\"line2d_15\"/>\n     <g id=\"text_11\">\n      <!-- 1250 -->\n      <g transform=\"translate(7.2 187.079615) scale(0.1 -0.1)\">\n       <use xlink:href=\"#DejaVuSans-31\"/>\n       <use xlink:href=\"#DejaVuSans-32\" transform=\"translate(63.623047 0)\"/>\n       <use xlink:href=\"#DejaVuSans-35\" transform=\"translate(127.246094 0)\"/>\n       <use xlink:href=\"#DejaVuSans-30\" transform=\"translate(190.869141 0)\"/>\n      </g>\n     </g>\n    </g>\n    <g id=\"ytick_5\">\n     <g id=\"line2d_16\">\n      <path d=\"M 36.15 155.293471 \nL 451.026641 155.293471 \n\" clip-path=\"url(#p22f3afd4ec)\" style=\"fill: none; stroke: #ffffff; stroke-width: 2; stroke-linecap: square\"/>\n     </g>\n     <g id=\"line2d_17\"/>\n     <g id=\"text_12\">\n      <!-- 1500 -->\n      <g transform=\"translate(7.2 159.09269) scale(0.1 -0.1)\">\n       <use xlink:href=\"#DejaVuSans-31\"/>\n       <use xlink:href=\"#DejaVuSans-35\" transform=\"translate(63.623047 0)\"/>\n       <use xlink:href=\"#DejaVuSans-30\" transform=\"translate(127.246094 0)\"/>\n       <use xlink:href=\"#DejaVuSans-30\" transform=\"translate(190.869141 0)\"/>\n      </g>\n     </g>\n    </g>\n    <g id=\"ytick_6\">\n     <g id=\"line2d_18\">\n      <path d=\"M 36.15 127.306545 \nL 451.026641 127.306545 \n\" clip-path=\"url(#p22f3afd4ec)\" style=\"fill: none; stroke: #ffffff; stroke-width: 2; stroke-linecap: square\"/>\n     </g>\n     <g id=\"line2d_19\"/>\n     <g id=\"text_13\">\n      <!-- 1750 -->\n      <g transform=\"translate(7.2 131.105764) scale(0.1 -0.1)\">\n       <use xlink:href=\"#DejaVuSans-31\"/>\n       <use xlink:href=\"#DejaVuSans-37\" transform=\"translate(63.623047 0)\"/>\n       <use xlink:href=\"#DejaVuSans-35\" transform=\"translate(127.246094 0)\"/>\n       <use xlink:href=\"#DejaVuSans-30\" transform=\"translate(190.869141 0)\"/>\n      </g>\n     </g>\n    </g>\n    <g id=\"ytick_7\">\n     <g id=\"line2d_20\">\n      <path d=\"M 36.15 99.31962 \nL 451.026641 99.31962 \n\" clip-path=\"url(#p22f3afd4ec)\" style=\"fill: none; stroke: #ffffff; stroke-width: 2; stroke-linecap: square\"/>\n     </g>\n     <g id=\"line2d_21\"/>\n     <g id=\"text_14\">\n      <!-- 2000 -->\n      <g transform=\"translate(7.2 103.118838) scale(0.1 -0.1)\">\n       <use xlink:href=\"#DejaVuSans-32\"/>\n       <use xlink:href=\"#DejaVuSans-30\" transform=\"translate(63.623047 0)\"/>\n       <use xlink:href=\"#DejaVuSans-30\" transform=\"translate(127.246094 0)\"/>\n       <use xlink:href=\"#DejaVuSans-30\" transform=\"translate(190.869141 0)\"/>\n      </g>\n     </g>\n    </g>\n    <g id=\"ytick_8\">\n     <g id=\"line2d_22\">\n      <path d=\"M 36.15 71.332694 \nL 451.026641 71.332694 \n\" clip-path=\"url(#p22f3afd4ec)\" style=\"fill: none; stroke: #ffffff; stroke-width: 2; stroke-linecap: square\"/>\n     </g>\n     <g id=\"line2d_23\"/>\n     <g id=\"text_15\">\n      <!-- 2250 -->\n      <g transform=\"translate(7.2 75.131913) scale(0.1 -0.1)\">\n       <use xlink:href=\"#DejaVuSans-32\"/>\n       <use xlink:href=\"#DejaVuSans-32\" transform=\"translate(63.623047 0)\"/>\n       <use xlink:href=\"#DejaVuSans-35\" transform=\"translate(127.246094 0)\"/>\n       <use xlink:href=\"#DejaVuSans-30\" transform=\"translate(190.869141 0)\"/>\n      </g>\n     </g>\n    </g>\n    <g id=\"ytick_9\">\n     <g id=\"line2d_24\">\n      <path d=\"M 36.15 43.345768 \nL 451.026641 43.345768 \n\" clip-path=\"url(#p22f3afd4ec)\" style=\"fill: none; stroke: #ffffff; stroke-width: 2; stroke-linecap: square\"/>\n     </g>\n     <g id=\"line2d_25\"/>\n     <g id=\"text_16\">\n      <!-- 2500 -->\n      <g transform=\"translate(7.2 47.144987) scale(0.1 -0.1)\">\n       <use xlink:href=\"#DejaVuSans-32\"/>\n       <use xlink:href=\"#DejaVuSans-35\" transform=\"translate(63.623047 0)\"/>\n       <use xlink:href=\"#DejaVuSans-30\" transform=\"translate(127.246094 0)\"/>\n       <use xlink:href=\"#DejaVuSans-30\" transform=\"translate(190.869141 0)\"/>\n      </g>\n     </g>\n    </g>\n   </g>\n   <g id=\"line2d_26\">\n    <path d=\"M 36.15 137.717682 \nL 36.67818 136.598205 \nL 37.155245 141.859747 \nL 37.683425 145.218178 \nL 38.194567 155.517366 \nL 38.722746 154.957628 \nL 39.233888 150.031929 \nL 39.762068 163.12981 \nL 40.290247 150.815563 \nL 40.801389 171.525888 \nL 41.329569 164.697078 \nL 41.84071 143.986753 \nL 42.36889 159.771379 \nL 42.89707 154.957628 \nL 43.391173 199.065023 \nL 43.919353 178.914436 \nL 44.430495 180.929495 \nL 44.958674 183.61624 \nL 45.469816 189.213625 \nL 45.997996 172.757313 \nL 46.526176 200.408395 \nL 47.037317 183.728187 \nL 47.565497 183.728187 \nL 48.076639 204.214617 \nL 48.604818 190.780893 \nL 49.132998 185.967141 \nL 49.610064 176.339639 \nL 50.138243 192.684004 \nL 50.649385 185.743246 \nL 51.177565 168.5033 \nL 51.688706 173.764842 \nL 52.216886 176.339639 \nL 52.745066 163.241758 \nL 53.256207 164.809026 \nL 53.784387 168.167457 \nL 54.295529 170.406411 \nL 54.823708 170.854202 \nL 55.351888 180.145861 \nL 55.828954 161.67449 \nL 56.357133 152.606726 \nL 56.868275 157.196582 \nL 57.396455 166.04045 \nL 57.907596 160.890856 \nL 58.435776 153.39036 \nL 58.963956 174.996267 \nL 59.475097 151.599197 \nL 60.003277 141.635851 \nL 60.514419 148.128818 \nL 61.042598 183.952083 \nL 61.570778 160.21917 \nL 62.047844 151.487249 \nL 62.576023 134.135355 \nL 63.615345 145.442073 \nL 64.654666 139.73274 \nL 65.182846 125.851225 \nL 65.693988 124.060062 \nL 66.733309 156.301 \nL 67.261489 143.762858 \nL 67.789668 119.470206 \nL 68.283772 153.39036 \nL 68.811952 161.114751 \nL 69.323093 158.987745 \nL 69.851273 149.696086 \nL 70.362415 148.352713 \nL 70.890594 147.569079 \nL 71.418774 160.331118 \nL 71.929916 152.606726 \nL 72.458095 156.860739 \nL 72.969237 157.084634 \nL 73.497417 170.854202 \nL 74.025596 162.793967 \nL 74.502662 163.913444 \nL 75.030842 162.234229 \nL 75.541983 157.75632 \nL 76.070163 156.636843 \nL 76.581305 152.046988 \nL 77.109484 162.905915 \nL 77.637664 157.30853 \nL 78.148806 160.666961 \nL 78.676985 159.771379 \nL 79.188127 137.829629 \nL 79.716307 169.846672 \nL 80.244487 168.951091 \nL 80.721552 167.159927 \nL 81.249732 171.861731 \nL 82.800195 201.63982 \nL 83.328375 197.945546 \nL 83.856554 206.117728 \nL 84.367696 228.843112 \nL 84.895876 215.633283 \nL 85.407017 212.386799 \nL 85.935197 203.766826 \nL 86.463377 197.497755 \nL 86.940442 204.998251 \nL 87.468622 201.080081 \nL 87.979764 177.235221 \nL 88.507943 183.504292 \nL 89.019085 170.518359 \nL 89.547265 165.704607 \nL 90.075444 164.137339 \nL 90.586586 156.301 \nL 91.114766 151.039458 \nL 91.625907 176.78743 \nL 92.154087 168.727195 \nL 92.682267 153.054517 \nL 93.17637 159.099693 \nL 93.70455 149.248295 \nL 94.215692 165.59266 \nL 94.743871 165.928503 \nL 95.255013 153.950099 \nL 95.783193 155.853209 \nL 96.311372 149.0244 \nL 96.822514 147.569079 \nL 97.350694 140.74027 \nL 97.861835 149.919981 \nL 98.390015 125.179539 \nL 98.918195 132.344192 \nL 99.39526 148.464661 \nL 99.92344 152.606726 \nL 100.434582 146.001812 \nL 100.962762 152.158935 \nL 101.473903 170.070568 \nL 102.002083 171.190045 \nL 102.530263 154.509837 \nL 103.569584 185.631298 \nL 104.080726 174.660424 \nL 104.608905 201.751768 \nL 105.137085 177.123273 \nL 105.614151 175.556005 \nL 106.14233 181.713129 \nL 106.653472 178.802489 \nL 107.181652 168.167457 \nL 107.692793 153.39036 \nL 108.220973 166.600189 \nL 108.749153 151.487249 \nL 109.260294 146.337655 \nL 109.788474 138.837159 \nL 110.299616 111.298024 \nL 110.827795 118.574624 \nL 111.355975 128.314075 \nL 111.833041 109.394913 \nL 112.872362 93.834182 \nL 113.400542 96.408979 \nL 113.911683 90.02796 \nL 114.439863 81.631883 \nL 114.968043 94.729764 \nL 115.479184 84.990314 \nL 116.007364 78.945138 \nL 116.518506 66.295047 \nL 117.046686 44.017454 \nL 117.574865 55.660016 \nL 118.068969 61.929087 \nL 118.597149 71.444642 \nL 119.10829 74.579177 \nL 119.63647 70.884903 \nL 120.147612 71.108799 \nL 120.675791 56.555597 \nL 121.203971 45.472775 \nL 121.715113 45.024984 \nL 122.754434 58.34676 \nL 123.282614 45.472775 \nL 123.810793 66.966734 \nL 124.287859 58.458708 \nL 124.816039 89.916013 \nL 125.32718 69.541531 \nL 125.85536 91.819124 \nL 126.366502 85.550052 \nL 126.894681 93.610287 \nL 127.934003 135.478728 \nL 128.462182 130.217186 \nL 128.973324 152.382831 \nL 129.501504 160.778908 \nL 130.029683 127.08265 \nL 130.506749 149.136347 \nL 131.034929 143.315067 \nL 131.54607 163.577601 \nL 132.07425 153.838151 \nL 133.113571 195.370749 \nL 133.641751 194.475167 \nL 134.152893 203.430983 \nL 135.192214 214.066015 \nL 135.720394 207.684996 \nL 136.248574 222.014302 \nL 136.725639 212.050956 \nL 137.253819 210.707584 \nL 137.76496 197.72165 \nL 138.29314 201.527872 \nL 138.804282 185.967141 \nL 139.332462 182.16092 \nL 139.860641 181.713129 \nL 140.371783 172.757313 \nL 140.899963 170.966149 \nL 141.411104 175.33211 \nL 141.939284 170.182515 \nL 142.467464 151.039458 \nL 142.961567 164.137339 \nL 143.489747 167.04798 \nL 144.000889 159.883327 \nL 144.529068 155.853209 \nL 145.04021 166.376294 \nL 146.096569 130.664976 \nL 146.607711 140.852217 \nL 147.135891 139.508845 \nL 147.647032 121.261369 \nL 148.175212 152.270883 \nL 148.703392 105.700639 \nL 149.180457 92.266914 \nL 149.708637 111.409971 \nL 150.219779 102.566103 \nL 150.747958 111.298024 \nL 151.2591 92.826653 \nL 151.78728 97.080666 \nL 152.31546 105.028952 \nL 152.826601 94.617816 \nL 153.354781 94.617816 \nL 153.865923 83.423046 \nL 154.394102 130.888872 \nL 154.922282 128.649918 \nL 155.399347 95.737293 \nL 155.927527 77.265922 \nL 156.438669 90.923542 \nL 156.966849 91.48328 \nL 157.47799 89.020431 \nL 158.00617 99.76741 \nL 158.53435 102.678051 \nL 159.045491 101.446626 \nL 159.573671 88.796536 \nL 160.084813 94.393921 \nL 160.612992 140.74027 \nL 161.141172 153.054517 \nL 161.618238 116.447618 \nL 162.146417 127.530441 \nL 162.657559 113.201135 \nL 163.185739 109.05907 \nL 163.69688 126.187068 \nL 164.22506 124.17201 \nL 164.75324 118.126834 \nL 165.792561 152.606726 \nL 166.303703 155.517366 \nL 166.831882 173.093156 \nL 167.360062 172.085626 \nL 167.854166 206.00578 \nL 168.382345 205.557989 \nL 168.893487 219.439505 \nL 169.421667 189.325573 \nL 169.932808 181.15339 \nL 170.460988 162.458124 \nL 170.989168 158.539954 \nL 171.50031 152.718674 \nL 172.028489 154.173994 \nL 172.539631 157.30853 \nL 173.067811 150.031929 \nL 173.59599 183.728187 \nL 174.601236 170.966149 \nL 175.112377 195.594644 \nL 175.640557 206.229676 \nL 176.151699 206.677466 \nL 176.679878 217.984184 \nL 177.208058 221.230668 \nL 178.247379 229.514798 \nL 178.758521 221.342616 \nL 179.286701 228.843112 \nL 179.81488 226.268314 \nL 180.291946 218.991714 \nL 180.820126 220.558982 \nL 181.331267 208.46863 \nL 181.859447 222.238197 \nL 182.370589 192.684004 \nL 182.898768 206.117728 \nL 183.426948 195.146853 \nL 183.93809 191.90037 \nL 184.466269 169.622777 \nL 184.977411 177.347168 \nL 185.505591 145.665969 \nL 186.033771 133.015878 \nL 186.510836 143.427014 \nL 187.039016 158.428007 \nL 187.550157 124.395905 \nL 188.078337 129.209656 \nL 188.589479 123.388376 \nL 189.117658 109.394913 \nL 189.645838 131.784453 \nL 190.15698 131.224715 \nL 190.68516 123.388376 \nL 191.196301 134.247303 \nL 191.724481 110.850233 \nL 192.252661 70.213217 \nL 192.746764 137.045995 \nL 193.274944 115.999827 \nL 193.786086 124.6198 \nL 194.314265 116.895409 \nL 194.825407 129.321604 \nL 195.353587 145.665969 \nL 195.881766 133.127826 \nL 196.392908 145.218178 \nL 196.921088 134.135355 \nL 197.432229 142.755328 \nL 197.960409 131.672506 \nL 198.488589 140.516374 \nL 198.965654 121.70916 \nL 199.493834 119.358258 \nL 200.004976 135.142884 \nL 200.533155 135.590675 \nL 201.044297 134.695094 \nL 201.572477 128.090179 \nL 202.100656 135.590675 \nL 202.611798 117.902938 \nL 203.139978 133.127826 \nL 203.651119 105.812586 \nL 204.179299 102.454155 \nL 204.707479 116.33567 \nL 205.184544 113.201135 \nL 205.712724 106.820116 \nL 206.223866 115.663984 \nL 206.752045 116.447618 \nL 207.263187 123.724219 \nL 207.791367 120.925526 \nL 208.319547 134.359251 \nL 208.830688 135.030937 \nL 209.358868 141.523904 \nL 209.87001 118.014886 \nL 210.398189 124.6198 \nL 210.926369 123.500323 \nL 211.403435 129.99329 \nL 211.931614 142.531433 \nL 212.442756 140.964165 \nL 212.970936 144.770387 \nL 213.482077 146.897393 \nL 214.010257 143.538962 \nL 214.538437 133.463669 \nL 215.049578 153.614255 \nL 215.577758 137.829629 \nL 216.0889 166.488241 \nL 216.617079 180.929495 \nL 217.145259 158.316059 \nL 217.639363 151.711144 \nL 218.167542 147.121289 \nL 218.678684 164.137339 \nL 219.206864 157.75632 \nL 219.718005 158.987745 \nL 220.246185 156.077105 \nL 220.774365 156.189053 \nL 221.285506 152.830621 \nL 221.813686 147.569079 \nL 222.324828 148.240766 \nL 222.853008 141.747799 \nL 223.381187 163.689549 \nL 223.858253 164.025392 \nL 224.386432 173.317051 \nL 224.897574 174.212633 \nL 225.425754 166.824084 \nL 225.936895 163.465653 \nL 226.465075 174.100685 \nL 226.993255 180.033913 \nL 227.504397 165.368764 \nL 228.032576 171.973679 \nL 228.543718 183.168449 \nL 229.071898 149.584138 \nL 229.600077 162.346176 \nL 230.077143 178.914436 \nL 231.116464 187.534409 \nL 231.644644 191.452579 \nL 232.155786 192.124265 \nL 232.683965 198.393336 \nL 233.212145 198.953075 \nL 233.723287 209.700054 \nL 234.251466 195.034905 \nL 235.290788 233.880758 \nL 235.818967 215.185492 \nL 236.296033 220.111191 \nL 236.824213 211.155375 \nL 237.335354 211.715113 \nL 237.863534 207.237205 \nL 238.374676 204.214617 \nL 238.902855 205.781885 \nL 239.431035 209.588107 \nL 239.942177 202.423454 \nL 240.470356 199.736709 \nL 240.981498 202.423454 \nL 241.509678 191.564527 \nL 242.037858 183.280397 \nL 242.531961 178.018855 \nL 243.060141 200.1845 \nL 243.571283 187.310514 \nL 244.099462 195.034905 \nL 244.610604 195.706592 \nL 245.138784 185.967141 \nL 245.666963 190.44505 \nL 246.178105 183.952083 \nL 246.706285 187.310514 \nL 247.217426 185.855194 \nL 247.745606 187.758305 \nL 248.273786 187.758305 \nL 248.750851 201.975663 \nL 249.279031 182.384815 \nL 249.790173 182.16092 \nL 250.318352 179.921966 \nL 250.829494 182.832606 \nL 252.396995 167.383823 \nL 252.925175 169.174986 \nL 253.436316 151.599197 \nL 253.964496 180.817547 \nL 254.492676 173.540946 \nL 254.969741 148.128818 \nL 255.497921 159.211641 \nL 256.009063 152.382831 \nL 256.537242 165.480712 \nL 257.048384 162.122281 \nL 257.576564 160.890856 \nL 258.104743 158.204111 \nL 258.615885 160.890856 \nL 259.144065 154.062046 \nL 260.183386 165.704607 \nL 261.188631 183.392344 \nL 261.716811 181.377286 \nL 262.227953 176.115744 \nL 262.756133 179.810018 \nL 263.267274 159.659431 \nL 264.323634 169.95862 \nL 264.834775 169.95862 \nL 265.362955 160.666961 \nL 265.874097 163.017862 \nL 266.402276 158.987745 \nL 266.930456 156.301 \nL 267.42456 163.801496 \nL 267.952739 153.502308 \nL 268.463881 154.84568 \nL 268.992061 158.987745 \nL 269.503202 158.428007 \nL 270.031382 148.912452 \nL 271.070703 167.383823 \nL 271.598883 156.524896 \nL 272.110025 169.846672 \nL 272.638204 171.525888 \nL 273.166384 156.860739 \nL 273.64345 160.107222 \nL 274.171629 156.189053 \nL 274.682771 161.786438 \nL 275.210951 155.965157 \nL 276.250272 167.607718 \nL 276.778452 150.143877 \nL 277.289594 153.054517 \nL 277.817773 154.173994 \nL 278.328915 147.904923 \nL 278.857095 152.494778 \nL 279.385274 145.889864 \nL 279.86234 147.792975 \nL 280.39052 150.815563 \nL 280.901661 151.263354 \nL 281.429841 139.508845 \nL 281.940983 133.127826 \nL 282.469162 142.531433 \nL 282.997342 146.113759 \nL 283.508484 131.224715 \nL 284.036663 137.381839 \nL 284.547805 122.604742 \nL 285.075985 127.530441 \nL 285.604164 136.262361 \nL 286.08123 131.784453 \nL 286.60941 149.360243 \nL 287.120551 142.867276 \nL 287.648731 148.688556 \nL 288.159873 136.374309 \nL 288.688052 138.725211 \nL 289.216232 140.180531 \nL 289.727374 143.203119 \nL 290.255553 138.725211 \nL 290.766695 132.008349 \nL 291.294875 140.068583 \nL 291.823054 128.761865 \nL 292.317158 143.65091 \nL 292.845338 141.18806 \nL 293.356479 146.897393 \nL 293.884659 148.688556 \nL 294.395801 159.435536 \nL 294.923981 150.703615 \nL 295.45216 154.509837 \nL 295.963302 149.808034 \nL 296.491482 149.584138 \nL 297.002623 151.711144 \nL 297.530803 144.098701 \nL 298.058983 141.300008 \nL 298.536048 145.218178 \nL 299.064228 138.613263 \nL 299.57537 143.538962 \nL 300.614691 136.262361 \nL 301.142871 147.792975 \nL 301.67105 148.352713 \nL 302.182192 150.815563 \nL 302.710372 143.874805 \nL 303.221513 147.681027 \nL 304.277873 118.462677 \nL 304.754938 139.396897 \nL 305.283118 144.994282 \nL 305.79426 125.739277 \nL 306.322439 131.000819 \nL 306.833581 137.941577 \nL 307.361761 140.404426 \nL 307.88994 121.261369 \nL 308.401082 138.725211 \nL 308.929262 126.970702 \nL 309.440403 123.052533 \nL 309.968583 115.775932 \nL 310.496763 140.852217 \nL 310.973828 129.99329 \nL 311.502008 139.284949 \nL 312.541329 114.208664 \nL 313.052471 110.850233 \nL 313.580651 118.014886 \nL 314.108831 106.148429 \nL 314.619972 103.013894 \nL 315.148152 90.02796 \nL 315.659294 92.938601 \nL 316.187473 109.282965 \nL 316.715653 116.559566 \nL 317.209757 99.543515 \nL 317.737936 98.983776 \nL 318.249078 101.446626 \nL 318.777258 118.574624 \nL 319.288399 99.095724 \nL 319.816579 96.632875 \nL 320.344759 109.954651 \nL 320.8559 91.259385 \nL 321.38408 123.724219 \nL 321.895222 94.617816 \nL 322.423401 83.19915 \nL 322.951581 76.146445 \nL 323.428647 114.544507 \nL 323.956826 92.49081 \nL 324.467968 96.520927 \nL 324.996148 91.707176 \nL 325.507289 93.274444 \nL 326.035469 88.684588 \nL 326.563649 82.415516 \nL 327.07479 92.043019 \nL 327.60297 82.863307 \nL 328.114112 99.991306 \nL 328.642292 68.757897 \nL 330.175716 119.358258 \nL 330.686858 105.812586 \nL 331.215038 121.485265 \nL 331.726179 128.761865 \nL 332.254359 138.501316 \nL 332.782539 130.664976 \nL 333.293681 156.301 \nL 334.333002 138.613263 \nL 334.861182 165.480712 \nL 335.389361 157.532425 \nL 335.866427 155.853209 \nL 336.394607 156.412948 \nL 336.905748 164.809026 \nL 337.433928 161.114751 \nL 337.94507 171.637836 \nL 338.473249 174.32458 \nL 339.001429 190.780893 \nL 339.512571 181.713129 \nL 340.04075 189.213625 \nL 340.551892 207.125257 \nL 341.080072 201.863715 \nL 341.608251 199.736709 \nL 342.102355 210.707584 \nL 342.630535 209.812002 \nL 343.141676 214.28991 \nL 343.669856 206.117728 \nL 344.180998 219.887295 \nL 344.709177 228.731164 \nL 345.237357 231.417909 \nL 345.748499 236.23166 \nL 346.276679 250.225123 \nL 346.78782 260.524311 \nL 347.316 268.360651 \nL 347.84418 258.061462 \nL 348.321245 266.681435 \nL 348.849425 269.704023 \nL 349.360566 262.763266 \nL 349.888746 257.725619 \nL 350.399888 256.71809 \nL 350.928068 257.613671 \nL 351.456247 257.725619 \nL 351.967389 263.434952 \nL 352.495569 257.389776 \nL 353.00671 258.17341 \nL 353.53489 254.479136 \nL 354.06307 255.598613 \nL 354.540135 252.016286 \nL 355.068315 246.306953 \nL 355.579457 257.949514 \nL 356.107636 263.211056 \nL 356.618778 262.091579 \nL 357.146958 256.158351 \nL 357.675137 256.71809 \nL 358.186279 262.427422 \nL 358.714459 262.203527 \nL 359.2256 262.875213 \nL 359.75378 252.687972 \nL 360.28196 265.338063 \nL 360.759025 256.046403 \nL 361.287205 261.195998 \nL 361.798347 260.412364 \nL 362.326526 255.150822 \nL 362.837668 253.471606 \nL 363.365848 257.725619 \nL 363.894027 250.449018 \nL 364.405169 254.926926 \nL 364.933349 243.620208 \nL 365.44449 245.523319 \nL 365.97267 242.276836 \nL 366.50085 244.403842 \nL 366.994953 245.411372 \nL 367.523133 238.918405 \nL 368.034275 243.956051 \nL 368.562455 238.470614 \nL 369.073596 240.373725 \nL 369.601776 238.806457 \nL 370.129956 228.395321 \nL 370.641097 220.782877 \nL 371.169277 229.962589 \nL 371.680419 213.954067 \nL 372.208598 223.805465 \nL 372.736778 215.521335 \nL 373.213844 210.147845 \nL 373.742023 229.738693 \nL 374.253165 219.103661 \nL 374.781345 229.290902 \nL 375.820666 220.558982 \nL 376.348846 228.059478 \nL 376.859987 219.6634 \nL 377.388167 200.072552 \nL 378.427488 223.805465 \nL 378.955668 217.536394 \nL 379.432734 214.625753 \nL 379.960913 206.453571 \nL 380.472055 210.483688 \nL 381.000235 221.230668 \nL 381.511376 201.751768 \nL 382.039556 213.058486 \nL 382.567736 208.692525 \nL 383.078877 202.983192 \nL 383.607057 211.155375 \nL 384.118199 203.09514 \nL 384.646379 201.751768 \nL 385.174558 224.02936 \nL 385.651624 215.74523 \nL 386.179803 189.997259 \nL 386.690945 202.423454 \nL 387.219125 188.318043 \nL 387.730267 194.922958 \nL 388.258446 196.714121 \nL 388.786626 186.191037 \nL 389.297768 204.774356 \nL 389.825947 192.012317 \nL 390.337089 194.922958 \nL 390.865269 200.968134 \nL 391.393448 186.079089 \nL 391.887552 198.841127 \nL 392.415732 193.019847 \nL 392.926873 194.699062 \nL 393.455053 188.541939 \nL 393.966195 184.511821 \nL 394.494374 192.124265 \nL 395.022554 203.654879 \nL 395.533696 176.227691 \nL 396.061875 195.594644 \nL 396.573017 183.056501 \nL 397.101197 189.997259 \nL 397.629377 180.929495 \nL 398.106442 189.997259 \nL 398.634622 194.922958 \nL 399.145763 193.691533 \nL 399.673943 183.392344 \nL 400.713264 193.467638 \nL 401.241444 191.004788 \nL 401.752586 182.496763 \nL 402.280766 180.705599 \nL 402.791907 191.452579 \nL 403.320087 177.794959 \nL 403.848267 180.257809 \nL 404.325332 175.667953 \nL 404.853512 180.369756 \nL 405.364654 171.301992 \nL 405.892833 189.773363 \nL 406.403975 187.9822 \nL 406.932155 179.026384 \nL 408.499656 191.004788 \nL 409.010797 200.632291 \nL 409.538977 185.967141 \nL 410.067157 197.72165 \nL 411.072402 180.817547 \nL 411.583544 178.466645 \nL 412.111723 184.064031 \nL 412.622865 184.399874 \nL 413.151045 169.286934 \nL 413.679224 176.451587 \nL 414.190366 174.884319 \nL 414.718546 171.749783 \nL 415.229687 149.919981 \nL 415.757867 146.225707 \nL 416.286047 149.808034 \nL 417.30833 218.431975 \nL 417.819472 206.901362 \nL 418.858793 152.382831 \nL 419.386973 166.936032 \nL 420.426294 150.47972 \nL 420.954474 150.47972 \nL 421.465616 142.531433 \nL 421.993795 140.74027 \nL 422.521975 166.04045 \nL 422.999041 133.351721 \nL 423.52722 155.853209 \nL 424.038362 145.330125 \nL 424.566542 138.501316 \nL 425.077683 144.434544 \nL 425.605863 144.770387 \nL 426.134043 146.673498 \nL 426.645184 146.449602 \nL 427.173364 132.344192 \nL 427.684506 130.441081 \nL 428.212685 132.680035 \nL 428.740865 128.985761 \nL 429.217931 131.560558 \nL 429.74611 119.470206 \nL 430.257252 151.823092 \nL 430.785432 149.584138 \nL 431.296573 168.615248 \nL 431.824753 151.823092 \nL 432.352933 156.636843 \nL 432.864074 162.570072 \nL 433.392254 163.801496 \nL 433.903396 176.78743 \nL 434.431575 170.854202 \nL 434.959755 166.600189 \nL 435.965 171.637836 \nL 436.476142 145.889864 \nL 437.004322 164.137339 \nL 437.515463 159.771379 \nL 438.043643 175.779901 \nL 438.571823 169.734725 \nL 439.082965 170.070568 \nL 439.611144 153.726203 \nL 440.122286 152.942569 \nL 440.650466 168.615248 \nL 441.178645 149.47219 \nL 441.672749 176.339639 \nL 442.200929 168.167457 \nL 442.71207 175.891848 \nL 443.24025 174.660424 \nL 443.751392 181.601181 \nL 444.279571 167.495771 \nL 444.807751 171.301992 \nL 445.318893 171.861731 \nL 445.847072 178.24275 \nL 446.358214 153.726203 \nL 446.886394 171.190045 \nL 447.414573 156.412948 \nL 447.891639 171.525888 \nL 448.419819 166.712137 \nL 448.93096 179.69807 \nL 449.970282 163.353706 \nL 449.970282 163.353706 \n\" clip-path=\"url(#p22f3afd4ec)\" style=\"fill: none; stroke: #36454f; stroke-width: 1.5; stroke-linecap: square\"/>\n   </g>\n   <g id=\"patch_3\">\n    <path d=\"M 36.15 280.988352 \nL 451.026641 280.988352 \n\" style=\"fill: none; stroke: #000000; stroke-width: 0.8; stroke-linejoin: miter; stroke-linecap: square\"/>\n   </g>\n   <g id=\"text_17\">\n    <!-- Annualized Housing Units Started (Private) -->\n    <g transform=\"translate(36.15 17.837812) scale(0.14 -0.14)\">\n     <defs>\n      <path id=\"DejaVuSans-41\" d=\"M 2188 4044 \nL 1331 1722 \nL 3047 1722 \nL 2188 4044 \nz\nM 1831 4666 \nL 2547 4666 \nL 4325 0 \nL 3669 0 \nL 3244 1197 \nL 1141 1197 \nL 716 0 \nL 50 0 \nL 1831 4666 \nz\n\" transform=\"scale(0.015625)\"/>\n      <path id=\"DejaVuSans-6e\" d=\"M 3513 2113 \nL 3513 0 \nL 2938 0 \nL 2938 2094 \nQ 2938 2591 2744 2837 \nQ 2550 3084 2163 3084 \nQ 1697 3084 1428 2787 \nQ 1159 2491 1159 1978 \nL 1159 0 \nL 581 0 \nL 581 3500 \nL 1159 3500 \nL 1159 2956 \nQ 1366 3272 1645 3428 \nQ 1925 3584 2291 3584 \nQ 2894 3584 3203 3211 \nQ 3513 2838 3513 2113 \nz\n\" transform=\"scale(0.015625)\"/>\n      <path id=\"DejaVuSans-75\" d=\"M 544 1381 \nL 544 3500 \nL 1119 3500 \nL 1119 1403 \nQ 1119 906 1312 657 \nQ 1506 409 1894 409 \nQ 2359 409 2629 706 \nQ 2900 1003 2900 1516 \nL 2900 3500 \nL 3475 3500 \nL 3475 0 \nL 2900 0 \nL 2900 538 \nQ 2691 219 2414 64 \nQ 2138 -91 1772 -91 \nQ 1169 -91 856 284 \nQ 544 659 544 1381 \nz\nM 1991 3584 \nL 1991 3584 \nz\n\" transform=\"scale(0.015625)\"/>\n      <path id=\"DejaVuSans-61\" d=\"M 2194 1759 \nQ 1497 1759 1228 1600 \nQ 959 1441 959 1056 \nQ 959 750 1161 570 \nQ 1363 391 1709 391 \nQ 2188 391 2477 730 \nQ 2766 1069 2766 1631 \nL 2766 1759 \nL 2194 1759 \nz\nM 3341 1997 \nL 3341 0 \nL 2766 0 \nL 2766 531 \nQ 2569 213 2275 61 \nQ 1981 -91 1556 -91 \nQ 1019 -91 701 211 \nQ 384 513 384 1019 \nQ 384 1609 779 1909 \nQ 1175 2209 1959 2209 \nL 2766 2209 \nL 2766 2266 \nQ 2766 2663 2505 2880 \nQ 2244 3097 1772 3097 \nQ 1472 3097 1187 3025 \nQ 903 2953 641 2809 \nL 641 3341 \nQ 956 3463 1253 3523 \nQ 1550 3584 1831 3584 \nQ 2591 3584 2966 3190 \nQ 3341 2797 3341 1997 \nz\n\" transform=\"scale(0.015625)\"/>\n      <path id=\"DejaVuSans-6c\" d=\"M 603 4863 \nL 1178 4863 \nL 1178 0 \nL 603 0 \nL 603 4863 \nz\n\" transform=\"scale(0.015625)\"/>\n      <path id=\"DejaVuSans-69\" d=\"M 603 3500 \nL 1178 3500 \nL 1178 0 \nL 603 0 \nL 603 3500 \nz\nM 603 4863 \nL 1178 4863 \nL 1178 4134 \nL 603 4134 \nL 603 4863 \nz\n\" transform=\"scale(0.015625)\"/>\n      <path id=\"DejaVuSans-7a\" d=\"M 353 3500 \nL 3084 3500 \nL 3084 2975 \nL 922 459 \nL 3084 459 \nL 3084 0 \nL 275 0 \nL 275 525 \nL 2438 3041 \nL 353 3041 \nL 353 3500 \nz\n\" transform=\"scale(0.015625)\"/>\n      <path id=\"DejaVuSans-65\" d=\"M 3597 1894 \nL 3597 1613 \nL 953 1613 \nQ 991 1019 1311 708 \nQ 1631 397 2203 397 \nQ 2534 397 2845 478 \nQ 3156 559 3463 722 \nL 3463 178 \nQ 3153 47 2828 -22 \nQ 2503 -91 2169 -91 \nQ 1331 -91 842 396 \nQ 353 884 353 1716 \nQ 353 2575 817 3079 \nQ 1281 3584 2069 3584 \nQ 2775 3584 3186 3129 \nQ 3597 2675 3597 1894 \nz\nM 3022 2063 \nQ 3016 2534 2758 2815 \nQ 2500 3097 2075 3097 \nQ 1594 3097 1305 2825 \nQ 1016 2553 972 2059 \nL 3022 2063 \nz\n\" transform=\"scale(0.015625)\"/>\n      <path id=\"DejaVuSans-64\" d=\"M 2906 2969 \nL 2906 4863 \nL 3481 4863 \nL 3481 0 \nL 2906 0 \nL 2906 525 \nQ 2725 213 2448 61 \nQ 2172 -91 1784 -91 \nQ 1150 -91 751 415 \nQ 353 922 353 1747 \nQ 353 2572 751 3078 \nQ 1150 3584 1784 3584 \nQ 2172 3584 2448 3432 \nQ 2725 3281 2906 2969 \nz\nM 947 1747 \nQ 947 1113 1208 752 \nQ 1469 391 1925 391 \nQ 2381 391 2643 752 \nQ 2906 1113 2906 1747 \nQ 2906 2381 2643 2742 \nQ 2381 3103 1925 3103 \nQ 1469 3103 1208 2742 \nQ 947 2381 947 1747 \nz\n\" transform=\"scale(0.015625)\"/>\n      <path id=\"DejaVuSans-20\" transform=\"scale(0.015625)\"/>\n      <path id=\"DejaVuSans-48\" d=\"M 628 4666 \nL 1259 4666 \nL 1259 2753 \nL 3553 2753 \nL 3553 4666 \nL 4184 4666 \nL 4184 0 \nL 3553 0 \nL 3553 2222 \nL 1259 2222 \nL 1259 0 \nL 628 0 \nL 628 4666 \nz\n\" transform=\"scale(0.015625)\"/>\n      <path id=\"DejaVuSans-6f\" d=\"M 1959 3097 \nQ 1497 3097 1228 2736 \nQ 959 2375 959 1747 \nQ 959 1119 1226 758 \nQ 1494 397 1959 397 \nQ 2419 397 2687 759 \nQ 2956 1122 2956 1747 \nQ 2956 2369 2687 2733 \nQ 2419 3097 1959 3097 \nz\nM 1959 3584 \nQ 2709 3584 3137 3096 \nQ 3566 2609 3566 1747 \nQ 3566 888 3137 398 \nQ 2709 -91 1959 -91 \nQ 1206 -91 779 398 \nQ 353 888 353 1747 \nQ 353 2609 779 3096 \nQ 1206 3584 1959 3584 \nz\n\" transform=\"scale(0.015625)\"/>\n      <path id=\"DejaVuSans-73\" d=\"M 2834 3397 \nL 2834 2853 \nQ 2591 2978 2328 3040 \nQ 2066 3103 1784 3103 \nQ 1356 3103 1142 2972 \nQ 928 2841 928 2578 \nQ 928 2378 1081 2264 \nQ 1234 2150 1697 2047 \nL 1894 2003 \nQ 2506 1872 2764 1633 \nQ 3022 1394 3022 966 \nQ 3022 478 2636 193 \nQ 2250 -91 1575 -91 \nQ 1294 -91 989 -36 \nQ 684 19 347 128 \nL 347 722 \nQ 666 556 975 473 \nQ 1284 391 1588 391 \nQ 1994 391 2212 530 \nQ 2431 669 2431 922 \nQ 2431 1156 2273 1281 \nQ 2116 1406 1581 1522 \nL 1381 1569 \nQ 847 1681 609 1914 \nQ 372 2147 372 2553 \nQ 372 3047 722 3315 \nQ 1072 3584 1716 3584 \nQ 2034 3584 2315 3537 \nQ 2597 3491 2834 3397 \nz\n\" transform=\"scale(0.015625)\"/>\n      <path id=\"DejaVuSans-67\" d=\"M 2906 1791 \nQ 2906 2416 2648 2759 \nQ 2391 3103 1925 3103 \nQ 1463 3103 1205 2759 \nQ 947 2416 947 1791 \nQ 947 1169 1205 825 \nQ 1463 481 1925 481 \nQ 2391 481 2648 825 \nQ 2906 1169 2906 1791 \nz\nM 3481 434 \nQ 3481 -459 3084 -895 \nQ 2688 -1331 1869 -1331 \nQ 1566 -1331 1297 -1286 \nQ 1028 -1241 775 -1147 \nL 775 -588 \nQ 1028 -725 1275 -790 \nQ 1522 -856 1778 -856 \nQ 2344 -856 2625 -561 \nQ 2906 -266 2906 331 \nL 2906 616 \nQ 2728 306 2450 153 \nQ 2172 0 1784 0 \nQ 1141 0 747 490 \nQ 353 981 353 1791 \nQ 353 2603 747 3093 \nQ 1141 3584 1784 3584 \nQ 2172 3584 2450 3431 \nQ 2728 3278 2906 2969 \nL 2906 3500 \nL 3481 3500 \nL 3481 434 \nz\n\" transform=\"scale(0.015625)\"/>\n      <path id=\"DejaVuSans-55\" d=\"M 556 4666 \nL 1191 4666 \nL 1191 1831 \nQ 1191 1081 1462 751 \nQ 1734 422 2344 422 \nQ 2950 422 3222 751 \nQ 3494 1081 3494 1831 \nL 3494 4666 \nL 4128 4666 \nL 4128 1753 \nQ 4128 841 3676 375 \nQ 3225 -91 2344 -91 \nQ 1459 -91 1007 375 \nQ 556 841 556 1753 \nL 556 4666 \nz\n\" transform=\"scale(0.015625)\"/>\n      <path id=\"DejaVuSans-74\" d=\"M 1172 4494 \nL 1172 3500 \nL 2356 3500 \nL 2356 3053 \nL 1172 3053 \nL 1172 1153 \nQ 1172 725 1289 603 \nQ 1406 481 1766 481 \nL 2356 481 \nL 2356 0 \nL 1766 0 \nQ 1100 0 847 248 \nQ 594 497 594 1153 \nL 594 3053 \nL 172 3053 \nL 172 3500 \nL 594 3500 \nL 594 4494 \nL 1172 4494 \nz\n\" transform=\"scale(0.015625)\"/>\n      <path id=\"DejaVuSans-53\" d=\"M 3425 4513 \nL 3425 3897 \nQ 3066 4069 2747 4153 \nQ 2428 4238 2131 4238 \nQ 1616 4238 1336 4038 \nQ 1056 3838 1056 3469 \nQ 1056 3159 1242 3001 \nQ 1428 2844 1947 2747 \nL 2328 2669 \nQ 3034 2534 3370 2195 \nQ 3706 1856 3706 1288 \nQ 3706 609 3251 259 \nQ 2797 -91 1919 -91 \nQ 1588 -91 1214 -16 \nQ 841 59 441 206 \nL 441 856 \nQ 825 641 1194 531 \nQ 1563 422 1919 422 \nQ 2459 422 2753 634 \nQ 3047 847 3047 1241 \nQ 3047 1584 2836 1778 \nQ 2625 1972 2144 2069 \nL 1759 2144 \nQ 1053 2284 737 2584 \nQ 422 2884 422 3419 \nQ 422 4038 858 4394 \nQ 1294 4750 2059 4750 \nQ 2388 4750 2728 4690 \nQ 3069 4631 3425 4513 \nz\n\" transform=\"scale(0.015625)\"/>\n      <path id=\"DejaVuSans-72\" d=\"M 2631 2963 \nQ 2534 3019 2420 3045 \nQ 2306 3072 2169 3072 \nQ 1681 3072 1420 2755 \nQ 1159 2438 1159 1844 \nL 1159 0 \nL 581 0 \nL 581 3500 \nL 1159 3500 \nL 1159 2956 \nQ 1341 3275 1631 3429 \nQ 1922 3584 2338 3584 \nQ 2397 3584 2469 3576 \nQ 2541 3569 2628 3553 \nL 2631 2963 \nz\n\" transform=\"scale(0.015625)\"/>\n      <path id=\"DejaVuSans-28\" d=\"M 1984 4856 \nQ 1566 4138 1362 3434 \nQ 1159 2731 1159 2009 \nQ 1159 1288 1364 580 \nQ 1569 -128 1984 -844 \nL 1484 -844 \nQ 1016 -109 783 600 \nQ 550 1309 550 2009 \nQ 550 2706 781 3412 \nQ 1013 4119 1484 4856 \nL 1984 4856 \nz\n\" transform=\"scale(0.015625)\"/>\n      <path id=\"DejaVuSans-50\" d=\"M 1259 4147 \nL 1259 2394 \nL 2053 2394 \nQ 2494 2394 2734 2622 \nQ 2975 2850 2975 3272 \nQ 2975 3691 2734 3919 \nQ 2494 4147 2053 4147 \nL 1259 4147 \nz\nM 628 4666 \nL 2053 4666 \nQ 2838 4666 3239 4311 \nQ 3641 3956 3641 3272 \nQ 3641 2581 3239 2228 \nQ 2838 1875 2053 1875 \nL 1259 1875 \nL 1259 0 \nL 628 0 \nL 628 4666 \nz\n\" transform=\"scale(0.015625)\"/>\n      <path id=\"DejaVuSans-76\" d=\"M 191 3500 \nL 800 3500 \nL 1894 563 \nL 2988 3500 \nL 3597 3500 \nL 2284 0 \nL 1503 0 \nL 191 3500 \nz\n\" transform=\"scale(0.015625)\"/>\n      <path id=\"DejaVuSans-29\" d=\"M 513 4856 \nL 1013 4856 \nQ 1481 4119 1714 3412 \nQ 1947 2706 1947 2009 \nQ 1947 1309 1714 600 \nQ 1481 -109 1013 -844 \nL 513 -844 \nQ 928 -128 1133 580 \nQ 1338 1288 1338 2009 \nQ 1338 2731 1133 3434 \nQ 928 4138 513 4856 \nz\n\" transform=\"scale(0.015625)\"/>\n     </defs>\n     <use xlink:href=\"#DejaVuSans-41\"/>\n     <use xlink:href=\"#DejaVuSans-6e\" transform=\"translate(68.408203 0)\"/>\n     <use xlink:href=\"#DejaVuSans-6e\" transform=\"translate(131.787109 0)\"/>\n     <use xlink:href=\"#DejaVuSans-75\" transform=\"translate(195.166016 0)\"/>\n     <use xlink:href=\"#DejaVuSans-61\" transform=\"translate(258.544922 0)\"/>\n     <use xlink:href=\"#DejaVuSans-6c\" transform=\"translate(319.824219 0)\"/>\n     <use xlink:href=\"#DejaVuSans-69\" transform=\"translate(347.607422 0)\"/>\n     <use xlink:href=\"#DejaVuSans-7a\" transform=\"translate(375.390625 0)\"/>\n     <use xlink:href=\"#DejaVuSans-65\" transform=\"translate(427.880859 0)\"/>\n     <use xlink:href=\"#DejaVuSans-64\" transform=\"translate(489.404297 0)\"/>\n     <use xlink:href=\"#DejaVuSans-20\" transform=\"translate(552.880859 0)\"/>\n     <use xlink:href=\"#DejaVuSans-48\" transform=\"translate(584.667969 0)\"/>\n     <use xlink:href=\"#DejaVuSans-6f\" transform=\"translate(659.863281 0)\"/>\n     <use xlink:href=\"#DejaVuSans-75\" transform=\"translate(721.044922 0)\"/>\n     <use xlink:href=\"#DejaVuSans-73\" transform=\"translate(784.423828 0)\"/>\n     <use xlink:href=\"#DejaVuSans-69\" transform=\"translate(836.523438 0)\"/>\n     <use xlink:href=\"#DejaVuSans-6e\" transform=\"translate(864.306641 0)\"/>\n     <use xlink:href=\"#DejaVuSans-67\" transform=\"translate(927.685547 0)\"/>\n     <use xlink:href=\"#DejaVuSans-20\" transform=\"translate(991.162109 0)\"/>\n     <use xlink:href=\"#DejaVuSans-55\" transform=\"translate(1022.949219 0)\"/>\n     <use xlink:href=\"#DejaVuSans-6e\" transform=\"translate(1096.142578 0)\"/>\n     <use xlink:href=\"#DejaVuSans-69\" transform=\"translate(1159.521484 0)\"/>\n     <use xlink:href=\"#DejaVuSans-74\" transform=\"translate(1187.304688 0)\"/>\n     <use xlink:href=\"#DejaVuSans-73\" transform=\"translate(1226.513672 0)\"/>\n     <use xlink:href=\"#DejaVuSans-20\" transform=\"translate(1278.613281 0)\"/>\n     <use xlink:href=\"#DejaVuSans-53\" transform=\"translate(1310.400391 0)\"/>\n     <use xlink:href=\"#DejaVuSans-74\" transform=\"translate(1373.876953 0)\"/>\n     <use xlink:href=\"#DejaVuSans-61\" transform=\"translate(1413.085938 0)\"/>\n     <use xlink:href=\"#DejaVuSans-72\" transform=\"translate(1474.365234 0)\"/>\n     <use xlink:href=\"#DejaVuSans-74\" transform=\"translate(1515.478516 0)\"/>\n     <use xlink:href=\"#DejaVuSans-65\" transform=\"translate(1554.6875 0)\"/>\n     <use xlink:href=\"#DejaVuSans-64\" transform=\"translate(1616.210938 0)\"/>\n     <use xlink:href=\"#DejaVuSans-20\" transform=\"translate(1679.6875 0)\"/>\n     <use xlink:href=\"#DejaVuSans-28\" transform=\"translate(1711.474609 0)\"/>\n     <use xlink:href=\"#DejaVuSans-50\" transform=\"translate(1750.488281 0)\"/>\n     <use xlink:href=\"#DejaVuSans-72\" transform=\"translate(1809.041016 0)\"/>\n     <use xlink:href=\"#DejaVuSans-69\" transform=\"translate(1850.154297 0)\"/>\n     <use xlink:href=\"#DejaVuSans-76\" transform=\"translate(1877.9375 0)\"/>\n     <use xlink:href=\"#DejaVuSans-61\" transform=\"translate(1937.117188 0)\"/>\n     <use xlink:href=\"#DejaVuSans-74\" transform=\"translate(1998.396484 0)\"/>\n     <use xlink:href=\"#DejaVuSans-65\" transform=\"translate(2037.605469 0)\"/>\n     <use xlink:href=\"#DejaVuSans-29\" transform=\"translate(2099.128906 0)\"/>\n    </g>\n   </g>\n   <g id=\"text_18\">\n    <!-- Thousands -->\n    <g transform=\"translate(36.15 30.250574) scale(0.08 -0.08)\">\n     <defs>\n      <path id=\"DejaVuSans-54\" d=\"M -19 4666 \nL 3928 4666 \nL 3928 4134 \nL 2272 4134 \nL 2272 0 \nL 1638 0 \nL 1638 4134 \nL -19 4134 \nL -19 4666 \nz\n\" transform=\"scale(0.015625)\"/>\n      <path id=\"DejaVuSans-68\" d=\"M 3513 2113 \nL 3513 0 \nL 2938 0 \nL 2938 2094 \nQ 2938 2591 2744 2837 \nQ 2550 3084 2163 3084 \nQ 1697 3084 1428 2787 \nQ 1159 2491 1159 1978 \nL 1159 0 \nL 581 0 \nL 581 4863 \nL 1159 4863 \nL 1159 2956 \nQ 1366 3272 1645 3428 \nQ 1925 3584 2291 3584 \nQ 2894 3584 3203 3211 \nQ 3513 2838 3513 2113 \nz\n\" transform=\"scale(0.015625)\"/>\n     </defs>\n     <use xlink:href=\"#DejaVuSans-54\"/>\n     <use xlink:href=\"#DejaVuSans-68\" transform=\"translate(61.083984 0)\"/>\n     <use xlink:href=\"#DejaVuSans-6f\" transform=\"translate(124.462891 0)\"/>\n     <use xlink:href=\"#DejaVuSans-75\" transform=\"translate(185.644531 0)\"/>\n     <use xlink:href=\"#DejaVuSans-73\" transform=\"translate(249.023438 0)\"/>\n     <use xlink:href=\"#DejaVuSans-61\" transform=\"translate(301.123047 0)\"/>\n     <use xlink:href=\"#DejaVuSans-6e\" transform=\"translate(362.402344 0)\"/>\n     <use xlink:href=\"#DejaVuSans-64\" transform=\"translate(425.78125 0)\"/>\n     <use xlink:href=\"#DejaVuSans-73\" transform=\"translate(489.257812 0)\"/>\n    </g>\n   </g>\n   <g id=\"patch_4\">\n    <path d=\"M 459.343234 158.300558 \nQ 455.536616 160.352782 451.729999 162.405007 \n\" style=\"fill: none; stroke: #36454f; stroke-linecap: round\"/>\n   </g>\n   <g id=\"text_19\">\n    <!-- 1,428 -->\n    <g transform=\"translate(457.970282 153.274018) scale(0.1 -0.1)\">\n     <defs>\n      <path id=\"DejaVuSans-Bold-31\" d=\"M 750 831 \nL 1813 831 \nL 1813 3847 \nL 722 3622 \nL 722 4441 \nL 1806 4666 \nL 2950 4666 \nL 2950 831 \nL 4013 831 \nL 4013 0 \nL 750 0 \nL 750 831 \nz\n\" transform=\"scale(0.015625)\"/>\n      <path id=\"DejaVuSans-Bold-2c\" d=\"M 653 1209 \nL 1778 1209 \nL 1778 256 \nL 1006 -909 \nL 341 -909 \nL 653 256 \nL 653 1209 \nz\n\" transform=\"scale(0.015625)\"/>\n      <path id=\"DejaVuSans-Bold-34\" d=\"M 2356 3675 \nL 1038 1722 \nL 2356 1722 \nL 2356 3675 \nz\nM 2156 4666 \nL 3494 4666 \nL 3494 1722 \nL 4159 1722 \nL 4159 850 \nL 3494 850 \nL 3494 0 \nL 2356 0 \nL 2356 850 \nL 288 850 \nL 288 1881 \nL 2156 4666 \nz\n\" transform=\"scale(0.015625)\"/>\n      <path id=\"DejaVuSans-Bold-32\" d=\"M 1844 884 \nL 3897 884 \nL 3897 0 \nL 506 0 \nL 506 884 \nL 2209 2388 \nQ 2438 2594 2547 2791 \nQ 2656 2988 2656 3200 \nQ 2656 3528 2436 3728 \nQ 2216 3928 1850 3928 \nQ 1569 3928 1234 3808 \nQ 900 3688 519 3450 \nL 519 4475 \nQ 925 4609 1322 4679 \nQ 1719 4750 2100 4750 \nQ 2938 4750 3402 4381 \nQ 3866 4013 3866 3353 \nQ 3866 2972 3669 2642 \nQ 3472 2313 2841 1759 \nL 1844 884 \nz\n\" transform=\"scale(0.015625)\"/>\n      <path id=\"DejaVuSans-Bold-38\" d=\"M 2228 2088 \nQ 1891 2088 1709 1903 \nQ 1528 1719 1528 1375 \nQ 1528 1031 1709 848 \nQ 1891 666 2228 666 \nQ 2563 666 2741 848 \nQ 2919 1031 2919 1375 \nQ 2919 1722 2741 1905 \nQ 2563 2088 2228 2088 \nz\nM 1350 2484 \nQ 925 2613 709 2878 \nQ 494 3144 494 3541 \nQ 494 4131 934 4440 \nQ 1375 4750 2228 4750 \nQ 3075 4750 3515 4442 \nQ 3956 4134 3956 3541 \nQ 3956 3144 3739 2878 \nQ 3522 2613 3097 2484 \nQ 3572 2353 3814 2058 \nQ 4056 1763 4056 1313 \nQ 4056 619 3595 264 \nQ 3134 -91 2228 -91 \nQ 1319 -91 855 264 \nQ 391 619 391 1313 \nQ 391 1763 633 2058 \nQ 875 2353 1350 2484 \nz\nM 1631 3419 \nQ 1631 3141 1786 2991 \nQ 1941 2841 2228 2841 \nQ 2509 2841 2662 2991 \nQ 2816 3141 2816 3419 \nQ 2816 3697 2662 3845 \nQ 2509 3994 2228 3994 \nQ 1941 3994 1786 3844 \nQ 1631 3694 1631 3419 \nz\n\" transform=\"scale(0.015625)\"/>\n     </defs>\n     <use xlink:href=\"#DejaVuSans-Bold-31\"/>\n     <use xlink:href=\"#DejaVuSans-Bold-2c\" transform=\"translate(69.580078 0)\"/>\n     <use xlink:href=\"#DejaVuSans-Bold-34\" transform=\"translate(107.568359 0)\"/>\n     <use xlink:href=\"#DejaVuSans-Bold-32\" transform=\"translate(177.148438 0)\"/>\n     <use xlink:href=\"#DejaVuSans-Bold-38\" transform=\"translate(246.728516 0)\"/>\n    </g>\n   </g>\n   <g id=\"text_20\">\n    <!-- Sources: U.S. Census Bureau; U.S. Department of Housing and Urban Development via FRED -->\n    <g transform=\"translate(36.15 308.021374) scale(0.08 -0.08)\">\n     <defs>\n      <path id=\"DejaVuSans-63\" d=\"M 3122 3366 \nL 3122 2828 \nQ 2878 2963 2633 3030 \nQ 2388 3097 2138 3097 \nQ 1578 3097 1268 2742 \nQ 959 2388 959 1747 \nQ 959 1106 1268 751 \nQ 1578 397 2138 397 \nQ 2388 397 2633 464 \nQ 2878 531 3122 666 \nL 3122 134 \nQ 2881 22 2623 -34 \nQ 2366 -91 2075 -91 \nQ 1284 -91 818 406 \nQ 353 903 353 1747 \nQ 353 2603 823 3093 \nQ 1294 3584 2113 3584 \nQ 2378 3584 2631 3529 \nQ 2884 3475 3122 3366 \nz\n\" transform=\"scale(0.015625)\"/>\n      <path id=\"DejaVuSans-3a\" d=\"M 750 794 \nL 1409 794 \nL 1409 0 \nL 750 0 \nL 750 794 \nz\nM 750 3309 \nL 1409 3309 \nL 1409 2516 \nL 750 2516 \nL 750 3309 \nz\n\" transform=\"scale(0.015625)\"/>\n      <path id=\"DejaVuSans-2e\" d=\"M 684 794 \nL 1344 794 \nL 1344 0 \nL 684 0 \nL 684 794 \nz\n\" transform=\"scale(0.015625)\"/>\n      <path id=\"DejaVuSans-43\" d=\"M 4122 4306 \nL 4122 3641 \nQ 3803 3938 3442 4084 \nQ 3081 4231 2675 4231 \nQ 1875 4231 1450 3742 \nQ 1025 3253 1025 2328 \nQ 1025 1406 1450 917 \nQ 1875 428 2675 428 \nQ 3081 428 3442 575 \nQ 3803 722 4122 1019 \nL 4122 359 \nQ 3791 134 3420 21 \nQ 3050 -91 2638 -91 \nQ 1578 -91 968 557 \nQ 359 1206 359 2328 \nQ 359 3453 968 4101 \nQ 1578 4750 2638 4750 \nQ 3056 4750 3426 4639 \nQ 3797 4528 4122 4306 \nz\n\" transform=\"scale(0.015625)\"/>\n      <path id=\"DejaVuSans-42\" d=\"M 1259 2228 \nL 1259 519 \nL 2272 519 \nQ 2781 519 3026 730 \nQ 3272 941 3272 1375 \nQ 3272 1813 3026 2020 \nQ 2781 2228 2272 2228 \nL 1259 2228 \nz\nM 1259 4147 \nL 1259 2741 \nL 2194 2741 \nQ 2656 2741 2882 2914 \nQ 3109 3088 3109 3444 \nQ 3109 3797 2882 3972 \nQ 2656 4147 2194 4147 \nL 1259 4147 \nz\nM 628 4666 \nL 2241 4666 \nQ 2963 4666 3353 4366 \nQ 3744 4066 3744 3513 \nQ 3744 3084 3544 2831 \nQ 3344 2578 2956 2516 \nQ 3422 2416 3680 2098 \nQ 3938 1781 3938 1306 \nQ 3938 681 3513 340 \nQ 3088 0 2303 0 \nL 628 0 \nL 628 4666 \nz\n\" transform=\"scale(0.015625)\"/>\n      <path id=\"DejaVuSans-3b\" d=\"M 750 3309 \nL 1409 3309 \nL 1409 2516 \nL 750 2516 \nL 750 3309 \nz\nM 750 794 \nL 1409 794 \nL 1409 256 \nL 897 -744 \nL 494 -744 \nL 750 256 \nL 750 794 \nz\n\" transform=\"scale(0.015625)\"/>\n      <path id=\"DejaVuSans-44\" d=\"M 1259 4147 \nL 1259 519 \nL 2022 519 \nQ 2988 519 3436 956 \nQ 3884 1394 3884 2338 \nQ 3884 3275 3436 3711 \nQ 2988 4147 2022 4147 \nL 1259 4147 \nz\nM 628 4666 \nL 1925 4666 \nQ 3281 4666 3915 4102 \nQ 4550 3538 4550 2338 \nQ 4550 1131 3912 565 \nQ 3275 0 1925 0 \nL 628 0 \nL 628 4666 \nz\n\" transform=\"scale(0.015625)\"/>\n      <path id=\"DejaVuSans-70\" d=\"M 1159 525 \nL 1159 -1331 \nL 581 -1331 \nL 581 3500 \nL 1159 3500 \nL 1159 2969 \nQ 1341 3281 1617 3432 \nQ 1894 3584 2278 3584 \nQ 2916 3584 3314 3078 \nQ 3713 2572 3713 1747 \nQ 3713 922 3314 415 \nQ 2916 -91 2278 -91 \nQ 1894 -91 1617 61 \nQ 1341 213 1159 525 \nz\nM 3116 1747 \nQ 3116 2381 2855 2742 \nQ 2594 3103 2138 3103 \nQ 1681 3103 1420 2742 \nQ 1159 2381 1159 1747 \nQ 1159 1113 1420 752 \nQ 1681 391 2138 391 \nQ 2594 391 2855 752 \nQ 3116 1113 3116 1747 \nz\n\" transform=\"scale(0.015625)\"/>\n      <path id=\"DejaVuSans-6d\" d=\"M 3328 2828 \nQ 3544 3216 3844 3400 \nQ 4144 3584 4550 3584 \nQ 5097 3584 5394 3201 \nQ 5691 2819 5691 2113 \nL 5691 0 \nL 5113 0 \nL 5113 2094 \nQ 5113 2597 4934 2840 \nQ 4756 3084 4391 3084 \nQ 3944 3084 3684 2787 \nQ 3425 2491 3425 1978 \nL 3425 0 \nL 2847 0 \nL 2847 2094 \nQ 2847 2600 2669 2842 \nQ 2491 3084 2119 3084 \nQ 1678 3084 1418 2786 \nQ 1159 2488 1159 1978 \nL 1159 0 \nL 581 0 \nL 581 3500 \nL 1159 3500 \nL 1159 2956 \nQ 1356 3278 1631 3431 \nQ 1906 3584 2284 3584 \nQ 2666 3584 2933 3390 \nQ 3200 3197 3328 2828 \nz\n\" transform=\"scale(0.015625)\"/>\n      <path id=\"DejaVuSans-66\" d=\"M 2375 4863 \nL 2375 4384 \nL 1825 4384 \nQ 1516 4384 1395 4259 \nQ 1275 4134 1275 3809 \nL 1275 3500 \nL 2222 3500 \nL 2222 3053 \nL 1275 3053 \nL 1275 0 \nL 697 0 \nL 697 3053 \nL 147 3053 \nL 147 3500 \nL 697 3500 \nL 697 3744 \nQ 697 4328 969 4595 \nQ 1241 4863 1831 4863 \nL 2375 4863 \nz\n\" transform=\"scale(0.015625)\"/>\n      <path id=\"DejaVuSans-62\" d=\"M 3116 1747 \nQ 3116 2381 2855 2742 \nQ 2594 3103 2138 3103 \nQ 1681 3103 1420 2742 \nQ 1159 2381 1159 1747 \nQ 1159 1113 1420 752 \nQ 1681 391 2138 391 \nQ 2594 391 2855 752 \nQ 3116 1113 3116 1747 \nz\nM 1159 2969 \nQ 1341 3281 1617 3432 \nQ 1894 3584 2278 3584 \nQ 2916 3584 3314 3078 \nQ 3713 2572 3713 1747 \nQ 3713 922 3314 415 \nQ 2916 -91 2278 -91 \nQ 1894 -91 1617 61 \nQ 1341 213 1159 525 \nL 1159 0 \nL 581 0 \nL 581 4863 \nL 1159 4863 \nL 1159 2969 \nz\n\" transform=\"scale(0.015625)\"/>\n      <path id=\"DejaVuSans-46\" d=\"M 628 4666 \nL 3309 4666 \nL 3309 4134 \nL 1259 4134 \nL 1259 2759 \nL 3109 2759 \nL 3109 2228 \nL 1259 2228 \nL 1259 0 \nL 628 0 \nL 628 4666 \nz\n\" transform=\"scale(0.015625)\"/>\n      <path id=\"DejaVuSans-52\" d=\"M 2841 2188 \nQ 3044 2119 3236 1894 \nQ 3428 1669 3622 1275 \nL 4263 0 \nL 3584 0 \nL 2988 1197 \nQ 2756 1666 2539 1819 \nQ 2322 1972 1947 1972 \nL 1259 1972 \nL 1259 0 \nL 628 0 \nL 628 4666 \nL 2053 4666 \nQ 2853 4666 3247 4331 \nQ 3641 3997 3641 3322 \nQ 3641 2881 3436 2590 \nQ 3231 2300 2841 2188 \nz\nM 1259 4147 \nL 1259 2491 \nL 2053 2491 \nQ 2509 2491 2742 2702 \nQ 2975 2913 2975 3322 \nQ 2975 3731 2742 3939 \nQ 2509 4147 2053 4147 \nL 1259 4147 \nz\n\" transform=\"scale(0.015625)\"/>\n      <path id=\"DejaVuSans-45\" d=\"M 628 4666 \nL 3578 4666 \nL 3578 4134 \nL 1259 4134 \nL 1259 2753 \nL 3481 2753 \nL 3481 2222 \nL 1259 2222 \nL 1259 531 \nL 3634 531 \nL 3634 0 \nL 628 0 \nL 628 4666 \nz\n\" transform=\"scale(0.015625)\"/>\n     </defs>\n     <use xlink:href=\"#DejaVuSans-53\"/>\n     <use xlink:href=\"#DejaVuSans-6f\" transform=\"translate(63.476562 0)\"/>\n     <use xlink:href=\"#DejaVuSans-75\" transform=\"translate(124.658203 0)\"/>\n     <use xlink:href=\"#DejaVuSans-72\" transform=\"translate(188.037109 0)\"/>\n     <use xlink:href=\"#DejaVuSans-63\" transform=\"translate(226.900391 0)\"/>\n     <use xlink:href=\"#DejaVuSans-65\" transform=\"translate(281.880859 0)\"/>\n     <use xlink:href=\"#DejaVuSans-73\" transform=\"translate(343.404297 0)\"/>\n     <use xlink:href=\"#DejaVuSans-3a\" transform=\"translate(395.503906 0)\"/>\n     <use xlink:href=\"#DejaVuSans-20\" transform=\"translate(429.195312 0)\"/>\n     <use xlink:href=\"#DejaVuSans-55\" transform=\"translate(460.982422 0)\"/>\n     <use xlink:href=\"#DejaVuSans-2e\" transform=\"translate(534.175781 0)\"/>\n     <use xlink:href=\"#DejaVuSans-53\" transform=\"translate(565.962891 0)\"/>\n     <use xlink:href=\"#DejaVuSans-2e\" transform=\"translate(629.439453 0)\"/>\n     <use xlink:href=\"#DejaVuSans-20\" transform=\"translate(661.226562 0)\"/>\n     <use xlink:href=\"#DejaVuSans-43\" transform=\"translate(693.013672 0)\"/>\n     <use xlink:href=\"#DejaVuSans-65\" transform=\"translate(762.837891 0)\"/>\n     <use xlink:href=\"#DejaVuSans-6e\" transform=\"translate(824.361328 0)\"/>\n     <use xlink:href=\"#DejaVuSans-73\" transform=\"translate(887.740234 0)\"/>\n     <use xlink:href=\"#DejaVuSans-75\" transform=\"translate(939.839844 0)\"/>\n     <use xlink:href=\"#DejaVuSans-73\" transform=\"translate(1003.21875 0)\"/>\n     <use xlink:href=\"#DejaVuSans-20\" transform=\"translate(1055.318359 0)\"/>\n     <use xlink:href=\"#DejaVuSans-42\" transform=\"translate(1087.105469 0)\"/>\n     <use xlink:href=\"#DejaVuSans-75\" transform=\"translate(1155.708984 0)\"/>\n     <use xlink:href=\"#DejaVuSans-72\" transform=\"translate(1219.087891 0)\"/>\n     <use xlink:href=\"#DejaVuSans-65\" transform=\"translate(1257.951172 0)\"/>\n     <use xlink:href=\"#DejaVuSans-61\" transform=\"translate(1319.474609 0)\"/>\n     <use xlink:href=\"#DejaVuSans-75\" transform=\"translate(1380.753906 0)\"/>\n     <use xlink:href=\"#DejaVuSans-3b\" transform=\"translate(1444.132812 0)\"/>\n     <use xlink:href=\"#DejaVuSans-20\" transform=\"translate(1477.824219 0)\"/>\n     <use xlink:href=\"#DejaVuSans-55\" transform=\"translate(1509.611328 0)\"/>\n     <use xlink:href=\"#DejaVuSans-2e\" transform=\"translate(1582.804688 0)\"/>\n     <use xlink:href=\"#DejaVuSans-53\" transform=\"translate(1614.591797 0)\"/>\n     <use xlink:href=\"#DejaVuSans-2e\" transform=\"translate(1678.068359 0)\"/>\n     <use xlink:href=\"#DejaVuSans-20\" transform=\"translate(1709.855469 0)\"/>\n     <use xlink:href=\"#DejaVuSans-44\" transform=\"translate(1741.642578 0)\"/>\n     <use xlink:href=\"#DejaVuSans-65\" transform=\"translate(1818.644531 0)\"/>\n     <use xlink:href=\"#DejaVuSans-70\" transform=\"translate(1880.167969 0)\"/>\n     <use xlink:href=\"#DejaVuSans-61\" transform=\"translate(1943.644531 0)\"/>\n     <use xlink:href=\"#DejaVuSans-72\" transform=\"translate(2004.923828 0)\"/>\n     <use xlink:href=\"#DejaVuSans-74\" transform=\"translate(2046.037109 0)\"/>\n     <use xlink:href=\"#DejaVuSans-6d\" transform=\"translate(2085.246094 0)\"/>\n     <use xlink:href=\"#DejaVuSans-65\" transform=\"translate(2182.658203 0)\"/>\n     <use xlink:href=\"#DejaVuSans-6e\" transform=\"translate(2244.181641 0)\"/>\n     <use xlink:href=\"#DejaVuSans-74\" transform=\"translate(2307.560547 0)\"/>\n     <use xlink:href=\"#DejaVuSans-20\" transform=\"translate(2346.769531 0)\"/>\n     <use xlink:href=\"#DejaVuSans-6f\" transform=\"translate(2378.556641 0)\"/>\n     <use xlink:href=\"#DejaVuSans-66\" transform=\"translate(2439.738281 0)\"/>\n     <use xlink:href=\"#DejaVuSans-20\" transform=\"translate(2474.943359 0)\"/>\n     <use xlink:href=\"#DejaVuSans-48\" transform=\"translate(2506.730469 0)\"/>\n     <use xlink:href=\"#DejaVuSans-6f\" transform=\"translate(2581.925781 0)\"/>\n     <use xlink:href=\"#DejaVuSans-75\" transform=\"translate(2643.107422 0)\"/>\n     <use xlink:href=\"#DejaVuSans-73\" transform=\"translate(2706.486328 0)\"/>\n     <use xlink:href=\"#DejaVuSans-69\" transform=\"translate(2758.585938 0)\"/>\n     <use xlink:href=\"#DejaVuSans-6e\" transform=\"translate(2786.369141 0)\"/>\n     <use xlink:href=\"#DejaVuSans-67\" transform=\"translate(2849.748047 0)\"/>\n     <use xlink:href=\"#DejaVuSans-20\" transform=\"translate(2913.224609 0)\"/>\n     <use xlink:href=\"#DejaVuSans-61\" transform=\"translate(2945.011719 0)\"/>\n     <use xlink:href=\"#DejaVuSans-6e\" transform=\"translate(3006.291016 0)\"/>\n     <use xlink:href=\"#DejaVuSans-64\" transform=\"translate(3069.669922 0)\"/>\n     <use xlink:href=\"#DejaVuSans-20\" transform=\"translate(3133.146484 0)\"/>\n     <use xlink:href=\"#DejaVuSans-55\" transform=\"translate(3164.933594 0)\"/>\n     <use xlink:href=\"#DejaVuSans-72\" transform=\"translate(3238.126953 0)\"/>\n     <use xlink:href=\"#DejaVuSans-62\" transform=\"translate(3279.240234 0)\"/>\n     <use xlink:href=\"#DejaVuSans-61\" transform=\"translate(3342.716797 0)\"/>\n     <use xlink:href=\"#DejaVuSans-6e\" transform=\"translate(3403.996094 0)\"/>\n     <use xlink:href=\"#DejaVuSans-20\" transform=\"translate(3467.375 0)\"/>\n     <use xlink:href=\"#DejaVuSans-44\" transform=\"translate(3499.162109 0)\"/>\n     <use xlink:href=\"#DejaVuSans-65\" transform=\"translate(3576.164062 0)\"/>\n     <use xlink:href=\"#DejaVuSans-76\" transform=\"translate(3637.6875 0)\"/>\n     <use xlink:href=\"#DejaVuSans-65\" transform=\"translate(3696.867188 0)\"/>\n     <use xlink:href=\"#DejaVuSans-6c\" transform=\"translate(3758.390625 0)\"/>\n     <use xlink:href=\"#DejaVuSans-6f\" transform=\"translate(3786.173828 0)\"/>\n     <use xlink:href=\"#DejaVuSans-70\" transform=\"translate(3847.355469 0)\"/>\n     <use xlink:href=\"#DejaVuSans-6d\" transform=\"translate(3910.832031 0)\"/>\n     <use xlink:href=\"#DejaVuSans-65\" transform=\"translate(4008.244141 0)\"/>\n     <use xlink:href=\"#DejaVuSans-6e\" transform=\"translate(4069.767578 0)\"/>\n     <use xlink:href=\"#DejaVuSans-74\" transform=\"translate(4133.146484 0)\"/>\n     <use xlink:href=\"#DejaVuSans-20\" transform=\"translate(4172.355469 0)\"/>\n     <use xlink:href=\"#DejaVuSans-76\" transform=\"translate(4204.142578 0)\"/>\n     <use xlink:href=\"#DejaVuSans-69\" transform=\"translate(4263.322266 0)\"/>\n     <use xlink:href=\"#DejaVuSans-61\" transform=\"translate(4291.105469 0)\"/>\n     <use xlink:href=\"#DejaVuSans-20\" transform=\"translate(4352.384766 0)\"/>\n     <use xlink:href=\"#DejaVuSans-46\" transform=\"translate(4384.171875 0)\"/>\n     <use xlink:href=\"#DejaVuSans-52\" transform=\"translate(4441.691406 0)\"/>\n     <use xlink:href=\"#DejaVuSans-45\" transform=\"translate(4511.173828 0)\"/>\n     <use xlink:href=\"#DejaVuSans-44\" transform=\"translate(4574.357422 0)\"/>\n    </g>\n   </g>\n   <g id=\"PathCollection_1\">\n    <defs>\n     <path id=\"m9802ad0937\" d=\"M 0 3 \nC 0.795609 3 1.55874 2.683901 2.12132 2.12132 \nC 2.683901 1.55874 3 0.795609 3 0 \nC 3 -0.795609 2.683901 -1.55874 2.12132 -2.12132 \nC 1.55874 -2.683901 0.795609 -3 0 -3 \nC -0.795609 -3 -1.55874 -2.683901 -2.12132 -2.12132 \nC -2.683901 -1.55874 -3 -0.795609 -3 0 \nC -3 0.795609 -2.683901 1.55874 -2.12132 2.12132 \nC -1.55874 2.683901 -0.795609 3 0 3 \nz\n\" style=\"stroke: #36454f\"/>\n    </defs>\n    <g clip-path=\"url(#p22f3afd4ec)\">\n     <use xlink:href=\"#m9802ad0937\" x=\"449.970282\" y=\"163.353706\" style=\"fill: #36454f; stroke: #36454f\"/>\n    </g>\n   </g>\n  </g>\n </g>\n <defs>\n  <clipPath id=\"p22f3afd4ec\">\n   <rect x=\"36.15\" y=\"32.733126\" width=\"414.876641\" height=\"248.255226\"/>\n  </clipPath>\n </defs>\n</svg>\n"
          },
          "metadata": {}
        }
      ]
    },
    {
      "cell_type": "code",
      "source": [],
      "metadata": {
        "id": "JTEqk-foHhj1"
      },
      "execution_count": 6,
      "outputs": []
    }
  ]
}