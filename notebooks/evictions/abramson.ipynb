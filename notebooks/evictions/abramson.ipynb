{
 "cells": [
  {
   "cell_type": "code",
   "execution_count": 2,
   "metadata": {},
   "outputs": [],
   "source": [
    "import jax \n",
    "import jax.numpy as jnp "
   ]
  },
  {
   "cell_type": "code",
   "execution_count": 11,
   "metadata": {},
   "outputs": [],
   "source": [
    "def utility(c, s, n):\n",
    "    \"\"\"\n",
    "    c = consumption\n",
    "    s = housing services\n",
    "    n = equivalence scales that control for family size?\n",
    "    \"\"\"\n",
    "    sigma = 0.5\n",
    "    return c**(1 - sigma) * s**sigma "
   ]
  },
  {
   "cell_type": "code",
   "execution_count": 12,
   "metadata": {},
   "outputs": [],
   "source": [
    "def relationship(m, a, e, key):\n",
    "    \"\"\"\n",
    "    m = maritial status\n",
    "    a = age\n",
    "    e = human capital\n",
    "    key = random number generator key\n",
    "    \"\"\"\n",
    "    def expected_single(m, a, e):\n",
    "        pass \n",
    "\n",
    "\n",
    "    prob_single = expected_single(m, a, e)\n",
    "    new_m = jax.random.binomial(key, prob_single)\n",
    "    return new_m"
   ]
  },
  {
   "cell_type": "code",
   "execution_count": 35,
   "metadata": {},
   "outputs": [
    {
     "name": "stdout",
     "output_type": "stream",
     "text": [
      "[[0.81086713 0.18913284]\n",
      " [0.6811082  0.31889185]]\n",
      "[0.6811082  0.31889185]\n",
      "(2,)\n"
     ]
    }
   ],
   "source": [
    "n_z = 2 \n",
    "key = jax.random.PRNGKey(0)\n",
    "noise = jax.random.uniform(key, (n_z, n_z))\n",
    "transition_prob_z = noise / jnp.sum(noise, axis=1, keepdims=True)\n",
    "print(transition_prob_z)\n",
    "z = jax.nn.one_hot(jnp.array(1), n_z)\n",
    "print(jnp.dot(z, transition_prob_z))\n",
    "print(z.shape)\n",
    "\n",
    "\n",
    "\n"
   ]
  },
  {
   "cell_type": "code",
   "execution_count": null,
   "metadata": {},
   "outputs": [],
   "source": [
    "def persistent_income(a, e, m, d, z):\n",
    "    n_z = 2 \n",
    "    key = jax.random.PRNGKey(0)\n",
    "    noise = jax.random.uniform(key, (n_z, n_z))\n",
    "    transition_prob_z = noise / jnp.sum(noise, axis=1, keepdims=True)\n",
    "    z = jax.nn.one_hot(jnp.array(1), n_z)\n",
    "    pass \n"
   ]
  },
  {
   "cell_type": "code",
   "execution_count": null,
   "metadata": {},
   "outputs": [],
   "source": [
    "def update(state, key):\n",
    "    a, e, m, d = state\n",
    "    persistent_income = jax.random.choice(key, [0, 1], p=[0.5, 0.5]) # This should be an arg index\n",
    "    pass "
   ]
  }
 ],
 "metadata": {
  "kernelspec": {
   "display_name": "hh_env",
   "language": "python",
   "name": "python3"
  },
  "language_info": {
   "codemirror_mode": {
    "name": "ipython",
    "version": 3
   },
   "file_extension": ".py",
   "mimetype": "text/x-python",
   "name": "python",
   "nbconvert_exporter": "python",
   "pygments_lexer": "ipython3",
   "version": "3.10.0"
  },
  "orig_nbformat": 4
 },
 "nbformat": 4,
 "nbformat_minor": 2
}
