{
 "cells": [
  {
   "cell_type": "code",
   "execution_count": 3,
   "metadata": {},
   "outputs": [],
   "source": [
    "import pandas as pd \n",
    "import os \n",
    "from pathlib import Path\n"
   ]
  },
  {
   "cell_type": "code",
   "execution_count": 18,
   "metadata": {},
   "outputs": [
    {
     "name": "stdout",
     "output_type": "stream",
     "text": [
      "(52007, 75)\n",
      "(127598, 8)\n"
     ]
    },
    {
     "name": "stderr",
     "output_type": "stream",
     "text": [
      "/var/folders/3l/12mcyxkx38jdv4zv_hxngvtw0000gn/T/ipykernel_56002/675190426.py:2: DtypeWarning: Columns (72) have mixed types. Specify dtype option on import or set low_memory=False.\n",
      "  df1 = pd.read_csv(folder + '/LIHTCPUB.CSV')\n"
     ]
    }
   ],
   "source": [
    "folder = str(Path(os.getcwd()).parent.parent.parent.parent.parent.absolute()) + '/Downloads/lihtcpub'\n",
    "df1 = pd.read_csv(folder + '/LIHTCPUB.CSV')\n",
    "df2 = pd.read_csv(folder + '/LIHTCPUB_BIN.CSV')\n",
    "print(f'{df1.shape}')\n",
    "print(f'{df2.shape}')\n"
   ]
  },
  {
   "cell_type": "code",
   "execution_count": 15,
   "metadata": {},
   "outputs": [
    {
     "data": {
      "text/html": [
       "<div>\n",
       "<style scoped>\n",
       "    .dataframe tbody tr th:only-of-type {\n",
       "        vertical-align: middle;\n",
       "    }\n",
       "\n",
       "    .dataframe tbody tr th {\n",
       "        vertical-align: top;\n",
       "    }\n",
       "\n",
       "    .dataframe thead th {\n",
       "        text-align: right;\n",
       "    }\n",
       "</style>\n",
       "<table border=\"1\" class=\"dataframe\">\n",
       "  <thead>\n",
       "    <tr style=\"text-align: right;\">\n",
       "      <th></th>\n",
       "      <th>hud_id</th>\n",
       "      <th>project</th>\n",
       "      <th>proj_add</th>\n",
       "      <th>proj_cty</th>\n",
       "      <th>proj_st</th>\n",
       "      <th>proj_zip</th>\n",
       "      <th>state_id</th>\n",
       "      <th>latitude</th>\n",
       "      <th>longitude</th>\n",
       "      <th>place1990</th>\n",
       "      <th>...</th>\n",
       "      <th>n_unitsr</th>\n",
       "      <th>li_unitr</th>\n",
       "      <th>metro</th>\n",
       "      <th>dda</th>\n",
       "      <th>qct</th>\n",
       "      <th>nonprog</th>\n",
       "      <th>nlm_reason</th>\n",
       "      <th>nlm_spc</th>\n",
       "      <th>datanote</th>\n",
       "      <th>record_stat</th>\n",
       "    </tr>\n",
       "  </thead>\n",
       "  <tbody>\n",
       "    <tr>\n",
       "      <th>0</th>\n",
       "      <td>AKA0000X018</td>\n",
       "      <td>GATEWAY-SEWARD ASSOCIATES, LTD PTN</td>\n",
       "      <td>1810 PHOENIX ROAD</td>\n",
       "      <td>SEWARD</td>\n",
       "      <td>AK</td>\n",
       "      <td>99664</td>\n",
       "      <td>AK-99-99</td>\n",
       "      <td>60.125469</td>\n",
       "      <td>-149.446060</td>\n",
       "      <td>NaN</td>\n",
       "      <td>...</td>\n",
       "      <td>20.0</td>\n",
       "      <td>20.0</td>\n",
       "      <td>NaN</td>\n",
       "      <td>NaN</td>\n",
       "      <td>NaN</td>\n",
       "      <td>NaN</td>\n",
       "      <td>NaN</td>\n",
       "      <td>NaN</td>\n",
       "      <td>NaN</td>\n",
       "      <td>X</td>\n",
       "    </tr>\n",
       "    <tr>\n",
       "      <th>1</th>\n",
       "      <td>AKA0000X034</td>\n",
       "      <td>YENLO PHASE I AND II</td>\n",
       "      <td>402-451 NORTH YENLO STREET</td>\n",
       "      <td>WASILLA</td>\n",
       "      <td>AK</td>\n",
       "      <td>99654</td>\n",
       "      <td>AK-99-99</td>\n",
       "      <td>61.583096</td>\n",
       "      <td>-149.437637</td>\n",
       "      <td>NaN</td>\n",
       "      <td>...</td>\n",
       "      <td>37.0</td>\n",
       "      <td>37.0</td>\n",
       "      <td>NaN</td>\n",
       "      <td>NaN</td>\n",
       "      <td>NaN</td>\n",
       "      <td>NaN</td>\n",
       "      <td>NaN</td>\n",
       "      <td>NaN</td>\n",
       "      <td>NaN</td>\n",
       "      <td>U</td>\n",
       "    </tr>\n",
       "    <tr>\n",
       "      <th>2</th>\n",
       "      <td>AKA19890010</td>\n",
       "      <td>PARK WEST APTS</td>\n",
       "      <td>2012 SANDVIK ST</td>\n",
       "      <td>FAIRBANKS</td>\n",
       "      <td>AK</td>\n",
       "      <td>99709</td>\n",
       "      <td>AK-89-00001</td>\n",
       "      <td>64.851646</td>\n",
       "      <td>-147.803421</td>\n",
       "      <td>1080.0</td>\n",
       "      <td>...</td>\n",
       "      <td>83.0</td>\n",
       "      <td>81.0</td>\n",
       "      <td>1.0</td>\n",
       "      <td>NaN</td>\n",
       "      <td>2.0</td>\n",
       "      <td>NaN</td>\n",
       "      <td>NaN</td>\n",
       "      <td>NaN</td>\n",
       "      <td>NaN</td>\n",
       "      <td>X</td>\n",
       "    </tr>\n",
       "    <tr>\n",
       "      <th>3</th>\n",
       "      <td>AKA19900005</td>\n",
       "      <td>TYSON'S TERRACE</td>\n",
       "      <td>103 BURKHART DR</td>\n",
       "      <td>SITKA</td>\n",
       "      <td>AK</td>\n",
       "      <td>99835</td>\n",
       "      <td>AK-90-00001</td>\n",
       "      <td>57.048874</td>\n",
       "      <td>-135.303024</td>\n",
       "      <td>3040.0</td>\n",
       "      <td>...</td>\n",
       "      <td>16.0</td>\n",
       "      <td>16.0</td>\n",
       "      <td>1.0</td>\n",
       "      <td>NaN</td>\n",
       "      <td>2.0</td>\n",
       "      <td>NaN</td>\n",
       "      <td>NaN</td>\n",
       "      <td>NaN</td>\n",
       "      <td>NaN</td>\n",
       "      <td>X</td>\n",
       "    </tr>\n",
       "    <tr>\n",
       "      <th>4</th>\n",
       "      <td>AKA19910005</td>\n",
       "      <td>NORTHWOOD APTS</td>\n",
       "      <td>190 PARKWOOD CIR</td>\n",
       "      <td>SOLDOTNA</td>\n",
       "      <td>AK</td>\n",
       "      <td>99669</td>\n",
       "      <td>AK-91-00001</td>\n",
       "      <td>60.489147</td>\n",
       "      <td>-151.073853</td>\n",
       "      <td>2810.0</td>\n",
       "      <td>...</td>\n",
       "      <td>23.0</td>\n",
       "      <td>22.0</td>\n",
       "      <td>1.0</td>\n",
       "      <td>NaN</td>\n",
       "      <td>2.0</td>\n",
       "      <td>NaN</td>\n",
       "      <td>NaN</td>\n",
       "      <td>NaN</td>\n",
       "      <td>NaN</td>\n",
       "      <td>X</td>\n",
       "    </tr>\n",
       "  </tbody>\n",
       "</table>\n",
       "<p>5 rows × 75 columns</p>\n",
       "</div>"
      ],
      "text/plain": [
       "        hud_id                             project  \\\n",
       "0  AKA0000X018  GATEWAY-SEWARD ASSOCIATES, LTD PTN   \n",
       "1  AKA0000X034                YENLO PHASE I AND II   \n",
       "2  AKA19890010                      PARK WEST APTS   \n",
       "3  AKA19900005                     TYSON'S TERRACE   \n",
       "4  AKA19910005                      NORTHWOOD APTS   \n",
       "\n",
       "                     proj_add   proj_cty proj_st proj_zip     state_id  \\\n",
       "0           1810 PHOENIX ROAD     SEWARD      AK    99664     AK-99-99   \n",
       "1  402-451 NORTH YENLO STREET    WASILLA      AK    99654     AK-99-99   \n",
       "2             2012 SANDVIK ST  FAIRBANKS      AK    99709  AK-89-00001   \n",
       "3             103 BURKHART DR      SITKA      AK    99835  AK-90-00001   \n",
       "4            190 PARKWOOD CIR   SOLDOTNA      AK    99669  AK-91-00001   \n",
       "\n",
       "    latitude   longitude  place1990  ...  n_unitsr  li_unitr metro dda  qct  \\\n",
       "0  60.125469 -149.446060        NaN  ...      20.0      20.0   NaN NaN  NaN   \n",
       "1  61.583096 -149.437637        NaN  ...      37.0      37.0   NaN NaN  NaN   \n",
       "2  64.851646 -147.803421     1080.0  ...      83.0      81.0   1.0 NaN  2.0   \n",
       "3  57.048874 -135.303024     3040.0  ...      16.0      16.0   1.0 NaN  2.0   \n",
       "4  60.489147 -151.073853     2810.0  ...      23.0      22.0   1.0 NaN  2.0   \n",
       "\n",
       "   nonprog nlm_reason  nlm_spc  datanote  record_stat  \n",
       "0      NaN        NaN      NaN       NaN            X  \n",
       "1      NaN        NaN      NaN       NaN            U  \n",
       "2      NaN        NaN      NaN       NaN            X  \n",
       "3      NaN        NaN      NaN       NaN            X  \n",
       "4      NaN        NaN      NaN       NaN            X  \n",
       "\n",
       "[5 rows x 75 columns]"
      ]
     },
     "execution_count": 15,
     "metadata": {},
     "output_type": "execute_result"
    }
   ],
   "source": [
    "df1.head()"
   ]
  },
  {
   "cell_type": "code",
   "execution_count": 19,
   "metadata": {},
   "outputs": [
    {
     "data": {
      "text/plain": [
       "0           NaN\n",
       "1           NaN\n",
       "2        1080.0\n",
       "3        3040.0\n",
       "4        2810.0\n",
       "          ...  \n",
       "52002       NaN\n",
       "52003       NaN\n",
       "52004       NaN\n",
       "52005       NaN\n",
       "52006       NaN\n",
       "Name: place1990, Length: 52007, dtype: float64"
      ]
     },
     "execution_count": 19,
     "metadata": {},
     "output_type": "execute_result"
    }
   ],
   "source": [
    "df1.place1990"
   ]
  },
  {
   "cell_type": "code",
   "execution_count": 10,
   "metadata": {},
   "outputs": [
    {
     "name": "stdout",
     "output_type": "stream",
     "text": [
      "LIHTC Data Dictionary 2021.pdf LIHTCPUB.CSV\n",
      "LIHTCPUB.ACCDB                 LIHTCPUB_BIN.CSV\n"
     ]
    }
   ],
   "source": [
    "!ls /Users/ppower1/Downloads/lihtcpub"
   ]
  },
  {
   "cell_type": "code",
   "execution_count": null,
   "metadata": {},
   "outputs": [],
   "source": []
  }
 ],
 "metadata": {
  "kernelspec": {
   "display_name": "evict_env",
   "language": "python",
   "name": "python3"
  },
  "language_info": {
   "codemirror_mode": {
    "name": "ipython",
    "version": 3
   },
   "file_extension": ".py",
   "mimetype": "text/x-python",
   "name": "python",
   "nbconvert_exporter": "python",
   "pygments_lexer": "ipython3",
   "version": "3.10.0"
  },
  "orig_nbformat": 4
 },
 "nbformat": 4,
 "nbformat_minor": 2
}
