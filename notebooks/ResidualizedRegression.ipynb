{
  "nbformat": 4,
  "nbformat_minor": 0,
  "metadata": {
    "colab": {
      "provenance": [],
      "authorship_tag": "ABX9TyP9Mg/Dxm1S/nsDNbX3qTeq",
      "include_colab_link": true
    },
    "kernelspec": {
      "name": "python3",
      "display_name": "Python 3"
    },
    "language_info": {
      "name": "python"
    }
  },
  "cells": [
    {
      "cell_type": "markdown",
      "metadata": {
        "id": "view-in-github",
        "colab_type": "text"
      },
      "source": [
        "<a href=\"https://colab.research.google.com/github/pharringtonp19/housing-and-homelessness/blob/main/notebooks/ResidualizedRegression.ipynb\" target=\"_parent\"><img src=\"https://colab.research.google.com/assets/colab-badge.svg\" alt=\"Open In Colab\"/></a>"
      ]
    },
    {
      "cell_type": "markdown",
      "source": [
        "**Import Libraries**"
      ],
      "metadata": {
        "id": "s4K5SG3LEsLT"
      }
    },
    {
      "cell_type": "code",
      "execution_count": 108,
      "metadata": {
        "id": "xNcVm9c_DYBs"
      },
      "outputs": [],
      "source": [
        "import jax\n",
        "import jax.numpy as jnp\n",
        "import matplotlib.pyplot as plt\n",
        "from functools import partial"
      ]
    },
    {
      "cell_type": "markdown",
      "source": [
        "### **Functions**"
      ],
      "metadata": {
        "id": "55_PGh5DEwEx"
      }
    },
    {
      "cell_type": "code",
      "source": [
        "def propensity_score(x1, x2, x3):\n",
        "  return 0.4*x1 + 0.3*x2 + 0.2*x3\n",
        "\n",
        "def outcome(x1, x2, x3, d, key):\n",
        "  return 2*x1 + 1*x2 + 0.5*x3 + 2*d + jax.random.normal(key)\n",
        "\n",
        "def sample(key):\n",
        "  k1, k2, k3 = jax.random.split(key, 3)\n",
        "  xs = jax.random.uniform(k1, shape=(3,))\n",
        "  ps = propensity_score(*xs)\n",
        "  d = jax.random.bernoulli(k2, ps).astype(jnp.float32)\n",
        "  y = outcome(*xs, d, k3)\n",
        "  return xs, d, y\n",
        "\n",
        "def batch_sample(n, key):\n",
        "  return jax.vmap(sample)(jax.random.split(key, n))\n",
        "\n",
        "def Estimator1(n, key):\n",
        "    xs, ds, ys = batch_sample(n, key)\n",
        "    ds, ys = ds.reshape(-1, 1), ys.reshape(-1, 1)\n",
        "    xs = xs[:, 0].reshape(-1, 1)\n",
        "    regs = jnp.hstack([ds, xs, jnp.ones_like(xs)])\n",
        "    return jnp.linalg.lstsq(regs, ys)[0][0]\n",
        "\n",
        "def Estimator2(n, key):\n",
        "    xs, ds, ys = batch_sample(n, key)\n",
        "    ds, ys = ds.reshape(-1, 1), ys.reshape(-1, 1)\n",
        "    xs = xs[:, :2]\n",
        "    regs = jnp.hstack([ds, xs, jnp.ones((n, 1))])\n",
        "    return jnp.linalg.lstsq(regs, ys)[0][0]\n",
        "\n",
        "def Estimator3(n, key):\n",
        "    xs, ds, ys = batch_sample(n, key)\n",
        "    ds, ys = ds.reshape(-1, 1), ys.reshape(-1, 1)\n",
        "    regs = jnp.hstack([ds, xs, jnp.ones((n, 1))])\n",
        "    return jnp.linalg.lstsq(regs, ys)[0][0]"
      ],
      "metadata": {
        "id": "doVBuyhLDbOF"
      },
      "execution_count": 115,
      "outputs": []
    },
    {
      "cell_type": "markdown",
      "source": [
        "### **Parameters**"
      ],
      "metadata": {
        "id": "Mqh58p_fFGns"
      }
    },
    {
      "cell_type": "code",
      "source": [
        "n = 10000\n",
        "key = jax.random.PRNGKey(0)\n",
        "simulations = 500"
      ],
      "metadata": {
        "id": "y-pewQFNFAOD"
      },
      "execution_count": 117,
      "outputs": []
    },
    {
      "cell_type": "markdown",
      "source": [
        "$$y_i = \\alpha + \\beta D_i + \\gamma x_i + ɛ_i$$"
      ],
      "metadata": {
        "id": "oYwaYWofHfHF"
      }
    },
    {
      "cell_type": "code",
      "source": [
        "estimates1 = jax.vmap(partial(Estimator1, n))(jax.random.split(key, simulations))\n",
        "standardized_estimates1 = (estimates1 - jnp.mean(estimates1)) / jnp.std(estimates1)"
      ],
      "metadata": {
        "id": "JQIKqd62D1T7"
      },
      "execution_count": 121,
      "outputs": []
    },
    {
      "cell_type": "code",
      "source": [
        "fig, ax = plt.subplots()\n",
        "plt.hist(standardized_estimates1 - 2.0, edgecolor='black',  density=True, color=\"#36454F\")\n",
        "plt.xlabel(r'$\\hat{\\beta} - \\beta_0$', size=14)\n",
        "ax.spines['top'].set_visible(False)\n",
        "ax.spines['right'].set_visible(False)\n",
        "plt.show()"
      ],
      "metadata": {
        "colab": {
          "base_uri": "https://localhost:8080/",
          "height": 465
        },
        "id": "r4sdFmm_FJsD",
        "outputId": "71c60290-1ac8-4556-f0a6-b4bbe210f4b2"
      },
      "execution_count": 128,
      "outputs": [
        {
          "output_type": "display_data",
          "data": {
            "text/plain": [
              "<Figure size 640x480 with 1 Axes>"
            ],
            "image/png": "[encoded data removed]"
          },
          "metadata": {}
        }
      ]
    },
    {
      "cell_type": "code",
      "source": [
        "Estimator3(n, key)"
      ],
      "metadata": {
        "colab": {
          "base_uri": "https://localhost:8080/"
        },
        "id": "XwtwWFNrGPNd",
        "outputId": "7a88197e-16a0-4e9f-b983-4a9da687f0b9"
      },
      "execution_count": 103,
      "outputs": [
        {
          "output_type": "execute_result",
          "data": {
            "text/plain": [
              "Array([1.994842], dtype=float32)"
            ]
          },
          "metadata": {},
          "execution_count": 103
        }
      ]
    },
    {
      "cell_type": "code",
      "source": [],
      "metadata": {
        "id": "Ij28q0uGGlwZ"
      },
      "execution_count": 103,
      "outputs": []
    }
  ]
}