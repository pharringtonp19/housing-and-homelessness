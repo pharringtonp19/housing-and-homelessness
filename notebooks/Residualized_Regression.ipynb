{
  "nbformat": 4,
  "nbformat_minor": 0,
  "metadata": {
    "colab": {
      "provenance": [],
      "authorship_tag": "ABX9TyNC7mdSe3+cPJiWcFcauJjg",
      "include_colab_link": true
    },
    "kernelspec": {
      "name": "python3",
      "display_name": "Python 3"
    },
    "language_info": {
      "name": "python"
    }
  },
  "cells": [
    {
      "cell_type": "markdown",
      "metadata": {
        "id": "view-in-github",
        "colab_type": "text"
      },
      "source": [
        "<a href=\"https://colab.research.google.com/github/pharringtonp19/housing-and-homelessness/blob/main/notebooks/Residualized_Regression.ipynb\" target=\"_parent\"><img src=\"https://colab.research.google.com/assets/colab-badge.svg\" alt=\"Open In Colab\"/></a>"
      ]
    },
    {
      "cell_type": "markdown",
      "source": [
        "#### **Import Libraries**"
      ],
      "metadata": {
        "id": "85wSX0UBDrny"
      }
    },
    {
      "cell_type": "code",
      "execution_count": 2,
      "metadata": {
        "id": "vpE3xDFdDjGv"
      },
      "outputs": [],
      "source": [
        "import jax\n",
        "import jax.numpy as jnp\n",
        "import matplotlib.pyplot as plt"
      ]
    },
    {
      "cell_type": "markdown",
      "source": [
        "#### **Generate Data**"
      ],
      "metadata": {
        "id": "yj6kAvB_DupQ"
      }
    },
    {
      "cell_type": "code",
      "source": [
        "def Outcome(treatment, controls, key):\n",
        "  return 2.0*treatment + controls + jax.random.normal(key, shape=(1,))\n",
        "\n",
        "def sample(key):\n",
        "  k1, k2, k3 = jax.random.split(key, 3)\n",
        "  treatment = jax.random.bernoulli(k1, shape=(1,))\n",
        "  controls = jax.random.uniform(k2, shape=(1,))\n",
        "  outcome = Outcome(treatment, controls, k3)\n",
        "  return treatment, controls, outcome"
      ],
      "metadata": {
        "id": "Y2Vvw-R4DqbP"
      },
      "execution_count": 9,
      "outputs": []
    },
    {
      "cell_type": "markdown",
      "source": [
        "### **Sample Data**"
      ],
      "metadata": {
        "id": "-P81f9RnEWjG"
      }
    },
    {
      "cell_type": "code",
      "source": [
        "n_obs = 10000\n",
        "init_key = jax.random.PRNGKey(0)\n",
        "Ds, Xs, Ys = jax.vmap(sample)(jax.random.split(init_key, n_obs))\n",
        "print(Ds.shape, Xs.shape, Ys.shape)"
      ],
      "metadata": {
        "colab": {
          "base_uri": "https://localhost:8080/"
        },
        "id": "py4gZAa4ENmZ",
        "outputId": "42d0fca2-fc49-41a8-d04b-da0765677fa6"
      },
      "execution_count": 13,
      "outputs": [
        {
          "output_type": "stream",
          "name": "stdout",
          "text": [
            "(10000, 1) (10000, 1) (10000, 1)\n"
          ]
        }
      ]
    },
    {
      "cell_type": "markdown",
      "source": [
        "#### **Linear Regression**"
      ],
      "metadata": {
        "id": "o5KjbQRrEm59"
      }
    },
    {
      "cell_type": "code",
      "source": [
        "regs = jnp.hstack((Ds, jnp.ones_like(Ds), Xs))\n",
        "coeffs = jnp.linalg.lstsq(regs, Ys)[0]\n",
        "print(coeffs)"
      ],
      "metadata": {
        "colab": {
          "base_uri": "https://localhost:8080/"
        },
        "id": "RHN0QynSEQLE",
        "outputId": "1e092c21-885e-4e13-b9b2-28e9b634c2a6"
      },
      "execution_count": 18,
      "outputs": [
        {
          "output_type": "stream",
          "name": "stdout",
          "text": [
            "[[ 1.9840641 ]\n",
            " [-0.02037146]\n",
            " [ 1.0632734 ]]\n"
          ]
        }
      ]
    },
    {
      "cell_type": "markdown",
      "source": [
        "#### **Residualized Regression**"
      ],
      "metadata": {
        "id": "BS_Uf3cJGCit"
      }
    },
    {
      "cell_type": "code",
      "source": [
        "regs1 = jnp.hstack((jnp.ones_like(Ds), Xs))\n",
        "coeffsD = jnp.linalg.lstsq(regs1, Ds)[0]\n",
        "Dhat = regs1@coeffsD\n",
        "D_resid = Ds - Dhat\n",
        "coeffs = jnp.linalg.lstsq(D_resid, Ys)[0]\n",
        "print(coeffs)"
      ],
      "metadata": {
        "colab": {
          "base_uri": "https://localhost:8080/"
        },
        "id": "umMSyvyfErrk",
        "outputId": "6d946df9-074f-4cd1-b88a-6f56309201c5"
      },
      "execution_count": 22,
      "outputs": [
        {
          "output_type": "stream",
          "name": "stdout",
          "text": [
            "[[1.9840647]]\n"
          ]
        }
      ]
    },
    {
      "cell_type": "code",
      "source": [],
      "metadata": {
        "id": "YszNZpLTFu3Y"
      },
      "execution_count": null,
      "outputs": []
    }
  ]
}