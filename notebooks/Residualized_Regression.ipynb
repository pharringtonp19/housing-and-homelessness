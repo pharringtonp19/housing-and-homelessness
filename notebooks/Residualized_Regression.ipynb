{
  "nbformat": 4,
  "nbformat_minor": 0,
  "metadata": {
    "colab": {
      "provenance": [],
      "authorship_tag": "ABX9TyPCWxPQbxoT1N/O+QYHO9a8",
      "include_colab_link": true
    },
    "kernelspec": {
      "name": "python3",
      "display_name": "Python 3"
    },
    "language_info": {
      "name": "python"
    }
  },
  "cells": [
    {
      "cell_type": "markdown",
      "metadata": {
        "id": "view-in-github",
        "colab_type": "text"
      },
      "source": [
        "<a href=\"https://colab.research.google.com/github/pharringtonp19/housing-and-homelessness/blob/main/notebooks/Residualized_Regression.ipynb\" target=\"_parent\"><img src=\"https://colab.research.google.com/assets/colab-badge.svg\" alt=\"Open In Colab\"/></a>"
      ]
    },
    {
      "cell_type": "markdown",
      "source": [
        "#### **Import Libraries**"
      ],
      "metadata": {
        "id": "85wSX0UBDrny"
      }
    },
    {
      "cell_type": "code",
      "execution_count": 1,
      "metadata": {
        "id": "vpE3xDFdDjGv"
      },
      "outputs": [],
      "source": [
        "import jax\n",
        "import jax.numpy as jnp\n",
        "import matplotlib.pyplot as plt"
      ]
    },
    {
      "cell_type": "markdown",
      "source": [
        "#### **Generate Data**"
      ],
      "metadata": {
        "id": "yj6kAvB_DupQ"
      }
    },
    {
      "cell_type": "code",
      "source": [
        "def Outcome(treatment, control, key):\n",
        "  k1, k2 = jax.random.split(key)\n",
        "  treatment = jax.random.bernoulli(k1, p=jax.nn.sigmoid(control), shape=(1,))\n",
        "  return 2.0*treatment + 3.0*control + jax.random.normal(k2, shape=(1,))\n",
        "\n",
        "def sample(key):\n",
        "  k1, k2, k3 = jax.random.split(key, 3)\n",
        "  treatment = jax.random.bernoulli(k1, shape=(1,))\n",
        "  control = jax.random.normal(k2, shape=(1,))\n",
        "  outcome = Outcome(treatment, control, k3)\n",
        "  return treatment, control, outcome"
      ],
      "metadata": {
        "id": "Y2Vvw-R4DqbP"
      },
      "execution_count": 5,
      "outputs": []
    },
    {
      "cell_type": "markdown",
      "source": [
        "### **Sample Data**"
      ],
      "metadata": {
        "id": "-P81f9RnEWjG"
      }
    },
    {
      "cell_type": "code",
      "source": [
        "n_obs = 10000\n",
        "init_key = jax.random.PRNGKey(0)\n",
        "Ds, Xs, Ys = jax.vmap(sample)(jax.random.split(init_key, n_obs))\n",
        "print(Ds.shape, Xs.shape, Ys.shape)"
      ],
      "metadata": {
        "colab": {
          "base_uri": "https://localhost:8080/"
        },
        "id": "py4gZAa4ENmZ",
        "outputId": "dd2ea52a-b417-4b55-dac5-375ebe139593"
      },
      "execution_count": 6,
      "outputs": [
        {
          "output_type": "stream",
          "name": "stdout",
          "text": [
            "(10000, 1) (10000, 1) (10000, 1)\n"
          ]
        }
      ]
    },
    {
      "cell_type": "markdown",
      "source": [
        "#### **Linear Regression**"
      ],
      "metadata": {
        "id": "o5KjbQRrEm59"
      }
    },
    {
      "cell_type": "code",
      "source": [
        "regs = jnp.hstack((Ds, jnp.ones_like(Ds), Xs))\n",
        "coeffs = jnp.linalg.lstsq(regs, Ys)[0]\n",
        "print(coeffs)"
      ],
      "metadata": {
        "colab": {
          "base_uri": "https://localhost:8080/"
        },
        "id": "RHN0QynSEQLE",
        "outputId": "0335b4ef-cb15-46d3-a492-7fd1215750cc"
      },
      "execution_count": 8,
      "outputs": [
        {
          "output_type": "stream",
          "name": "stdout",
          "text": [
            "[[-0.02938269]\n",
            " [ 1.023129  ]\n",
            " [ 3.396988  ]]\n"
          ]
        }
      ]
    },
    {
      "cell_type": "markdown",
      "source": [
        "#### **Residualized Regression**"
      ],
      "metadata": {
        "id": "BS_Uf3cJGCit"
      }
    },
    {
      "cell_type": "code",
      "source": [
        "regs1 = jnp.hstack((jnp.ones_like(Ds), Xs))\n",
        "coeffsD = jnp.linalg.lstsq(regs1, Ds)[0]\n",
        "Dhat = regs1@coeffsD\n",
        "D_resid = Ds - Dhat\n",
        "coeffs = jnp.linalg.lstsq(D_resid, Ys)[0]\n",
        "print(coeffs)"
      ],
      "metadata": {
        "colab": {
          "base_uri": "https://localhost:8080/"
        },
        "id": "umMSyvyfErrk",
        "outputId": "6260c0b6-f1b3-486f-d942-10ebe03be789"
      },
      "execution_count": 9,
      "outputs": [
        {
          "output_type": "stream",
          "name": "stdout",
          "text": [
            "[[-0.02938769]]\n"
          ]
        }
      ]
    }
  ]
}