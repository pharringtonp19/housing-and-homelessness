{
  "nbformat": 4,
  "nbformat_minor": 0,
  "metadata": {
    "colab": {
      "provenance": [],
      "authorship_tag": "ABX9TyP3I+kRvPo6yomGqXSP+s7o",
      "include_colab_link": true
    },
    "kernelspec": {
      "name": "python3",
      "display_name": "Python 3"
    },
    "language_info": {
      "name": "python"
    }
  },
  "cells": [
    {
      "cell_type": "markdown",
      "metadata": {
        "id": "view-in-github",
        "colab_type": "text"
      },
      "source": [
        "<a href=\"https://colab.research.google.com/github/pharringtonp19/housing-and-homelessness/blob/main/notebooks/Residualized_Regression.ipynb\" target=\"_parent\"><img src=\"https://colab.research.google.com/assets/colab-badge.svg\" alt=\"Open In Colab\"/></a>"
      ]
    },
    {
      "cell_type": "markdown",
      "source": [
        "#### **Import Libraries**"
      ],
      "metadata": {
        "id": "85wSX0UBDrny"
      }
    },
    {
      "cell_type": "code",
      "execution_count": 1,
      "metadata": {
        "id": "vpE3xDFdDjGv"
      },
      "outputs": [],
      "source": [
        "import jax\n",
        "import jax.numpy as jnp\n",
        "import matplotlib.pyplot as plt"
      ]
    },
    {
      "cell_type": "markdown",
      "source": [
        "#### **Generate Data**"
      ],
      "metadata": {
        "id": "yj6kAvB_DupQ"
      }
    },
    {
      "cell_type": "code",
      "source": [
        "def expected_treatment(control):\n",
        "  return jax.nn.sigmoid(control)\n",
        "\n",
        "def Outcome_and_Treatment(control, key):\n",
        "  k1, k2 = jax.random.split(key)\n",
        "  treatment = jax.random.bernoulli(k1, p=expected_treatment(control), shape=(1,))\n",
        "  return 2.0*treatment + 3.0*control + jax.random.normal(k2, shape=(1,)), treatment\n",
        "\n",
        "def sample(key):\n",
        "  k1, k2 = jax.random.split(key)\n",
        "  control = jax.random.normal(k1, shape=(1,))\n",
        "  outcome, treatment = Outcome_and_Treatment(control, k2)\n",
        "  return treatment, control, outcome"
      ],
      "metadata": {
        "id": "Y2Vvw-R4DqbP"
      },
      "execution_count": 18,
      "outputs": []
    },
    {
      "cell_type": "markdown",
      "source": [
        "### **Sample Data**"
      ],
      "metadata": {
        "id": "-P81f9RnEWjG"
      }
    },
    {
      "cell_type": "code",
      "source": [
        "n_obs = 10000\n",
        "init_key = jax.random.PRNGKey(0)\n",
        "Ds, Xs, Ys = jax.vmap(sample)(jax.random.split(init_key, n_obs))\n",
        "print(Ds.shape, Xs.shape, Ys.shape)"
      ],
      "metadata": {
        "colab": {
          "base_uri": "https://localhost:8080/"
        },
        "id": "py4gZAa4ENmZ",
        "outputId": "2720da88-d35d-4b29-d0eb-571c93a1d201"
      },
      "execution_count": 19,
      "outputs": [
        {
          "output_type": "stream",
          "name": "stdout",
          "text": [
            "(10000, 1) (10000, 1) (10000, 1)\n"
          ]
        }
      ]
    },
    {
      "cell_type": "markdown",
      "source": [
        "#### **Linear Regression**"
      ],
      "metadata": {
        "id": "o5KjbQRrEm59"
      }
    },
    {
      "cell_type": "code",
      "source": [
        "regs = jnp.hstack((Ds, jnp.ones_like(Ds), Xs))\n",
        "coeffs = jnp.linalg.lstsq(regs, Ys)[0]\n",
        "print(coeffs)"
      ],
      "metadata": {
        "colab": {
          "base_uri": "https://localhost:8080/"
        },
        "id": "RHN0QynSEQLE",
        "outputId": "f7bf7076-066e-48cb-9c32-28cb28e12cf3"
      },
      "execution_count": 20,
      "outputs": [
        {
          "output_type": "stream",
          "name": "stdout",
          "text": [
            "[[ 1.9936699]\n",
            " [-0.0033822]\n",
            " [ 3.0164602]]\n"
          ]
        }
      ]
    },
    {
      "cell_type": "markdown",
      "source": [
        "#### **Residualized Regression**"
      ],
      "metadata": {
        "id": "BS_Uf3cJGCit"
      }
    },
    {
      "cell_type": "code",
      "source": [
        "regs1 = jnp.hstack((jnp.ones_like(Ds), Xs))\n",
        "coeffsD = jnp.linalg.lstsq(regs1, Ds)[0]\n",
        "Dhat = regs1@coeffsD\n",
        "D_resid = Ds - Dhat\n",
        "coeffs = jnp.linalg.lstsq(D_resid, Ys)[0]\n",
        "print(coeffs)"
      ],
      "metadata": {
        "colab": {
          "base_uri": "https://localhost:8080/"
        },
        "id": "umMSyvyfErrk",
        "outputId": "7fa89641-5f92-45e5-a4b6-624cb4ac83c4"
      },
      "execution_count": 21,
      "outputs": [
        {
          "output_type": "stream",
          "name": "stdout",
          "text": [
            "[[1.9936712]]\n"
          ]
        }
      ]
    },
    {
      "cell_type": "code",
      "source": [],
      "metadata": {
        "id": "5T8dI8VSfVRR"
      },
      "execution_count": null,
      "outputs": []
    }
  ]
}