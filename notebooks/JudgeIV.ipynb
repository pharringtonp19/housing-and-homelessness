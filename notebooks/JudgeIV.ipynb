{
  "nbformat": 4,
  "nbformat_minor": 0,
  "metadata": {
    "colab": {
      "provenance": [],
      "authorship_tag": "ABX9TyOmtY9zL7DXANMWgjvVSJI9",
      "include_colab_link": true
    },
    "kernelspec": {
      "name": "python3",
      "display_name": "Python 3"
    },
    "language_info": {
      "name": "python"
    }
  },
  "cells": [
    {
      "cell_type": "markdown",
      "metadata": {
        "id": "view-in-github",
        "colab_type": "text"
      },
      "source": [
        "<a href=\"https://colab.research.google.com/github/pharringtonp19/housing-and-homelessness/blob/main/notebooks/JudgeIV.ipynb\" target=\"_parent\"><img src=\"https://colab.research.google.com/assets/colab-badge.svg\" alt=\"Open In Colab\"/></a>"
      ]
    },
    {
      "cell_type": "markdown",
      "source": [
        "### **Import Libraries**"
      ],
      "metadata": {
        "id": "bsR7PMdqYauN"
      }
    },
    {
      "cell_type": "code",
      "execution_count": 51,
      "metadata": {
        "id": "ixsXcKpTVN_1"
      },
      "outputs": [],
      "source": [
        "import jax\n",
        "import jax.numpy as jnp\n",
        "import matplotlib.pyplot as plt\n",
        "from functools import partial\n",
        "import seaborn as sns\n",
        "import warnings\n",
        "warnings.simplefilter(action='ignore', category=FutureWarning)"
      ]
    },
    {
      "cell_type": "markdown",
      "source": [
        "### **Parameters**"
      ],
      "metadata": {
        "id": "dtIOinTkV4V3"
      }
    },
    {
      "cell_type": "code",
      "source": [
        "d = 10\n",
        "n = 1000\n",
        "j = 2\n",
        "key = jax.random.PRNGKey(0)"
      ],
      "metadata": {
        "id": "c-j2rBg1V3gY"
      },
      "execution_count": 52,
      "outputs": []
    },
    {
      "cell_type": "code",
      "source": [
        "def Moved(foreclosed, features, key):\n",
        "  scalar = 0.1*foreclosed + jnp.sum(features)\n",
        "  probs = jax.nn.sigmoid(scalar)\n",
        "  y = jax.random.bernoulli(key, p=probs).astype(jnp.float32)\n",
        "  return y"
      ],
      "metadata": {
        "id": "5Q9rKgUcVUu1"
      },
      "execution_count": 53,
      "outputs": []
    },
    {
      "cell_type": "code",
      "source": [
        "def sample(d, leniency, key):\n",
        "  k1, k2 = jax.random.split(key)\n",
        "  features = jax.random.normal(key, shape=(d,))\n",
        "  scalar =  leniency + 0.3*jnp.sum(features)\n",
        "  probs = jax.nn.sigmoid(scalar)\n",
        "  d = jax.random.bernoulli(key, p=probs).astype(jnp.float32)\n",
        "  y = Moved(d, features, k2)\n",
        "  return y, d, features\n",
        "\n",
        "sample(d, 0.5, key)"
      ],
      "metadata": {
        "colab": {
          "base_uri": "https://localhost:8080/"
        },
        "id": "s0leti-vVR5q",
        "outputId": "eca2ebee-48de-4791-9894-62dabeb756fb"
      },
      "execution_count": 54,
      "outputs": [
        {
          "output_type": "execute_result",
          "data": {
            "text/plain": [
              "(Array(1., dtype=float32),\n",
              " Array(1., dtype=float32),\n",
              " Array([-0.3721109 ,  0.26423115, -0.18252768, -0.7368197 , -0.44030377,\n",
              "        -0.1521442 , -0.67135346, -0.5908641 ,  0.73168886,  0.5673026 ],      dtype=float32))"
            ]
          },
          "metadata": {},
          "execution_count": 54
        }
      ]
    },
    {
      "cell_type": "code",
      "source": [
        "def simulate_cluster(d, j, n, key):\n",
        "  k1, k2 = jax.random.split(key)\n",
        "  ls = jax.random.uniform(k1, minval=0.3, maxval=0.7, shape=(j,))\n",
        "  ls = jnp.repeat(ls, n // j)\n",
        "  y, d, x = jax.vmap(sample, in_axes=(None, 0, 0))(d, ls, jax.random.split(k2, n))\n",
        "  y, d = y.reshape(-1,1), d.reshape(-1,1)\n",
        "  regs1 = jnp.hstack((jnp.ones_like(d), x))\n",
        "  dhat = regs1 @ jnp.linalg.lstsq(regs1, d)[0]\n",
        "  regs2 = jnp.hstack((dhat, jnp.ones_like(d), x))\n",
        "  return jnp.linalg.lstsq(regs2, y)[0][0]"
      ],
      "metadata": {
        "id": "SJKC1SmiZI_g"
      },
      "execution_count": 55,
      "outputs": []
    },
    {
      "cell_type": "code",
      "source": [
        "def simulate_iid(d, n, key):\n",
        "  k1, k2 = jax.random.split(key)\n",
        "  ls = jax.random.uniform(k1, minval=0.3, maxval=0.7, shape=(n,))\n",
        "  y, d, x = jax.vmap(sample, in_axes=(None, 0, 0))(d, ls, jax.random.split(k2, n))\n",
        "  y, d = y.reshape(-1,1), d.reshape(-1,1)\n",
        "  regs1 = jnp.hstack((jnp.ones_like(d), x))\n",
        "  dhat = regs1 @ jnp.linalg.lstsq(regs1, d)[0]\n",
        "  regs2 = jnp.hstack((dhat, jnp.ones_like(d), x))\n",
        "  return jnp.linalg.lstsq(regs2, y)[0][0]"
      ],
      "metadata": {
        "id": "twvlz_NvV6kq"
      },
      "execution_count": 56,
      "outputs": []
    },
    {
      "cell_type": "code",
      "source": [
        "f_cluster = partial(simulate_cluster, d, j, n)\n",
        "results_cluster = jax.vmap(f_cluster)(jax.random.split(key, 1000))"
      ],
      "metadata": {
        "id": "3jm-iiWjXmn5"
      },
      "execution_count": 57,
      "outputs": []
    },
    {
      "cell_type": "code",
      "source": [
        "f_iid = partial(simulate_iid, d, n)\n",
        "results_iid = jax.vmap(f_iid)(jax.random.split(key, 1000))"
      ],
      "metadata": {
        "id": "wBcX1z_EZu8H"
      },
      "execution_count": 58,
      "outputs": []
    },
    {
      "cell_type": "code",
      "source": [
        "\n",
        "\n",
        "# Assuming results_cluster and results_iid are arrays or lists of data\n",
        "sns.kdeplot(results_cluster.reshape(-1,), label=\"Cluster\", shade=True)\n",
        "sns.kdeplot(results_iid.reshape(-1,), label=\"IID\", shade=True)\n",
        "\n",
        "# Add labels and show plot\n",
        "plt.legend()\n",
        "plt.show()"
      ],
      "metadata": {
        "colab": {
          "base_uri": "https://localhost:8080/",
          "height": 430
        },
        "id": "kaAqU9CFanXc",
        "outputId": "3ea4072f-1fbe-4a9f-c990-cb3f36700217"
      },
      "execution_count": 59,
      "outputs": [
        {
          "output_type": "display_data",
          "data": {
            "text/plain": [
              "<Figure size 640x480 with 1 Axes>"
            ],
            "image/png": "[encoded data removed]"
          },
          "metadata": {}
        }
      ]
    }
  ]
}