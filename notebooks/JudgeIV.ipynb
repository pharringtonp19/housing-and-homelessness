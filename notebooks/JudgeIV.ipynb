{
  "nbformat": 4,
  "nbformat_minor": 0,
  "metadata": {
    "colab": {
      "provenance": [],
      "authorship_tag": "ABX9TyMx7J5vM57TuWo1HSl+vQDU",
      "include_colab_link": true
    },
    "kernelspec": {
      "name": "python3",
      "display_name": "Python 3"
    },
    "language_info": {
      "name": "python"
    }
  },
  "cells": [
    {
      "cell_type": "markdown",
      "metadata": {
        "id": "view-in-github",
        "colab_type": "text"
      },
      "source": [
        "<a href=\"https://colab.research.google.com/github/pharringtonp19/housing-and-homelessness/blob/main/notebooks/JudgeIV.ipynb\" target=\"_parent\"><img src=\"https://colab.research.google.com/assets/colab-badge.svg\" alt=\"Open In Colab\"/></a>"
      ]
    },
    {
      "cell_type": "markdown",
      "source": [
        "### **Import Libraries**"
      ],
      "metadata": {
        "id": "bsR7PMdqYauN"
      }
    },
    {
      "cell_type": "code",
      "execution_count": 134,
      "metadata": {
        "id": "ixsXcKpTVN_1"
      },
      "outputs": [],
      "source": [
        "import jax\n",
        "import jax.numpy as jnp\n",
        "import matplotlib.pyplot as plt\n",
        "from functools import partial\n",
        "import seaborn as sns\n",
        "import warnings\n",
        "warnings.simplefilter(action='ignore', category=FutureWarning)"
      ]
    },
    {
      "cell_type": "markdown",
      "source": [
        "### **Parameters**"
      ],
      "metadata": {
        "id": "dtIOinTkV4V3"
      }
    },
    {
      "cell_type": "code",
      "source": [
        "n = 5000\n",
        "j = 10\n",
        "key = jax.random.PRNGKey(0)"
      ],
      "metadata": {
        "id": "c-j2rBg1V3gY"
      },
      "execution_count": 135,
      "outputs": []
    },
    {
      "cell_type": "code",
      "source": [
        "def Income(foreclosed, x, key):\n",
        "  return -0.5*foreclosed  + x -0.25*x*foreclosed + jax.random.normal(key)"
      ],
      "metadata": {
        "id": "5Q9rKgUcVUu1"
      },
      "execution_count": 136,
      "outputs": []
    },
    {
      "cell_type": "code",
      "source": [
        "def Foreclosed(z, x, key):\n",
        "  scalar = -z + x -z*x\n",
        "  return jax.random.bernoulli(key, p=scalar).astype(jnp.float32)"
      ],
      "metadata": {
        "id": "u7RBQSipZXpM"
      },
      "execution_count": 137,
      "outputs": []
    },
    {
      "cell_type": "code",
      "source": [
        "def Individual_sample(z, key):\n",
        "  k1, k2, k3 = jax.random.split(key, 3)\n",
        "  x = jax.random.normal(k1)\n",
        "  d = Foreclosed(z, x, k2)\n",
        "  y = Income(d, x, k3)\n",
        "  return y, d, z, x\n",
        "\n",
        "def Batch_sample(zs, keys):\n",
        "  y, d, z, x = jax.vmap(Individual_sample, in_axes=(0, 0))(zs, keys)\n",
        "  y, d, z, x = y.reshape(-1,1), d.reshape(-1,1), z.reshape(-1,1), x.reshape(-1,1)\n",
        "  return y, d, z, x\n",
        "\n",
        "def IV(y, d, z, x):\n",
        "  regs1 = jnp.hstack((z, jnp.ones_like(d), x))\n",
        "  dhat = regs1 @ jnp.linalg.lstsq(regs1, d)[0]\n",
        "  regs2 = jnp.hstack((dhat, jnp.ones_like(d), x))\n",
        "  return jnp.linalg.lstsq(regs2, y)[0][0]\n",
        "\n",
        "def OLS(y, d, z, x):\n",
        "  regs = jnp.hstack((d, jnp.ones_like(d), x))\n",
        "  return jnp.linalg.lstsq(regs, y)[0][0]\n"
      ],
      "metadata": {
        "id": "s0leti-vVR5q"
      },
      "execution_count": 138,
      "outputs": []
    },
    {
      "cell_type": "code",
      "source": [
        "def simulate_cluster(j, n, key):\n",
        "  k1, k2 = jax.random.split(key)\n",
        "  zs = jax.random.uniform(k1, minval=0.3, maxval=0.7, shape=(j,))\n",
        "  zs = jnp.repeat(zs, n // j)\n",
        "  y, d, z, x = Batch_sample(zs, jax.random.split(k2, n))\n",
        "  return IV(y, d, z, x)\n",
        "\n",
        "def simulate_iid(n, key):\n",
        "  k1, k2 = jax.random.split(key)\n",
        "  zs = jax.random.uniform(k1, minval=0.3, maxval=0.7, shape=(n,))\n",
        "  y, d, z, x = Batch_sample(zs, jax.random.split(k2, n))\n",
        "  return IV(y, d, z, x)\n",
        "\n",
        "def simulate_ols_iid(n, key):\n",
        "  k1, k2 = jax.random.split(key)\n",
        "  zs = jax.random.uniform(k1, minval=0.3, maxval=0.7, shape=(n,))\n",
        "  y, d, z, x = Batch_sample(zs, jax.random.split(k2, n))\n",
        "  return OLS(y, d, z, x)"
      ],
      "metadata": {
        "id": "F09TtbYeaecy"
      },
      "execution_count": 139,
      "outputs": []
    },
    {
      "cell_type": "code",
      "source": [
        "f_cluster = partial(simulate_cluster, j, n)\n",
        "results_cluster = jax.vmap(f_cluster)(jax.random.split(key, 1000))"
      ],
      "metadata": {
        "id": "3jm-iiWjXmn5"
      },
      "execution_count": 140,
      "outputs": []
    },
    {
      "cell_type": "code",
      "source": [
        "f_iid = partial(simulate_iid, n)\n",
        "results_iid = jax.vmap(f_iid)(jax.random.split(key, 1000))"
      ],
      "metadata": {
        "id": "wBcX1z_EZu8H"
      },
      "execution_count": 141,
      "outputs": []
    },
    {
      "cell_type": "code",
      "source": [
        "f_iid_ols = partial(simulate_ols_iid, n)\n",
        "results_iid_ols = jax.vmap(f_iid_ols)(jax.random.split(key, 1000))"
      ],
      "metadata": {
        "id": "E6xVXpd_dM01"
      },
      "execution_count": 142,
      "outputs": []
    },
    {
      "cell_type": "code",
      "source": [
        "xs = jnp.linspace(0, 1, 100)\n",
        "ys_cluster = jax.vmap(jnp.quantile, in_axes=(None, 0))(results_cluster, xs)\n",
        "ys_iid = jax.vmap(jnp.quantile, in_axes=(None, 0))(results_iid, xs)\n",
        "ys_iid_ols = jax.vmap(jnp.quantile, in_axes=(None, 0))(results_iid_ols, xs)\n",
        "plt.plot(xs, ys_cluster)\n",
        "plt.plot(xs, ys_iid)\n",
        "plt.plot(xs, ys_iid_ols)\n",
        "plt.show()"
      ],
      "metadata": {
        "colab": {
          "base_uri": "https://localhost:8080/",
          "height": 430
        },
        "id": "CdK3p08kcEcP",
        "outputId": "4ddc037c-cf66-4159-850d-aa93710e39cb"
      },
      "execution_count": 143,
      "outputs": [
        {
          "output_type": "display_data",
          "data": {
            "text/plain": [
              "<Figure size 640x480 with 1 Axes>"
            ],
            "image/png": "[encoded data removed]"
          },
          "metadata": {}
        }
      ]
    },
    {
      "cell_type": "code",
      "source": [
        "print(jnp.std(results_cluster))\n",
        "print(jnp.std(results_iid))\n",
        "print(jnp.std(results_iid_ols))"
      ],
      "metadata": {
        "colab": {
          "base_uri": "https://localhost:8080/"
        },
        "id": "y9lEJOxMXebV",
        "outputId": "5cc797b1-e96b-4efb-c4bc-331bc3d4a19b"
      },
      "execution_count": 144,
      "outputs": [
        {
          "output_type": "stream",
          "name": "stdout",
          "text": [
            "0.38004786\n",
            "0.33451352\n",
            "0.07047394\n"
          ]
        }
      ]
    },
    {
      "cell_type": "code",
      "source": [
        "# Assuming results_cluster and results_iid are arrays or lists of data\n",
        "sns.kdeplot(results_cluster.reshape(-1,), label=\"Cluster IV\", shade=True)\n",
        "sns.kdeplot(results_iid.reshape(-1,), label=\"IID IV\", shade=True)\n",
        "sns.kdeplot(results_iid_ols.reshape(-1,), label=\"IID OLS\", shade=True)\n",
        "# Add labels and show plot\n",
        "plt.legend()\n",
        "plt.show()"
      ],
      "metadata": {
        "colab": {
          "base_uri": "https://localhost:8080/",
          "height": 430
        },
        "id": "kaAqU9CFanXc",
        "outputId": "ca1732a7-cb4d-4a23-b703-42b3c074a02c"
      },
      "execution_count": 145,
      "outputs": [
        {
          "output_type": "display_data",
          "data": {
            "text/plain": [
              "<Figure size 640x480 with 1 Axes>"
            ],
            "image/png": "[encoded data removed]"
          },
          "metadata": {}
        }
      ]
    },
    {
      "cell_type": "code",
      "source": [],
      "metadata": {
        "id": "7E9SSrhDXZWN"
      },
      "execution_count": 145,
      "outputs": []
    }
  ]
}