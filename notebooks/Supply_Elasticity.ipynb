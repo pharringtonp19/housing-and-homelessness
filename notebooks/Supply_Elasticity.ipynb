{
  "nbformat": 4,
  "nbformat_minor": 0,
  "metadata": {
    "colab": {
      "provenance": [],
      "authorship_tag": "ABX9TyMD0w/sL3esirz4oO0MoJuN",
      "include_colab_link": true
    },
    "kernelspec": {
      "name": "python3",
      "display_name": "Python 3"
    },
    "language_info": {
      "name": "python"
    }
  },
  "cells": [
    {
      "cell_type": "markdown",
      "metadata": {
        "id": "view-in-github",
        "colab_type": "text"
      },
      "source": [
        "<a href=\"https://colab.research.google.com/github/pharringtonp19/housing-and-homelessness/blob/main/notebooks/Supply_Elasticity.ipynb\" target=\"_parent\"><img src=\"https://colab.research.google.com/assets/colab-badge.svg\" alt=\"Open In Colab\"/></a>"
      ]
    },
    {
      "cell_type": "markdown",
      "source": [
        "### **Libraries**"
      ],
      "metadata": {
        "id": "2dXmX9nWJVs5"
      }
    },
    {
      "cell_type": "code",
      "execution_count": 48,
      "metadata": {
        "id": "6XBugdNjJPSW"
      },
      "outputs": [],
      "source": [
        "import jax\n",
        "import jax.numpy as jnp\n",
        "import matplotlib.pyplot as plt\n",
        "from functools import partial\n",
        "import optax"
      ]
    },
    {
      "cell_type": "markdown",
      "source": [
        "### **Functions**"
      ],
      "metadata": {
        "id": "MLuai-agJ5ad"
      }
    },
    {
      "cell_type": "code",
      "source": [
        "def curve(price, shift=0, Q0=5, p0=5, elasticity=.2):\n",
        "  return Q0 * (price / p0)**elasticity"
      ],
      "metadata": {
        "id": "cYYdSg_WJVCL"
      },
      "execution_count": 38,
      "outputs": []
    },
    {
      "cell_type": "markdown",
      "source": [
        "### **Plot**"
      ],
      "metadata": {
        "id": "X3E5_WfeJ8En"
      }
    },
    {
      "cell_type": "code",
      "source": [
        "prices = jnp.linspace(1, 10, 100)\n",
        "qs0 = partial(curve, elasticity=-1.)(prices)\n",
        "plt.plot(qs0, prices)\n",
        "qs1 = partial(curve, elasticity=0.5)(prices)\n",
        "plt.plot(qs1, prices)\n",
        "plt.xlim(0, 10)\n",
        "plt.xlabel('Quantity', size=12)\n",
        "plt.title('Price', size=12, loc='left')\n",
        "plt.show()"
      ],
      "metadata": {
        "colab": {
          "base_uri": "https://localhost:8080/",
          "height": 476
        },
        "id": "qbV9AhFxJe3I",
        "outputId": "8b0b756e-804c-4c24-cd3b-3a0c090076dd"
      },
      "execution_count": 47,
      "outputs": [
        {
          "output_type": "display_data",
          "data": {
            "text/plain": [
              "<Figure size 640x480 with 1 Axes>"
            ],
            "image/png": "[encoded data removed]"
          },
          "metadata": {}
        }
      ]
    },
    {
      "cell_type": "code",
      "source": [
        "def solve(e1, e2):\n",
        "\n",
        "  def loss_fn(params):\n",
        "    q, p = params\n",
        "    a1 = q - curve(p, elasticity=e1)\n",
        "    a2 = q - curve(p, elasticity=e2)\n",
        "    return jnp.linalg.norm(jnp.array([a1, a2]))\n",
        "\n",
        "  value_and_grad = jax.value_and_grad(loss_fn)\n",
        "  optimizer = optax.lbfgs(memory_size=10)\n",
        "  params = jnp.array([3.0, 3.0])\n",
        "  opt_state = optimizer.init(params)\n",
        "\n",
        "  for _ in range(10):\n",
        "    value, grad = value_and_grad(params)\n",
        "    updates, opt_state = optimizer.update(grad, opt_state, params=params, value=value, grad=grad, value_fn=loss_fn)\n",
        "    params = optax.apply_updates(params, updates)\n",
        "    if jnp.linalg.norm(params) < 1e-5:\n",
        "      break\n",
        "\n",
        "  return params"
      ],
      "metadata": {
        "id": "wl47N8uyN4gq"
      },
      "execution_count": 63,
      "outputs": []
    },
    {
      "cell_type": "code",
      "source": [
        "solve(1.0, -0.5)"
      ],
      "metadata": {
        "colab": {
          "base_uri": "https://localhost:8080/"
        },
        "id": "OpXBFqyWSPbB",
        "outputId": "3cfae0c7-3a1d-445b-b5a2-bb209cceacee"
      },
      "execution_count": 64,
      "outputs": [
        {
          "output_type": "execute_result",
          "data": {
            "text/plain": [
              "Array([4.9999666, 4.9999967], dtype=float32)"
            ]
          },
          "metadata": {},
          "execution_count": 64
        }
      ]
    },
    {
      "cell_type": "code",
      "source": [],
      "metadata": {
        "id": "PdqGLrfjST4M"
      },
      "execution_count": null,
      "outputs": []
    }
  ]
}