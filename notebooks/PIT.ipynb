{
  "nbformat": 4,
  "nbformat_minor": 0,
  "metadata": {
    "colab": {
      "provenance": [],
      "authorship_tag": "ABX9TyMN0keVgjqx/m02UeI1tB9N",
      "include_colab_link": true
    },
    "kernelspec": {
      "name": "python3",
      "display_name": "Python 3"
    },
    "language_info": {
      "name": "python"
    }
  },
  "cells": [
    {
      "cell_type": "markdown",
      "metadata": {
        "id": "view-in-github",
        "colab_type": "text"
      },
      "source": [
        "<a href=\"https://colab.research.google.com/github/pharringtonp19/housing-and-homelessness/blob/main/notebooks/PIT.ipynb\" target=\"_parent\"><img src=\"https://colab.research.google.com/assets/colab-badge.svg\" alt=\"Open In Colab\"/></a>"
      ]
    },
    {
      "cell_type": "markdown",
      "source": [
        "### **Download Data**"
      ],
      "metadata": {
        "id": "mu8Hoa1M0cju"
      }
    },
    {
      "cell_type": "code",
      "source": [
        "!wget \"https://www.huduser.gov/portal/sites/default/files/xls/2007-2024-PIT-Counts-by-State.xlsb\""
      ],
      "metadata": {
        "id": "s7jLNh9kKToA",
        "outputId": "5b38a083-5966-42e1-fde8-341466ebfccc",
        "colab": {
          "base_uri": "https://localhost:8080/"
        }
      },
      "execution_count": null,
      "outputs": [
        {
          "output_type": "stream",
          "name": "stdout",
          "text": [
            "--2025-08-28 19:31:50--  https://www.huduser.gov/portal/sites/default/files/xls/2007-2024-PIT-Counts-by-State.xlsb\n",
            "Resolving www.huduser.gov (www.huduser.gov)... 3.20.101.100, 18.223.37.198\n",
            "Connecting to www.huduser.gov (www.huduser.gov)|3.20.101.100|:443... connected.\n",
            "HTTP request sent, awaiting response... 200 OK\n",
            "Length: 2224540 (2.1M) [application/vnd.ms-excel.sheet.binary.macroEnabled.12]\n",
            "Saving to: ‘2007-2024-PIT-Counts-by-State.xlsb’\n",
            "\n",
            "2007-2024-PIT-Count 100%[===================>]   2.12M  2.00MB/s    in 1.1s    \n",
            "\n",
            "2025-08-28 19:31:52 (2.00 MB/s) - ‘2007-2024-PIT-Counts-by-State.xlsb’ saved [2224540/2224540]\n",
            "\n"
          ]
        }
      ]
    },
    {
      "cell_type": "markdown",
      "source": [
        "### **Install Libraries**"
      ],
      "metadata": {
        "id": "HobhBbWeK0zS"
      }
    },
    {
      "cell_type": "code",
      "source": [
        "!pip install pyxlsb"
      ],
      "metadata": {
        "id": "bacTbqZFKvD3",
        "outputId": "d2178b22-830d-4577-8c22-dfde21145f04",
        "colab": {
          "base_uri": "https://localhost:8080/"
        }
      },
      "execution_count": null,
      "outputs": [
        {
          "output_type": "stream",
          "name": "stdout",
          "text": [
            "Collecting pyxlsb\n",
            "  Downloading pyxlsb-1.0.10-py2.py3-none-any.whl.metadata (2.5 kB)\n",
            "Downloading pyxlsb-1.0.10-py2.py3-none-any.whl (23 kB)\n",
            "Installing collected packages: pyxlsb\n",
            "Successfully installed pyxlsb-1.0.10\n"
          ]
        }
      ]
    },
    {
      "cell_type": "markdown",
      "source": [
        "### **Import Libraries**"
      ],
      "metadata": {
        "id": "gi9Nmto60Zmc"
      }
    },
    {
      "cell_type": "code",
      "source": [
        "import os\n",
        "import pandas as pd\n",
        "import numpy as np\n",
        "import matplotlib.pyplot as plt\n",
        "from google.colab import userdata\n",
        "from matplotlib import font_manager\n",
        "import matplotlib.dates as mdates\n",
        "import matplotlib as mpl\n",
        "from matplotlib import pyplot as plt\n",
        "from matplotlib import rcParams\n",
        "rcParams['image.interpolation'] = 'nearest'\n",
        "rcParams['image.cmap'] = 'viridis'\n",
        "rcParams['axes.grid'] = False\n",
        "%matplotlib inline\n",
        "%config InlineBackend.figure_format = 'svg'"
      ],
      "metadata": {
        "id": "WsPzYEzZ0UqV"
      },
      "execution_count": null,
      "outputs": []
    },
    {
      "cell_type": "markdown",
      "source": [
        "### **Read In Data**"
      ],
      "metadata": {
        "id": "GKswplLRK39Y"
      }
    },
    {
      "cell_type": "code",
      "source": [
        "results = []\n",
        "years = np.arange(2007, 2025)\n",
        "years = list(years)\n",
        "years.remove(2021)\n",
        "years = np.array(years)\n",
        "for year in years:\n",
        "  df = pd.read_excel('2007-2024-PIT-Counts-by-State.xlsb', sheet_name=str(year))\n",
        "  condition = df['State'] == 'Total'\n",
        "  new_df = df[condition]\n",
        "  num = new_df['Overall Homeless'].values.item()\n",
        "  results.append(num)"
      ],
      "metadata": {
        "id": "5gZhcEv3cJI1"
      },
      "execution_count": null,
      "outputs": []
    },
    {
      "cell_type": "markdown",
      "source": [
        "### **Plot**"
      ],
      "metadata": {
        "id": "n-q-D97kNOI_"
      }
    },
    {
      "cell_type": "code",
      "source": [
        "x = pd.to_datetime(years, format='%Y')\n",
        "y = np.array(results) / 1e3\n",
        "\n",
        "# --- NYT-style colors ---\n",
        "line_color = '#1f77b4'\n",
        "fill_color = \"#e6f1fb\"\n",
        "forecast_fill = \"#dfeaf7\"\n",
        "grid_color = '#e6e6e6'\n",
        "\n",
        "fig, ax = plt.subplots(figsize=(7, 4.5), dpi=300)\n",
        "ax.set_facecolor(\"white\")\n",
        "fig.patch.set_facecolor(\"white\")\n",
        "\n",
        "# area + line\n",
        "ax.fill_between(x, 0, y, color=fill_color, linewidth=0, zorder=1, alpha=0.6)\n",
        "ax.yaxis.grid(True, color=grid_color, linewidth=.5, zorder=2)\n",
        "ax.plot(x, y, color=line_color, linewidth=1, zorder=3,\n",
        "        solid_capstyle=\"round\", solid_joinstyle=\"round\")\n",
        "\n",
        "# spines & ticks (keep only a subtle bottom spine)\n",
        "for side in (\"top\", \"left\", \"right\"):\n",
        "    ax.spines[side].set_visible(False)\n",
        "ax.spines[\"bottom\"].set_color(\"#bdbdbd\")\n",
        "ax.spines[\"bottom\"].set_linewidth(1)\n",
        "\n",
        "ax.tick_params(axis=\"x\", length=2, labelsize=9, pad=2)\n",
        "ax.tick_params(axis=\"y\", length=0, labelsize=9, pad=2)\n",
        "\n",
        "\n",
        "# tidy limits\n",
        "ax.set_axisbelow(True)            # any future gridlines stay behind\n",
        "\n",
        "# title + subtitle (left-aligned)\n",
        "ax.text(0., 1.05, s='Homeless', transform=ax.transAxes, size=14)\n",
        "ax.text(0, 1.01, \"Thousands\", transform=ax.transAxes,\n",
        "        fontsize=9, color=\"#555555\")\n",
        "\n",
        "ax.annotate(\"HUD: Point In Time Count\",\n",
        "        xy = (0., -0.1),\n",
        "        xycoords='axes fraction',\n",
        "        ha='left',\n",
        "        va=\"center\",\n",
        "        fontsize=8)\n",
        "\n",
        "plt.ticklabel_format(style='plain', axis='y')  # <- disable sci notation on y-axis\n",
        "\n",
        "fig.savefig(\"homelessness.png\", bbox_inches=\"tight\", dpi=300)\n",
        "plt.show()"
      ],
      "metadata": {
        "colab": {
          "base_uri": "https://localhost:8080/",
          "height": 442
        },
        "id": "SqTKx-YxTbFx",
        "outputId": "99b8edb7-ba98-4c77-ed00-f139b97e5c6c"
      },
      "execution_count": null,
      "outputs": [
        {
          "output_type": "display_data",
          "data": {
            "text/plain": [
              "<Figure size 2100x1350 with 1 Axes>"
            ],
            "image/svg+xml": "<?xml version=\"1.0\" encoding=\"utf-8\" standalone=\"no\"?>\n<!DOCTYPE svg PUBLIC \"-//W3C//DTD SVG 1.1//EN\"\n  \"http://www.w3.org/Graphics/SVG/1.1/DTD/svg11.dtd\">\n<svg xmlns:xlink=\"http://www.w3.org/1999/xlink\" width=\"424.17875pt\" height=\"315.811062pt\" viewBox=\"0 0 424.17875 315.811062\" xmlns=\"http://www.w3.org/2000/svg\" version=\"1.1\">\n <metadata>\n  <rdf:RDF xmlns:dc=\"http://purl.org/dc/elements/1.1/\" xmlns:cc=\"http://creativecommons.org/ns#\" xmlns:rdf=\"http://www.w3.org/1999/02/22-rdf-syntax-ns#\">\n   <cc:Work>\n    <dc:type rdf:resource=\"http://purl.org/dc/dcmitype/StillImage\"/>\n    <dc:date>2025-08-28T19:43:42.368165</dc:date>\n    <dc:format>image/svg+xml</dc:format>\n    <dc:creator>\n     <cc:Agent>\n      <dc:title>Matplotlib v3.10.0, https://matplotlib.org/</dc:title>\n     </cc:Agent>\n    </dc:creator>\n   </cc:Work>\n  </rdf:RDF>\n </metadata>\n <defs>\n  <style type=\"text/css\">*{stroke-linejoin: round; stroke-linecap: butt}</style>\n </defs>\n <g id=\"figure_1\">\n  <g id=\"patch_1\">\n   <path d=\"M 0 315.811062 \nL 424.17875 315.811062 \nL 424.17875 0 \nL 0 0 \nz\n\" style=\"fill: #ffffff\"/>\n  </g>\n  <g id=\"axes_1\">\n   <g id=\"patch_2\">\n    <path d=\"M 26.37875 279.791812 \nL 416.97875 279.791812 \nL 416.97875 30.311812 \nL 26.37875 30.311812 \nz\n\" style=\"fill: #ffffff\"/>\n   </g>\n   <g id=\"matplotlib.axis_1\">\n    <g id=\"xtick_1\">\n     <g id=\"line2d_1\">\n      <defs>\n       <path id=\"m0437358b67\" d=\"M 0 0 \nL 0 2 \n\" style=\"stroke: #000000; stroke-width: 0.8\"/>\n      </defs>\n      <g>\n       <use xlink:href=\"#m0437358b67\" x=\"65.00754\" y=\"279.791812\" style=\"stroke: #000000; stroke-width: 0.8\"/>\n      </g>\n     </g>\n     <g id=\"text_1\">\n      <!-- 2008 -->\n      <g transform=\"translate(53.55504 290.630406) scale(0.09 -0.09)\">\n       <defs>\n        <path id=\"DejaVuSans-32\" d=\"M 1228 531 \nL 3431 531 \nL 3431 0 \nL 469 0 \nL 469 531 \nQ 828 903 1448 1529 \nQ 2069 2156 2228 2338 \nQ 2531 2678 2651 2914 \nQ 2772 3150 2772 3378 \nQ 2772 3750 2511 3984 \nQ 2250 4219 1831 4219 \nQ 1534 4219 1204 4116 \nQ 875 4013 500 3803 \nL 500 4441 \nQ 881 4594 1212 4672 \nQ 1544 4750 1819 4750 \nQ 2544 4750 2975 4387 \nQ 3406 4025 3406 3419 \nQ 3406 3131 3298 2873 \nQ 3191 2616 2906 2266 \nQ 2828 2175 2409 1742 \nQ 1991 1309 1228 531 \nz\n\" transform=\"scale(0.015625)\"/>\n        <path id=\"DejaVuSans-30\" d=\"M 2034 4250 \nQ 1547 4250 1301 3770 \nQ 1056 3291 1056 2328 \nQ 1056 1369 1301 889 \nQ 1547 409 2034 409 \nQ 2525 409 2770 889 \nQ 3016 1369 3016 2328 \nQ 3016 3291 2770 3770 \nQ 2525 4250 2034 4250 \nz\nM 2034 4750 \nQ 2819 4750 3233 4129 \nQ 3647 3509 3647 2328 \nQ 3647 1150 3233 529 \nQ 2819 -91 2034 -91 \nQ 1250 -91 836 529 \nQ 422 1150 422 2328 \nQ 422 3509 836 4129 \nQ 1250 4750 2034 4750 \nz\n\" transform=\"scale(0.015625)\"/>\n        <path id=\"DejaVuSans-38\" d=\"M 2034 2216 \nQ 1584 2216 1326 1975 \nQ 1069 1734 1069 1313 \nQ 1069 891 1326 650 \nQ 1584 409 2034 409 \nQ 2484 409 2743 651 \nQ 3003 894 3003 1313 \nQ 3003 1734 2745 1975 \nQ 2488 2216 2034 2216 \nz\nM 1403 2484 \nQ 997 2584 770 2862 \nQ 544 3141 544 3541 \nQ 544 4100 942 4425 \nQ 1341 4750 2034 4750 \nQ 2731 4750 3128 4425 \nQ 3525 4100 3525 3541 \nQ 3525 3141 3298 2862 \nQ 3072 2584 2669 2484 \nQ 3125 2378 3379 2068 \nQ 3634 1759 3634 1313 \nQ 3634 634 3220 271 \nQ 2806 -91 2034 -91 \nQ 1263 -91 848 271 \nQ 434 634 434 1313 \nQ 434 1759 690 2068 \nQ 947 2378 1403 2484 \nz\nM 1172 3481 \nQ 1172 3119 1398 2916 \nQ 1625 2713 2034 2713 \nQ 2441 2713 2670 2916 \nQ 2900 3119 2900 3481 \nQ 2900 3844 2670 4047 \nQ 2441 4250 2034 4250 \nQ 1625 4250 1398 4047 \nQ 1172 3844 1172 3481 \nz\n\" transform=\"scale(0.015625)\"/>\n       </defs>\n       <use xlink:href=\"#DejaVuSans-32\"/>\n       <use xlink:href=\"#DejaVuSans-30\" transform=\"translate(63.623047 0)\"/>\n       <use xlink:href=\"#DejaVuSans-30\" transform=\"translate(127.246094 0)\"/>\n       <use xlink:href=\"#DejaVuSans-38\" transform=\"translate(190.869141 0)\"/>\n      </g>\n     </g>\n    </g>\n    <g id=\"xtick_2\">\n     <g id=\"line2d_2\">\n      <g>\n       <use xlink:href=\"#m0437358b67\" x=\"106.813218\" y=\"279.791812\" style=\"stroke: #000000; stroke-width: 0.8\"/>\n      </g>\n     </g>\n     <g id=\"text_2\">\n      <!-- 2010 -->\n      <g transform=\"translate(95.360718 290.630406) scale(0.09 -0.09)\">\n       <defs>\n        <path id=\"DejaVuSans-31\" d=\"M 794 531 \nL 1825 531 \nL 1825 4091 \nL 703 3866 \nL 703 4441 \nL 1819 4666 \nL 2450 4666 \nL 2450 531 \nL 3481 531 \nL 3481 0 \nL 794 0 \nL 794 531 \nz\n\" transform=\"scale(0.015625)\"/>\n       </defs>\n       <use xlink:href=\"#DejaVuSans-32\"/>\n       <use xlink:href=\"#DejaVuSans-30\" transform=\"translate(63.623047 0)\"/>\n       <use xlink:href=\"#DejaVuSans-31\" transform=\"translate(127.246094 0)\"/>\n       <use xlink:href=\"#DejaVuSans-30\" transform=\"translate(190.869141 0)\"/>\n      </g>\n     </g>\n    </g>\n    <g id=\"xtick_3\">\n     <g id=\"line2d_3\">\n      <g>\n       <use xlink:href=\"#m0437358b67\" x=\"148.561706\" y=\"279.791812\" style=\"stroke: #000000; stroke-width: 0.8\"/>\n      </g>\n     </g>\n     <g id=\"text_3\">\n      <!-- 2012 -->\n      <g transform=\"translate(137.109206 290.630406) scale(0.09 -0.09)\">\n       <use xlink:href=\"#DejaVuSans-32\"/>\n       <use xlink:href=\"#DejaVuSans-30\" transform=\"translate(63.623047 0)\"/>\n       <use xlink:href=\"#DejaVuSans-31\" transform=\"translate(127.246094 0)\"/>\n       <use xlink:href=\"#DejaVuSans-32\" transform=\"translate(190.869141 0)\"/>\n      </g>\n     </g>\n    </g>\n    <g id=\"xtick_4\">\n     <g id=\"line2d_4\">\n      <g>\n       <use xlink:href=\"#m0437358b67\" x=\"190.367384\" y=\"279.791812\" style=\"stroke: #000000; stroke-width: 0.8\"/>\n      </g>\n     </g>\n     <g id=\"text_4\">\n      <!-- 2014 -->\n      <g transform=\"translate(178.914884 290.630406) scale(0.09 -0.09)\">\n       <defs>\n        <path id=\"DejaVuSans-34\" d=\"M 2419 4116 \nL 825 1625 \nL 2419 1625 \nL 2419 4116 \nz\nM 2253 4666 \nL 3047 4666 \nL 3047 1625 \nL 3713 1625 \nL 3713 1100 \nL 3047 1100 \nL 3047 0 \nL 2419 0 \nL 2419 1100 \nL 313 1100 \nL 313 1709 \nL 2253 4666 \nz\n\" transform=\"scale(0.015625)\"/>\n       </defs>\n       <use xlink:href=\"#DejaVuSans-32\"/>\n       <use xlink:href=\"#DejaVuSans-30\" transform=\"translate(63.623047 0)\"/>\n       <use xlink:href=\"#DejaVuSans-31\" transform=\"translate(127.246094 0)\"/>\n       <use xlink:href=\"#DejaVuSans-34\" transform=\"translate(190.869141 0)\"/>\n      </g>\n     </g>\n    </g>\n    <g id=\"xtick_5\">\n     <g id=\"line2d_5\">\n      <g>\n       <use xlink:href=\"#m0437358b67\" x=\"232.115872\" y=\"279.791812\" style=\"stroke: #000000; stroke-width: 0.8\"/>\n      </g>\n     </g>\n     <g id=\"text_5\">\n      <!-- 2016 -->\n      <g transform=\"translate(220.663372 290.630406) scale(0.09 -0.09)\">\n       <defs>\n        <path id=\"DejaVuSans-36\" d=\"M 2113 2584 \nQ 1688 2584 1439 2293 \nQ 1191 2003 1191 1497 \nQ 1191 994 1439 701 \nQ 1688 409 2113 409 \nQ 2538 409 2786 701 \nQ 3034 994 3034 1497 \nQ 3034 2003 2786 2293 \nQ 2538 2584 2113 2584 \nz\nM 3366 4563 \nL 3366 3988 \nQ 3128 4100 2886 4159 \nQ 2644 4219 2406 4219 \nQ 1781 4219 1451 3797 \nQ 1122 3375 1075 2522 \nQ 1259 2794 1537 2939 \nQ 1816 3084 2150 3084 \nQ 2853 3084 3261 2657 \nQ 3669 2231 3669 1497 \nQ 3669 778 3244 343 \nQ 2819 -91 2113 -91 \nQ 1303 -91 875 529 \nQ 447 1150 447 2328 \nQ 447 3434 972 4092 \nQ 1497 4750 2381 4750 \nQ 2619 4750 2861 4703 \nQ 3103 4656 3366 4563 \nz\n\" transform=\"scale(0.015625)\"/>\n       </defs>\n       <use xlink:href=\"#DejaVuSans-32\"/>\n       <use xlink:href=\"#DejaVuSans-30\" transform=\"translate(63.623047 0)\"/>\n       <use xlink:href=\"#DejaVuSans-31\" transform=\"translate(127.246094 0)\"/>\n       <use xlink:href=\"#DejaVuSans-36\" transform=\"translate(190.869141 0)\"/>\n      </g>\n     </g>\n    </g>\n    <g id=\"xtick_6\">\n     <g id=\"line2d_6\">\n      <g>\n       <use xlink:href=\"#m0437358b67\" x=\"273.92155\" y=\"279.791812\" style=\"stroke: #000000; stroke-width: 0.8\"/>\n      </g>\n     </g>\n     <g id=\"text_6\">\n      <!-- 2018 -->\n      <g transform=\"translate(262.46905 290.630406) scale(0.09 -0.09)\">\n       <use xlink:href=\"#DejaVuSans-32\"/>\n       <use xlink:href=\"#DejaVuSans-30\" transform=\"translate(63.623047 0)\"/>\n       <use xlink:href=\"#DejaVuSans-31\" transform=\"translate(127.246094 0)\"/>\n       <use xlink:href=\"#DejaVuSans-38\" transform=\"translate(190.869141 0)\"/>\n      </g>\n     </g>\n    </g>\n    <g id=\"xtick_7\">\n     <g id=\"line2d_7\">\n      <g>\n       <use xlink:href=\"#m0437358b67\" x=\"315.670038\" y=\"279.791812\" style=\"stroke: #000000; stroke-width: 0.8\"/>\n      </g>\n     </g>\n     <g id=\"text_7\">\n      <!-- 2020 -->\n      <g transform=\"translate(304.217538 290.630406) scale(0.09 -0.09)\">\n       <use xlink:href=\"#DejaVuSans-32\"/>\n       <use xlink:href=\"#DejaVuSans-30\" transform=\"translate(63.623047 0)\"/>\n       <use xlink:href=\"#DejaVuSans-32\" transform=\"translate(127.246094 0)\"/>\n       <use xlink:href=\"#DejaVuSans-30\" transform=\"translate(190.869141 0)\"/>\n      </g>\n     </g>\n    </g>\n    <g id=\"xtick_8\">\n     <g id=\"line2d_8\">\n      <g>\n       <use xlink:href=\"#m0437358b67\" x=\"357.475716\" y=\"279.791812\" style=\"stroke: #000000; stroke-width: 0.8\"/>\n      </g>\n     </g>\n     <g id=\"text_8\">\n      <!-- 2022 -->\n      <g transform=\"translate(346.023216 290.630406) scale(0.09 -0.09)\">\n       <use xlink:href=\"#DejaVuSans-32\"/>\n       <use xlink:href=\"#DejaVuSans-30\" transform=\"translate(63.623047 0)\"/>\n       <use xlink:href=\"#DejaVuSans-32\" transform=\"translate(127.246094 0)\"/>\n       <use xlink:href=\"#DejaVuSans-32\" transform=\"translate(190.869141 0)\"/>\n      </g>\n     </g>\n    </g>\n    <g id=\"xtick_9\">\n     <g id=\"line2d_9\">\n      <g>\n       <use xlink:href=\"#m0437358b67\" x=\"399.224205\" y=\"279.791812\" style=\"stroke: #000000; stroke-width: 0.8\"/>\n      </g>\n     </g>\n     <g id=\"text_9\">\n      <!-- 2024 -->\n      <g transform=\"translate(387.771705 290.630406) scale(0.09 -0.09)\">\n       <use xlink:href=\"#DejaVuSans-32\"/>\n       <use xlink:href=\"#DejaVuSans-30\" transform=\"translate(63.623047 0)\"/>\n       <use xlink:href=\"#DejaVuSans-32\" transform=\"translate(127.246094 0)\"/>\n       <use xlink:href=\"#DejaVuSans-34\" transform=\"translate(190.869141 0)\"/>\n      </g>\n     </g>\n    </g>\n   </g>\n   <g id=\"matplotlib.axis_2\">\n    <g id=\"ytick_1\">\n     <g id=\"line2d_10\">\n      <path d=\"M 26.37875 268.451812 \nL 416.97875 268.451812 \n\" clip-path=\"url(#p598e802111)\" style=\"fill: none; stroke: #e6e6e6; stroke-width: 0.5; stroke-linecap: square\"/>\n     </g>\n     <g id=\"line2d_11\"/>\n     <g id=\"text_10\">\n      <!-- 0 -->\n      <g transform=\"translate(18.6525 271.871109) scale(0.09 -0.09)\">\n       <use xlink:href=\"#DejaVuSans-30\"/>\n      </g>\n     </g>\n    </g>\n    <g id=\"ytick_2\">\n     <g id=\"line2d_12\">\n      <path d=\"M 26.37875 239.053772 \nL 416.97875 239.053772 \n\" clip-path=\"url(#p598e802111)\" style=\"fill: none; stroke: #e6e6e6; stroke-width: 0.5; stroke-linecap: square\"/>\n     </g>\n     <g id=\"line2d_13\"/>\n     <g id=\"text_11\">\n      <!-- 100 -->\n      <g transform=\"translate(7.2 242.473069) scale(0.09 -0.09)\">\n       <use xlink:href=\"#DejaVuSans-31\"/>\n       <use xlink:href=\"#DejaVuSans-30\" transform=\"translate(63.623047 0)\"/>\n       <use xlink:href=\"#DejaVuSans-30\" transform=\"translate(127.246094 0)\"/>\n      </g>\n     </g>\n    </g>\n    <g id=\"ytick_3\">\n     <g id=\"line2d_14\">\n      <path d=\"M 26.37875 209.655732 \nL 416.97875 209.655732 \n\" clip-path=\"url(#p598e802111)\" style=\"fill: none; stroke: #e6e6e6; stroke-width: 0.5; stroke-linecap: square\"/>\n     </g>\n     <g id=\"line2d_15\"/>\n     <g id=\"text_12\">\n      <!-- 200 -->\n      <g transform=\"translate(7.2 213.075029) scale(0.09 -0.09)\">\n       <use xlink:href=\"#DejaVuSans-32\"/>\n       <use xlink:href=\"#DejaVuSans-30\" transform=\"translate(63.623047 0)\"/>\n       <use xlink:href=\"#DejaVuSans-30\" transform=\"translate(127.246094 0)\"/>\n      </g>\n     </g>\n    </g>\n    <g id=\"ytick_4\">\n     <g id=\"line2d_16\">\n      <path d=\"M 26.37875 180.257692 \nL 416.97875 180.257692 \n\" clip-path=\"url(#p598e802111)\" style=\"fill: none; stroke: #e6e6e6; stroke-width: 0.5; stroke-linecap: square\"/>\n     </g>\n     <g id=\"line2d_17\"/>\n     <g id=\"text_13\">\n      <!-- 300 -->\n      <g transform=\"translate(7.2 183.676989) scale(0.09 -0.09)\">\n       <defs>\n        <path id=\"DejaVuSans-33\" d=\"M 2597 2516 \nQ 3050 2419 3304 2112 \nQ 3559 1806 3559 1356 \nQ 3559 666 3084 287 \nQ 2609 -91 1734 -91 \nQ 1441 -91 1130 -33 \nQ 819 25 488 141 \nL 488 750 \nQ 750 597 1062 519 \nQ 1375 441 1716 441 \nQ 2309 441 2620 675 \nQ 2931 909 2931 1356 \nQ 2931 1769 2642 2001 \nQ 2353 2234 1838 2234 \nL 1294 2234 \nL 1294 2753 \nL 1863 2753 \nQ 2328 2753 2575 2939 \nQ 2822 3125 2822 3475 \nQ 2822 3834 2567 4026 \nQ 2313 4219 1838 4219 \nQ 1578 4219 1281 4162 \nQ 984 4106 628 3988 \nL 628 4550 \nQ 988 4650 1302 4700 \nQ 1616 4750 1894 4750 \nQ 2613 4750 3031 4423 \nQ 3450 4097 3450 3541 \nQ 3450 3153 3228 2886 \nQ 3006 2619 2597 2516 \nz\n\" transform=\"scale(0.015625)\"/>\n       </defs>\n       <use xlink:href=\"#DejaVuSans-33\"/>\n       <use xlink:href=\"#DejaVuSans-30\" transform=\"translate(63.623047 0)\"/>\n       <use xlink:href=\"#DejaVuSans-30\" transform=\"translate(127.246094 0)\"/>\n      </g>\n     </g>\n    </g>\n    <g id=\"ytick_5\">\n     <g id=\"line2d_18\">\n      <path d=\"M 26.37875 150.859652 \nL 416.97875 150.859652 \n\" clip-path=\"url(#p598e802111)\" style=\"fill: none; stroke: #e6e6e6; stroke-width: 0.5; stroke-linecap: square\"/>\n     </g>\n     <g id=\"line2d_19\"/>\n     <g id=\"text_14\">\n      <!-- 400 -->\n      <g transform=\"translate(7.2 154.278949) scale(0.09 -0.09)\">\n       <use xlink:href=\"#DejaVuSans-34\"/>\n       <use xlink:href=\"#DejaVuSans-30\" transform=\"translate(63.623047 0)\"/>\n       <use xlink:href=\"#DejaVuSans-30\" transform=\"translate(127.246094 0)\"/>\n      </g>\n     </g>\n    </g>\n    <g id=\"ytick_6\">\n     <g id=\"line2d_20\">\n      <path d=\"M 26.37875 121.461612 \nL 416.97875 121.461612 \n\" clip-path=\"url(#p598e802111)\" style=\"fill: none; stroke: #e6e6e6; stroke-width: 0.5; stroke-linecap: square\"/>\n     </g>\n     <g id=\"line2d_21\"/>\n     <g id=\"text_15\">\n      <!-- 500 -->\n      <g transform=\"translate(7.2 124.880909) scale(0.09 -0.09)\">\n       <defs>\n        <path id=\"DejaVuSans-35\" d=\"M 691 4666 \nL 3169 4666 \nL 3169 4134 \nL 1269 4134 \nL 1269 2991 \nQ 1406 3038 1543 3061 \nQ 1681 3084 1819 3084 \nQ 2600 3084 3056 2656 \nQ 3513 2228 3513 1497 \nQ 3513 744 3044 326 \nQ 2575 -91 1722 -91 \nQ 1428 -91 1123 -41 \nQ 819 9 494 109 \nL 494 744 \nQ 775 591 1075 516 \nQ 1375 441 1709 441 \nQ 2250 441 2565 725 \nQ 2881 1009 2881 1497 \nQ 2881 1984 2565 2268 \nQ 2250 2553 1709 2553 \nQ 1456 2553 1204 2497 \nQ 953 2441 691 2322 \nL 691 4666 \nz\n\" transform=\"scale(0.015625)\"/>\n       </defs>\n       <use xlink:href=\"#DejaVuSans-35\"/>\n       <use xlink:href=\"#DejaVuSans-30\" transform=\"translate(63.623047 0)\"/>\n       <use xlink:href=\"#DejaVuSans-30\" transform=\"translate(127.246094 0)\"/>\n      </g>\n     </g>\n    </g>\n    <g id=\"ytick_7\">\n     <g id=\"line2d_22\">\n      <path d=\"M 26.37875 92.063572 \nL 416.97875 92.063572 \n\" clip-path=\"url(#p598e802111)\" style=\"fill: none; stroke: #e6e6e6; stroke-width: 0.5; stroke-linecap: square\"/>\n     </g>\n     <g id=\"line2d_23\"/>\n     <g id=\"text_16\">\n      <!-- 600 -->\n      <g transform=\"translate(7.2 95.482869) scale(0.09 -0.09)\">\n       <use xlink:href=\"#DejaVuSans-36\"/>\n       <use xlink:href=\"#DejaVuSans-30\" transform=\"translate(63.623047 0)\"/>\n       <use xlink:href=\"#DejaVuSans-30\" transform=\"translate(127.246094 0)\"/>\n      </g>\n     </g>\n    </g>\n    <g id=\"ytick_8\">\n     <g id=\"line2d_24\">\n      <path d=\"M 26.37875 62.665532 \nL 416.97875 62.665532 \n\" clip-path=\"url(#p598e802111)\" style=\"fill: none; stroke: #e6e6e6; stroke-width: 0.5; stroke-linecap: square\"/>\n     </g>\n     <g id=\"line2d_25\"/>\n     <g id=\"text_17\">\n      <!-- 700 -->\n      <g transform=\"translate(7.2 66.084828) scale(0.09 -0.09)\">\n       <defs>\n        <path id=\"DejaVuSans-37\" d=\"M 525 4666 \nL 3525 4666 \nL 3525 4397 \nL 1831 0 \nL 1172 0 \nL 2766 4134 \nL 525 4134 \nL 525 4666 \nz\n\" transform=\"scale(0.015625)\"/>\n       </defs>\n       <use xlink:href=\"#DejaVuSans-37\"/>\n       <use xlink:href=\"#DejaVuSans-30\" transform=\"translate(63.623047 0)\"/>\n       <use xlink:href=\"#DejaVuSans-30\" transform=\"translate(127.246094 0)\"/>\n      </g>\n     </g>\n    </g>\n    <g id=\"ytick_9\">\n     <g id=\"line2d_26\">\n      <path d=\"M 26.37875 33.267491 \nL 416.97875 33.267491 \n\" clip-path=\"url(#p598e802111)\" style=\"fill: none; stroke: #e6e6e6; stroke-width: 0.5; stroke-linecap: square\"/>\n     </g>\n     <g id=\"line2d_27\"/>\n     <g id=\"text_18\">\n      <!-- 800 -->\n      <g transform=\"translate(7.2 36.686788) scale(0.09 -0.09)\">\n       <use xlink:href=\"#DejaVuSans-38\"/>\n       <use xlink:href=\"#DejaVuSans-30\" transform=\"translate(63.623047 0)\"/>\n       <use xlink:href=\"#DejaVuSans-30\" transform=\"translate(127.246094 0)\"/>\n      </g>\n     </g>\n    </g>\n   </g>\n   <g id=\"FillBetweenPolyCollection_1\">\n    <defs>\n     <path id=\"me00c2a6662\" d=\"M 44.133295 -237.640417 \nL 44.133295 -47.35925 \nL 65.00754 -47.35925 \nL 85.938973 -47.35925 \nL 106.813218 -47.35925 \nL 127.687462 -47.35925 \nL 148.561706 -47.35925 \nL 169.49314 -47.35925 \nL 190.367384 -47.35925 \nL 211.241628 -47.35925 \nL 232.115872 -47.35925 \nL 253.047306 -47.35925 \nL 273.92155 -47.35925 \nL 294.795794 -47.35925 \nL 315.670038 -47.35925 \nL 357.475716 -47.35925 \nL 378.34996 -47.35925 \nL 399.224205 -47.35925 \nL 399.224205 -274.15925 \nL 399.224205 -274.15925 \nL 378.34996 -239.359026 \nL 357.475716 -218.591663 \nL 315.670038 -218.004878 \nL 294.795794 -214.256334 \nL 273.92155 -209.880435 \nL 253.047306 -209.341275 \nL 232.115872 -209.027304 \nL 211.241628 -213.372334 \nL 190.367384 -216.824252 \nL 169.49314 -220.914696 \nL 148.561706 -230.08365 \nL 127.687462 -230.740697 \nL 106.813218 -234.647402 \nL 85.938973 -232.633636 \nL 65.00754 -235.443207 \nL 44.133295 -237.640417 \nz\n\"/>\n    </defs>\n    <g clip-path=\"url(#p598e802111)\">\n     <use xlink:href=\"#me00c2a6662\" x=\"0\" y=\"315.811062\" style=\"fill: #e6f1fb; fill-opacity: 0.6\"/>\n    </g>\n   </g>\n   <g id=\"patch_3\">\n    <path d=\"M 26.37875 279.791812 \nL 416.97875 279.791812 \n\" style=\"fill: none; stroke: #bdbdbd; stroke-linejoin: miter; stroke-linecap: square\"/>\n   </g>\n   <g id=\"line2d_28\">\n    <path d=\"M 44.133295 78.170646 \nL 65.00754 80.367855 \nL 85.938973 83.177426 \nL 106.813218 81.16366 \nL 127.687462 85.070366 \nL 148.561706 85.727412 \nL 169.49314 94.896367 \nL 190.367384 98.98681 \nL 211.241628 102.438728 \nL 232.115872 106.783758 \nL 253.047306 106.469787 \nL 273.92155 105.930627 \nL 294.795794 101.554729 \nL 315.670038 97.806185 \nL 357.475716 97.2194 \nL 378.34996 76.452036 \nL 399.224205 41.651812 \n\" clip-path=\"url(#p598e802111)\" style=\"fill: none; stroke: #1f77b4; stroke-linecap: round\"/>\n   </g>\n   <g id=\"text_19\">\n    <!-- Homeless -->\n    <g transform=\"translate(26.37875 17.837812) scale(0.14 -0.14)\">\n     <defs>\n      <path id=\"DejaVuSans-48\" d=\"M 628 4666 \nL 1259 4666 \nL 1259 2753 \nL 3553 2753 \nL 3553 4666 \nL 4184 4666 \nL 4184 0 \nL 3553 0 \nL 3553 2222 \nL 1259 2222 \nL 1259 0 \nL 628 0 \nL 628 4666 \nz\n\" transform=\"scale(0.015625)\"/>\n      <path id=\"DejaVuSans-6f\" d=\"M 1959 3097 \nQ 1497 3097 1228 2736 \nQ 959 2375 959 1747 \nQ 959 1119 1226 758 \nQ 1494 397 1959 397 \nQ 2419 397 2687 759 \nQ 2956 1122 2956 1747 \nQ 2956 2369 2687 2733 \nQ 2419 3097 1959 3097 \nz\nM 1959 3584 \nQ 2709 3584 3137 3096 \nQ 3566 2609 3566 1747 \nQ 3566 888 3137 398 \nQ 2709 -91 1959 -91 \nQ 1206 -91 779 398 \nQ 353 888 353 1747 \nQ 353 2609 779 3096 \nQ 1206 3584 1959 3584 \nz\n\" transform=\"scale(0.015625)\"/>\n      <path id=\"DejaVuSans-6d\" d=\"M 3328 2828 \nQ 3544 3216 3844 3400 \nQ 4144 3584 4550 3584 \nQ 5097 3584 5394 3201 \nQ 5691 2819 5691 2113 \nL 5691 0 \nL 5113 0 \nL 5113 2094 \nQ 5113 2597 4934 2840 \nQ 4756 3084 4391 3084 \nQ 3944 3084 3684 2787 \nQ 3425 2491 3425 1978 \nL 3425 0 \nL 2847 0 \nL 2847 2094 \nQ 2847 2600 2669 2842 \nQ 2491 3084 2119 3084 \nQ 1678 3084 1418 2786 \nQ 1159 2488 1159 1978 \nL 1159 0 \nL 581 0 \nL 581 3500 \nL 1159 3500 \nL 1159 2956 \nQ 1356 3278 1631 3431 \nQ 1906 3584 2284 3584 \nQ 2666 3584 2933 3390 \nQ 3200 3197 3328 2828 \nz\n\" transform=\"scale(0.015625)\"/>\n      <path id=\"DejaVuSans-65\" d=\"M 3597 1894 \nL 3597 1613 \nL 953 1613 \nQ 991 1019 1311 708 \nQ 1631 397 2203 397 \nQ 2534 397 2845 478 \nQ 3156 559 3463 722 \nL 3463 178 \nQ 3153 47 2828 -22 \nQ 2503 -91 2169 -91 \nQ 1331 -91 842 396 \nQ 353 884 353 1716 \nQ 353 2575 817 3079 \nQ 1281 3584 2069 3584 \nQ 2775 3584 3186 3129 \nQ 3597 2675 3597 1894 \nz\nM 3022 2063 \nQ 3016 2534 2758 2815 \nQ 2500 3097 2075 3097 \nQ 1594 3097 1305 2825 \nQ 1016 2553 972 2059 \nL 3022 2063 \nz\n\" transform=\"scale(0.015625)\"/>\n      <path id=\"DejaVuSans-6c\" d=\"M 603 4863 \nL 1178 4863 \nL 1178 0 \nL 603 0 \nL 603 4863 \nz\n\" transform=\"scale(0.015625)\"/>\n      <path id=\"DejaVuSans-73\" d=\"M 2834 3397 \nL 2834 2853 \nQ 2591 2978 2328 3040 \nQ 2066 3103 1784 3103 \nQ 1356 3103 1142 2972 \nQ 928 2841 928 2578 \nQ 928 2378 1081 2264 \nQ 1234 2150 1697 2047 \nL 1894 2003 \nQ 2506 1872 2764 1633 \nQ 3022 1394 3022 966 \nQ 3022 478 2636 193 \nQ 2250 -91 1575 -91 \nQ 1294 -91 989 -36 \nQ 684 19 347 128 \nL 347 722 \nQ 666 556 975 473 \nQ 1284 391 1588 391 \nQ 1994 391 2212 530 \nQ 2431 669 2431 922 \nQ 2431 1156 2273 1281 \nQ 2116 1406 1581 1522 \nL 1381 1569 \nQ 847 1681 609 1914 \nQ 372 2147 372 2553 \nQ 372 3047 722 3315 \nQ 1072 3584 1716 3584 \nQ 2034 3584 2315 3537 \nQ 2597 3491 2834 3397 \nz\n\" transform=\"scale(0.015625)\"/>\n     </defs>\n     <use xlink:href=\"#DejaVuSans-48\"/>\n     <use xlink:href=\"#DejaVuSans-6f\" transform=\"translate(75.195312 0)\"/>\n     <use xlink:href=\"#DejaVuSans-6d\" transform=\"translate(136.376953 0)\"/>\n     <use xlink:href=\"#DejaVuSans-65\" transform=\"translate(233.789062 0)\"/>\n     <use xlink:href=\"#DejaVuSans-6c\" transform=\"translate(295.3125 0)\"/>\n     <use xlink:href=\"#DejaVuSans-65\" transform=\"translate(323.095703 0)\"/>\n     <use xlink:href=\"#DejaVuSans-73\" transform=\"translate(384.619141 0)\"/>\n     <use xlink:href=\"#DejaVuSans-73\" transform=\"translate(436.71875 0)\"/>\n    </g>\n   </g>\n   <g id=\"text_20\">\n    <!-- Thousands -->\n    <g style=\"fill: #555555\" transform=\"translate(26.37875 27.817012) scale(0.09 -0.09)\">\n     <defs>\n      <path id=\"DejaVuSans-54\" d=\"M -19 4666 \nL 3928 4666 \nL 3928 4134 \nL 2272 4134 \nL 2272 0 \nL 1638 0 \nL 1638 4134 \nL -19 4134 \nL -19 4666 \nz\n\" transform=\"scale(0.015625)\"/>\n      <path id=\"DejaVuSans-68\" d=\"M 3513 2113 \nL 3513 0 \nL 2938 0 \nL 2938 2094 \nQ 2938 2591 2744 2837 \nQ 2550 3084 2163 3084 \nQ 1697 3084 1428 2787 \nQ 1159 2491 1159 1978 \nL 1159 0 \nL 581 0 \nL 581 4863 \nL 1159 4863 \nL 1159 2956 \nQ 1366 3272 1645 3428 \nQ 1925 3584 2291 3584 \nQ 2894 3584 3203 3211 \nQ 3513 2838 3513 2113 \nz\n\" transform=\"scale(0.015625)\"/>\n      <path id=\"DejaVuSans-75\" d=\"M 544 1381 \nL 544 3500 \nL 1119 3500 \nL 1119 1403 \nQ 1119 906 1312 657 \nQ 1506 409 1894 409 \nQ 2359 409 2629 706 \nQ 2900 1003 2900 1516 \nL 2900 3500 \nL 3475 3500 \nL 3475 0 \nL 2900 0 \nL 2900 538 \nQ 2691 219 2414 64 \nQ 2138 -91 1772 -91 \nQ 1169 -91 856 284 \nQ 544 659 544 1381 \nz\nM 1991 3584 \nL 1991 3584 \nz\n\" transform=\"scale(0.015625)\"/>\n      <path id=\"DejaVuSans-61\" d=\"M 2194 1759 \nQ 1497 1759 1228 1600 \nQ 959 1441 959 1056 \nQ 959 750 1161 570 \nQ 1363 391 1709 391 \nQ 2188 391 2477 730 \nQ 2766 1069 2766 1631 \nL 2766 1759 \nL 2194 1759 \nz\nM 3341 1997 \nL 3341 0 \nL 2766 0 \nL 2766 531 \nQ 2569 213 2275 61 \nQ 1981 -91 1556 -91 \nQ 1019 -91 701 211 \nQ 384 513 384 1019 \nQ 384 1609 779 1909 \nQ 1175 2209 1959 2209 \nL 2766 2209 \nL 2766 2266 \nQ 2766 2663 2505 2880 \nQ 2244 3097 1772 3097 \nQ 1472 3097 1187 3025 \nQ 903 2953 641 2809 \nL 641 3341 \nQ 956 3463 1253 3523 \nQ 1550 3584 1831 3584 \nQ 2591 3584 2966 3190 \nQ 3341 2797 3341 1997 \nz\n\" transform=\"scale(0.015625)\"/>\n      <path id=\"DejaVuSans-6e\" d=\"M 3513 2113 \nL 3513 0 \nL 2938 0 \nL 2938 2094 \nQ 2938 2591 2744 2837 \nQ 2550 3084 2163 3084 \nQ 1697 3084 1428 2787 \nQ 1159 2491 1159 1978 \nL 1159 0 \nL 581 0 \nL 581 3500 \nL 1159 3500 \nL 1159 2956 \nQ 1366 3272 1645 3428 \nQ 1925 3584 2291 3584 \nQ 2894 3584 3203 3211 \nQ 3513 2838 3513 2113 \nz\n\" transform=\"scale(0.015625)\"/>\n      <path id=\"DejaVuSans-64\" d=\"M 2906 2969 \nL 2906 4863 \nL 3481 4863 \nL 3481 0 \nL 2906 0 \nL 2906 525 \nQ 2725 213 2448 61 \nQ 2172 -91 1784 -91 \nQ 1150 -91 751 415 \nQ 353 922 353 1747 \nQ 353 2572 751 3078 \nQ 1150 3584 1784 3584 \nQ 2172 3584 2448 3432 \nQ 2725 3281 2906 2969 \nz\nM 947 1747 \nQ 947 1113 1208 752 \nQ 1469 391 1925 391 \nQ 2381 391 2643 752 \nQ 2906 1113 2906 1747 \nQ 2906 2381 2643 2742 \nQ 2381 3103 1925 3103 \nQ 1469 3103 1208 2742 \nQ 947 2381 947 1747 \nz\n\" transform=\"scale(0.015625)\"/>\n     </defs>\n     <use xlink:href=\"#DejaVuSans-54\"/>\n     <use xlink:href=\"#DejaVuSans-68\" transform=\"translate(61.083984 0)\"/>\n     <use xlink:href=\"#DejaVuSans-6f\" transform=\"translate(124.462891 0)\"/>\n     <use xlink:href=\"#DejaVuSans-75\" transform=\"translate(185.644531 0)\"/>\n     <use xlink:href=\"#DejaVuSans-73\" transform=\"translate(249.023438 0)\"/>\n     <use xlink:href=\"#DejaVuSans-61\" transform=\"translate(301.123047 0)\"/>\n     <use xlink:href=\"#DejaVuSans-6e\" transform=\"translate(362.402344 0)\"/>\n     <use xlink:href=\"#DejaVuSans-64\" transform=\"translate(425.78125 0)\"/>\n     <use xlink:href=\"#DejaVuSans-73\" transform=\"translate(489.257812 0)\"/>\n    </g>\n   </g>\n   <g id=\"text_21\">\n    <!-- HUD: Point In Time Count -->\n    <g transform=\"translate(26.37875 306.947313) scale(0.08 -0.08)\">\n     <defs>\n      <path id=\"DejaVuSans-55\" d=\"M 556 4666 \nL 1191 4666 \nL 1191 1831 \nQ 1191 1081 1462 751 \nQ 1734 422 2344 422 \nQ 2950 422 3222 751 \nQ 3494 1081 3494 1831 \nL 3494 4666 \nL 4128 4666 \nL 4128 1753 \nQ 4128 841 3676 375 \nQ 3225 -91 2344 -91 \nQ 1459 -91 1007 375 \nQ 556 841 556 1753 \nL 556 4666 \nz\n\" transform=\"scale(0.015625)\"/>\n      <path id=\"DejaVuSans-44\" d=\"M 1259 4147 \nL 1259 519 \nL 2022 519 \nQ 2988 519 3436 956 \nQ 3884 1394 3884 2338 \nQ 3884 3275 3436 3711 \nQ 2988 4147 2022 4147 \nL 1259 4147 \nz\nM 628 4666 \nL 1925 4666 \nQ 3281 4666 3915 4102 \nQ 4550 3538 4550 2338 \nQ 4550 1131 3912 565 \nQ 3275 0 1925 0 \nL 628 0 \nL 628 4666 \nz\n\" transform=\"scale(0.015625)\"/>\n      <path id=\"DejaVuSans-3a\" d=\"M 750 794 \nL 1409 794 \nL 1409 0 \nL 750 0 \nL 750 794 \nz\nM 750 3309 \nL 1409 3309 \nL 1409 2516 \nL 750 2516 \nL 750 3309 \nz\n\" transform=\"scale(0.015625)\"/>\n      <path id=\"DejaVuSans-20\" transform=\"scale(0.015625)\"/>\n      <path id=\"DejaVuSans-50\" d=\"M 1259 4147 \nL 1259 2394 \nL 2053 2394 \nQ 2494 2394 2734 2622 \nQ 2975 2850 2975 3272 \nQ 2975 3691 2734 3919 \nQ 2494 4147 2053 4147 \nL 1259 4147 \nz\nM 628 4666 \nL 2053 4666 \nQ 2838 4666 3239 4311 \nQ 3641 3956 3641 3272 \nQ 3641 2581 3239 2228 \nQ 2838 1875 2053 1875 \nL 1259 1875 \nL 1259 0 \nL 628 0 \nL 628 4666 \nz\n\" transform=\"scale(0.015625)\"/>\n      <path id=\"DejaVuSans-69\" d=\"M 603 3500 \nL 1178 3500 \nL 1178 0 \nL 603 0 \nL 603 3500 \nz\nM 603 4863 \nL 1178 4863 \nL 1178 4134 \nL 603 4134 \nL 603 4863 \nz\n\" transform=\"scale(0.015625)\"/>\n      <path id=\"DejaVuSans-74\" d=\"M 1172 4494 \nL 1172 3500 \nL 2356 3500 \nL 2356 3053 \nL 1172 3053 \nL 1172 1153 \nQ 1172 725 1289 603 \nQ 1406 481 1766 481 \nL 2356 481 \nL 2356 0 \nL 1766 0 \nQ 1100 0 847 248 \nQ 594 497 594 1153 \nL 594 3053 \nL 172 3053 \nL 172 3500 \nL 594 3500 \nL 594 4494 \nL 1172 4494 \nz\n\" transform=\"scale(0.015625)\"/>\n      <path id=\"DejaVuSans-49\" d=\"M 628 4666 \nL 1259 4666 \nL 1259 0 \nL 628 0 \nL 628 4666 \nz\n\" transform=\"scale(0.015625)\"/>\n      <path id=\"DejaVuSans-43\" d=\"M 4122 4306 \nL 4122 3641 \nQ 3803 3938 3442 4084 \nQ 3081 4231 2675 4231 \nQ 1875 4231 1450 3742 \nQ 1025 3253 1025 2328 \nQ 1025 1406 1450 917 \nQ 1875 428 2675 428 \nQ 3081 428 3442 575 \nQ 3803 722 4122 1019 \nL 4122 359 \nQ 3791 134 3420 21 \nQ 3050 -91 2638 -91 \nQ 1578 -91 968 557 \nQ 359 1206 359 2328 \nQ 359 3453 968 4101 \nQ 1578 4750 2638 4750 \nQ 3056 4750 3426 4639 \nQ 3797 4528 4122 4306 \nz\n\" transform=\"scale(0.015625)\"/>\n     </defs>\n     <use xlink:href=\"#DejaVuSans-48\"/>\n     <use xlink:href=\"#DejaVuSans-55\" transform=\"translate(75.195312 0)\"/>\n     <use xlink:href=\"#DejaVuSans-44\" transform=\"translate(148.388672 0)\"/>\n     <use xlink:href=\"#DejaVuSans-3a\" transform=\"translate(225.390625 0)\"/>\n     <use xlink:href=\"#DejaVuSans-20\" transform=\"translate(259.082031 0)\"/>\n     <use xlink:href=\"#DejaVuSans-50\" transform=\"translate(290.869141 0)\"/>\n     <use xlink:href=\"#DejaVuSans-6f\" transform=\"translate(347.546875 0)\"/>\n     <use xlink:href=\"#DejaVuSans-69\" transform=\"translate(408.728516 0)\"/>\n     <use xlink:href=\"#DejaVuSans-6e\" transform=\"translate(436.511719 0)\"/>\n     <use xlink:href=\"#DejaVuSans-74\" transform=\"translate(499.890625 0)\"/>\n     <use xlink:href=\"#DejaVuSans-20\" transform=\"translate(539.099609 0)\"/>\n     <use xlink:href=\"#DejaVuSans-49\" transform=\"translate(570.886719 0)\"/>\n     <use xlink:href=\"#DejaVuSans-6e\" transform=\"translate(600.378906 0)\"/>\n     <use xlink:href=\"#DejaVuSans-20\" transform=\"translate(663.757812 0)\"/>\n     <use xlink:href=\"#DejaVuSans-54\" transform=\"translate(695.544922 0)\"/>\n     <use xlink:href=\"#DejaVuSans-69\" transform=\"translate(753.503906 0)\"/>\n     <use xlink:href=\"#DejaVuSans-6d\" transform=\"translate(781.287109 0)\"/>\n     <use xlink:href=\"#DejaVuSans-65\" transform=\"translate(878.699219 0)\"/>\n     <use xlink:href=\"#DejaVuSans-20\" transform=\"translate(940.222656 0)\"/>\n     <use xlink:href=\"#DejaVuSans-43\" transform=\"translate(972.009766 0)\"/>\n     <use xlink:href=\"#DejaVuSans-6f\" transform=\"translate(1041.833984 0)\"/>\n     <use xlink:href=\"#DejaVuSans-75\" transform=\"translate(1103.015625 0)\"/>\n     <use xlink:href=\"#DejaVuSans-6e\" transform=\"translate(1166.394531 0)\"/>\n     <use xlink:href=\"#DejaVuSans-74\" transform=\"translate(1229.773438 0)\"/>\n    </g>\n   </g>\n  </g>\n </g>\n <defs>\n  <clipPath id=\"p598e802111\">\n   <rect x=\"26.37875\" y=\"30.311812\" width=\"390.6\" height=\"249.48\"/>\n  </clipPath>\n </defs>\n</svg>\n"
          },
          "metadata": {}
        }
      ]
    },
    {
      "cell_type": "code",
      "source": [],
      "metadata": {
        "id": "bpCpbtKDVeu1"
      },
      "execution_count": null,
      "outputs": []
    }
  ]
}